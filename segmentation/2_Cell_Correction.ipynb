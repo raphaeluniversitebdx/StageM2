{
 "cells": [
  {
   "cell_type": "markdown",
   "id": "52c478e9-8380-4288-8226-5635f1a036f1",
   "metadata": {},
   "source": [
    "# Cell correction"
   ]
  },
  {
   "cell_type": "markdown",
   "id": "17ef2e0f-e7eb-4331-99a0-e28cd2653594",
   "metadata": {},
   "source": [
    "This notebook is for cells labels by deleting them, merge 2 neighboors cells or eventually extends them"
   ]
  },
  {
   "cell_type": "markdown",
   "id": "8776e85c-fa1a-4436-863a-bca3bf81640c",
   "metadata": {},
   "source": [
    "# 0. Import "
   ]
  },
  {
   "cell_type": "code",
   "execution_count": 1,
   "id": "271fad45-98f4-46ff-9793-54c607433a5a",
   "metadata": {},
   "outputs": [],
   "source": [
    "from correct_cells import * "
   ]
  },
  {
   "cell_type": "code",
   "execution_count": 2,
   "id": "17dba76f-a18e-4003-a3dd-51c9b86ac667",
   "metadata": {},
   "outputs": [],
   "source": [
    "import os\n",
    "import copy\n",
    "from pathlib import Path\n",
    "import pandas as pd\n",
    "\n",
    "import numpy as np\n",
    "import napari\n",
    "from napari.utils.notebook_display import nbscreenshot\n",
    "from tqdm import tqdm\n",
    "from rich.pretty import pprint\n",
    "\n",
    "from dask.array.image import imread as imr\n"
   ]
  },
  {
   "cell_type": "markdown",
   "id": "6c793d10-8074-4c44-a04f-7b66d2b045dd",
   "metadata": {},
   "source": [
    "# 1. Load images and mask\n",
    "You need a 2D projection of the movie and the all the segmentation labels detected throughout the movie"
   ]
  },
  {
   "cell_type": "code",
   "execution_count": 3,
   "id": "f33d30e2-7e18-44df-b6bc-595b3a894bc4",
   "metadata": {},
   "outputs": [],
   "source": [
    "images_path = Path(\"/media/raphael/Genia_ordi/00_20240612_C3.45_ON_S2/MIP_C3.45_S2.tif\")\n",
    "labels_path = \"/media/raphael/Genia_ordi/00_20240612_C3.45_ON_S2/labels\" + \"/*.tif\""
   ]
  },
  {
   "cell_type": "code",
   "execution_count": 4,
   "id": "f9b0eb96-1f21-41d1-be53-636270c48a94",
   "metadata": {},
   "outputs": [],
   "source": [
    "labels = imr(labels_path)\n",
    "labels = labels.compute()\n"
   ]
  },
  {
   "cell_type": "code",
   "execution_count": 5,
   "id": "30510914-d551-449d-8138-948c5345a433",
   "metadata": {},
   "outputs": [],
   "source": [
    "viewer = napari.Viewer()\n",
    "viewer.window.resize(1800, 1000)\n",
    "#viewer.open(sorted(images_path.glob(\"*.tif\")), stack=True)\n",
    "#viewer.open(sorted(labels_path.glob(\"*.tif\")), stack=True)"
   ]
  },
  {
   "cell_type": "code",
   "execution_count": 6,
   "id": "d394469a-c8d2-4a89-a719-f4001ca5b4aa",
   "metadata": {},
   "outputs": [
    {
     "data": {
      "text/plain": [
       "[<Image layer 'MIP_C3.45_S2' at 0x7f080819a6b0>]"
      ]
     },
     "execution_count": 6,
     "metadata": {},
     "output_type": "execute_result"
    }
   ],
   "source": [
    "viewer.open(images_path)"
   ]
  },
  {
   "cell_type": "code",
   "execution_count": 7,
   "id": "f9b9b110-c7a1-491d-9cc9-88d4908e77b7",
   "metadata": {},
   "outputs": [],
   "source": [
    "images = viewer.layers[0].data\n",
    "Label = viewer.add_labels(labels)\n"
   ]
  },
  {
   "cell_type": "markdown",
   "id": "1de0a914-075d-4104-bafb-7405952ec115",
   "metadata": {},
   "source": [
    "## 1.2 Create path for the cell_index.npy file "
   ]
  },
  {
   "cell_type": "code",
   "execution_count": 8,
   "id": "fa10813c-8379-479c-bcde-b77539d1695c",
   "metadata": {},
   "outputs": [],
   "source": [
    "cellIndexFolder = \"/media/raphael/Genia_ordi/00_20240612_C3.45_ON_S2\" + \"/\"\n",
    "cellIndexName = \"cell_index\"\n",
    "cellIndexFile = cellIndexFolder + cellIndexName"
   ]
  },
  {
   "cell_type": "markdown",
   "id": "edc2fd8a-54c3-42bb-8dae-504ef4a93b54",
   "metadata": {},
   "source": [
    "# 2. Correct cells  "
   ]
  },
  {
   "cell_type": "markdown",
   "id": "dbe00bce-8ff4-473e-98e7-a888523f2861",
   "metadata": {},
   "source": [
    "## 2.1 get Number and index of cells present on all frames "
   ]
  },
  {
   "cell_type": "code",
   "execution_count": 9,
   "id": "046b92bc-9cc4-4f14-ad3e-329bebe03497",
   "metadata": {},
   "outputs": [
    {
     "name": "stdout",
     "output_type": "stream",
     "text": [
      "previous number of cells :  170\n",
      "actual max number of cells :  170\n",
      "number of cells present from first to last frame :  17\n",
      "percentage of cells present from first to last frame :  10.0 %\n"
     ]
    }
   ],
   "source": [
    "percentage,cells_res = get_cells_numbers_on_all_frames(labels)"
   ]
  },
  {
   "cell_type": "markdown",
   "id": "39597c2a-a6aa-4e4f-a253-2d8453e83450",
   "metadata": {},
   "source": [
    "## 2.1.2 save cell index  "
   ]
  },
  {
   "cell_type": "code",
   "execution_count": 10,
   "id": "5b7dae75-d7e3-4d67-922e-e790b346e307",
   "metadata": {},
   "outputs": [
    {
     "data": {
      "text/plain": [
       "[0, 33, 36, 38, 8, 42, 43, 44, 13, 14, 15, 16, 45, 18, 19, 20, 29, 31]"
      ]
     },
     "execution_count": 10,
     "metadata": {},
     "output_type": "execute_result"
    }
   ],
   "source": [
    "cells_res"
   ]
  },
  {
   "cell_type": "code",
   "execution_count": 11,
   "id": "e490ef42-42b7-4c86-b638-3fb460530019",
   "metadata": {},
   "outputs": [],
   "source": [
    "np.save(cellIndexFile,cells_res,allow_pickle=True, fix_imports=True)"
   ]
  },
  {
   "cell_type": "markdown",
   "id": "1a7fb674-fbbd-4af5-969b-b8733426384b",
   "metadata": {},
   "source": [
    "## 2.2 Delete cells "
   ]
  },
  {
   "cell_type": "markdown",
   "id": "4de39918-2d98-4f9e-b123-5aa0968639fd",
   "metadata": {},
   "source": [
    "In dlt put a tuple corresponding to the labels of cells you want to delete and these cell will be successively deleted by \"delete_cells\""
   ]
  },
  {
   "cell_type": "code",
   "execution_count": 21,
   "id": "31e213cf-3806-4f90-b3a7-d03eba70b2eb",
   "metadata": {},
   "outputs": [],
   "source": [
    "# tuple corresponding to the numbers of cell which will be deleted \n",
    "dlt=[51] \n",
    "len_d = int(len(dlt))"
   ]
  },
  {
   "cell_type": "code",
   "execution_count": 22,
   "id": "3a841848-742f-4723-9751-39b006a87af3",
   "metadata": {},
   "outputs": [
    {
     "name": "stdout",
     "output_type": "stream",
     "text": [
      "cell to be deleted  51\n",
      "cell  51 has been deleted on all frames\n"
     ]
    }
   ],
   "source": [
    "for i in range(0,len_d):\n",
    "    print(\"cell to be deleted \", dlt[i])\n",
    "    labels = delete_cells(labels, dlt[i])\n",
    "    labels = np.array(labels)\n",
    "    viewer.layers[1].data = labels #refresh labels on napari"
   ]
  },
  {
   "cell_type": "markdown",
   "id": "f7989ba3-977c-4370-ba55-ccd5eede6afd",
   "metadata": {},
   "source": [
    "## 2.3 Merge neighboor cells "
   ]
  },
  {
   "cell_type": "markdown",
   "id": "b0480836-bbf3-4fd2-a7c5-ec657a92fba1",
   "metadata": {},
   "source": [
    "The same principle goes for merging cell, but this time you have to put the cells you wants to merge by pair \n",
    "like this nbr = (a,b,x,y)\n"
   ]
  },
  {
   "cell_type": "markdown",
   "id": "f5c3c52d-0b0e-4845-96af-74c35181884a",
   "metadata": {},
   "source": [
    "a and b will be merge together, and it will be the same for x and y "
   ]
  },
  {
   "cell_type": "code",
   "execution_count": 12,
   "id": "8ddca5be-4eab-4cc8-8e22-611204ecb8c9",
   "metadata": {},
   "outputs": [],
   "source": [
    "nbr=(30,151,30,162,22,150,49,65,49,107,48,122,48,135,48,155,48,164)\n",
    "len_nbr = int(len(nbr))"
   ]
  },
  {
   "cell_type": "code",
   "execution_count": null,
   "id": "4295ecca-b688-4760-82f9-64e48b154ba0",
   "metadata": {},
   "outputs": [
    {
     "name": "stdout",
     "output_type": "stream",
     "text": [
      "parent cell  30  child cell  151\n",
      "Cell  30 has been joined to cell  151\n",
      "parent cell  30  child cell  162\n",
      "Cell  30 has been joined to cell  162\n",
      "parent cell  22  child cell  150\n",
      "Cell  22 has been joined to cell  150\n",
      "parent cell  49  child cell  65\n",
      "Cell  49 has been joined to cell  65\n",
      "parent cell  49  child cell  107\n",
      "Cell  49 has been joined to cell  107\n",
      "parent cell  48  child cell  122\n",
      "Cell  48 has been joined to cell  122\n",
      "parent cell  48  child cell  135\n"
     ]
    }
   ],
   "source": [
    "for i in range(0,len_nbr,2):\n",
    "    print(\"parent cell \", nbr[i],\" child cell \",nbr[i+1])\n",
    "    labels = merge_neighboor_cells(nbr[i], nbr[i+1],labels)\n",
    "    labels = np.array(labels)\n",
    "    viewer.layers[1].data = labels #refresh labels on napari"
   ]
  },
  {
   "cell_type": "markdown",
   "id": "f02e7d6b-286a-41c4-9aa0-7da524d0b8ed",
   "metadata": {},
   "source": [
    "# 3 Save Corrected labels "
   ]
  },
  {
   "cell_type": "code",
   "execution_count": null,
   "id": "e5992991-bace-4b30-abe0-8364fc0a9515",
   "metadata": {},
   "outputs": [],
   "source": [
    "savepath = \"/media/raphael/Genia_ordi/00_20240612_C3.45_ON_S2/mask/\"\n",
    "save_zarr_images(labels,savepath,\"c3.45_ON_01_w1SPI-488_s\",\"2\",\"mask\")"
   ]
  },
  {
   "cell_type": "code",
   "execution_count": null,
   "id": "542ea744-ff53-484d-b56f-eea49e4bf9d6",
   "metadata": {},
   "outputs": [],
   "source": []
  }
 ],
 "metadata": {
  "kernelspec": {
   "display_name": "Python 3 (ipykernel)",
   "language": "python",
   "name": "python3"
  },
  "language_info": {
   "codemirror_mode": {
    "name": "ipython",
    "version": 3
   },
   "file_extension": ".py",
   "mimetype": "text/x-python",
   "name": "python",
   "nbconvert_exporter": "python",
   "pygments_lexer": "ipython3",
   "version": "3.10.13"
  }
 },
 "nbformat": 4,
 "nbformat_minor": 5
}
