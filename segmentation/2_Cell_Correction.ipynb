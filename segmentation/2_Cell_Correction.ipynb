{
 "cells": [
  {
   "cell_type": "markdown",
   "id": "52c478e9-8380-4288-8226-5635f1a036f1",
   "metadata": {},
   "source": [
    "# Cell correction"
   ]
  },
  {
   "cell_type": "markdown",
   "id": "17ef2e0f-e7eb-4331-99a0-e28cd2653594",
   "metadata": {},
   "source": [
    "This notebook is for cells labels by deleting them, merge 2 neighboors cells or eventually extends them"
   ]
  },
  {
   "cell_type": "markdown",
   "id": "8776e85c-fa1a-4436-863a-bca3bf81640c",
   "metadata": {},
   "source": [
    "# 0. Import "
   ]
  },
  {
   "cell_type": "code",
   "execution_count": 1,
   "id": "271fad45-98f4-46ff-9793-54c607433a5a",
   "metadata": {},
   "outputs": [],
   "source": [
    "from correct_cells import * "
   ]
  },
  {
   "cell_type": "code",
   "execution_count": 2,
   "id": "17dba76f-a18e-4003-a3dd-51c9b86ac667",
   "metadata": {},
   "outputs": [],
   "source": [
    "import os\n",
    "import copy\n",
    "from pathlib import Path\n",
    "import pandas as pd\n",
    "\n",
    "import numpy as np\n",
    "import napari\n",
    "from napari.utils.notebook_display import nbscreenshot\n",
    "from tqdm import tqdm\n",
    "from rich.pretty import pprint\n",
    "\n",
    "from dask.array.image import imread as imr\n"
   ]
  },
  {
   "cell_type": "markdown",
   "id": "6c793d10-8074-4c44-a04f-7b66d2b045dd",
   "metadata": {},
   "source": [
    "# 1. Load images and mask"
   ]
  },
  {
   "cell_type": "code",
   "execution_count": 3,
   "id": "f33d30e2-7e18-44df-b6bc-595b3a894bc4",
   "metadata": {},
   "outputs": [],
   "source": [
    "images_path = Path(\"/media/raphael/data/works/20231220_C3_14_2h_ofON/bleach_correction/hist_splitt/C3.14_ON_01_w1SPI-488_s4/MIP\")\n",
    "labels_path = \"/media/raphael/data/works/20231220_C3_14_2h_ofON/C3.14_ON_01_w1SPI-488_s4/full_movie/MIP/maskfolder/mask/\" + \"*.tif\""
   ]
  },
  {
   "cell_type": "code",
   "execution_count": 4,
   "id": "9c1f0db4-ad40-413a-82c5-ad6e47c760fe",
   "metadata": {},
   "outputs": [],
   "source": [
    "cellpose_path=\"/media/raphael/data/works/notebooks/notebook_scripts_perso/full_pipeline_perso/cellpose/\"  + \"*.tif\"\n",
    "cellpose=imr(cellpose_path)\n",
    "cellpose = cellpose.compute()"
   ]
  },
  {
   "cell_type": "code",
   "execution_count": 5,
   "id": "f9b0eb96-1f21-41d1-be53-636270c48a94",
   "metadata": {},
   "outputs": [],
   "source": [
    "labels = imr(labels_path)\n",
    "labels = labels.compute()\n"
   ]
  },
  {
   "cell_type": "code",
   "execution_count": 6,
   "id": "30510914-d551-449d-8138-948c5345a433",
   "metadata": {},
   "outputs": [
    {
     "data": {
      "text/plain": [
       "[<Image layer 'C3.14_ON_01_w1SPI-488_s4_t001' at 0x7f634e3f0a90>]"
      ]
     },
     "execution_count": 6,
     "metadata": {},
     "output_type": "execute_result"
    }
   ],
   "source": [
    "viewer = napari.Viewer()\n",
    "viewer.window.resize(1800, 1000)\n",
    "viewer.open(sorted(images_path.glob(\"*.tif\")), stack=True)\n",
    "#viewer.open(sorted(labels_path.glob(\"*.tif\")), stack=True)"
   ]
  },
  {
   "cell_type": "code",
   "execution_count": 7,
   "id": "f9b9b110-c7a1-491d-9cc9-88d4908e77b7",
   "metadata": {},
   "outputs": [],
   "source": [
    "images = viewer.layers[0].data\n",
    "Label = viewer.add_labels(labels)\n",
    "#CP = viewer.add_labels(cellpose)"
   ]
  },
  {
   "cell_type": "code",
   "execution_count": 26,
   "id": "fa10813c-8379-479c-bcde-b77539d1695c",
   "metadata": {},
   "outputs": [],
   "source": [
    "cellIndexFolder = \"/media/raphael/data/works/20231220_C3_14_2h_ofON/bleach_correction/hist_splitt/C3.14_ON_01_w1SPI-488_s4/MIP\"\n",
    "cellIndexName = \"fichier\"\n",
    "cellIndexFile = cellIndexFolder + cellIndexName"
   ]
  },
  {
   "cell_type": "markdown",
   "id": "edc2fd8a-54c3-42bb-8dae-504ef4a93b54",
   "metadata": {},
   "source": [
    "# 2. Correct cells  "
   ]
  },
  {
   "cell_type": "markdown",
   "id": "dbe00bce-8ff4-473e-98e7-a888523f2861",
   "metadata": {},
   "source": [
    "## 2.1 get Number and index of cells present on all frames "
   ]
  },
  {
   "cell_type": "code",
   "execution_count": 22,
   "id": "046b92bc-9cc4-4f14-ad3e-329bebe03497",
   "metadata": {},
   "outputs": [
    {
     "name": "stdout",
     "output_type": "stream",
     "text": [
      "previous number of cells :  79\n",
      "actual max number of cells :  75\n",
      "number of cells present from first to last frame :  38\n",
      "percentage of cells present from first to last frame :  50.66666666666667 %\n"
     ]
    }
   ],
   "source": [
    "percentage,cells_res = get_cells_numbers_on_all_frames(labels)"
   ]
  },
  {
   "cell_type": "markdown",
   "id": "39597c2a-a6aa-4e4f-a253-2d8453e83450",
   "metadata": {},
   "source": [
    "## 2.1.2 save cell index  "
   ]
  },
  {
   "cell_type": "code",
   "execution_count": 23,
   "id": "5b7dae75-d7e3-4d67-922e-e790b346e307",
   "metadata": {},
   "outputs": [
    {
     "data": {
      "text/plain": [
       "[0,\n",
       " 9,\n",
       " 10,\n",
       " 12,\n",
       " 13,\n",
       " 18,\n",
       " 20,\n",
       " 21,\n",
       " 22,\n",
       " 24,\n",
       " 25,\n",
       " 26,\n",
       " 28,\n",
       " 29,\n",
       " 31,\n",
       " 32,\n",
       " 33,\n",
       " 34,\n",
       " 36,\n",
       " 37,\n",
       " 40,\n",
       " 41,\n",
       " 42,\n",
       " 43,\n",
       " 45,\n",
       " 46,\n",
       " 49,\n",
       " 50,\n",
       " 51,\n",
       " 52,\n",
       " 53,\n",
       " 54,\n",
       " 55,\n",
       " 57,\n",
       " 58,\n",
       " 59,\n",
       " 60,\n",
       " 62,\n",
       " 64]"
      ]
     },
     "execution_count": 23,
     "metadata": {},
     "output_type": "execute_result"
    }
   ],
   "source": [
    "cells_res"
   ]
  },
  {
   "cell_type": "code",
   "execution_count": 27,
   "id": "e490ef42-42b7-4c86-b638-3fb460530019",
   "metadata": {},
   "outputs": [],
   "source": [
    "np.save(cellIndexFile,cells_res,allow_pickle=True, fix_imports=True)"
   ]
  },
  {
   "cell_type": "markdown",
   "id": "1a7fb674-fbbd-4af5-969b-b8733426384b",
   "metadata": {},
   "source": [
    "## 2.2 Delete cells "
   ]
  },
  {
   "cell_type": "markdown",
   "id": "4de39918-2d98-4f9e-b123-5aa0968639fd",
   "metadata": {},
   "source": [
    "In dlt put a tuple corresponding to the labels of cells you want to delete and these cell will be successively deleted by \"delete_cells\""
   ]
  },
  {
   "cell_type": "code",
   "execution_count": 14,
   "id": "31e213cf-3806-4f90-b3a7-d03eba70b2eb",
   "metadata": {},
   "outputs": [],
   "source": [
    "# tuple corresponding to the numbers of cell which will be deleted \n",
    "dlt=[4,23] \n",
    "len_d = int(len(dlt))"
   ]
  },
  {
   "cell_type": "code",
   "execution_count": 15,
   "id": "3a841848-742f-4723-9751-39b006a87af3",
   "metadata": {},
   "outputs": [
    {
     "name": "stdout",
     "output_type": "stream",
     "text": [
      "cell to be deleted  4\n",
      "cell  4 has been deleted on all frames\n",
      "cell to be deleted  23\n",
      "cell  23 has been deleted on all frames\n"
     ]
    }
   ],
   "source": [
    "for i in range(0,len_d):\n",
    "    print(\"cell to be deleted \", dlt[i])\n",
    "    labels = delete_cells(labels, dlt[i])\n",
    "    labels = np.array(labels)\n",
    "    viewer.layers[1].data = labels #refresh labels on napari"
   ]
  },
  {
   "cell_type": "markdown",
   "id": "f7989ba3-977c-4370-ba55-ccd5eede6afd",
   "metadata": {},
   "source": [
    "## 2.3 Merge neighboor cells "
   ]
  },
  {
   "cell_type": "markdown",
   "id": "b0480836-bbf3-4fd2-a7c5-ec657a92fba1",
   "metadata": {},
   "source": [
    "The same principle goes for merging cell, but this time you have to put the cells you wants to merge by pair \n",
    "like this nbr = (a,b,x,y)\n"
   ]
  },
  {
   "cell_type": "markdown",
   "id": "f5c3c52d-0b0e-4845-96af-74c35181884a",
   "metadata": {},
   "source": [
    "a and b will be merge together, and it will be the same for x and y "
   ]
  },
  {
   "cell_type": "code",
   "execution_count": null,
   "id": "8ddca5be-4eab-4cc8-8e22-611204ecb8c9",
   "metadata": {},
   "outputs": [],
   "source": [
    "nbr=(51,53)\n",
    "len_nbr = int(len(nbr))"
   ]
  },
  {
   "cell_type": "code",
   "execution_count": null,
   "id": "4295ecca-b688-4760-82f9-64e48b154ba0",
   "metadata": {},
   "outputs": [],
   "source": [
    "for i in range(0,len_nbr,2):\n",
    "    print(\"parent cell \", nbr[i],\" child cell \",nbr[i+1])\n",
    "    labels = merge_neighboor_cells(nbr[i], nbr[i+1],labels)\n",
    "    labels = np.array(labels)\n",
    "    viewer.layers[1].data = labels #refresh labels on napari"
   ]
  },
  {
   "cell_type": "markdown",
   "id": "055e5e30-b857-4201-a41c-053115a60f53",
   "metadata": {},
   "source": [
    "## 2.4 Extend cells "
   ]
  },
  {
   "cell_type": "markdown",
   "id": "563e6cb2-fc75-43b7-b921-1bf36dc2220e",
   "metadata": {},
   "source": [
    "If it works this function will eventually serve to extend badly detected cell"
   ]
  },
  {
   "cell_type": "code",
   "execution_count": null,
   "id": "26fed4f2-073b-4938-9e5a-75cd86b776e8",
   "metadata": {},
   "outputs": [],
   "source": [
    "ext=[35]\n",
    "len_ext=int(len(ext))\n",
    "applyNUmber = 33\n",
    "minLen=0"
   ]
  },
  {
   "cell_type": "code",
   "execution_count": null,
   "id": "89775b5b-e4e9-46e3-b304-1fb1022d2031",
   "metadata": {},
   "outputs": [],
   "source": [
    "for i in range(0,len_ext):\n",
    "    labels = extends_cells(labels,cellpose[0],ext[i],applyNUmber,minLen)\n",
    "    labels = np.array(labels)\n",
    "    viewer.layers[1].data = labels #refresh labels on napari"
   ]
  },
  {
   "cell_type": "code",
   "execution_count": null,
   "id": "45eb1d16-019d-4fb8-b75e-10d445aec7af",
   "metadata": {},
   "outputs": [],
   "source": [
    "viewer.layers[1].data = labels"
   ]
  },
  {
   "cell_type": "markdown",
   "id": "f02e7d6b-286a-41c4-9aa0-7da524d0b8ed",
   "metadata": {},
   "source": [
    "# 3 Save Corrected labels "
   ]
  },
  {
   "cell_type": "code",
   "execution_count": 21,
   "id": "e5992991-bace-4b30-abe0-8364fc0a9515",
   "metadata": {},
   "outputs": [
    {
     "name": "stdout",
     "output_type": "stream",
     "text": [
      "Saving frame |████████████████████████████████████████| 120/120 [100%] in 2:33.6\n"
     ]
    }
   ],
   "source": [
    "savepath = \"/media/raphael/data/works/20231220_C3_14_2h_ofON/C3.14_ON_01_w1SPI-488_s4/full_movie/MIP/maskfolder/mask/\"\n",
    "save_zarr_images(labels,savepath,\"C3.14_ON_01_w1SPI-488_s\",\"4\",\"mask\")"
   ]
  },
  {
   "cell_type": "code",
   "execution_count": null,
   "id": "542ea744-ff53-484d-b56f-eea49e4bf9d6",
   "metadata": {},
   "outputs": [],
   "source": []
  }
 ],
 "metadata": {
  "kernelspec": {
   "display_name": "Python 3 (ipykernel)",
   "language": "python",
   "name": "python3"
  },
  "language_info": {
   "codemirror_mode": {
    "name": "ipython",
    "version": 3
   },
   "file_extension": ".py",
   "mimetype": "text/x-python",
   "name": "python",
   "nbconvert_exporter": "python",
   "pygments_lexer": "ipython3",
   "version": "3.9.18"
  }
 },
 "nbformat": 4,
 "nbformat_minor": 5
}
