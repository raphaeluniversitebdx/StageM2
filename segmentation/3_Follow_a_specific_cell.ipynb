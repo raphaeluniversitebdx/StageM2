{
 "cells": [
  {
   "cell_type": "markdown",
   "id": "a72e1724-9686-4a2c-b4de-06b558380b63",
   "metadata": {},
   "source": [
    "# Follow a specific cell "
   ]
  },
  {
   "cell_type": "markdown",
   "id": "99f8f8d1-9131-4b74-aa1b-b81b6c558fdc",
   "metadata": {},
   "source": [
    "# Import "
   ]
  },
  {
   "cell_type": "code",
   "execution_count": 1,
   "id": "cee937fa-ee6f-4fc2-a880-1352619b7d45",
   "metadata": {},
   "outputs": [
    {
     "name": "stderr",
     "output_type": "stream",
     "text": [
      "/tmp/ipykernel_4982/2791179515.py:4: DeprecationWarning: \n",
      "Pyarrow will become a required dependency of pandas in the next major release of pandas (pandas 3.0),\n",
      "(to allow more performant data types, such as the Arrow string type, and better interoperability with other libraries)\n",
      "but was not found to be installed on your system.\n",
      "If this would cause problems for you,\n",
      "please provide us feedback at https://github.com/pandas-dev/pandas/issues/54466\n",
      "        \n",
      "  import pandas as pd\n"
     ]
    }
   ],
   "source": [
    "import os\n",
    "import copy\n",
    "from pathlib import Path\n",
    "import pandas as pd\n",
    "\n",
    "import numpy as np\n",
    "\n",
    "from tqdm import tqdm\n",
    "from rich.pretty import pprint\n",
    "\n",
    "from dask.array.image import imread as imr"
   ]
  },
  {
   "cell_type": "code",
   "execution_count": 2,
   "id": "041a06a6-67d9-4039-bd03-b66d390259c3",
   "metadata": {},
   "outputs": [],
   "source": [
    "from follow_cells import *\n",
    "from correct_cells import * \n",
    "from center_cells import * "
   ]
  },
  {
   "cell_type": "markdown",
   "id": "2ff3328c-40fe-451a-9d5b-5eed9c55c577",
   "metadata": {},
   "source": [
    "# 1. Load images and labels "
   ]
  },
  {
   "cell_type": "code",
   "execution_count": 3,
   "id": "4d0dd1d7-c7ff-4eab-ba8f-f3086456d2ac",
   "metadata": {},
   "outputs": [],
   "source": [
    "images_path = Path(\"/media/raphael/data/works/20231220_C3_14_2h_ofON/bleach_correction/expo/C3.14_ON_01_w1SPI-488_s4\")\n",
    "labels_path = \"/media/raphael/data/works/20231220_C3_14_2h_ofON/C3.14_ON_01_w1SPI-488_s4/full_movie/MIP/maskfolder/mask/mask/\" + \"*.tif\"\n",
    "stacks_3D = Path(\"/media/raphael/data/works/20231220_C3_14_2h_ofON/bleach_correction/expo/C3.14_ON_01_w1SPI-488_s4\")\n",
    "cellIndexPath = \"/media/raphael/data/works/20231220_C3_14_2h_ofON/bleach_correction/hist_splitt/C3.14_ON_01_w1SPI-488_s4/MIPfichier.npy\""
   ]
  },
  {
   "cell_type": "code",
   "execution_count": 4,
   "id": "129704a0-f3ce-4a8c-930c-c59b6d79ea39",
   "metadata": {},
   "outputs": [],
   "source": [
    "cellIndex = np.load(cellIndexPath)"
   ]
  },
  {
   "cell_type": "code",
   "execution_count": 5,
   "id": "54419cb2-dd46-4a9c-8267-1223ec826743",
   "metadata": {},
   "outputs": [],
   "source": [
    "images = imr(\"/media/raphael/data/works/20231220_C3_14_2h_ofON/bleach_correction/w_background/C3.14_ON_01_w1SPI-488_s4/*.tif\")\n",
    "labels = imr(labels_path)"
   ]
  },
  {
   "cell_type": "code",
   "execution_count": 6,
   "id": "eb40f7b6-7f83-4ef5-8e31-815ad3c923f4",
   "metadata": {},
   "outputs": [
    {
     "data": {
      "text/plain": [
       "(120, 36, 1200, 1200)"
      ]
     },
     "execution_count": 6,
     "metadata": {},
     "output_type": "execute_result"
    }
   ],
   "source": [
    "labels = np.tile(labels[:, np.newaxis],(1,images.shape[1],1,1))\n",
    "labels.shape"
   ]
  },
  {
   "cell_type": "markdown",
   "id": "90229d3e-2e06-44de-9278-297316659fbf",
   "metadata": {},
   "source": [
    "# 2. Isolate and crop cells "
   ]
  },
  {
   "cell_type": "code",
   "execution_count": 8,
   "id": "993cd7a6-a7fa-4650-be47-3b4a7da33965",
   "metadata": {},
   "outputs": [],
   "source": [
    "savepath = \"/media/raphael/data/works/20231220_C3_14_2h_ofON/bleach_correction/w_background/C3.14_ON_01_w1SPI-488_s4/\"\n",
    "movie_name = 'C3.14_ON_01_w1SPI-488_s'\n",
    "imsq = '4'"
   ]
  },
  {
   "cell_type": "code",
   "execution_count": null,
   "id": "9e2d8e06",
   "metadata": {},
   "outputs": [],
   "source": [
    "for i in cellIndex[1:]: #[18: ]\n",
    "    ctr_cell, ctr_mask = center_image_for_z(images,labels,i)\n",
    "    cells_centered, masks_centered = crop_cells_with_background(ctr_cell,ctr_mask,i)\n",
    "\n",
    "     \n",
    "    save_cells(cells_centered,savepath,movie_name,imsq,\"centering_cell_\"+str(i), str(i))\n",
    "    save_cells(masks_centered,savepath,movie_name,imsq,\"centering_mask_\"+str(i), str(i))\n",
    "    \n",
    "    print('Done for cell',i)"
   ]
  }
 ],
 "metadata": {
  "kernelspec": {
   "display_name": "Python 3 (ipykernel)",
   "language": "python",
   "name": "python3"
  },
  "language_info": {
   "codemirror_mode": {
    "name": "ipython",
    "version": 3
   },
   "file_extension": ".py",
   "mimetype": "text/x-python",
   "name": "python",
   "nbconvert_exporter": "python",
   "pygments_lexer": "ipython3",
   "version": "3.9.18"
  }
 },
 "nbformat": 4,
 "nbformat_minor": 5
}
