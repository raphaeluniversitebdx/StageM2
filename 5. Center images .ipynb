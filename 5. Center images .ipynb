{
 "cells": [
  {
   "cell_type": "code",
   "execution_count": 1,
   "id": "708882e2",
   "metadata": {},
   "outputs": [],
   "source": [
    "import os\n",
    "import napari\n",
    "import tifffile\n",
    "import numpy as np\n",
    "import matplotlib.pyplot as plt\n",
    "\n",
    "import bigfish\n",
    "import bigfish.plot as plot\n",
    "import bigfish.stack as stack\n",
    "import bigfish.detection as detection\n",
    "import bigfish.multistack as multistack\n",
    "\n",
    "from copy import deepcopy\n",
    "from dask.array.image import imread as imr\n",
    "from bigfish.detection.utils import get_object_radius_pixel\n",
    "from buildReferenceSpot import buildReferenceSpotFromImages\n",
    "from runBigfishDetection import getSpotAndClusters, saveSpotsNPZ, reorderZstack"
   ]
  },
  {
   "cell_type": "code",
   "execution_count": 2,
   "id": "3666a03c",
   "metadata": {},
   "outputs": [],
   "source": [
    "import matplotlib.image as mpimg\n",
    "import scipy.ndimage as ndi\n",
    "from correct_cells import *\n",
    "from center_cells import * "
   ]
  },
  {
   "cell_type": "code",
   "execution_count": 3,
   "id": "dcf41392",
   "metadata": {},
   "outputs": [],
   "source": [
    "homeFolder = '/media/raphael/data/works/20231220_C3_14_2h_ofON/new_correction/'\n",
    "nameKey = 'C3.14_ON_01_w1SPI-488_s'\n",
    "\n",
    "imsQ = '4'\n",
    "cellNumber = '18'\n",
    "nucleiStackForm = nameKey+imsQ+\"_cell_\"\n",
    "\n",
    "pathToTimeSequenceFullView = homeFolder+nameKey+imsQ+'/*.tif'\n",
    "cell_Crop_Folder = homeFolder+nameKey+imsQ+'/cell_'+str(cellNumber)+'/'\n",
    "pathToTimeSequenceCell = homeFolder+nameKey+imsQ+'/cell_'+str(cellNumber)+'/*.tif'\n",
    "\n",
    "\n",
    "sequenceCell = imr(pathToTimeSequenceCell)\n",
    "mipSequenceCell = np.max(sequenceCell, axis=1)\n",
    "MaxTimePoint = sequenceCell.shape[0]"
   ]
  },
  {
   "cell_type": "code",
   "execution_count": 4,
   "id": "3d895be0",
   "metadata": {},
   "outputs": [],
   "source": [
    "centroid_list = get_centroid(sequenceCell)"
   ]
  },
  {
   "cell_type": "code",
   "execution_count": 5,
   "id": "2ede8b11-d8e1-4d9f-b87f-ae508b9f7ff1",
   "metadata": {},
   "outputs": [],
   "source": [
    "S = compute_avg_centroid(centroid_list)"
   ]
  },
  {
   "cell_type": "code",
   "execution_count": 6,
   "id": "078b010a",
   "metadata": {},
   "outputs": [],
   "source": [
    "avg_S = np.mean(S,axis=0)\n",
    "offsets = [avg_S - ctr for ctr in S]\n",
    "ctr_stacks = [np.roll(img, (int(offset[1]), int(offset[0])), axis=(0,1)) for img, offset in zip(sequenceCell,offsets )]"
   ]
  },
  {
   "cell_type": "code",
   "execution_count": 7,
   "id": "8e6fb931",
   "metadata": {},
   "outputs": [],
   "source": [
    "ctr_stacks = np.array(ctr_stacks)"
   ]
  },
  {
   "cell_type": "code",
   "execution_count": 8,
   "id": "4d4ac84e",
   "metadata": {},
   "outputs": [],
   "source": [
    "viewer = napari.Viewer()\n",
    "image_layer = viewer.add_image(\n",
    "        ctr_stacks, colormap='green' #maxImageCell\n",
    "        )\n",
    "image_layer = viewer.add_image(\n",
    "        sequenceCell, colormap='green' #maxImageCell\n",
    "        )"
   ]
  },
  {
   "cell_type": "code",
   "execution_count": 9,
   "id": "d59c76ad",
   "metadata": {},
   "outputs": [
    {
     "name": "stdout",
     "output_type": "stream",
     "text": [
      "Saving frame |████████████████████████████████████████| 120/120 [100%] in 13.3s \n"
     ]
    }
   ],
   "source": [
    "save_layers(ctr_stacks, \"C3.14_ON_01_w1SPI-488_s4_cell_\" + str(cellNumber))"
   ]
  }
 ],
 "metadata": {
  "kernelspec": {
   "display_name": "Python 3 (ipykernel)",
   "language": "python",
   "name": "python3"
  },
  "language_info": {
   "codemirror_mode": {
    "name": "ipython",
    "version": 3
   },
   "file_extension": ".py",
   "mimetype": "text/x-python",
   "name": "python",
   "nbconvert_exporter": "python",
   "pygments_lexer": "ipython3",
   "version": "3.9.18"
  }
 },
 "nbformat": 4,
 "nbformat_minor": 5
}
