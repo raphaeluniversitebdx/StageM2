{
 "cells": [
  {
   "cell_type": "markdown",
   "id": "14b7052b-0e0e-45ae-b67b-8d04d9d66b6d",
   "metadata": {},
   "source": [
    "# 1. Import"
   ]
  },
  {
   "cell_type": "code",
   "execution_count": 2,
   "id": "d48d6b6b-7ac9-49cb-971f-1c6ee8c66807",
   "metadata": {},
   "outputs": [
    {
     "name": "stderr",
     "output_type": "stream",
     "text": [
      "/tmp/ipykernel_7348/4239023559.py:4: DeprecationWarning: \n",
      "Pyarrow will become a required dependency of pandas in the next major release of pandas (pandas 3.0),\n",
      "(to allow more performant data types, such as the Arrow string type, and better interoperability with other libraries)\n",
      "but was not found to be installed on your system.\n",
      "If this would cause problems for you,\n",
      "please provide us feedback at https://github.com/pandas-dev/pandas/issues/54466\n",
      "        \n",
      "  import pandas as pd\n"
     ]
    }
   ],
   "source": [
    "import os\n",
    "import copy\n",
    "from pathlib import Path\n",
    "import pandas as pd\n",
    "\n",
    "import numpy as np\n",
    "import napari\n",
    "from napari.utils.notebook_display import nbscreenshot\n",
    "from tqdm import tqdm\n",
    "from rich.pretty import pprint\n",
    "\n",
    "import dask.array as da\n",
    "from dask.array.image import imread as imr\n",
    "import matplotlib.pyplot as plt\n",
    "from statistics import mean, stdev"
   ]
  },
  {
   "cell_type": "code",
   "execution_count": 3,
   "id": "a45c90c7-ff13-41cf-a829-4a9e0392e964",
   "metadata": {},
   "outputs": [],
   "source": [
    "from correct_cells import * "
   ]
  },
  {
   "cell_type": "code",
   "execution_count": 4,
   "id": "9b9d533c-4072-4db4-8a6f-716d34bdb0d2",
   "metadata": {},
   "outputs": [],
   "source": [
    "from bleach_correction import * \n",
    "from napari_bleach_correct.modules import *"
   ]
  },
  {
   "cell_type": "markdown",
   "id": "3d2f635b-19e5-49e0-b858-11dfca9832d4",
   "metadata": {},
   "source": [
    "# 2. Load Images"
   ]
  },
  {
   "cell_type": "code",
   "execution_count": 5,
   "id": "4539c610-4ad1-4387-8610-cd620d5d8596",
   "metadata": {},
   "outputs": [],
   "source": [
    "homeFolder = '/media/raphael/data/works/20231220_C3_14_2h_ofON/'\n",
    "nameKey = 'C3.14_ON_01_w1SPI-488_s'\n",
    "\n",
    "imsQ = '4'\n",
    "cellNumber = '18'\n",
    "\n",
    "nucleiStackForm = nameKey+imsQ+\"_cell_\"\n",
    "\n",
    "pathToTimeSequenceFullView = homeFolder+nameKey+imsQ+'/*.tif'\n",
    "cell_Crop_Folder = homeFolder+nameKey+imsQ+'/cell_'+str(cellNumber)+'/'\n",
    "pathToTimeSequenceCell = homeFolder+nameKey+imsQ+'/cell_'+str(cellNumber)+'/*.tif'\n",
    "\n",
    "\n",
    "sequenceCell = imr(pathToTimeSequenceCell)\n",
    "mipSequenceCell = np.max(sequenceCell, axis=1)\n",
    "MaxTimePoint = sequenceCell.shape[0]"
   ]
  },
  {
   "cell_type": "code",
   "execution_count": 8,
   "id": "4e15d572",
   "metadata": {},
   "outputs": [],
   "source": [
    "full_movie= imr(pathToTimeSequenceFullView)"
   ]
  },
  {
   "cell_type": "code",
   "execution_count": 9,
   "id": "ea38eb34",
   "metadata": {},
   "outputs": [
    {
     "data": {
      "text/plain": [
       "(120, 36, 1200, 1200)"
      ]
     },
     "execution_count": 9,
     "metadata": {},
     "output_type": "execute_result"
    }
   ],
   "source": [
    "full_movie.shape"
   ]
  },
  {
   "cell_type": "code",
   "execution_count": 9,
   "id": "e2ef7648-acaa-4c6e-864c-47cf5b4418d8",
   "metadata": {},
   "outputs": [],
   "source": [
    "viewer = napari.Viewer()\n",
    "image_layer = viewer.add_image(\n",
    "        mipSequenceCell, colormap='green' #maxImageCell\n",
    "        )"
   ]
  },
  {
   "cell_type": "code",
   "execution_count": 10,
   "id": "4eb461f6",
   "metadata": {},
   "outputs": [],
   "source": [
    "ceilling = 1000"
   ]
  },
  {
   "cell_type": "markdown",
   "id": "fde8d277-8d6e-4561-90c7-be6367c7a5f5",
   "metadata": {},
   "source": [
    "# 3. Get images informations "
   ]
  },
  {
   "cell_type": "code",
   "execution_count": 11,
   "id": "70b17532-ae19-445a-8fc8-f2b72ca7743d",
   "metadata": {},
   "outputs": [],
   "source": [
    "images = viewer.layers[0].data\n"
   ]
  },
  {
   "cell_type": "code",
   "execution_count": 13,
   "id": "667f62d0",
   "metadata": {},
   "outputs": [
    {
     "data": {
      "text/plain": [
       "(120, 198, 197)"
      ]
     },
     "execution_count": 13,
     "metadata": {},
     "output_type": "execute_result"
    }
   ],
   "source": [
    "images.shape"
   ]
  },
  {
   "cell_type": "markdown",
   "id": "8d83aaeb-e489-4541-a573-95993807c901",
   "metadata": {},
   "source": [
    "## 3.1 Get intensity and erase clusters "
   ]
  },
  {
   "cell_type": "code",
   "execution_count": 14,
   "id": "151c0940-0703-4229-8166-5f8876313b5c",
   "metadata": {},
   "outputs": [],
   "source": [
    "res = get_intensity(images)"
   ]
  },
  {
   "cell_type": "code",
   "execution_count": 15,
   "id": "4894b89f-10ba-4845-b114-a29b85132bfb",
   "metadata": {},
   "outputs": [],
   "source": [
    "res2 = res \n",
    "min_len = len(min(res2,key=len))"
   ]
  },
  {
   "cell_type": "markdown",
   "id": "952aea88-20e9-450a-afbc-63fd9e8164bd",
   "metadata": {},
   "source": [
    "## 3.2 Mean and standard deviation "
   ]
  },
  {
   "cell_type": "code",
   "execution_count": 18,
   "id": "0456723f-8a89-4c04-b511-97303f40933e",
   "metadata": {},
   "outputs": [],
   "source": [
    "mean_list=[]\n",
    "for frame in res2:\n",
    "    mean_list.append(mean(frame[:min_len]))"
   ]
  },
  {
   "cell_type": "markdown",
   "id": "238ea447",
   "metadata": {},
   "source": [
    "determiner une droite de forme ax + b ou exponentielle pour extraire une formule "
   ]
  },
  {
   "cell_type": "markdown",
   "id": "8148d08a",
   "metadata": {},
   "source": [
    "perte = (intensite intiale - intensite finale ) / intensite intiale "
   ]
  },
  {
   "cell_type": "code",
   "execution_count": 19,
   "id": "180b94fe",
   "metadata": {},
   "outputs": [],
   "source": [
    "def moving_avg(x, n):\n",
    "    cumsum = np.cumsum(np.insert(x, 0, 0)) \n",
    "    return (cumsum[n:] - cumsum[:-n]) / float(n)"
   ]
  },
  {
   "cell_type": "markdown",
   "id": "c79bdb9e",
   "metadata": {},
   "source": [
    "creation moyenne mobile "
   ]
  },
  {
   "cell_type": "code",
   "execution_count": 20,
   "id": "83cb09e8",
   "metadata": {},
   "outputs": [],
   "source": [
    "mv_avg = moving_avg(mean_list,40)"
   ]
  },
  {
   "cell_type": "markdown",
   "id": "2cfd5cbb",
   "metadata": {},
   "source": [
    "creation courbe de tendance "
   ]
  },
  {
   "cell_type": "code",
   "execution_count": 21,
   "id": "69040829",
   "metadata": {},
   "outputs": [],
   "source": [
    "y = np.arange(len(mean_list))\n",
    "z = np.polyfit(y,mean_list,1)\n"
   ]
  },
  {
   "cell_type": "code",
   "execution_count": 22,
   "id": "045f38e8-d18c-42c4-9ec0-2ef0cfac60dd",
   "metadata": {},
   "outputs": [],
   "source": [
    "import matplotlib.pyplot as plt\n",
    "import numpy as np\n",
    "def display_graph(mean_list,y,ceilling):\n",
    "    # Liste des moyennes\n",
    "    moyennes = mean_list\n",
    "\n",
    "    # Création d'une liste pour les valeurs x (par exemple, des années)\n",
    "    annees = y\n",
    "\n",
    "    # Tracer les points moyens\n",
    "    plt.scatter(annees, moyennes, color='blue', label='Moyennes')\n",
    "\n",
    "    # Calculer la courbe de tendance linéaire\n",
    "    coefficients = np.polyfit(annees, moyennes, 1)\n",
    "    polynomial = np.poly1d(coefficients)\n",
    "    tendance = polynomial(annees)\n",
    "\n",
    "\n",
    "    # Tracer la courbe de tendance\n",
    "    plt.plot(annees, tendance, color='red', label='Courbe de tendance')\n",
    "\n",
    "    plt.plot(mv_avg,color='green',label='moyenne mobile')\n",
    "    # Afficher l'équation de la courbe de tendance\n",
    "    equation = f'Y = {coefficients[0]:.2f}X + {coefficients[1]:.2f}'\n",
    "    plt.annotate(equation, xy=(2012, 20), fontsize=12, color='black')\n",
    "\n",
    "    # Ajouter une légende et un titre\n",
    "    plt.legend()\n",
    "    plt.title('Courbe de tendance des moyennes')\n",
    "\n",
    "    # Afficher le graphique\n",
    "    plt.xlabel('Frames')\n",
    "    plt.ylabel('Moyennes')\n",
    "    \n",
    "    plt.xlim(1, 123)  # Limite des axes x de 1 à 4\n",
    "    plt.ylim(0, ceilling)  # Limite des axes y de 0 à 100\n",
    "    plt.grid(True)\n",
    "    plt.show()\n",
    "    \n",
    "    return equation, coefficients \n"
   ]
  },
  {
   "cell_type": "markdown",
   "id": "94d7348e",
   "metadata": {},
   "source": [
    "def exponential_curve(mean_list,etiquette):\n",
    "    import numpy as np\n",
    "    import matplotlib.pyplot as plt\n",
    "    \n",
    "    # Générer des données exponentielles aléatoires\n",
    "    x =etiquette # Créer des valeurs x de 0 à 5\n",
    "    y = mean_list  # Générer des valeurs y exponentielles avec un bruit aléatoire\n",
    "    \n",
    "    # Tracer les données\n",
    "    #plt.scatter(x, y, label='Données')\n",
    "    \n",
    "    # Ajuster une courbe exponentielle aux données\n",
    "    params = np.polyfit(x, np.log(y), 1,w=np.sqrt(y))\n",
    "    a, b = params\n",
    "    print(type(x))\n",
    "    plt.plot(x, np.exp(a * x + b), color='red', label='Courbe de tendance exponentielle')\n",
    "    \n",
    "    plt.xlabel('X')\n",
    "    plt.ylabel('Y')\n",
    "    plt.legend()\n",
    "    plt.title('Courbe de tendance exponentielle')\n",
    "    plt.show()\n"
   ]
  },
  {
   "cell_type": "code",
   "execution_count": 23,
   "id": "91cfe7f9",
   "metadata": {},
   "outputs": [],
   "source": [
    "def exponential_curve(mean_list,etiquette,ceilling):\n",
    "    import numpy as np\n",
    "    import matplotlib.pyplot as plt\n",
    "    from scipy.optimize import curve_fit\n",
    "\n",
    "    # Données d'exemple (remplacez ces données par les vôtres)\n",
    "    x_data = np.array(etiquette)\n",
    "    y_data = np.array(mean_list)\n",
    "\n",
    "    # Définition de la fonction exponentielle à ajuster\n",
    "    def exponential_func(x, a, b):\n",
    "        return a * np.exp(b * x)\n",
    "\n",
    "    # Ajustement de la courbe exponentielle aux données\n",
    "    popt, pcov = curve_fit(exponential_func, x_data, y_data)\n",
    "\n",
    "    # Obtenir les paramètres ajustés\n",
    "    a_fit, b_fit = popt\n",
    "\n",
    "    # Génération des données pour la courbe ajustée\n",
    "    x_fit = np.linspace(min(x_data), max(x_data), 100)\n",
    "    y_fit = exponential_func(x_fit, a_fit, b_fit)\n",
    "\n",
    "    # Traçage des données originales et de la courbe ajustée\n",
    "    plt.scatter(x_data, y_data, label='Données')\n",
    "    plt.plot(x_fit, y_fit, 'r-', label='Courbe de tendance exponentielle')\n",
    "    plt.xlabel('X')\n",
    "    plt.ylabel('Y')\n",
    "    plt.title('Courbe de tendance exponentielle')\n",
    "    plt.legend()\n",
    "    plt.grid(True)\n",
    "    \n",
    "    plt.xlim(1, 123)  # Limite des axes x de 1 à 4\n",
    "    plt.ylim(0, ceilling)  # Limite des axes y de 0 à 100\n",
    "\n",
    "    plt.show()\n"
   ]
  },
  {
   "cell_type": "code",
   "execution_count": 24,
   "id": "34226256",
   "metadata": {},
   "outputs": [],
   "source": [
    "#exponential_curve(mean_list,y,ceilling)"
   ]
  },
  {
   "cell_type": "code",
   "execution_count": 25,
   "id": "c4508176",
   "metadata": {},
   "outputs": [
    {
     "data": {
      "image/png": "[encoded data removed]",
      "text/plain": [
       "<Figure size 640x480 with 1 Axes>"
      ]
     },
     "metadata": {},
     "output_type": "display_data"
    }
   ],
   "source": [
    "equation, c = display_graph(mean_list,y,ceilling)"
   ]
  },
  {
   "cell_type": "code",
   "execution_count": 26,
   "id": "d151ad7b",
   "metadata": {
    "scrolled": true
   },
   "outputs": [
    {
     "data": {
      "text/plain": [
       "'Y = -0.63X + 351.95'"
      ]
     },
     "execution_count": 26,
     "metadata": {},
     "output_type": "execute_result"
    }
   ],
   "source": [
    "equation"
   ]
  },
  {
   "cell_type": "code",
   "execution_count": 27,
   "id": "5a603218-5fdf-49f9-80b9-fd2481285b11",
   "metadata": {},
   "outputs": [
    {
     "name": "stdout",
     "output_type": "stream",
     "text": [
      "0.7815093491298356\n"
     ]
    }
   ],
   "source": [
    "def get_facteur(c,start,stop):\n",
    "    Y_0 = c[0]*start + c[1]\n",
    "    Y_t = c[0]*stop + c[1]\n",
    "\n",
    "    res = Y_t/Y_0\n",
    "\n",
    "    return res \n",
    "\n",
    "\n",
    "print(get_facteur(c,0,123))"
   ]
  },
  {
   "cell_type": "code",
   "execution_count": 28,
   "id": "1fb9558a",
   "metadata": {},
   "outputs": [],
   "source": [
    "np.savez(cell_Crop_Folder + 'mean_list.npz', mean_list)"
   ]
  },
  {
   "cell_type": "code",
   "execution_count": 29,
   "id": "4082cedc",
   "metadata": {},
   "outputs": [
    {
     "data": {
      "text/plain": [
       "-7.547169811320753"
      ]
     },
     "execution_count": 29,
     "metadata": {},
     "output_type": "execute_result"
    }
   ],
   "source": [
    "((mean_list[0]/mean_list[1])-1)*100"
   ]
  },
  {
   "cell_type": "code",
   "execution_count": 30,
   "id": "9eb35e44",
   "metadata": {
    "scrolled": true
   },
   "outputs": [
    {
     "name": "stdout",
     "output_type": "stream",
     "text": [
      "Done\n",
      "Done\n",
      "Done\n",
      "Done\n"
     ]
    }
   ],
   "source": [
    "var_list = compute_var(mean_list)"
   ]
  },
  {
   "cell_type": "code",
   "execution_count": 31,
   "id": "fc004f31-33e0-45e7-b586-37d2bb6967fe",
   "metadata": {},
   "outputs": [],
   "source": [
    "np.savez(cell_Crop_Folder + 'var_list.npz', var_list)"
   ]
  },
  {
   "cell_type": "markdown",
   "id": "f02f8125",
   "metadata": {},
   "source": [
    "std = np.std(mean_list)\n",
    "std"
   ]
  },
  {
   "cell_type": "markdown",
   "id": "81f12320-1924-492b-a3da-17d89c011c20",
   "metadata": {},
   "source": [
    "## 4. Correct images "
   ]
  },
  {
   "cell_type": "code",
   "execution_count": 10,
   "id": "2fdde996-754f-4c88-9da1-5e012c7cfe0e",
   "metadata": {},
   "outputs": [
    {
     "name": "stderr",
     "output_type": "stream",
     "text": [
      "INFO:napari_bleach_correct.modules.exponential:R-squared value for fitting a bi-exponential curve: dask.array<sub, shape=(), dtype=float64, chunksize=(), chunktype=numpy.ndarray>\n"
     ]
    }
   ],
   "source": [
    "corrected = exponential_correct(\n",
    "        full_movie,contrast_limits=(0, 4095),method=\"bi\")\n",
    "#assert isinstance(corrected, np.ndarray)\n"
   ]
  },
  {
   "cell_type": "code",
   "execution_count": 11,
   "id": "2caa5482-e847-4d9a-a38c-ab9851143e79",
   "metadata": {},
   "outputs": [
    {
     "data": {
      "text/plain": [
       "(120, 36, 1200, 1200)"
      ]
     },
     "execution_count": 11,
     "metadata": {},
     "output_type": "execute_result"
    }
   ],
   "source": [
    "corrected.shape"
   ]
  },
  {
   "cell_type": "code",
   "execution_count": 34,
   "id": "09708fe4-1046-4d3b-b0db-3cecd171a7ce",
   "metadata": {},
   "outputs": [
    {
     "data": {
      "text/plain": [
       "<Image layer 'Image' at 0x7fd0ec02d070>"
      ]
     },
     "execution_count": 34,
     "metadata": {},
     "output_type": "execute_result"
    }
   ],
   "source": [
    "viewer.add_image(\n",
    "        np.max(corrected, axis=1), colormap='green' #maxImageCell\n",
    "        )"
   ]
  },
  {
   "cell_type": "markdown",
   "id": "be4fb85d",
   "metadata": {},
   "source": [
    "## 5. Display new graphs for corrected images"
   ]
  },
  {
   "cell_type": "code",
   "execution_count": 35,
   "id": "f8c078fa",
   "metadata": {},
   "outputs": [],
   "source": [
    "res = get_intensity(np.max(corrected, axis=1))\n",
    "res2 = res \n",
    "min_len = len(min(res2,key=len))"
   ]
  },
  {
   "cell_type": "code",
   "execution_count": 36,
   "id": "35713227",
   "metadata": {},
   "outputs": [],
   "source": [
    "mean_list=[]\n",
    "for frame in res2:\n",
    "    mean_list.append(mean(frame[:min_len]))"
   ]
  },
  {
   "cell_type": "code",
   "execution_count": 37,
   "id": "4fc24695",
   "metadata": {},
   "outputs": [],
   "source": [
    "mv_avg = moving_avg(mean_list,40)"
   ]
  },
  {
   "cell_type": "code",
   "execution_count": 38,
   "id": "50692d64",
   "metadata": {},
   "outputs": [],
   "source": [
    "import matplotlib.pyplot as plt\n",
    "import numpy as np\n",
    "def trace_courbe_tendance(mean_list, ind_x, part): \n",
    "    # Données de base\n",
    "    x = ind_x\n",
    "    y = mean_list\n",
    "    \n",
    "    split = int(len(x)/part)\n",
    "    for p in range (0,part) : \n",
    "        # Tracer la courbe de base\n",
    "        plt.plot(x, y, label='Données originales')\n",
    "    \n",
    "    \n",
    "        # Sélectionner une partie des données pour la courbe de tendance\n",
    "        x_tendance = x[split*p:split*(p+1)]\n",
    "        coeff = np.polyfit(x_tendance, y[split*p:split*(p+1)], 1)\n",
    "        y_tendance = np.poly1d(coeff)(x_tendance)\n",
    "        \n",
    "        equation = f'Y = {x_tendance[0]:.2f}X + {x_tendance[1]:.2f}'\n",
    "        plt.annotate(equation, xy=(2012, 20), fontsize=12, color='black')\n",
    "        \n",
    "        pente_m = (y_tendance[0] - y_tendance[-1]) / (x_tendance[0] - x_tendance[1]) \n",
    "        b = y_tendance[0]\n",
    "        print('Y = ',pente_m,'X + ', b )\n",
    "        print((y_tendance[-1])/y_tendance[0])\n",
    "        # Tracer la courbe de tendance\n",
    "        plt.plot(x_tendance, y_tendance, label='Courbe de tendance', linestyle='--')\n",
    "\n",
    "        # Afficher la légende\n",
    "        plt.legend()\n",
    "        plt.grid()\n",
    "        # Afficher le graphique\n",
    "        plt.show()\n"
   ]
  },
  {
   "cell_type": "code",
   "execution_count": 40,
   "id": "89f3b504",
   "metadata": {},
   "outputs": [
    {
     "data": {
      "image/png": "[encoded data removed]",
      "text/plain": [
       "<Figure size 640x480 with 1 Axes>"
      ]
     },
     "metadata": {},
     "output_type": "display_data"
    },
    {
     "data": {
      "text/plain": [
       "('Y = -0.49X + 360.18', array([ -0.49281547, 360.18085399]))"
      ]
     },
     "execution_count": 40,
     "metadata": {},
     "output_type": "execute_result"
    }
   ],
   "source": [
    "equation = display_graph(mean_list,y,ceilling) \n",
    "equation "
   ]
  },
  {
   "cell_type": "code",
   "execution_count": 33,
   "id": "b8e0ddcd",
   "metadata": {},
   "outputs": [],
   "source": [
    "#y0 - yt / y0 "
   ]
  },
  {
   "cell_type": "code",
   "execution_count": null,
   "id": "b5ad1dae",
   "metadata": {},
   "outputs": [
    {
     "name": "stdout",
     "output_type": "stream",
     "text": [
      "Saving frame |███████████████████████████████████▍    | ▃▅▇ 106/120 [88%] in 14:"
     ]
    }
   ],
   "source": [
    "save_layers(corrected, \"C3.14_ON_01_w1SPI-488_s4_full_\" )"
   ]
  },
  {
   "cell_type": "markdown",
   "id": "01828fea",
   "metadata": {},
   "source": [
    "rmq : pour la cellule 23 on a facteur pour les trois tiers du film : \n",
    "p1 = 1.25\n",
    "p2 = 0.85\n",
    "p3 = 0.88 \n",
    "\n",
    "developper une fonction pour appliquer ces facteurs successivement sur un meme film"
   ]
  }
 ],
 "metadata": {
  "kernelspec": {
   "display_name": "Python 3 (ipykernel)",
   "language": "python",
   "name": "python3"
  },
  "language_info": {
   "codemirror_mode": {
    "name": "ipython",
    "version": 3
   },
   "file_extension": ".py",
   "mimetype": "text/x-python",
   "name": "python",
   "nbconvert_exporter": "python",
   "pygments_lexer": "ipython3",
   "version": "3.9.18"
  }
 },
 "nbformat": 4,
 "nbformat_minor": 5
}
