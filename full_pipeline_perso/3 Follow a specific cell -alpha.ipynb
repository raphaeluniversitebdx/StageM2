{
 "cells": [
  {
   "cell_type": "markdown",
   "id": "a72e1724-9686-4a2c-b4de-06b558380b63",
   "metadata": {},
   "source": [
    "# Follow a specific cell "
   ]
  },
  {
   "cell_type": "markdown",
   "id": "99f8f8d1-9131-4b74-aa1b-b81b6c558fdc",
   "metadata": {},
   "source": [
    "# Import "
   ]
  },
  {
   "cell_type": "code",
   "execution_count": 1,
   "id": "cee937fa-ee6f-4fc2-a880-1352619b7d45",
   "metadata": {},
   "outputs": [],
   "source": [
    "import os\n",
    "import copy\n",
    "from pathlib import Path\n",
    "import pandas as pd\n",
    "\n",
    "import numpy as np\n",
    "\n",
    "from tqdm import tqdm\n",
    "from rich.pretty import pprint\n",
    "\n",
    "from dask.array.image import imread as imr"
   ]
  },
  {
   "cell_type": "code",
   "execution_count": 2,
   "id": "041a06a6-67d9-4039-bd03-b66d390259c3",
   "metadata": {},
   "outputs": [],
   "source": [
    "from follow_cells import *\n",
    "from correct_cells import * \n",
    "from center_cells import * "
   ]
  },
  {
   "cell_type": "markdown",
   "id": "2ff3328c-40fe-451a-9d5b-5eed9c55c577",
   "metadata": {},
   "source": [
    "# 1. Load images and labels "
   ]
  },
  {
   "cell_type": "code",
   "execution_count": 3,
   "id": "4d0dd1d7-c7ff-4eab-ba8f-f3086456d2ac",
   "metadata": {},
   "outputs": [],
   "source": [
    "images_path = Path(\"/media/raphael/Genia_ordi/00_C3.14_ON_01_w1SPI-488_s4/C3.14_ON_AA_s4_01.tif\") # 2D projection folder\n",
    "labels_path = \"/media/raphael/Genia_ordi/00_C3.14_ON_01_w1SPI-488_s4/mask/mask/\" + \"*.tif\" # folder of the labels \n",
    "stacks_3D = Path(\"/media/raphael/Genia_ordi/00_C3.14_ON_01_w1SPI-488_s4\") # 3D movie \n",
    "cellIndexPath = \"/media/raphael/Genia_ordi/00_C3.14_ON_01_w1SPI-488_s4/cell_index.npy\" #npy file "
   ]
  },
  {
   "cell_type": "code",
   "execution_count": 4,
   "id": "129704a0-f3ce-4a8c-930c-c59b6d79ea39",
   "metadata": {},
   "outputs": [],
   "source": [
    "cellIndex = np.load(cellIndexPath)"
   ]
  },
  {
   "cell_type": "code",
   "execution_count": 5,
   "id": "54419cb2-dd46-4a9c-8267-1223ec826743",
   "metadata": {},
   "outputs": [],
   "source": [
    "images = imr(\"/media/raphael/Genia_ordi/00_C3.14_ON_01_w1SPI-488_s4/*.tif\")\n",
    "labels = imr(labels_path)"
   ]
  },
  {
   "cell_type": "code",
   "execution_count": 6,
   "id": "eb40f7b6-7f83-4ef5-8e31-815ad3c923f4",
   "metadata": {},
   "outputs": [
    {
     "data": {
      "text/plain": [
       "(721, 36, 1200, 1200)"
      ]
     },
     "execution_count": 6,
     "metadata": {},
     "output_type": "execute_result"
    }
   ],
   "source": [
    "labels = np.tile(labels[:, np.newaxis],(1,images.shape[1],1,1))\n",
    "labels.shape"
   ]
  },
  {
   "cell_type": "code",
   "execution_count": 7,
   "id": "c0061a46",
   "metadata": {},
   "outputs": [],
   "source": [
    "labels = labels[30:]\n",
    "images = images[:30]"
   ]
  },
  {
   "cell_type": "markdown",
   "id": "90229d3e-2e06-44de-9278-297316659fbf",
   "metadata": {},
   "source": [
    "# 2. Isolate and crop cells "
   ]
  },
  {
   "cell_type": "code",
   "execution_count": 8,
   "id": "72b83c65-8cfd-4c9d-aa58-54652696ba38",
   "metadata": {},
   "outputs": [
    {
     "data": {
      "text/plain": [
       "array([ 0,  4, 27, 46, 47, 51, 20, 23, 59], dtype=int32)"
      ]
     },
     "execution_count": 8,
     "metadata": {},
     "output_type": "execute_result"
    }
   ],
   "source": [
    "cellIndex"
   ]
  },
  {
   "cell_type": "code",
   "execution_count": 9,
   "id": "7faa0e00",
   "metadata": {},
   "outputs": [
    {
     "data": {
      "text/plain": [
       "9"
      ]
     },
     "execution_count": 9,
     "metadata": {},
     "output_type": "execute_result"
    }
   ],
   "source": [
    "len(cellIndex)"
   ]
  },
  {
   "cell_type": "code",
   "execution_count": 10,
   "id": "993cd7a6-a7fa-4650-be47-3b4a7da33965",
   "metadata": {},
   "outputs": [],
   "source": [
    "savepath = \"/media/raphael/Genia_ordi/00_C3.14_ON_01_w1SPI-488_s4\"\n",
    "movie_name = 'C3.14_ON_01_w1SPI-488_s'\n",
    "imsq = '4'"
   ]
  },
  {
   "cell_type": "code",
   "execution_count": 11,
   "id": "d30fdea3-89a7-4bef-bce5-cca03a88cce9",
   "metadata": {},
   "outputs": [
    {
     "data": {
      "text/plain": [
       "(30, 36, 1200, 1200)"
      ]
     },
     "execution_count": 11,
     "metadata": {},
     "output_type": "execute_result"
    }
   ],
   "source": [
    "images.shape"
   ]
  },
  {
   "cell_type": "code",
   "execution_count": 12,
   "id": "ebb08c9d-f1bc-48d4-aa35-543999320bec",
   "metadata": {},
   "outputs": [
    {
     "name": "stdout",
     "output_type": "stream",
     "text": [
      "shape of the image : (30, 36, 1200, 1200)\n",
      "return splitted image of shape (30, 36, 600, 1200)\n"
     ]
    }
   ],
   "source": [
    "upp_images, low_images = split_image(images)"
   ]
  },
  {
   "cell_type": "code",
   "execution_count": 13,
   "id": "8cb7d0af-1c44-404c-add1-52d0b1557d4b",
   "metadata": {},
   "outputs": [
    {
     "data": {
      "text/plain": [
       "(30, 36, 600, 1200)"
      ]
     },
     "execution_count": 13,
     "metadata": {},
     "output_type": "execute_result"
    }
   ],
   "source": [
    "upp_images.shape"
   ]
  },
  {
   "cell_type": "code",
   "execution_count": 16,
   "id": "581f30bb",
   "metadata": {},
   "outputs": [
    {
     "ename": "NameError",
     "evalue": "name 'center_a_cell_with_labels' is not defined",
     "output_type": "error",
     "traceback": [
      "\u001b[0;31m---------------------------------------------------------------------------\u001b[0m",
      "\u001b[0;31mNameError\u001b[0m                                 Traceback (most recent call last)",
      "Cell \u001b[0;32mIn[16], line 2\u001b[0m\n\u001b[1;32m      1\u001b[0m \u001b[38;5;28;01mfor\u001b[39;00m i \u001b[38;5;129;01min\u001b[39;00m cellIndex[\u001b[38;5;241m1\u001b[39m:]: \u001b[38;5;66;03m#[18: ]\u001b[39;00m\n\u001b[0;32m----> 2\u001b[0m     ctr_cell, ctr_mask \u001b[38;5;241m=\u001b[39m \u001b[43mcenter_a_cell_with_labels\u001b[49m(images,labels,i)\n\u001b[1;32m      3\u001b[0m     cells, masks \u001b[38;5;241m=\u001b[39m crop_cells_with_background(ctr_cell,ctr_mask,i)\n\u001b[1;32m      5\u001b[0m     \u001b[38;5;28;01mdel\u001b[39;00m ctr_cell,ctr_mask\n",
      "\u001b[0;31mNameError\u001b[0m: name 'center_a_cell_with_labels' is not defined"
     ]
    }
   ],
   "source": [
    "for i in cellIndex[1:]: #[18: ]\n",
    "    ctr_cell, ctr_mask = center_image_for_z(images,labels,i)\n",
    "    cells_centered, masks_centered = crop_cells_with_background(ctr_cell,ctr_mask,i)\n",
    "\n",
    "     \n",
    "    save_cells(cells_centered,savepath,movie_name,imsq,\"centering_cell_\"+str(i), str(i))\n",
    "    save_cells(masks_centered,savepath,movie_name,imsq,\"centering_mask_\"+str(i), str(i))\n",
    "    \n",
    "    print('Done for cell',i)"
   ]
  }
 ],
 "metadata": {
  "kernelspec": {
   "display_name": "Python 3 (ipykernel)",
   "language": "python",
   "name": "python3"
  },
  "language_info": {
   "codemirror_mode": {
    "name": "ipython",
    "version": 3
   },
   "file_extension": ".py",
   "mimetype": "text/x-python",
   "name": "python",
   "nbconvert_exporter": "python",
   "pygments_lexer": "ipython3",
   "version": "3.10.13"
  }
 },
 "nbformat": 4,
 "nbformat_minor": 5
}
