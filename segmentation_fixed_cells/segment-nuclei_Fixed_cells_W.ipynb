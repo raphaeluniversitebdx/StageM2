{
 "cells": [
  {
   "cell_type": "markdown",
   "metadata": {},
   "source": [
    "# Notebook to perform segmentation of either cells or nuclei with cellpose.\n",
    "* Requires that `cellpose` and the code of this respository are installed. One way to do this is with a pip install (recommended in a dedicated conda environment as explained in the documentation).\n",
    "   ```\n",
    "   pip install git+https://github.com/fish-quant/fq-segmentation/ --upgrade\n",
    "   ```"
   ]
  },
  {
   "cell_type": "code",
   "execution_count": 1,
   "metadata": {},
   "outputs": [
    {
     "name": "stdout",
     "output_type": "stream",
     "text": [
      "2024-05-27 10:10:23,100 [INFO] WRITING LOG OUTPUT TO /home/raphael/.cellpose/run.log\n",
      " * segwrap version: 0.3.3\n",
      " * utils_cellpose location: /home/raphael/miniconda3/envs/fq-segmentation/lib/python3.7/site-packages/segwrap/utils_cellpose.py\n"
     ]
    }
   ],
   "source": [
    "# Imports \n",
    "import segwrap  \n",
    "from segwrap import utils_cellpose\n",
    "from pathlib import Path\n",
    "\n",
    "# Print version and location of package\n",
    "print(f' * segwrap version: {segwrap.__version__}')\n",
    "print(f' * utils_cellpose location: {utils_cellpose.__file__}')"
   ]
  },
  {
   "cell_type": "code",
   "execution_count": 2,
   "metadata": {},
   "outputs": [
    {
     "name": "stdout",
     "output_type": "stream",
     "text": [
      "Function (segment_obj_indiv) called with: {'path_scan': '/media/raphael/data/works/20231220_C3_14_2h_ofON/bleach_correction/w_background/C3.14_ON_01_w1SPI-488_s4/cell_33', 'obj_name': ('nuclei',), 'str_channel': 'w1SPI-488', 'img_ext': '.tif', 'new_size': (1,), 'model_type': 'cyto', 'diameter': 100, 'net_avg': False, 'resample': True, 'path_save': 'MIP>>result_MIP', 'input_subfolder': 'MIP', 'callback_log': 'None', 'callback_status': 'None', 'callback_progress': 'None'} \n",
      "\n",
      "Loading images and segment them on the fly\n",
      "Segmenting image : C3.14_ON_01_w1SPI-488_s4_cell_33_t109.tif\n",
      ">>> process file\n",
      "input file (size): (156, 161)\n",
      "resized file (size): (156, 161)\n",
      "Creating name to path to store data.\n",
      "Replacement parameters found: original string: MIP, replacement string: result_MIP\n",
      "Output path: /media/raphael/data/works/20231220_C3_14_2h_ofON/bleach_correction/w_background/C3.14_ON_01_w1SPI-488_s4/cell_33/result_MIP\n",
      "\n",
      "Performing segmentation of ('nuclei',)\n",
      "\n",
      "2024-05-27 10:11:24,072 [INFO] >>>> using CPU\n",
      "2024-05-27 10:11:24,160 [INFO] ~~~ FINDING MASKS ~~~\n",
      "2024-05-27 10:11:25,005 [INFO] >>>> TOTAL TIME 0.85 sec\n",
      "\n",
      " Creating outputs ...\n",
      "\n"
     ]
    },
    {
     "name": "stderr",
     "output_type": "stream",
     "text": [
      "100%|█████████████████████████████████████████████| 1/1 [00:00<00:00,  3.15it/s]"
     ]
    },
    {
     "name": "stdout",
     "output_type": "stream",
     "text": [
      "\n",
      "Segmentation of provided images finished (1.2560021877288818s)\n",
      "Segmenting image : C3.14_ON_01_w1SPI-488_s4_cell_33_t025.tif\n",
      ">>> process file\n",
      "input file (size): (156, 161)\n",
      "resized file (size): (156, 161)\n",
      "Creating name to path to store data.\n",
      "Replacement parameters found: original string: MIP, replacement string: result_MIP\n",
      "Output path: /media/raphael/data/works/20231220_C3_14_2h_ofON/bleach_correction/w_background/C3.14_ON_01_w1SPI-488_s4/cell_33/result_MIP\n",
      "\n",
      "Performing segmentation of ('nuclei',)\n",
      "\n",
      "2024-05-27 10:11:25,331 [INFO] >>>> using CPU\n",
      "2024-05-27 10:11:25,384 [INFO] ~~~ FINDING MASKS ~~~\n"
     ]
    },
    {
     "name": "stderr",
     "output_type": "stream",
     "text": [
      "\n"
     ]
    },
    {
     "name": "stdout",
     "output_type": "stream",
     "text": [
      "2024-05-27 10:11:25,896 [INFO] >>>> TOTAL TIME 0.51 sec\n",
      "\n",
      " Creating outputs ...\n",
      "\n"
     ]
    },
    {
     "name": "stderr",
     "output_type": "stream",
     "text": [
      "100%|█████████████████████████████████████████████| 1/1 [00:00<00:00,  3.54it/s]"
     ]
    },
    {
     "name": "stdout",
     "output_type": "stream",
     "text": [
      "\n",
      "Segmentation of provided images finished (0.8507404327392578s)\n",
      "Segmenting image : C3.14_ON_01_w1SPI-488_s4_cell_33_t061.tif\n",
      ">>> process file\n",
      "input file (size): (156, 161)\n",
      "resized file (size): (156, 161)\n",
      "Creating name to path to store data.\n",
      "Replacement parameters found: original string: MIP, replacement string: result_MIP\n",
      "Output path: /media/raphael/data/works/20231220_C3_14_2h_ofON/bleach_correction/w_background/C3.14_ON_01_w1SPI-488_s4/cell_33/result_MIP\n",
      "\n",
      "Performing segmentation of ('nuclei',)\n",
      "\n",
      "2024-05-27 10:11:26,185 [INFO] >>>> using CPU\n",
      "2024-05-27 10:11:26,240 [INFO] ~~~ FINDING MASKS ~~~\n"
     ]
    },
    {
     "name": "stderr",
     "output_type": "stream",
     "text": [
      "\n"
     ]
    },
    {
     "name": "stdout",
     "output_type": "stream",
     "text": [
      "2024-05-27 10:11:26,812 [INFO] >>>> TOTAL TIME 0.57 sec\n",
      "\n",
      " Creating outputs ...\n",
      "\n"
     ]
    },
    {
     "name": "stderr",
     "output_type": "stream",
     "text": [
      "100%|█████████████████████████████████████████████| 1/1 [00:00<00:00,  3.25it/s]"
     ]
    },
    {
     "name": "stdout",
     "output_type": "stream",
     "text": [
      "\n",
      "Segmentation of provided images finished (0.9373247623443604s)\n",
      "Segmenting image : C3.14_ON_01_w1SPI-488_s4_cell_33_t053.tif\n",
      ">>> process file\n",
      "input file (size): (156, 161)\n",
      "resized file (size): (156, 161)\n",
      "Creating name to path to store data.\n",
      "Replacement parameters found: original string: MIP, replacement string: result_MIP\n",
      "Output path: /media/raphael/data/works/20231220_C3_14_2h_ofON/bleach_correction/w_background/C3.14_ON_01_w1SPI-488_s4/cell_33/result_MIP\n",
      "\n",
      "Performing segmentation of ('nuclei',)\n",
      "\n",
      "2024-05-27 10:11:27,127 [INFO] >>>> using CPU\n",
      "2024-05-27 10:11:27,180 [INFO] ~~~ FINDING MASKS ~~~\n"
     ]
    },
    {
     "name": "stderr",
     "output_type": "stream",
     "text": [
      "\n"
     ]
    },
    {
     "name": "stdout",
     "output_type": "stream",
     "text": [
      "2024-05-27 10:11:28,023 [INFO] >>>> TOTAL TIME 0.84 sec\n",
      "\n",
      " Creating outputs ...\n",
      "\n"
     ]
    },
    {
     "name": "stderr",
     "output_type": "stream",
     "text": [
      "100%|█████████████████████████████████████████████| 1/1 [00:00<00:00,  3.32it/s]"
     ]
    },
    {
     "name": "stdout",
     "output_type": "stream",
     "text": [
      "\n",
      "Segmentation of provided images finished (1.199601650238037s)\n",
      "Segmenting image : C3.14_ON_01_w1SPI-488_s4_cell_33_t024.tif\n",
      ">>> process file\n",
      "input file (size): (156, 161)\n",
      "resized file (size): (156, 161)\n",
      "Creating name to path to store data.\n",
      "Replacement parameters found: original string: MIP, replacement string: result_MIP\n",
      "Output path: /media/raphael/data/works/20231220_C3_14_2h_ofON/bleach_correction/w_background/C3.14_ON_01_w1SPI-488_s4/cell_33/result_MIP\n",
      "\n",
      "Performing segmentation of ('nuclei',)\n",
      "\n",
      "2024-05-27 10:11:28,332 [INFO] >>>> using CPU\n",
      "2024-05-27 10:11:28,388 [INFO] ~~~ FINDING MASKS ~~~\n"
     ]
    },
    {
     "name": "stderr",
     "output_type": "stream",
     "text": [
      "\n"
     ]
    },
    {
     "name": "stdout",
     "output_type": "stream",
     "text": [
      "2024-05-27 10:11:29,014 [INFO] >>>> TOTAL TIME 0.63 sec\n",
      "\n",
      " Creating outputs ...\n",
      "\n"
     ]
    },
    {
     "name": "stderr",
     "output_type": "stream",
     "text": [
      "100%|█████████████████████████████████████████████| 1/1 [00:00<00:00,  2.20it/s]"
     ]
    },
    {
     "name": "stdout",
     "output_type": "stream",
     "text": [
      "\n",
      "Segmentation of provided images finished (1.140174150466919s)\n",
      "Segmenting image : C3.14_ON_01_w1SPI-488_s4_cell_33_t117.tif\n",
      ">>> process file\n",
      "input file (size): (156, 161)\n",
      "resized file (size): (156, 161)\n",
      "Creating name to path to store data.\n",
      "Replacement parameters found: original string: MIP, replacement string: result_MIP\n",
      "Output path: /media/raphael/data/works/20231220_C3_14_2h_ofON/bleach_correction/w_background/C3.14_ON_01_w1SPI-488_s4/cell_33/result_MIP\n",
      "\n",
      "Performing segmentation of ('nuclei',)\n",
      "\n",
      "2024-05-27 10:11:29,476 [INFO] >>>> using CPU\n",
      "2024-05-27 10:11:29,531 [INFO] ~~~ FINDING MASKS ~~~\n"
     ]
    },
    {
     "name": "stderr",
     "output_type": "stream",
     "text": [
      "\n"
     ]
    },
    {
     "name": "stdout",
     "output_type": "stream",
     "text": [
      "2024-05-27 10:11:30,075 [INFO] >>>> TOTAL TIME 0.54 sec\n",
      "\n",
      " Creating outputs ...\n",
      "\n"
     ]
    },
    {
     "name": "stderr",
     "output_type": "stream",
     "text": [
      "100%|█████████████████████████████████████████████| 1/1 [00:00<00:00,  3.44it/s]"
     ]
    },
    {
     "name": "stdout",
     "output_type": "stream",
     "text": [
      "\n",
      "Segmentation of provided images finished (0.8926980495452881s)\n",
      "Segmenting image : C3.14_ON_01_w1SPI-488_s4_cell_33_t075.tif\n",
      ">>> process file\n",
      "input file (size): (156, 161)\n",
      "resized file (size): (156, 161)\n",
      "Creating name to path to store data.\n",
      "Replacement parameters found: original string: MIP, replacement string: result_MIP\n",
      "Output path: /media/raphael/data/works/20231220_C3_14_2h_ofON/bleach_correction/w_background/C3.14_ON_01_w1SPI-488_s4/cell_33/result_MIP\n",
      "\n",
      "Performing segmentation of ('nuclei',)\n",
      "\n",
      "2024-05-27 10:11:30,372 [INFO] >>>> using CPU\n",
      "2024-05-27 10:11:30,427 [INFO] ~~~ FINDING MASKS ~~~\n"
     ]
    },
    {
     "name": "stderr",
     "output_type": "stream",
     "text": [
      "\n"
     ]
    },
    {
     "name": "stdout",
     "output_type": "stream",
     "text": [
      "2024-05-27 10:11:31,044 [INFO] >>>> TOTAL TIME 0.62 sec\n",
      "\n",
      " Creating outputs ...\n",
      "\n"
     ]
    },
    {
     "name": "stderr",
     "output_type": "stream",
     "text": [
      "100%|█████████████████████████████████████████████| 1/1 [00:00<00:00,  3.48it/s]"
     ]
    },
    {
     "name": "stdout",
     "output_type": "stream",
     "text": [
      "\n",
      "Segmentation of provided images finished (0.9619719982147217s)\n",
      "Segmenting image : C3.14_ON_01_w1SPI-488_s4_cell_33_t016.tif\n",
      ">>> process file\n",
      "input file (size): (156, 161)\n",
      "resized file (size): (156, 161)\n",
      "Creating name to path to store data.\n",
      "Replacement parameters found: original string: MIP, replacement string: result_MIP\n",
      "Output path: /media/raphael/data/works/20231220_C3_14_2h_ofON/bleach_correction/w_background/C3.14_ON_01_w1SPI-488_s4/cell_33/result_MIP\n",
      "\n",
      "Performing segmentation of ('nuclei',)\n",
      "\n",
      "2024-05-27 10:11:31,338 [INFO] >>>> using CPU\n",
      "2024-05-27 10:11:31,394 [INFO] ~~~ FINDING MASKS ~~~\n"
     ]
    },
    {
     "name": "stderr",
     "output_type": "stream",
     "text": [
      "\n"
     ]
    },
    {
     "name": "stdout",
     "output_type": "stream",
     "text": [
      "2024-05-27 10:11:31,930 [INFO] >>>> TOTAL TIME 0.54 sec\n",
      "\n",
      " Creating outputs ...\n",
      "\n"
     ]
    },
    {
     "name": "stderr",
     "output_type": "stream",
     "text": [
      "100%|█████████████████████████████████████████████| 1/1 [00:00<00:00,  3.48it/s]"
     ]
    },
    {
     "name": "stdout",
     "output_type": "stream",
     "text": [
      "\n",
      "Segmentation of provided images finished (0.8820834159851074s)\n",
      "Segmenting image : C3.14_ON_01_w1SPI-488_s4_cell_33_t090.tif\n",
      ">>> process file\n",
      "input file (size): (156, 161)\n",
      "resized file (size): (156, 161)\n",
      "Creating name to path to store data.\n",
      "Replacement parameters found: original string: MIP, replacement string: result_MIP\n",
      "Output path: /media/raphael/data/works/20231220_C3_14_2h_ofON/bleach_correction/w_background/C3.14_ON_01_w1SPI-488_s4/cell_33/result_MIP\n",
      "\n",
      "Performing segmentation of ('nuclei',)\n",
      "\n",
      "2024-05-27 10:11:32,224 [INFO] >>>> using CPU\n",
      "2024-05-27 10:11:32,278 [INFO] ~~~ FINDING MASKS ~~~\n"
     ]
    },
    {
     "name": "stderr",
     "output_type": "stream",
     "text": [
      "\n"
     ]
    },
    {
     "name": "stdout",
     "output_type": "stream",
     "text": [
      "2024-05-27 10:11:32,790 [INFO] >>>> TOTAL TIME 0.51 sec\n",
      "\n",
      " Creating outputs ...\n",
      "\n"
     ]
    },
    {
     "name": "stderr",
     "output_type": "stream",
     "text": [
      "100%|█████████████████████████████████████████████| 1/1 [00:00<00:00,  3.41it/s]"
     ]
    },
    {
     "name": "stdout",
     "output_type": "stream",
     "text": [
      "\n",
      "Segmentation of provided images finished (0.86236572265625s)\n",
      "Segmenting image : C3.14_ON_01_w1SPI-488_s4_cell_33_t021.tif\n",
      ">>> process file\n",
      "input file (size): (156, 161)\n",
      "resized file (size): (156, 161)\n",
      "Creating name to path to store data.\n",
      "Replacement parameters found: original string: MIP, replacement string: result_MIP\n",
      "Output path: /media/raphael/data/works/20231220_C3_14_2h_ofON/bleach_correction/w_background/C3.14_ON_01_w1SPI-488_s4/cell_33/result_MIP\n",
      "\n",
      "Performing segmentation of ('nuclei',)\n",
      "\n",
      "2024-05-27 10:11:33,090 [INFO] >>>> using CPU\n",
      "2024-05-27 10:11:33,144 [INFO] ~~~ FINDING MASKS ~~~\n"
     ]
    },
    {
     "name": "stderr",
     "output_type": "stream",
     "text": [
      "\n"
     ]
    },
    {
     "name": "stdout",
     "output_type": "stream",
     "text": [
      "2024-05-27 10:11:33,700 [INFO] >>>> TOTAL TIME 0.56 sec\n",
      "\n",
      " Creating outputs ...\n",
      "\n"
     ]
    },
    {
     "name": "stderr",
     "output_type": "stream",
     "text": [
      "100%|█████████████████████████████████████████████| 1/1 [00:00<00:00,  3.34it/s]"
     ]
    },
    {
     "name": "stdout",
     "output_type": "stream",
     "text": [
      "\n",
      "Segmentation of provided images finished (0.9121370315551758s)\n",
      "Segmenting image : C3.14_ON_01_w1SPI-488_s4_cell_33_t023.tif\n",
      ">>> process file\n",
      "input file (size): (156, 161)\n",
      "resized file (size): (156, 161)\n",
      "Creating name to path to store data.\n",
      "Replacement parameters found: original string: MIP, replacement string: result_MIP\n",
      "Output path: /media/raphael/data/works/20231220_C3_14_2h_ofON/bleach_correction/w_background/C3.14_ON_01_w1SPI-488_s4/cell_33/result_MIP\n",
      "\n",
      "Performing segmentation of ('nuclei',)\n",
      "\n",
      "2024-05-27 10:11:34,005 [INFO] >>>> using CPU\n",
      "2024-05-27 10:11:34,061 [INFO] ~~~ FINDING MASKS ~~~\n"
     ]
    },
    {
     "name": "stderr",
     "output_type": "stream",
     "text": [
      "\n"
     ]
    },
    {
     "name": "stdout",
     "output_type": "stream",
     "text": [
      "2024-05-27 10:11:34,727 [INFO] >>>> TOTAL TIME 0.67 sec\n",
      "\n",
      " Creating outputs ...\n",
      "\n"
     ]
    },
    {
     "name": "stderr",
     "output_type": "stream",
     "text": [
      "100%|█████████████████████████████████████████████| 1/1 [00:00<00:00,  3.39it/s]"
     ]
    },
    {
     "name": "stdout",
     "output_type": "stream",
     "text": [
      "\n",
      "Segmentation of provided images finished (1.021280288696289s)\n",
      "Segmenting image : C3.14_ON_01_w1SPI-488_s4_cell_33_t020.tif\n",
      ">>> process file\n",
      "input file (size): (156, 161)\n",
      "resized file (size): (156, 161)\n",
      "Creating name to path to store data.\n",
      "Replacement parameters found: original string: MIP, replacement string: result_MIP\n",
      "Output path: /media/raphael/data/works/20231220_C3_14_2h_ofON/bleach_correction/w_background/C3.14_ON_01_w1SPI-488_s4/cell_33/result_MIP\n",
      "\n",
      "Performing segmentation of ('nuclei',)\n",
      "\n",
      "2024-05-27 10:11:35,030 [INFO] >>>> using CPU\n",
      "2024-05-27 10:11:35,206 [INFO] ~~~ FINDING MASKS ~~~\n"
     ]
    },
    {
     "name": "stderr",
     "output_type": "stream",
     "text": [
      "\n"
     ]
    },
    {
     "name": "stdout",
     "output_type": "stream",
     "text": [
      "2024-05-27 10:11:35,756 [INFO] >>>> TOTAL TIME 0.55 sec\n",
      "\n",
      " Creating outputs ...\n",
      "\n"
     ]
    },
    {
     "name": "stderr",
     "output_type": "stream",
     "text": [
      "100%|█████████████████████████████████████████████| 1/1 [00:00<00:00,  3.41it/s]"
     ]
    },
    {
     "name": "stdout",
     "output_type": "stream",
     "text": [
      "\n",
      "Segmentation of provided images finished (1.021364688873291s)\n",
      "Segmenting image : C3.14_ON_01_w1SPI-488_s4_cell_33_t064.tif\n",
      ">>> process file\n",
      "input file (size): (156, 161)\n",
      "resized file (size): (156, 161)\n",
      "Creating name to path to store data.\n",
      "Replacement parameters found: original string: MIP, replacement string: result_MIP\n",
      "Output path: /media/raphael/data/works/20231220_C3_14_2h_ofON/bleach_correction/w_background/C3.14_ON_01_w1SPI-488_s4/cell_33/result_MIP\n",
      "\n",
      "Performing segmentation of ('nuclei',)\n",
      "\n",
      "2024-05-27 10:11:36,056 [INFO] >>>> using CPU\n",
      "2024-05-27 10:11:36,112 [INFO] ~~~ FINDING MASKS ~~~\n"
     ]
    },
    {
     "name": "stderr",
     "output_type": "stream",
     "text": [
      "\n"
     ]
    },
    {
     "name": "stdout",
     "output_type": "stream",
     "text": [
      "2024-05-27 10:11:36,696 [INFO] >>>> TOTAL TIME 0.58 sec\n",
      "\n",
      " Creating outputs ...\n",
      "\n"
     ]
    },
    {
     "name": "stderr",
     "output_type": "stream",
     "text": [
      "100%|█████████████████████████████████████████████| 1/1 [00:00<00:00,  3.45it/s]"
     ]
    },
    {
     "name": "stdout",
     "output_type": "stream",
     "text": [
      "\n",
      "Segmentation of provided images finished (0.9328827857971191s)\n",
      "Segmenting image : C3.14_ON_01_w1SPI-488_s4_cell_33_t026.tif\n",
      ">>> process file\n",
      "input file (size): (156, 161)\n",
      "resized file (size): (156, 161)\n",
      "Creating name to path to store data.\n",
      "Replacement parameters found: original string: MIP, replacement string: result_MIP\n",
      "Output path: /media/raphael/data/works/20231220_C3_14_2h_ofON/bleach_correction/w_background/C3.14_ON_01_w1SPI-488_s4/cell_33/result_MIP\n",
      "\n",
      "Performing segmentation of ('nuclei',)\n",
      "\n",
      "2024-05-27 10:11:36,993 [INFO] >>>> using CPU\n",
      "2024-05-27 10:11:37,051 [INFO] ~~~ FINDING MASKS ~~~\n"
     ]
    },
    {
     "name": "stderr",
     "output_type": "stream",
     "text": [
      "\n"
     ]
    },
    {
     "name": "stdout",
     "output_type": "stream",
     "text": [
      "2024-05-27 10:11:37,640 [INFO] >>>> TOTAL TIME 0.59 sec\n",
      "\n",
      " Creating outputs ...\n",
      "\n"
     ]
    },
    {
     "name": "stderr",
     "output_type": "stream",
     "text": [
      "100%|█████████████████████████████████████████████| 1/1 [00:00<00:00,  3.39it/s]"
     ]
    },
    {
     "name": "stdout",
     "output_type": "stream",
     "text": [
      "\n",
      "Segmentation of provided images finished (0.9444432258605957s)\n",
      "Segmenting image : C3.14_ON_01_w1SPI-488_s4_cell_33_t086.tif\n",
      ">>> process file\n",
      "input file (size): (156, 161)\n",
      "resized file (size): (156, 161)\n",
      "Creating name to path to store data.\n",
      "Replacement parameters found: original string: MIP, replacement string: result_MIP\n",
      "Output path: /media/raphael/data/works/20231220_C3_14_2h_ofON/bleach_correction/w_background/C3.14_ON_01_w1SPI-488_s4/cell_33/result_MIP\n",
      "\n",
      "Performing segmentation of ('nuclei',)\n",
      "\n",
      "2024-05-27 10:11:37,941 [INFO] >>>> using CPU\n",
      "2024-05-27 10:11:37,998 [INFO] ~~~ FINDING MASKS ~~~\n"
     ]
    },
    {
     "name": "stderr",
     "output_type": "stream",
     "text": [
      "\n"
     ]
    },
    {
     "name": "stdout",
     "output_type": "stream",
     "text": [
      "2024-05-27 10:11:38,600 [INFO] >>>> TOTAL TIME 0.60 sec\n",
      "\n",
      " Creating outputs ...\n",
      "\n"
     ]
    },
    {
     "name": "stderr",
     "output_type": "stream",
     "text": [
      "100%|█████████████████████████████████████████████| 1/1 [00:00<00:00,  3.33it/s]"
     ]
    },
    {
     "name": "stdout",
     "output_type": "stream",
     "text": [
      "\n",
      "Segmentation of provided images finished (0.962120532989502s)\n",
      "Segmenting image : C3.14_ON_01_w1SPI-488_s4_cell_33_t107.tif\n",
      ">>> process file\n",
      "input file (size): (156, 161)\n",
      "resized file (size): (156, 161)\n",
      "Creating name to path to store data.\n",
      "Replacement parameters found: original string: MIP, replacement string: result_MIP\n",
      "Output path: /media/raphael/data/works/20231220_C3_14_2h_ofON/bleach_correction/w_background/C3.14_ON_01_w1SPI-488_s4/cell_33/result_MIP\n",
      "\n",
      "Performing segmentation of ('nuclei',)\n",
      "\n",
      "2024-05-27 10:11:38,907 [INFO] >>>> using CPU\n",
      "2024-05-27 10:11:38,966 [INFO] ~~~ FINDING MASKS ~~~\n"
     ]
    },
    {
     "name": "stderr",
     "output_type": "stream",
     "text": [
      "\n"
     ]
    },
    {
     "name": "stdout",
     "output_type": "stream",
     "text": [
      "2024-05-27 10:11:39,617 [INFO] >>>> TOTAL TIME 0.65 sec\n",
      "\n",
      " Creating outputs ...\n",
      "\n"
     ]
    },
    {
     "name": "stderr",
     "output_type": "stream",
     "text": [
      "100%|█████████████████████████████████████████████| 1/1 [00:00<00:00,  3.45it/s]"
     ]
    },
    {
     "name": "stdout",
     "output_type": "stream",
     "text": [
      "\n",
      "Segmentation of provided images finished (1.0025177001953125s)\n",
      "Segmenting image : C3.14_ON_01_w1SPI-488_s4_cell_33_t118.tif\n",
      ">>> process file\n",
      "input file (size): (156, 161)\n",
      "resized file (size): (156, 161)\n",
      "Creating name to path to store data.\n",
      "Replacement parameters found: original string: MIP, replacement string: result_MIP\n",
      "Output path: /media/raphael/data/works/20231220_C3_14_2h_ofON/bleach_correction/w_background/C3.14_ON_01_w1SPI-488_s4/cell_33/result_MIP\n",
      "\n",
      "Performing segmentation of ('nuclei',)\n",
      "\n",
      "2024-05-27 10:11:39,914 [INFO] >>>> using CPU\n",
      "2024-05-27 10:11:39,973 [INFO] ~~~ FINDING MASKS ~~~\n"
     ]
    },
    {
     "name": "stderr",
     "output_type": "stream",
     "text": [
      "\n"
     ]
    },
    {
     "name": "stdout",
     "output_type": "stream",
     "text": [
      "2024-05-27 10:11:40,492 [INFO] >>>> TOTAL TIME 0.52 sec\n",
      "\n",
      " Creating outputs ...\n",
      "\n"
     ]
    },
    {
     "name": "stderr",
     "output_type": "stream",
     "text": [
      "100%|█████████████████████████████████████████████| 1/1 [00:00<00:00,  3.52it/s]"
     ]
    },
    {
     "name": "stdout",
     "output_type": "stream",
     "text": [
      "\n",
      "Segmentation of provided images finished (0.8644182682037354s)\n",
      "Segmenting image : C3.14_ON_01_w1SPI-488_s4_cell_33_t062.tif\n",
      ">>> process file\n",
      "input file (size): (156, 161)\n",
      "resized file (size): (156, 161)\n",
      "Creating name to path to store data.\n",
      "Replacement parameters found: original string: MIP, replacement string: result_MIP\n",
      "Output path: /media/raphael/data/works/20231220_C3_14_2h_ofON/bleach_correction/w_background/C3.14_ON_01_w1SPI-488_s4/cell_33/result_MIP\n",
      "\n",
      "Performing segmentation of ('nuclei',)\n",
      "\n",
      "2024-05-27 10:11:40,783 [INFO] >>>> using CPU\n",
      "2024-05-27 10:11:40,837 [INFO] ~~~ FINDING MASKS ~~~\n"
     ]
    },
    {
     "name": "stderr",
     "output_type": "stream",
     "text": [
      "\n"
     ]
    },
    {
     "name": "stdout",
     "output_type": "stream",
     "text": [
      "2024-05-27 10:11:41,371 [INFO] >>>> TOTAL TIME 0.53 sec\n",
      "\n",
      " Creating outputs ...\n",
      "\n"
     ]
    },
    {
     "name": "stderr",
     "output_type": "stream",
     "text": [
      "100%|█████████████████████████████████████████████| 1/1 [00:00<00:00,  3.52it/s]"
     ]
    },
    {
     "name": "stdout",
     "output_type": "stream",
     "text": [
      "\n",
      "Segmentation of provided images finished (0.8757469654083252s)\n",
      "Segmenting image : C3.14_ON_01_w1SPI-488_s4_cell_33_t006.tif\n",
      ">>> process file\n",
      "input file (size): (156, 161)\n",
      "resized file (size): (156, 161)\n",
      "Creating name to path to store data.\n",
      "Replacement parameters found: original string: MIP, replacement string: result_MIP\n",
      "Output path: /media/raphael/data/works/20231220_C3_14_2h_ofON/bleach_correction/w_background/C3.14_ON_01_w1SPI-488_s4/cell_33/result_MIP\n",
      "\n",
      "Performing segmentation of ('nuclei',)\n",
      "\n",
      "2024-05-27 10:11:41,662 [INFO] >>>> using CPU\n",
      "2024-05-27 10:11:41,716 [INFO] ~~~ FINDING MASKS ~~~\n"
     ]
    },
    {
     "name": "stderr",
     "output_type": "stream",
     "text": [
      "\n"
     ]
    },
    {
     "name": "stdout",
     "output_type": "stream",
     "text": [
      "2024-05-27 10:11:42,427 [INFO] >>>> TOTAL TIME 0.71 sec\n",
      "\n",
      " Creating outputs ...\n",
      "\n"
     ]
    },
    {
     "name": "stderr",
     "output_type": "stream",
     "text": [
      "100%|█████████████████████████████████████████████| 1/1 [00:00<00:00,  3.43it/s]"
     ]
    },
    {
     "name": "stdout",
     "output_type": "stream",
     "text": [
      "\n",
      "Segmentation of provided images finished (1.0593266487121582s)\n",
      "Segmenting image : C3.14_ON_01_w1SPI-488_s4_cell_33_t041.tif\n",
      ">>> process file\n",
      "input file (size): (156, 161)\n",
      "resized file (size): (156, 161)\n",
      "Creating name to path to store data.\n",
      "Replacement parameters found: original string: MIP, replacement string: result_MIP\n",
      "Output path: /media/raphael/data/works/20231220_C3_14_2h_ofON/bleach_correction/w_background/C3.14_ON_01_w1SPI-488_s4/cell_33/result_MIP\n",
      "\n",
      "Performing segmentation of ('nuclei',)\n",
      "\n",
      "2024-05-27 10:11:42,726 [INFO] >>>> using CPU\n",
      "2024-05-27 10:11:42,781 [INFO] ~~~ FINDING MASKS ~~~\n"
     ]
    },
    {
     "name": "stderr",
     "output_type": "stream",
     "text": [
      "\n"
     ]
    },
    {
     "name": "stdout",
     "output_type": "stream",
     "text": [
      "2024-05-27 10:11:43,284 [INFO] >>>> TOTAL TIME 0.50 sec\n",
      "\n",
      " Creating outputs ...\n",
      "\n"
     ]
    },
    {
     "name": "stderr",
     "output_type": "stream",
     "text": [
      "100%|█████████████████████████████████████████████| 1/1 [00:00<00:00,  3.54it/s]"
     ]
    },
    {
     "name": "stdout",
     "output_type": "stream",
     "text": [
      "\n",
      "Segmentation of provided images finished (0.8435225486755371s)\n",
      "Segmenting image : C3.14_ON_01_w1SPI-488_s4_cell_33_t095.tif\n",
      ">>> process file\n",
      "input file (size): (156, 161)\n",
      "resized file (size): (156, 161)\n",
      "Creating name to path to store data.\n",
      "Replacement parameters found: original string: MIP, replacement string: result_MIP\n",
      "Output path: /media/raphael/data/works/20231220_C3_14_2h_ofON/bleach_correction/w_background/C3.14_ON_01_w1SPI-488_s4/cell_33/result_MIP\n",
      "\n",
      "Performing segmentation of ('nuclei',)\n",
      "\n",
      "2024-05-27 10:11:43,573 [INFO] >>>> using CPU\n",
      "2024-05-27 10:11:43,628 [INFO] ~~~ FINDING MASKS ~~~\n"
     ]
    },
    {
     "name": "stderr",
     "output_type": "stream",
     "text": [
      "\n"
     ]
    },
    {
     "name": "stdout",
     "output_type": "stream",
     "text": [
      "2024-05-27 10:11:44,151 [INFO] >>>> TOTAL TIME 0.52 sec\n",
      "\n",
      " Creating outputs ...\n",
      "\n"
     ]
    },
    {
     "name": "stderr",
     "output_type": "stream",
     "text": [
      "100%|█████████████████████████████████████████████| 1/1 [00:00<00:00,  3.51it/s]"
     ]
    },
    {
     "name": "stdout",
     "output_type": "stream",
     "text": [
      "\n",
      "Segmentation of provided images finished (0.8653671741485596s)\n",
      "Segmenting image : C3.14_ON_01_w1SPI-488_s4_cell_33_t120.tif\n",
      ">>> process file\n",
      "input file (size): (156, 161)\n",
      "resized file (size): (156, 161)\n",
      "Creating name to path to store data.\n",
      "Replacement parameters found: original string: MIP, replacement string: result_MIP\n",
      "Output path: /media/raphael/data/works/20231220_C3_14_2h_ofON/bleach_correction/w_background/C3.14_ON_01_w1SPI-488_s4/cell_33/result_MIP\n",
      "\n",
      "Performing segmentation of ('nuclei',)\n",
      "\n",
      "2024-05-27 10:11:44,443 [INFO] >>>> using CPU\n",
      "2024-05-27 10:11:44,496 [INFO] ~~~ FINDING MASKS ~~~\n"
     ]
    },
    {
     "name": "stderr",
     "output_type": "stream",
     "text": [
      "\n"
     ]
    },
    {
     "name": "stdout",
     "output_type": "stream",
     "text": [
      "2024-05-27 10:11:45,046 [INFO] >>>> TOTAL TIME 0.55 sec\n",
      "\n",
      " Creating outputs ...\n",
      "\n"
     ]
    },
    {
     "name": "stderr",
     "output_type": "stream",
     "text": [
      "100%|█████████████████████████████████████████████| 1/1 [00:00<00:00,  3.49it/s]"
     ]
    },
    {
     "name": "stdout",
     "output_type": "stream",
     "text": [
      "\n",
      "Segmentation of provided images finished (0.8932511806488037s)\n",
      "Segmenting image : C3.14_ON_01_w1SPI-488_s4_cell_33_t042.tif\n",
      ">>> process file\n",
      "input file (size): (156, 161)\n",
      "resized file (size): (156, 161)\n",
      "Creating name to path to store data.\n",
      "Replacement parameters found: original string: MIP, replacement string: result_MIP\n",
      "Output path: /media/raphael/data/works/20231220_C3_14_2h_ofON/bleach_correction/w_background/C3.14_ON_01_w1SPI-488_s4/cell_33/result_MIP\n",
      "\n",
      "Performing segmentation of ('nuclei',)\n",
      "\n",
      "2024-05-27 10:11:45,341 [INFO] >>>> using CPU\n",
      "2024-05-27 10:11:45,395 [INFO] ~~~ FINDING MASKS ~~~\n"
     ]
    },
    {
     "name": "stderr",
     "output_type": "stream",
     "text": [
      "\n"
     ]
    },
    {
     "name": "stdout",
     "output_type": "stream",
     "text": [
      "2024-05-27 10:11:45,911 [INFO] >>>> TOTAL TIME 0.52 sec\n",
      "\n",
      " Creating outputs ...\n",
      "\n"
     ]
    },
    {
     "name": "stderr",
     "output_type": "stream",
     "text": [
      "100%|█████████████████████████████████████████████| 1/1 [00:00<00:00,  3.55it/s]"
     ]
    },
    {
     "name": "stdout",
     "output_type": "stream",
     "text": [
      "\n",
      "Segmentation of provided images finished (0.8540692329406738s)\n",
      "Segmenting image : C3.14_ON_01_w1SPI-488_s4_cell_33_t116.tif\n",
      ">>> process file\n",
      "input file (size): (156, 161)\n",
      "resized file (size): (156, 161)\n",
      "Creating name to path to store data.\n",
      "Replacement parameters found: original string: MIP, replacement string: result_MIP\n",
      "Output path: /media/raphael/data/works/20231220_C3_14_2h_ofON/bleach_correction/w_background/C3.14_ON_01_w1SPI-488_s4/cell_33/result_MIP\n",
      "\n",
      "Performing segmentation of ('nuclei',)\n",
      "\n",
      "2024-05-27 10:11:46,199 [INFO] >>>> using CPU\n",
      "2024-05-27 10:11:46,253 [INFO] ~~~ FINDING MASKS ~~~\n"
     ]
    },
    {
     "name": "stderr",
     "output_type": "stream",
     "text": [
      "\n"
     ]
    },
    {
     "name": "stdout",
     "output_type": "stream",
     "text": [
      "2024-05-27 10:11:46,769 [INFO] >>>> TOTAL TIME 0.52 sec\n",
      "\n",
      " Creating outputs ...\n",
      "\n"
     ]
    },
    {
     "name": "stderr",
     "output_type": "stream",
     "text": [
      "100%|█████████████████████████████████████████████| 1/1 [00:00<00:00,  3.53it/s]"
     ]
    },
    {
     "name": "stdout",
     "output_type": "stream",
     "text": [
      "\n",
      "Segmentation of provided images finished (0.8562221527099609s)\n",
      "Segmenting image : C3.14_ON_01_w1SPI-488_s4_cell_33_t083.tif\n",
      ">>> process file\n",
      "input file (size): (156, 161)\n",
      "resized file (size): (156, 161)\n",
      "Creating name to path to store data.\n",
      "Replacement parameters found: original string: MIP, replacement string: result_MIP\n",
      "Output path: /media/raphael/data/works/20231220_C3_14_2h_ofON/bleach_correction/w_background/C3.14_ON_01_w1SPI-488_s4/cell_33/result_MIP\n",
      "\n",
      "Performing segmentation of ('nuclei',)\n",
      "\n",
      "2024-05-27 10:11:47,060 [INFO] >>>> using CPU\n",
      "2024-05-27 10:11:47,115 [INFO] ~~~ FINDING MASKS ~~~\n"
     ]
    },
    {
     "name": "stderr",
     "output_type": "stream",
     "text": [
      "\n"
     ]
    },
    {
     "name": "stdout",
     "output_type": "stream",
     "text": [
      "2024-05-27 10:11:47,699 [INFO] >>>> TOTAL TIME 0.58 sec\n",
      "\n",
      " Creating outputs ...\n",
      "\n"
     ]
    },
    {
     "name": "stderr",
     "output_type": "stream",
     "text": [
      "100%|█████████████████████████████████████████████| 1/1 [00:00<00:00,  3.54it/s]"
     ]
    },
    {
     "name": "stdout",
     "output_type": "stream",
     "text": [
      "\n",
      "Segmentation of provided images finished (0.9241368770599365s)\n",
      "Segmenting image : C3.14_ON_01_w1SPI-488_s4_cell_33_t033.tif\n",
      ">>> process file\n",
      "input file (size): (156, 161)\n",
      "resized file (size): (156, 161)\n",
      "Creating name to path to store data.\n",
      "Replacement parameters found: original string: MIP, replacement string: result_MIP\n",
      "Output path: /media/raphael/data/works/20231220_C3_14_2h_ofON/bleach_correction/w_background/C3.14_ON_01_w1SPI-488_s4/cell_33/result_MIP\n",
      "\n",
      "Performing segmentation of ('nuclei',)\n",
      "\n",
      "2024-05-27 10:11:47,989 [INFO] >>>> using CPU\n",
      "2024-05-27 10:11:48,045 [INFO] ~~~ FINDING MASKS ~~~\n"
     ]
    },
    {
     "name": "stderr",
     "output_type": "stream",
     "text": [
      "\n"
     ]
    },
    {
     "name": "stdout",
     "output_type": "stream",
     "text": [
      "2024-05-27 10:11:48,555 [INFO] >>>> TOTAL TIME 0.51 sec\n",
      "\n",
      " Creating outputs ...\n",
      "\n"
     ]
    },
    {
     "name": "stderr",
     "output_type": "stream",
     "text": [
      "100%|█████████████████████████████████████████████| 1/1 [00:00<00:00,  3.58it/s]"
     ]
    },
    {
     "name": "stdout",
     "output_type": "stream",
     "text": [
      "\n",
      "Segmentation of provided images finished (0.8479340076446533s)\n",
      "Segmenting image : C3.14_ON_01_w1SPI-488_s4_cell_33_t106.tif\n",
      ">>> process file\n",
      "input file (size): (156, 161)\n",
      "resized file (size): (156, 161)\n",
      "Creating name to path to store data.\n",
      "Replacement parameters found: original string: MIP, replacement string: result_MIP\n",
      "Output path: /media/raphael/data/works/20231220_C3_14_2h_ofON/bleach_correction/w_background/C3.14_ON_01_w1SPI-488_s4/cell_33/result_MIP\n",
      "\n",
      "Performing segmentation of ('nuclei',)\n",
      "\n",
      "2024-05-27 10:11:48,841 [INFO] >>>> using CPU\n",
      "2024-05-27 10:11:48,896 [INFO] ~~~ FINDING MASKS ~~~\n"
     ]
    },
    {
     "name": "stderr",
     "output_type": "stream",
     "text": [
      "\n"
     ]
    },
    {
     "name": "stdout",
     "output_type": "stream",
     "text": [
      "2024-05-27 10:11:49,427 [INFO] >>>> TOTAL TIME 0.53 sec\n",
      "\n",
      " Creating outputs ...\n",
      "\n"
     ]
    },
    {
     "name": "stderr",
     "output_type": "stream",
     "text": [
      "100%|█████████████████████████████████████████████| 1/1 [00:00<00:00,  2.30it/s]"
     ]
    },
    {
     "name": "stdout",
     "output_type": "stream",
     "text": [
      "\n",
      "Segmentation of provided images finished (1.0225920677185059s)\n",
      "Segmenting image : C3.14_ON_01_w1SPI-488_s4_cell_33_t076.tif\n",
      ">>> process file\n",
      "input file (size): (156, 161)\n",
      "resized file (size): (156, 161)\n",
      "Creating name to path to store data.\n",
      "Replacement parameters found: original string: MIP, replacement string: result_MIP\n",
      "Output path: /media/raphael/data/works/20231220_C3_14_2h_ofON/bleach_correction/w_background/C3.14_ON_01_w1SPI-488_s4/cell_33/result_MIP\n",
      "\n",
      "Performing segmentation of ('nuclei',)\n",
      "\n",
      "2024-05-27 10:11:49,869 [INFO] >>>> using CPU\n",
      "2024-05-27 10:11:49,923 [INFO] ~~~ FINDING MASKS ~~~\n"
     ]
    },
    {
     "name": "stderr",
     "output_type": "stream",
     "text": [
      "\n"
     ]
    },
    {
     "name": "stdout",
     "output_type": "stream",
     "text": [
      "2024-05-27 10:11:50,539 [INFO] >>>> TOTAL TIME 0.62 sec\n",
      "\n",
      " Creating outputs ...\n",
      "\n"
     ]
    },
    {
     "name": "stderr",
     "output_type": "stream",
     "text": [
      "100%|█████████████████████████████████████████████| 1/1 [00:00<00:00,  3.45it/s]"
     ]
    },
    {
     "name": "stdout",
     "output_type": "stream",
     "text": [
      "\n",
      "Segmentation of provided images finished (0.9637317657470703s)\n",
      "Segmenting image : C3.14_ON_01_w1SPI-488_s4_cell_33_t012.tif\n",
      ">>> process file\n",
      "input file (size): (156, 161)\n",
      "resized file (size): (156, 161)\n",
      "Creating name to path to store data.\n",
      "Replacement parameters found: original string: MIP, replacement string: result_MIP\n",
      "Output path: /media/raphael/data/works/20231220_C3_14_2h_ofON/bleach_correction/w_background/C3.14_ON_01_w1SPI-488_s4/cell_33/result_MIP\n",
      "\n",
      "Performing segmentation of ('nuclei',)\n",
      "\n",
      "2024-05-27 10:11:50,837 [INFO] >>>> using CPU\n",
      "2024-05-27 10:11:50,891 [INFO] ~~~ FINDING MASKS ~~~\n"
     ]
    },
    {
     "name": "stderr",
     "output_type": "stream",
     "text": [
      "\n"
     ]
    },
    {
     "name": "stdout",
     "output_type": "stream",
     "text": [
      "2024-05-27 10:11:51,396 [INFO] >>>> TOTAL TIME 0.51 sec\n",
      "\n",
      " Creating outputs ...\n",
      "\n"
     ]
    },
    {
     "name": "stderr",
     "output_type": "stream",
     "text": [
      "100%|█████████████████████████████████████████████| 1/1 [00:00<00:00,  3.58it/s]"
     ]
    },
    {
     "name": "stdout",
     "output_type": "stream",
     "text": [
      "\n",
      "Segmentation of provided images finished (0.841435432434082s)\n",
      "Segmenting image : C3.14_ON_01_w1SPI-488_s4_cell_33_t078.tif\n",
      ">>> process file\n",
      "input file (size): (156, 161)\n",
      "resized file (size): (156, 161)\n",
      "Creating name to path to store data.\n",
      "Replacement parameters found: original string: MIP, replacement string: result_MIP\n",
      "Output path: /media/raphael/data/works/20231220_C3_14_2h_ofON/bleach_correction/w_background/C3.14_ON_01_w1SPI-488_s4/cell_33/result_MIP\n",
      "\n",
      "Performing segmentation of ('nuclei',)\n",
      "\n",
      "2024-05-27 10:11:51,683 [INFO] >>>> using CPU\n",
      "2024-05-27 10:11:51,737 [INFO] ~~~ FINDING MASKS ~~~\n"
     ]
    },
    {
     "name": "stderr",
     "output_type": "stream",
     "text": [
      "\n"
     ]
    },
    {
     "name": "stdout",
     "output_type": "stream",
     "text": [
      "2024-05-27 10:11:52,334 [INFO] >>>> TOTAL TIME 0.60 sec\n",
      "\n",
      " Creating outputs ...\n",
      "\n"
     ]
    },
    {
     "name": "stderr",
     "output_type": "stream",
     "text": [
      "100%|█████████████████████████████████████████████| 1/1 [00:00<00:00,  3.50it/s]"
     ]
    },
    {
     "name": "stdout",
     "output_type": "stream",
     "text": [
      "\n",
      "Segmentation of provided images finished (0.9396786689758301s)\n",
      "Segmenting image : C3.14_ON_01_w1SPI-488_s4_cell_33_t105.tif\n",
      ">>> process file\n",
      "input file (size): (156, 161)\n",
      "resized file (size): (156, 161)\n",
      "Creating name to path to store data.\n",
      "Replacement parameters found: original string: MIP, replacement string: result_MIP\n",
      "Output path: /media/raphael/data/works/20231220_C3_14_2h_ofON/bleach_correction/w_background/C3.14_ON_01_w1SPI-488_s4/cell_33/result_MIP\n",
      "\n",
      "Performing segmentation of ('nuclei',)\n",
      "\n",
      "2024-05-27 10:11:52,626 [INFO] >>>> using CPU\n",
      "2024-05-27 10:11:52,682 [INFO] ~~~ FINDING MASKS ~~~\n"
     ]
    },
    {
     "name": "stderr",
     "output_type": "stream",
     "text": [
      "\n"
     ]
    },
    {
     "name": "stdout",
     "output_type": "stream",
     "text": [
      "2024-05-27 10:11:53,230 [INFO] >>>> TOTAL TIME 0.55 sec\n",
      "\n",
      " Creating outputs ...\n",
      "\n"
     ]
    },
    {
     "name": "stderr",
     "output_type": "stream",
     "text": [
      "100%|█████████████████████████████████████████████| 1/1 [00:00<00:00,  3.55it/s]"
     ]
    },
    {
     "name": "stdout",
     "output_type": "stream",
     "text": [
      "\n",
      "Segmentation of provided images finished (0.887824296951294s)\n",
      "Segmenting image : C3.14_ON_01_w1SPI-488_s4_cell_33_t079.tif\n",
      ">>> process file\n",
      "input file (size): (156, 161)\n",
      "resized file (size): (156, 161)\n",
      "Creating name to path to store data.\n",
      "Replacement parameters found: original string: MIP, replacement string: result_MIP\n",
      "Output path: /media/raphael/data/works/20231220_C3_14_2h_ofON/bleach_correction/w_background/C3.14_ON_01_w1SPI-488_s4/cell_33/result_MIP\n",
      "\n",
      "Performing segmentation of ('nuclei',)\n",
      "\n",
      "2024-05-27 10:11:53,519 [INFO] >>>> using CPU\n",
      "2024-05-27 10:11:53,573 [INFO] ~~~ FINDING MASKS ~~~\n"
     ]
    },
    {
     "name": "stderr",
     "output_type": "stream",
     "text": [
      "\n"
     ]
    },
    {
     "name": "stdout",
     "output_type": "stream",
     "text": [
      "2024-05-27 10:11:54,141 [INFO] >>>> TOTAL TIME 0.57 sec\n",
      "\n",
      " Creating outputs ...\n",
      "\n"
     ]
    },
    {
     "name": "stderr",
     "output_type": "stream",
     "text": [
      "100%|█████████████████████████████████████████████| 1/1 [00:00<00:00,  3.52it/s]"
     ]
    },
    {
     "name": "stdout",
     "output_type": "stream",
     "text": [
      "\n",
      "Segmentation of provided images finished (0.9088575839996338s)\n",
      "Segmenting image : C3.14_ON_01_w1SPI-488_s4_cell_33_t068.tif\n",
      ">>> process file\n",
      "input file (size): (156, 161)\n",
      "resized file (size): (156, 161)\n",
      "Creating name to path to store data.\n",
      "Replacement parameters found: original string: MIP, replacement string: result_MIP\n",
      "Output path: /media/raphael/data/works/20231220_C3_14_2h_ofON/bleach_correction/w_background/C3.14_ON_01_w1SPI-488_s4/cell_33/result_MIP\n",
      "\n",
      "Performing segmentation of ('nuclei',)\n",
      "\n",
      "2024-05-27 10:11:54,433 [INFO] >>>> using CPU\n",
      "2024-05-27 10:11:54,487 [INFO] ~~~ FINDING MASKS ~~~\n"
     ]
    },
    {
     "name": "stderr",
     "output_type": "stream",
     "text": [
      "\n"
     ]
    },
    {
     "name": "stdout",
     "output_type": "stream",
     "text": [
      "2024-05-27 10:11:55,076 [INFO] >>>> TOTAL TIME 0.59 sec\n",
      "\n",
      " Creating outputs ...\n",
      "\n"
     ]
    },
    {
     "name": "stderr",
     "output_type": "stream",
     "text": [
      "100%|█████████████████████████████████████████████| 1/1 [00:00<00:00,  3.49it/s]"
     ]
    },
    {
     "name": "stdout",
     "output_type": "stream",
     "text": [
      "\n",
      "Segmentation of provided images finished (0.932565450668335s)\n",
      "Segmenting image : C3.14_ON_01_w1SPI-488_s4_cell_33_t052.tif\n",
      ">>> process file\n",
      "input file (size): (156, 161)\n",
      "resized file (size): (156, 161)\n",
      "Creating name to path to store data.\n",
      "Replacement parameters found: original string: MIP, replacement string: result_MIP\n",
      "Output path: /media/raphael/data/works/20231220_C3_14_2h_ofON/bleach_correction/w_background/C3.14_ON_01_w1SPI-488_s4/cell_33/result_MIP\n",
      "\n",
      "Performing segmentation of ('nuclei',)\n",
      "\n",
      "2024-05-27 10:11:55,370 [INFO] >>>> using CPU\n",
      "2024-05-27 10:11:55,424 [INFO] ~~~ FINDING MASKS ~~~\n"
     ]
    },
    {
     "name": "stderr",
     "output_type": "stream",
     "text": [
      "\n"
     ]
    },
    {
     "name": "stdout",
     "output_type": "stream",
     "text": [
      "2024-05-27 10:11:55,966 [INFO] >>>> TOTAL TIME 0.54 sec\n",
      "\n",
      " Creating outputs ...\n",
      "\n"
     ]
    },
    {
     "name": "stderr",
     "output_type": "stream",
     "text": [
      "100%|█████████████████████████████████████████████| 1/1 [00:00<00:00,  3.54it/s]"
     ]
    },
    {
     "name": "stdout",
     "output_type": "stream",
     "text": [
      "\n",
      "Segmentation of provided images finished (0.8811843395233154s)\n",
      "Segmenting image : C3.14_ON_01_w1SPI-488_s4_cell_33_t040.tif\n",
      ">>> process file\n",
      "input file (size): (156, 161)\n",
      "resized file (size): (156, 161)\n",
      "Creating name to path to store data.\n",
      "Replacement parameters found: original string: MIP, replacement string: result_MIP\n",
      "Output path: /media/raphael/data/works/20231220_C3_14_2h_ofON/bleach_correction/w_background/C3.14_ON_01_w1SPI-488_s4/cell_33/result_MIP\n",
      "\n",
      "Performing segmentation of ('nuclei',)\n",
      "\n",
      "2024-05-27 10:11:56,255 [INFO] >>>> using CPU\n",
      "2024-05-27 10:11:56,310 [INFO] ~~~ FINDING MASKS ~~~\n"
     ]
    },
    {
     "name": "stderr",
     "output_type": "stream",
     "text": [
      "\n"
     ]
    },
    {
     "name": "stdout",
     "output_type": "stream",
     "text": [
      "2024-05-27 10:11:56,846 [INFO] >>>> TOTAL TIME 0.54 sec\n",
      "\n",
      " Creating outputs ...\n",
      "\n"
     ]
    },
    {
     "name": "stderr",
     "output_type": "stream",
     "text": [
      "100%|█████████████████████████████████████████████| 1/1 [00:00<00:00,  3.53it/s]"
     ]
    },
    {
     "name": "stdout",
     "output_type": "stream",
     "text": [
      "\n",
      "Segmentation of provided images finished (0.8774127960205078s)\n",
      "Segmenting image : C3.14_ON_01_w1SPI-488_s4_cell_33_t047.tif\n",
      ">>> process file\n",
      "input file (size): (156, 161)\n",
      "resized file (size): (156, 161)\n",
      "Creating name to path to store data.\n",
      "Replacement parameters found: original string: MIP, replacement string: result_MIP\n",
      "Output path: /media/raphael/data/works/20231220_C3_14_2h_ofON/bleach_correction/w_background/C3.14_ON_01_w1SPI-488_s4/cell_33/result_MIP\n",
      "\n",
      "Performing segmentation of ('nuclei',)\n",
      "\n",
      "2024-05-27 10:11:57,137 [INFO] >>>> using CPU\n",
      "2024-05-27 10:11:57,192 [INFO] ~~~ FINDING MASKS ~~~\n"
     ]
    },
    {
     "name": "stderr",
     "output_type": "stream",
     "text": [
      "\n"
     ]
    },
    {
     "name": "stdout",
     "output_type": "stream",
     "text": [
      "2024-05-27 10:11:57,725 [INFO] >>>> TOTAL TIME 0.53 sec\n",
      "\n",
      " Creating outputs ...\n",
      "\n"
     ]
    },
    {
     "name": "stderr",
     "output_type": "stream",
     "text": [
      "100%|█████████████████████████████████████████████| 1/1 [00:00<00:00,  3.51it/s]"
     ]
    },
    {
     "name": "stdout",
     "output_type": "stream",
     "text": [
      "\n",
      "Segmentation of provided images finished (0.8752269744873047s)\n",
      "Segmenting image : C3.14_ON_01_w1SPI-488_s4_cell_33_t081.tif\n",
      ">>> process file\n",
      "input file (size): (156, 161)\n",
      "resized file (size): (156, 161)\n",
      "Creating name to path to store data.\n",
      "Replacement parameters found: original string: MIP, replacement string: result_MIP\n",
      "Output path: /media/raphael/data/works/20231220_C3_14_2h_ofON/bleach_correction/w_background/C3.14_ON_01_w1SPI-488_s4/cell_33/result_MIP\n",
      "\n",
      "Performing segmentation of ('nuclei',)\n",
      "\n",
      "2024-05-27 10:11:58,017 [INFO] >>>> using CPU\n"
     ]
    },
    {
     "name": "stderr",
     "output_type": "stream",
     "text": [
      "\n"
     ]
    },
    {
     "name": "stdout",
     "output_type": "stream",
     "text": [
      "2024-05-27 10:11:58,248 [INFO] ~~~ FINDING MASKS ~~~\n",
      "2024-05-27 10:11:58,759 [INFO] >>>> TOTAL TIME 0.51 sec\n",
      "\n",
      " Creating outputs ...\n",
      "\n"
     ]
    },
    {
     "name": "stderr",
     "output_type": "stream",
     "text": [
      "100%|█████████████████████████████████████████████| 1/1 [00:00<00:00,  3.53it/s]"
     ]
    },
    {
     "name": "stdout",
     "output_type": "stream",
     "text": [
      "\n",
      "Segmentation of provided images finished (1.027376651763916s)\n",
      "Segmenting image : C3.14_ON_01_w1SPI-488_s4_cell_33_t114.tif\n",
      ">>> process file\n",
      "input file (size): (156, 161)\n",
      "resized file (size): (156, 161)\n",
      "Creating name to path to store data.\n",
      "Replacement parameters found: original string: MIP, replacement string: result_MIP\n",
      "Output path: /media/raphael/data/works/20231220_C3_14_2h_ofON/bleach_correction/w_background/C3.14_ON_01_w1SPI-488_s4/cell_33/result_MIP\n",
      "\n",
      "Performing segmentation of ('nuclei',)\n",
      "\n",
      "2024-05-27 10:11:59,049 [INFO] >>>> using CPU\n",
      "2024-05-27 10:11:59,102 [INFO] ~~~ FINDING MASKS ~~~\n"
     ]
    },
    {
     "name": "stderr",
     "output_type": "stream",
     "text": [
      "\n"
     ]
    },
    {
     "name": "stdout",
     "output_type": "stream",
     "text": [
      "2024-05-27 10:11:59,627 [INFO] >>>> TOTAL TIME 0.52 sec\n",
      "\n",
      " Creating outputs ...\n",
      "\n"
     ]
    },
    {
     "name": "stderr",
     "output_type": "stream",
     "text": [
      "100%|█████████████████████████████████████████████| 1/1 [00:00<00:00,  3.53it/s]"
     ]
    },
    {
     "name": "stdout",
     "output_type": "stream",
     "text": [
      "\n",
      "Segmentation of provided images finished (0.8640315532684326s)\n",
      "Segmenting image : C3.14_ON_01_w1SPI-488_s4_cell_33_t059.tif\n",
      ">>> process file\n",
      "input file (size): (156, 161)\n",
      "resized file (size): (156, 161)\n",
      "Creating name to path to store data.\n",
      "Replacement parameters found: original string: MIP, replacement string: result_MIP\n",
      "Output path: /media/raphael/data/works/20231220_C3_14_2h_ofON/bleach_correction/w_background/C3.14_ON_01_w1SPI-488_s4/cell_33/result_MIP\n",
      "\n",
      "Performing segmentation of ('nuclei',)\n",
      "\n",
      "2024-05-27 10:11:59,918 [INFO] >>>> using CPU\n",
      "2024-05-27 10:11:59,972 [INFO] ~~~ FINDING MASKS ~~~\n"
     ]
    },
    {
     "name": "stderr",
     "output_type": "stream",
     "text": [
      "\n"
     ]
    },
    {
     "name": "stdout",
     "output_type": "stream",
     "text": [
      "2024-05-27 10:12:00,480 [INFO] >>>> TOTAL TIME 0.51 sec\n",
      "\n",
      " Creating outputs ...\n",
      "\n"
     ]
    },
    {
     "name": "stderr",
     "output_type": "stream",
     "text": [
      "100%|█████████████████████████████████████████████| 1/1 [00:00<00:00,  3.56it/s]"
     ]
    },
    {
     "name": "stdout",
     "output_type": "stream",
     "text": [
      "\n",
      "Segmentation of provided images finished (0.8466751575469971s)\n",
      "Segmenting image : C3.14_ON_01_w1SPI-488_s4_cell_33_t094.tif\n",
      ">>> process file\n",
      "input file (size): (156, 161)\n",
      "resized file (size): (156, 161)\n",
      "Creating name to path to store data.\n",
      "Replacement parameters found: original string: MIP, replacement string: result_MIP\n",
      "Output path: /media/raphael/data/works/20231220_C3_14_2h_ofON/bleach_correction/w_background/C3.14_ON_01_w1SPI-488_s4/cell_33/result_MIP\n",
      "\n",
      "Performing segmentation of ('nuclei',)\n",
      "\n",
      "2024-05-27 10:12:00,769 [INFO] >>>> using CPU\n",
      "2024-05-27 10:12:00,823 [INFO] ~~~ FINDING MASKS ~~~\n"
     ]
    },
    {
     "name": "stderr",
     "output_type": "stream",
     "text": [
      "\n"
     ]
    },
    {
     "name": "stdout",
     "output_type": "stream",
     "text": [
      "2024-05-27 10:12:01,336 [INFO] >>>> TOTAL TIME 0.51 sec\n",
      "\n",
      " Creating outputs ...\n",
      "\n"
     ]
    },
    {
     "name": "stderr",
     "output_type": "stream",
     "text": [
      "100%|█████████████████████████████████████████████| 1/1 [00:00<00:00,  3.56it/s]"
     ]
    },
    {
     "name": "stdout",
     "output_type": "stream",
     "text": [
      "\n",
      "Segmentation of provided images finished (0.850327730178833s)\n",
      "Segmenting image : C3.14_ON_01_w1SPI-488_s4_cell_33_t082.tif\n",
      ">>> process file\n",
      "input file (size): (156, 161)\n",
      "resized file (size): (156, 161)\n",
      "Creating name to path to store data.\n",
      "Replacement parameters found: original string: MIP, replacement string: result_MIP\n",
      "Output path: /media/raphael/data/works/20231220_C3_14_2h_ofON/bleach_correction/w_background/C3.14_ON_01_w1SPI-488_s4/cell_33/result_MIP\n",
      "\n",
      "Performing segmentation of ('nuclei',)\n",
      "\n",
      "2024-05-27 10:12:01,623 [INFO] >>>> using CPU\n",
      "2024-05-27 10:12:01,680 [INFO] ~~~ FINDING MASKS ~~~\n"
     ]
    },
    {
     "name": "stderr",
     "output_type": "stream",
     "text": [
      "\n"
     ]
    },
    {
     "name": "stdout",
     "output_type": "stream",
     "text": [
      "2024-05-27 10:12:02,276 [INFO] >>>> TOTAL TIME 0.60 sec\n",
      "\n",
      " Creating outputs ...\n",
      "\n"
     ]
    },
    {
     "name": "stderr",
     "output_type": "stream",
     "text": [
      "100%|█████████████████████████████████████████████| 1/1 [00:00<00:00,  3.52it/s]"
     ]
    },
    {
     "name": "stdout",
     "output_type": "stream",
     "text": [
      "\n",
      "Segmentation of provided images finished (0.9394729137420654s)\n",
      "Segmenting image : C3.14_ON_01_w1SPI-488_s4_cell_33_t034.tif\n",
      ">>> process file\n",
      "input file (size): (156, 161)\n",
      "resized file (size): (156, 161)\n",
      "Creating name to path to store data.\n",
      "Replacement parameters found: original string: MIP, replacement string: result_MIP\n",
      "Output path: /media/raphael/data/works/20231220_C3_14_2h_ofON/bleach_correction/w_background/C3.14_ON_01_w1SPI-488_s4/cell_33/result_MIP\n",
      "\n",
      "Performing segmentation of ('nuclei',)\n",
      "\n",
      "2024-05-27 10:12:02,568 [INFO] >>>> using CPU\n",
      "2024-05-27 10:12:02,623 [INFO] ~~~ FINDING MASKS ~~~\n"
     ]
    },
    {
     "name": "stderr",
     "output_type": "stream",
     "text": [
      "\n"
     ]
    },
    {
     "name": "stdout",
     "output_type": "stream",
     "text": [
      "2024-05-27 10:12:03,234 [INFO] >>>> TOTAL TIME 0.61 sec\n",
      "\n",
      " Creating outputs ...\n",
      "\n"
     ]
    },
    {
     "name": "stderr",
     "output_type": "stream",
     "text": [
      "100%|█████████████████████████████████████████████| 1/1 [00:00<00:00,  3.49it/s]"
     ]
    },
    {
     "name": "stdout",
     "output_type": "stream",
     "text": [
      "\n",
      "Segmentation of provided images finished (0.9562103748321533s)\n",
      "Segmenting image : C3.14_ON_01_w1SPI-488_s4_cell_33_t049.tif\n",
      ">>> process file\n",
      "input file (size): (156, 161)\n",
      "resized file (size): (156, 161)\n",
      "Creating name to path to store data.\n",
      "Replacement parameters found: original string: MIP, replacement string: result_MIP\n",
      "Output path: /media/raphael/data/works/20231220_C3_14_2h_ofON/bleach_correction/w_background/C3.14_ON_01_w1SPI-488_s4/cell_33/result_MIP\n",
      "\n",
      "Performing segmentation of ('nuclei',)\n",
      "\n",
      "2024-05-27 10:12:03,528 [INFO] >>>> using CPU\n",
      "2024-05-27 10:12:03,582 [INFO] ~~~ FINDING MASKS ~~~\n"
     ]
    },
    {
     "name": "stderr",
     "output_type": "stream",
     "text": [
      "\n"
     ]
    },
    {
     "name": "stdout",
     "output_type": "stream",
     "text": [
      "2024-05-27 10:12:04,087 [INFO] >>>> TOTAL TIME 0.51 sec\n",
      "\n",
      " Creating outputs ...\n",
      "\n"
     ]
    },
    {
     "name": "stderr",
     "output_type": "stream",
     "text": [
      "100%|█████████████████████████████████████████████| 1/1 [00:00<00:00,  3.53it/s]"
     ]
    },
    {
     "name": "stdout",
     "output_type": "stream",
     "text": [
      "\n",
      "Segmentation of provided images finished (0.8445768356323242s)\n",
      "Segmenting image : C3.14_ON_01_w1SPI-488_s4_cell_33_t013.tif\n",
      ">>> process file\n",
      "input file (size): (156, 161)\n",
      "resized file (size): (156, 161)\n",
      "Creating name to path to store data.\n",
      "Replacement parameters found: original string: MIP, replacement string: result_MIP\n",
      "Output path: /media/raphael/data/works/20231220_C3_14_2h_ofON/bleach_correction/w_background/C3.14_ON_01_w1SPI-488_s4/cell_33/result_MIP\n",
      "\n",
      "Performing segmentation of ('nuclei',)\n",
      "\n",
      "2024-05-27 10:12:04,377 [INFO] >>>> using CPU\n",
      "2024-05-27 10:12:04,432 [INFO] ~~~ FINDING MASKS ~~~\n"
     ]
    },
    {
     "name": "stderr",
     "output_type": "stream",
     "text": [
      "\n"
     ]
    },
    {
     "name": "stdout",
     "output_type": "stream",
     "text": [
      "2024-05-27 10:12:04,945 [INFO] >>>> TOTAL TIME 0.51 sec\n",
      "\n",
      " Creating outputs ...\n",
      "\n"
     ]
    },
    {
     "name": "stderr",
     "output_type": "stream",
     "text": [
      "100%|█████████████████████████████████████████████| 1/1 [00:00<00:00,  3.56it/s]"
     ]
    },
    {
     "name": "stdout",
     "output_type": "stream",
     "text": [
      "\n",
      "Segmentation of provided images finished (0.8513431549072266s)\n",
      "Segmenting image : C3.14_ON_01_w1SPI-488_s4_cell_33_t038.tif\n",
      ">>> process file\n",
      "input file (size): (156, 161)\n",
      "resized file (size): (156, 161)\n",
      "Creating name to path to store data.\n",
      "Replacement parameters found: original string: MIP, replacement string: result_MIP\n",
      "Output path: /media/raphael/data/works/20231220_C3_14_2h_ofON/bleach_correction/w_background/C3.14_ON_01_w1SPI-488_s4/cell_33/result_MIP\n",
      "\n",
      "Performing segmentation of ('nuclei',)\n",
      "\n",
      "2024-05-27 10:12:05,233 [INFO] >>>> using CPU\n",
      "2024-05-27 10:12:05,289 [INFO] ~~~ FINDING MASKS ~~~\n"
     ]
    },
    {
     "name": "stderr",
     "output_type": "stream",
     "text": [
      "\n"
     ]
    },
    {
     "name": "stdout",
     "output_type": "stream",
     "text": [
      "2024-05-27 10:12:05,810 [INFO] >>>> TOTAL TIME 0.52 sec\n",
      "\n",
      " Creating outputs ...\n",
      "\n"
     ]
    },
    {
     "name": "stderr",
     "output_type": "stream",
     "text": [
      "100%|█████████████████████████████████████████████| 1/1 [00:00<00:00,  3.55it/s]"
     ]
    },
    {
     "name": "stdout",
     "output_type": "stream",
     "text": [
      "\n",
      "Segmentation of provided images finished (0.8612430095672607s)\n",
      "Segmenting image : C3.14_ON_01_w1SPI-488_s4_cell_33_t071.tif\n",
      ">>> process file\n",
      "input file (size): (156, 161)\n",
      "resized file (size): (156, 161)\n",
      "Creating name to path to store data.\n",
      "Replacement parameters found: original string: MIP, replacement string: result_MIP\n",
      "Output path: /media/raphael/data/works/20231220_C3_14_2h_ofON/bleach_correction/w_background/C3.14_ON_01_w1SPI-488_s4/cell_33/result_MIP\n",
      "\n",
      "Performing segmentation of ('nuclei',)\n",
      "\n",
      "2024-05-27 10:12:06,099 [INFO] >>>> using CPU\n",
      "2024-05-27 10:12:06,155 [INFO] ~~~ FINDING MASKS ~~~\n"
     ]
    },
    {
     "name": "stderr",
     "output_type": "stream",
     "text": [
      "\n"
     ]
    },
    {
     "name": "stdout",
     "output_type": "stream",
     "text": [
      "2024-05-27 10:12:06,705 [INFO] >>>> TOTAL TIME 0.55 sec\n",
      "\n",
      " Creating outputs ...\n",
      "\n"
     ]
    },
    {
     "name": "stderr",
     "output_type": "stream",
     "text": [
      "100%|█████████████████████████████████████████████| 1/1 [00:00<00:00,  3.52it/s]"
     ]
    },
    {
     "name": "stdout",
     "output_type": "stream",
     "text": [
      "\n",
      "Segmentation of provided images finished (0.892768144607544s)\n",
      "Segmenting image : C3.14_ON_01_w1SPI-488_s4_cell_33_t019.tif\n",
      ">>> process file\n",
      "input file (size): (156, 161)\n",
      "resized file (size): (156, 161)\n",
      "Creating name to path to store data.\n",
      "Replacement parameters found: original string: MIP, replacement string: result_MIP\n",
      "Output path: /media/raphael/data/works/20231220_C3_14_2h_ofON/bleach_correction/w_background/C3.14_ON_01_w1SPI-488_s4/cell_33/result_MIP\n",
      "\n",
      "Performing segmentation of ('nuclei',)\n",
      "\n",
      "2024-05-27 10:12:06,996 [INFO] >>>> using CPU\n",
      "2024-05-27 10:12:07,052 [INFO] ~~~ FINDING MASKS ~~~\n"
     ]
    },
    {
     "name": "stderr",
     "output_type": "stream",
     "text": [
      "\n"
     ]
    },
    {
     "name": "stdout",
     "output_type": "stream",
     "text": [
      "2024-05-27 10:12:07,572 [INFO] >>>> TOTAL TIME 0.52 sec\n",
      "\n",
      " Creating outputs ...\n",
      "\n"
     ]
    },
    {
     "name": "stderr",
     "output_type": "stream",
     "text": [
      "100%|█████████████████████████████████████████████| 1/1 [00:00<00:00,  3.53it/s]"
     ]
    },
    {
     "name": "stdout",
     "output_type": "stream",
     "text": [
      "\n",
      "Segmentation of provided images finished (0.8619351387023926s)\n",
      "Segmenting image : C3.14_ON_01_w1SPI-488_s4_cell_33_t045.tif\n",
      ">>> process file\n",
      "input file (size): (156, 161)\n",
      "resized file (size): (156, 161)\n",
      "Creating name to path to store data.\n",
      "Replacement parameters found: original string: MIP, replacement string: result_MIP\n",
      "Output path: /media/raphael/data/works/20231220_C3_14_2h_ofON/bleach_correction/w_background/C3.14_ON_01_w1SPI-488_s4/cell_33/result_MIP\n",
      "\n",
      "Performing segmentation of ('nuclei',)\n",
      "\n",
      "2024-05-27 10:12:07,863 [INFO] >>>> using CPU\n"
     ]
    },
    {
     "name": "stderr",
     "output_type": "stream",
     "text": [
      "\n"
     ]
    },
    {
     "name": "stdout",
     "output_type": "stream",
     "text": [
      "2024-05-27 10:12:08,123 [INFO] ~~~ FINDING MASKS ~~~\n",
      "2024-05-27 10:12:08,652 [INFO] >>>> TOTAL TIME 0.53 sec\n",
      "\n",
      " Creating outputs ...\n",
      "\n"
     ]
    },
    {
     "name": "stderr",
     "output_type": "stream",
     "text": [
      "100%|█████████████████████████████████████████████| 1/1 [00:00<00:00,  3.54it/s]"
     ]
    },
    {
     "name": "stdout",
     "output_type": "stream",
     "text": [
      "\n",
      "Segmentation of provided images finished (1.0746703147888184s)\n",
      "Segmenting image : C3.14_ON_01_w1SPI-488_s4_cell_33_t051.tif\n",
      ">>> process file\n",
      "input file (size): (156, 161)\n",
      "resized file (size): (156, 161)\n",
      "Creating name to path to store data.\n",
      "Replacement parameters found: original string: MIP, replacement string: result_MIP\n",
      "Output path: /media/raphael/data/works/20231220_C3_14_2h_ofON/bleach_correction/w_background/C3.14_ON_01_w1SPI-488_s4/cell_33/result_MIP\n",
      "\n",
      "Performing segmentation of ('nuclei',)\n",
      "\n",
      "2024-05-27 10:12:08,942 [INFO] >>>> using CPU\n",
      "2024-05-27 10:12:08,998 [INFO] ~~~ FINDING MASKS ~~~\n"
     ]
    },
    {
     "name": "stderr",
     "output_type": "stream",
     "text": [
      "\n"
     ]
    },
    {
     "name": "stdout",
     "output_type": "stream",
     "text": [
      "2024-05-27 10:12:09,523 [INFO] >>>> TOTAL TIME 0.52 sec\n",
      "\n",
      " Creating outputs ...\n",
      "\n"
     ]
    },
    {
     "name": "stderr",
     "output_type": "stream",
     "text": [
      "100%|█████████████████████████████████████████████| 1/1 [00:00<00:00,  3.54it/s]"
     ]
    },
    {
     "name": "stdout",
     "output_type": "stream",
     "text": [
      "\n",
      "Segmentation of provided images finished (0.8660674095153809s)\n",
      "Segmenting image : C3.14_ON_01_w1SPI-488_s4_cell_33_t111.tif\n",
      ">>> process file\n",
      "input file (size): (156, 161)\n",
      "resized file (size): (156, 161)\n",
      "Creating name to path to store data.\n",
      "Replacement parameters found: original string: MIP, replacement string: result_MIP\n",
      "Output path: /media/raphael/data/works/20231220_C3_14_2h_ofON/bleach_correction/w_background/C3.14_ON_01_w1SPI-488_s4/cell_33/result_MIP\n",
      "\n",
      "Performing segmentation of ('nuclei',)\n",
      "\n",
      "2024-05-27 10:12:09,813 [INFO] >>>> using CPU\n",
      "2024-05-27 10:12:09,867 [INFO] ~~~ FINDING MASKS ~~~\n"
     ]
    },
    {
     "name": "stderr",
     "output_type": "stream",
     "text": [
      "\n"
     ]
    },
    {
     "name": "stdout",
     "output_type": "stream",
     "text": [
      "2024-05-27 10:12:10,427 [INFO] >>>> TOTAL TIME 0.56 sec\n",
      "\n",
      " Creating outputs ...\n",
      "\n"
     ]
    },
    {
     "name": "stderr",
     "output_type": "stream",
     "text": [
      "100%|█████████████████████████████████████████████| 1/1 [00:00<00:00,  3.51it/s]"
     ]
    },
    {
     "name": "stdout",
     "output_type": "stream",
     "text": [
      "\n",
      "Segmentation of provided images finished (0.90199875831604s)\n",
      "Segmenting image : C3.14_ON_01_w1SPI-488_s4_cell_33_t115.tif\n",
      ">>> process file\n",
      "input file (size): (156, 161)\n",
      "resized file (size): (156, 161)\n",
      "Creating name to path to store data.\n",
      "Replacement parameters found: original string: MIP, replacement string: result_MIP\n",
      "Output path: /media/raphael/data/works/20231220_C3_14_2h_ofON/bleach_correction/w_background/C3.14_ON_01_w1SPI-488_s4/cell_33/result_MIP\n",
      "\n",
      "Performing segmentation of ('nuclei',)\n",
      "\n",
      "2024-05-27 10:12:10,720 [INFO] >>>> using CPU\n",
      "2024-05-27 10:12:10,778 [INFO] ~~~ FINDING MASKS ~~~\n"
     ]
    },
    {
     "name": "stderr",
     "output_type": "stream",
     "text": [
      "\n"
     ]
    },
    {
     "name": "stdout",
     "output_type": "stream",
     "text": [
      "2024-05-27 10:12:11,319 [INFO] >>>> TOTAL TIME 0.54 sec\n",
      "\n",
      " Creating outputs ...\n",
      "\n"
     ]
    },
    {
     "name": "stderr",
     "output_type": "stream",
     "text": [
      "100%|█████████████████████████████████████████████| 1/1 [00:00<00:00,  3.55it/s]"
     ]
    },
    {
     "name": "stdout",
     "output_type": "stream",
     "text": [
      "\n",
      "Segmentation of provided images finished (0.8828482627868652s)\n",
      "Segmenting image : C3.14_ON_01_w1SPI-488_s4_cell_33_t046.tif\n",
      ">>> process file\n",
      "input file (size): (156, 161)\n",
      "resized file (size): (156, 161)\n",
      "Creating name to path to store data.\n",
      "Replacement parameters found: original string: MIP, replacement string: result_MIP\n",
      "Output path: /media/raphael/data/works/20231220_C3_14_2h_ofON/bleach_correction/w_background/C3.14_ON_01_w1SPI-488_s4/cell_33/result_MIP\n",
      "\n",
      "Performing segmentation of ('nuclei',)\n",
      "\n",
      "2024-05-27 10:12:11,607 [INFO] >>>> using CPU\n",
      "2024-05-27 10:12:11,660 [INFO] ~~~ FINDING MASKS ~~~\n"
     ]
    },
    {
     "name": "stderr",
     "output_type": "stream",
     "text": [
      "\n"
     ]
    },
    {
     "name": "stdout",
     "output_type": "stream",
     "text": [
      "2024-05-27 10:12:12,179 [INFO] >>>> TOTAL TIME 0.52 sec\n",
      "\n",
      " Creating outputs ...\n",
      "\n"
     ]
    },
    {
     "name": "stderr",
     "output_type": "stream",
     "text": [
      "100%|█████████████████████████████████████████████| 1/1 [00:00<00:00,  3.50it/s]"
     ]
    },
    {
     "name": "stdout",
     "output_type": "stream",
     "text": [
      "\n",
      "Segmentation of provided images finished (0.8608698844909668s)\n",
      "Segmenting image : C3.14_ON_01_w1SPI-488_s4_cell_33_t014.tif\n",
      ">>> process file\n",
      "input file (size): (156, 161)\n",
      "resized file (size): (156, 161)\n",
      "Creating name to path to store data.\n",
      "Replacement parameters found: original string: MIP, replacement string: result_MIP\n",
      "Output path: /media/raphael/data/works/20231220_C3_14_2h_ofON/bleach_correction/w_background/C3.14_ON_01_w1SPI-488_s4/cell_33/result_MIP\n",
      "\n",
      "Performing segmentation of ('nuclei',)\n",
      "\n",
      "2024-05-27 10:12:12,473 [INFO] >>>> using CPU\n",
      "2024-05-27 10:12:12,527 [INFO] ~~~ FINDING MASKS ~~~\n"
     ]
    },
    {
     "name": "stderr",
     "output_type": "stream",
     "text": [
      "\n"
     ]
    },
    {
     "name": "stdout",
     "output_type": "stream",
     "text": [
      "2024-05-27 10:12:13,096 [INFO] >>>> TOTAL TIME 0.57 sec\n",
      "\n",
      " Creating outputs ...\n",
      "\n"
     ]
    },
    {
     "name": "stderr",
     "output_type": "stream",
     "text": [
      "100%|█████████████████████████████████████████████| 1/1 [00:00<00:00,  3.52it/s]"
     ]
    },
    {
     "name": "stdout",
     "output_type": "stream",
     "text": [
      "\n",
      "Segmentation of provided images finished (0.9096245765686035s)\n",
      "Segmenting image : C3.14_ON_01_w1SPI-488_s4_cell_33_t066.tif\n",
      ">>> process file\n",
      "input file (size): (156, 161)\n",
      "resized file (size): (156, 161)\n",
      "Creating name to path to store data.\n",
      "Replacement parameters found: original string: MIP, replacement string: result_MIP\n",
      "Output path: /media/raphael/data/works/20231220_C3_14_2h_ofON/bleach_correction/w_background/C3.14_ON_01_w1SPI-488_s4/cell_33/result_MIP\n",
      "\n",
      "Performing segmentation of ('nuclei',)\n",
      "\n",
      "2024-05-27 10:12:13,387 [INFO] >>>> using CPU\n",
      "2024-05-27 10:12:13,441 [INFO] ~~~ FINDING MASKS ~~~\n"
     ]
    },
    {
     "name": "stderr",
     "output_type": "stream",
     "text": [
      "\n"
     ]
    },
    {
     "name": "stdout",
     "output_type": "stream",
     "text": [
      "2024-05-27 10:12:13,965 [INFO] >>>> TOTAL TIME 0.52 sec\n",
      "\n",
      " Creating outputs ...\n",
      "\n"
     ]
    },
    {
     "name": "stderr",
     "output_type": "stream",
     "text": [
      "100%|█████████████████████████████████████████████| 1/1 [00:00<00:00,  3.55it/s]"
     ]
    },
    {
     "name": "stdout",
     "output_type": "stream",
     "text": [
      "\n",
      "Segmentation of provided images finished (0.8640353679656982s)\n",
      "Segmenting image : C3.14_ON_01_w1SPI-488_s4_cell_33_t092.tif\n",
      ">>> process file\n",
      "input file (size): (156, 161)\n",
      "resized file (size): (156, 161)\n",
      "Creating name to path to store data.\n",
      "Replacement parameters found: original string: MIP, replacement string: result_MIP\n",
      "Output path: /media/raphael/data/works/20231220_C3_14_2h_ofON/bleach_correction/w_background/C3.14_ON_01_w1SPI-488_s4/cell_33/result_MIP\n",
      "\n",
      "Performing segmentation of ('nuclei',)\n",
      "\n",
      "2024-05-27 10:12:14,256 [INFO] >>>> using CPU\n",
      "2024-05-27 10:12:14,311 [INFO] ~~~ FINDING MASKS ~~~\n"
     ]
    },
    {
     "name": "stderr",
     "output_type": "stream",
     "text": [
      "\n"
     ]
    },
    {
     "name": "stdout",
     "output_type": "stream",
     "text": [
      "2024-05-27 10:12:14,834 [INFO] >>>> TOTAL TIME 0.52 sec\n",
      "\n",
      " Creating outputs ...\n",
      "\n"
     ]
    },
    {
     "name": "stderr",
     "output_type": "stream",
     "text": [
      "100%|█████████████████████████████████████████████| 1/1 [00:00<00:00,  3.55it/s]"
     ]
    },
    {
     "name": "stdout",
     "output_type": "stream",
     "text": [
      "\n",
      "Segmentation of provided images finished (0.8619344234466553s)\n",
      "Segmenting image : C3.14_ON_01_w1SPI-488_s4_cell_33_t103.tif\n",
      ">>> process file\n",
      "input file (size): (156, 161)\n",
      "resized file (size): (156, 161)\n",
      "Creating name to path to store data.\n",
      "Replacement parameters found: original string: MIP, replacement string: result_MIP\n",
      "Output path: /media/raphael/data/works/20231220_C3_14_2h_ofON/bleach_correction/w_background/C3.14_ON_01_w1SPI-488_s4/cell_33/result_MIP\n",
      "\n",
      "Performing segmentation of ('nuclei',)\n",
      "\n",
      "2024-05-27 10:12:15,122 [INFO] >>>> using CPU\n",
      "2024-05-27 10:12:15,177 [INFO] ~~~ FINDING MASKS ~~~\n"
     ]
    },
    {
     "name": "stderr",
     "output_type": "stream",
     "text": [
      "\n"
     ]
    },
    {
     "name": "stdout",
     "output_type": "stream",
     "text": [
      "2024-05-27 10:12:15,756 [INFO] >>>> TOTAL TIME 0.58 sec\n",
      "\n",
      " Creating outputs ...\n",
      "\n"
     ]
    },
    {
     "name": "stderr",
     "output_type": "stream",
     "text": [
      "100%|█████████████████████████████████████████████| 1/1 [00:00<00:00,  3.51it/s]"
     ]
    },
    {
     "name": "stdout",
     "output_type": "stream",
     "text": [
      "\n",
      "Segmentation of provided images finished (0.9207992553710938s)\n",
      "Segmenting image : C3.14_ON_01_w1SPI-488_s4_cell_33_t070.tif\n",
      ">>> process file\n",
      "input file (size): (156, 161)\n",
      "resized file (size): (156, 161)\n",
      "Creating name to path to store data.\n",
      "Replacement parameters found: original string: MIP, replacement string: result_MIP\n",
      "Output path: /media/raphael/data/works/20231220_C3_14_2h_ofON/bleach_correction/w_background/C3.14_ON_01_w1SPI-488_s4/cell_33/result_MIP\n",
      "\n",
      "Performing segmentation of ('nuclei',)\n",
      "\n",
      "2024-05-27 10:12:16,049 [INFO] >>>> using CPU\n",
      "2024-05-27 10:12:16,103 [INFO] ~~~ FINDING MASKS ~~~\n"
     ]
    },
    {
     "name": "stderr",
     "output_type": "stream",
     "text": [
      "\n"
     ]
    },
    {
     "name": "stdout",
     "output_type": "stream",
     "text": [
      "2024-05-27 10:12:16,662 [INFO] >>>> TOTAL TIME 0.56 sec\n",
      "\n",
      " Creating outputs ...\n",
      "\n"
     ]
    },
    {
     "name": "stderr",
     "output_type": "stream",
     "text": [
      "100%|█████████████████████████████████████████████| 1/1 [00:00<00:00,  3.52it/s]"
     ]
    },
    {
     "name": "stdout",
     "output_type": "stream",
     "text": [
      "\n",
      "Segmentation of provided images finished (0.8993234634399414s)\n",
      "Segmenting image : C3.14_ON_01_w1SPI-488_s4_cell_33_t031.tif\n",
      ">>> process file\n",
      "input file (size): (156, 161)\n",
      "resized file (size): (156, 161)\n",
      "Creating name to path to store data.\n",
      "Replacement parameters found: original string: MIP, replacement string: result_MIP\n",
      "Output path: /media/raphael/data/works/20231220_C3_14_2h_ofON/bleach_correction/w_background/C3.14_ON_01_w1SPI-488_s4/cell_33/result_MIP\n",
      "\n",
      "Performing segmentation of ('nuclei',)\n",
      "\n",
      "2024-05-27 10:12:16,953 [INFO] >>>> using CPU\n",
      "2024-05-27 10:12:17,007 [INFO] ~~~ FINDING MASKS ~~~\n"
     ]
    },
    {
     "name": "stderr",
     "output_type": "stream",
     "text": [
      "\n"
     ]
    },
    {
     "name": "stdout",
     "output_type": "stream",
     "text": [
      "2024-05-27 10:12:17,569 [INFO] >>>> TOTAL TIME 0.56 sec\n",
      "\n",
      " Creating outputs ...\n",
      "\n"
     ]
    },
    {
     "name": "stderr",
     "output_type": "stream",
     "text": [
      "100%|█████████████████████████████████████████████| 1/1 [00:00<00:00,  3.53it/s]"
     ]
    },
    {
     "name": "stdout",
     "output_type": "stream",
     "text": [
      "\n",
      "Segmentation of provided images finished (0.9022769927978516s)\n",
      "Segmenting image : C3.14_ON_01_w1SPI-488_s4_cell_33_t058.tif\n",
      ">>> process file\n",
      "input file (size): (156, 161)\n",
      "resized file (size): (156, 161)\n",
      "Creating name to path to store data.\n",
      "Replacement parameters found: original string: MIP, replacement string: result_MIP\n",
      "Output path: /media/raphael/data/works/20231220_C3_14_2h_ofON/bleach_correction/w_background/C3.14_ON_01_w1SPI-488_s4/cell_33/result_MIP\n",
      "\n",
      "Performing segmentation of ('nuclei',)\n",
      "\n",
      "2024-05-27 10:12:17,860 [INFO] >>>> using CPU\n",
      "2024-05-27 10:12:17,913 [INFO] ~~~ FINDING MASKS ~~~\n"
     ]
    },
    {
     "name": "stderr",
     "output_type": "stream",
     "text": [
      "\n"
     ]
    },
    {
     "name": "stdout",
     "output_type": "stream",
     "text": [
      "2024-05-27 10:12:18,447 [INFO] >>>> TOTAL TIME 0.53 sec\n",
      "\n",
      " Creating outputs ...\n",
      "\n"
     ]
    },
    {
     "name": "stderr",
     "output_type": "stream",
     "text": [
      "100%|█████████████████████████████████████████████| 1/1 [00:00<00:00,  3.55it/s]"
     ]
    },
    {
     "name": "stdout",
     "output_type": "stream",
     "text": [
      "\n",
      "Segmentation of provided images finished (0.8711771965026855s)\n",
      "Segmenting image : C3.14_ON_01_w1SPI-488_s4_cell_33_t119.tif\n",
      ">>> process file\n",
      "input file (size): (156, 161)\n",
      "resized file (size): (156, 161)\n",
      "Creating name to path to store data.\n",
      "Replacement parameters found: original string: MIP, replacement string: result_MIP\n",
      "Output path: /media/raphael/data/works/20231220_C3_14_2h_ofON/bleach_correction/w_background/C3.14_ON_01_w1SPI-488_s4/cell_33/result_MIP\n",
      "\n",
      "Performing segmentation of ('nuclei',)\n",
      "\n",
      "2024-05-27 10:12:18,736 [INFO] >>>> using CPU\n",
      "2024-05-27 10:12:18,791 [INFO] ~~~ FINDING MASKS ~~~\n"
     ]
    },
    {
     "name": "stderr",
     "output_type": "stream",
     "text": [
      "\n"
     ]
    },
    {
     "name": "stdout",
     "output_type": "stream",
     "text": [
      "2024-05-27 10:12:19,377 [INFO] >>>> TOTAL TIME 0.59 sec\n",
      "\n",
      " Creating outputs ...\n",
      "\n"
     ]
    },
    {
     "name": "stderr",
     "output_type": "stream",
     "text": [
      "100%|█████████████████████████████████████████████| 1/1 [00:00<00:00,  1.92it/s]"
     ]
    },
    {
     "name": "stdout",
     "output_type": "stream",
     "text": [
      "\n",
      "Segmentation of provided images finished (1.1635777950286865s)\n",
      "Segmenting image : C3.14_ON_01_w1SPI-488_s4_cell_33_t030.tif\n",
      ">>> process file\n",
      "input file (size): (156, 161)\n",
      "resized file (size): (156, 161)\n",
      "Creating name to path to store data.\n",
      "Replacement parameters found: original string: MIP, replacement string: result_MIP\n",
      "Output path: /media/raphael/data/works/20231220_C3_14_2h_ofON/bleach_correction/w_background/C3.14_ON_01_w1SPI-488_s4/cell_33/result_MIP\n",
      "\n",
      "Performing segmentation of ('nuclei',)\n",
      "\n",
      "2024-05-27 10:12:19,904 [INFO] >>>> using CPU\n",
      "2024-05-27 10:12:19,960 [INFO] ~~~ FINDING MASKS ~~~\n"
     ]
    },
    {
     "name": "stderr",
     "output_type": "stream",
     "text": [
      "\n"
     ]
    },
    {
     "name": "stdout",
     "output_type": "stream",
     "text": [
      "2024-05-27 10:12:20,511 [INFO] >>>> TOTAL TIME 0.55 sec\n",
      "\n",
      " Creating outputs ...\n",
      "\n"
     ]
    },
    {
     "name": "stderr",
     "output_type": "stream",
     "text": [
      "100%|█████████████████████████████████████████████| 1/1 [00:00<00:00,  3.52it/s]"
     ]
    },
    {
     "name": "stdout",
     "output_type": "stream",
     "text": [
      "\n",
      "Segmentation of provided images finished (0.8941154479980469s)\n",
      "Segmenting image : C3.14_ON_01_w1SPI-488_s4_cell_33_t001.tif\n",
      ">>> process file\n",
      "input file (size): (156, 161)\n",
      "resized file (size): (156, 161)\n",
      "Creating name to path to store data.\n",
      "Replacement parameters found: original string: MIP, replacement string: result_MIP\n",
      "Output path: /media/raphael/data/works/20231220_C3_14_2h_ofON/bleach_correction/w_background/C3.14_ON_01_w1SPI-488_s4/cell_33/result_MIP\n",
      "\n",
      "Performing segmentation of ('nuclei',)\n",
      "\n",
      "2024-05-27 10:12:20,803 [INFO] >>>> using CPU\n",
      "2024-05-27 10:12:20,856 [INFO] ~~~ FINDING MASKS ~~~\n"
     ]
    },
    {
     "name": "stderr",
     "output_type": "stream",
     "text": [
      "\n"
     ]
    },
    {
     "name": "stdout",
     "output_type": "stream",
     "text": [
      "2024-05-27 10:12:21,365 [INFO] >>>> TOTAL TIME 0.51 sec\n",
      "\n",
      " Creating outputs ...\n",
      "\n"
     ]
    },
    {
     "name": "stderr",
     "output_type": "stream",
     "text": [
      "100%|█████████████████████████████████████████████| 1/1 [00:00<00:00,  3.57it/s]"
     ]
    },
    {
     "name": "stdout",
     "output_type": "stream",
     "text": [
      "\n",
      "Segmentation of provided images finished (0.8452327251434326s)\n",
      "Segmenting image : C3.14_ON_01_w1SPI-488_s4_cell_33_t097.tif\n",
      ">>> process file\n",
      "input file (size): (156, 161)\n",
      "resized file (size): (156, 161)\n",
      "Creating name to path to store data.\n",
      "Replacement parameters found: original string: MIP, replacement string: result_MIP\n",
      "Output path: /media/raphael/data/works/20231220_C3_14_2h_ofON/bleach_correction/w_background/C3.14_ON_01_w1SPI-488_s4/cell_33/result_MIP\n",
      "\n",
      "Performing segmentation of ('nuclei',)\n",
      "\n",
      "2024-05-27 10:12:21,653 [INFO] >>>> using CPU\n",
      "2024-05-27 10:12:21,708 [INFO] ~~~ FINDING MASKS ~~~\n"
     ]
    },
    {
     "name": "stderr",
     "output_type": "stream",
     "text": [
      "\n"
     ]
    },
    {
     "name": "stdout",
     "output_type": "stream",
     "text": [
      "2024-05-27 10:12:22,498 [INFO] >>>> TOTAL TIME 0.79 sec\n",
      "\n",
      " Creating outputs ...\n",
      "\n"
     ]
    },
    {
     "name": "stderr",
     "output_type": "stream",
     "text": [
      "100%|█████████████████████████████████████████████| 1/1 [00:00<00:00,  3.27it/s]"
     ]
    },
    {
     "name": "stdout",
     "output_type": "stream",
     "text": [
      "\n",
      "Segmentation of provided images finished (1.153470516204834s)\n",
      "Segmenting image : C3.14_ON_01_w1SPI-488_s4_cell_33_t077.tif\n",
      ">>> process file\n",
      "input file (size): (156, 161)\n",
      "resized file (size): (156, 161)\n",
      "Creating name to path to store data.\n",
      "Replacement parameters found: original string: MIP, replacement string: result_MIP\n",
      "Output path: /media/raphael/data/works/20231220_C3_14_2h_ofON/bleach_correction/w_background/C3.14_ON_01_w1SPI-488_s4/cell_33/result_MIP\n",
      "\n",
      "Performing segmentation of ('nuclei',)\n",
      "\n",
      "2024-05-27 10:12:22,811 [INFO] >>>> using CPU\n",
      "2024-05-27 10:12:22,866 [INFO] ~~~ FINDING MASKS ~~~\n"
     ]
    },
    {
     "name": "stderr",
     "output_type": "stream",
     "text": [
      "\n"
     ]
    },
    {
     "name": "stdout",
     "output_type": "stream",
     "text": [
      "2024-05-27 10:12:23,544 [INFO] >>>> TOTAL TIME 0.68 sec\n",
      "\n",
      " Creating outputs ...\n",
      "\n"
     ]
    },
    {
     "name": "stderr",
     "output_type": "stream",
     "text": [
      "100%|█████████████████████████████████████████████| 1/1 [00:00<00:00,  3.35it/s]"
     ]
    },
    {
     "name": "stdout",
     "output_type": "stream",
     "text": [
      "\n",
      "Segmentation of provided images finished (1.034057855606079s)\n",
      "Segmenting image : C3.14_ON_01_w1SPI-488_s4_cell_33_t008.tif\n",
      ">>> process file\n",
      "input file (size): (156, 161)\n",
      "resized file (size): (156, 161)\n",
      "Creating name to path to store data.\n",
      "Replacement parameters found: original string: MIP, replacement string: result_MIP\n",
      "Output path: /media/raphael/data/works/20231220_C3_14_2h_ofON/bleach_correction/w_background/C3.14_ON_01_w1SPI-488_s4/cell_33/result_MIP\n",
      "\n",
      "Performing segmentation of ('nuclei',)\n",
      "\n",
      "2024-05-27 10:12:23,851 [INFO] >>>> using CPU\n",
      "2024-05-27 10:12:23,911 [INFO] ~~~ FINDING MASKS ~~~\n"
     ]
    },
    {
     "name": "stderr",
     "output_type": "stream",
     "text": [
      "\n"
     ]
    },
    {
     "name": "stdout",
     "output_type": "stream",
     "text": [
      "2024-05-27 10:12:24,576 [INFO] >>>> TOTAL TIME 0.67 sec\n",
      "\n",
      " Creating outputs ...\n",
      "\n"
     ]
    },
    {
     "name": "stderr",
     "output_type": "stream",
     "text": [
      "100%|█████████████████████████████████████████████| 1/1 [00:00<00:00,  3.38it/s]"
     ]
    },
    {
     "name": "stdout",
     "output_type": "stream",
     "text": [
      "\n",
      "Segmentation of provided images finished (1.0230433940887451s)\n",
      "Segmenting image : C3.14_ON_01_w1SPI-488_s4_cell_33_t048.tif\n",
      ">>> process file\n",
      "input file (size): (156, 161)\n",
      "resized file (size): (156, 161)\n",
      "Creating name to path to store data.\n",
      "Replacement parameters found: original string: MIP, replacement string: result_MIP\n",
      "Output path: /media/raphael/data/works/20231220_C3_14_2h_ofON/bleach_correction/w_background/C3.14_ON_01_w1SPI-488_s4/cell_33/result_MIP\n",
      "\n",
      "Performing segmentation of ('nuclei',)\n",
      "\n",
      "2024-05-27 10:12:24,878 [INFO] >>>> using CPU\n",
      "2024-05-27 10:12:24,932 [INFO] ~~~ FINDING MASKS ~~~\n"
     ]
    },
    {
     "name": "stderr",
     "output_type": "stream",
     "text": [
      "\n"
     ]
    },
    {
     "name": "stdout",
     "output_type": "stream",
     "text": [
      "2024-05-27 10:12:25,479 [INFO] >>>> TOTAL TIME 0.55 sec\n",
      "\n",
      " Creating outputs ...\n",
      "\n"
     ]
    },
    {
     "name": "stderr",
     "output_type": "stream",
     "text": [
      "100%|█████████████████████████████████████████████| 1/1 [00:00<00:00,  3.45it/s]"
     ]
    },
    {
     "name": "stdout",
     "output_type": "stream",
     "text": [
      "\n",
      "Segmentation of provided images finished (0.8925635814666748s)\n",
      "Segmenting image : C3.14_ON_01_w1SPI-488_s4_cell_33_t055.tif\n",
      ">>> process file\n",
      "input file (size): (156, 161)\n",
      "resized file (size): (156, 161)\n",
      "Creating name to path to store data.\n",
      "Replacement parameters found: original string: MIP, replacement string: result_MIP\n",
      "Output path: /media/raphael/data/works/20231220_C3_14_2h_ofON/bleach_correction/w_background/C3.14_ON_01_w1SPI-488_s4/cell_33/result_MIP\n",
      "\n",
      "Performing segmentation of ('nuclei',)\n",
      "\n",
      "2024-05-27 10:12:25,775 [INFO] >>>> using CPU\n",
      "2024-05-27 10:12:25,830 [INFO] ~~~ FINDING MASKS ~~~\n"
     ]
    },
    {
     "name": "stderr",
     "output_type": "stream",
     "text": [
      "\n"
     ]
    },
    {
     "name": "stdout",
     "output_type": "stream",
     "text": [
      "2024-05-27 10:12:26,367 [INFO] >>>> TOTAL TIME 0.54 sec\n",
      "\n",
      " Creating outputs ...\n",
      "\n"
     ]
    },
    {
     "name": "stderr",
     "output_type": "stream",
     "text": [
      "100%|█████████████████████████████████████████████| 1/1 [00:00<00:00,  3.55it/s]"
     ]
    },
    {
     "name": "stdout",
     "output_type": "stream",
     "text": [
      "\n",
      "Segmentation of provided images finished (0.8757152557373047s)\n",
      "Segmenting image : C3.14_ON_01_w1SPI-488_s4_cell_33_t036.tif\n",
      ">>> process file\n",
      "input file (size): (156, 161)\n",
      "resized file (size): (156, 161)\n",
      "Creating name to path to store data.\n",
      "Replacement parameters found: original string: MIP, replacement string: result_MIP\n",
      "Output path: /media/raphael/data/works/20231220_C3_14_2h_ofON/bleach_correction/w_background/C3.14_ON_01_w1SPI-488_s4/cell_33/result_MIP\n",
      "\n",
      "Performing segmentation of ('nuclei',)\n",
      "\n",
      "2024-05-27 10:12:26,655 [INFO] >>>> using CPU\n",
      "2024-05-27 10:12:26,710 [INFO] ~~~ FINDING MASKS ~~~\n"
     ]
    },
    {
     "name": "stderr",
     "output_type": "stream",
     "text": [
      "\n"
     ]
    },
    {
     "name": "stdout",
     "output_type": "stream",
     "text": [
      "2024-05-27 10:12:27,289 [INFO] >>>> TOTAL TIME 0.58 sec\n",
      "\n",
      " Creating outputs ...\n",
      "\n"
     ]
    },
    {
     "name": "stderr",
     "output_type": "stream",
     "text": [
      "100%|█████████████████████████████████████████████| 1/1 [00:00<00:00,  3.52it/s]"
     ]
    },
    {
     "name": "stdout",
     "output_type": "stream",
     "text": [
      "\n",
      "Segmentation of provided images finished (0.9203891754150391s)\n",
      "Segmenting image : C3.14_ON_01_w1SPI-488_s4_cell_33_t099.tif\n",
      ">>> process file\n",
      "input file (size): (156, 161)\n",
      "resized file (size): (156, 161)\n",
      "Creating name to path to store data.\n",
      "Replacement parameters found: original string: MIP, replacement string: result_MIP\n",
      "Output path: /media/raphael/data/works/20231220_C3_14_2h_ofON/bleach_correction/w_background/C3.14_ON_01_w1SPI-488_s4/cell_33/result_MIP\n",
      "\n",
      "Performing segmentation of ('nuclei',)\n",
      "\n",
      "2024-05-27 10:12:27,580 [INFO] >>>> using CPU\n",
      "2024-05-27 10:12:27,634 [INFO] ~~~ FINDING MASKS ~~~\n"
     ]
    },
    {
     "name": "stderr",
     "output_type": "stream",
     "text": [
      "\n"
     ]
    },
    {
     "name": "stdout",
     "output_type": "stream",
     "text": [
      "2024-05-27 10:12:28,209 [INFO] >>>> TOTAL TIME 0.57 sec\n",
      "\n",
      " Creating outputs ...\n",
      "\n"
     ]
    },
    {
     "name": "stderr",
     "output_type": "stream",
     "text": [
      "100%|█████████████████████████████████████████████| 1/1 [00:00<00:00,  3.48it/s]"
     ]
    },
    {
     "name": "stdout",
     "output_type": "stream",
     "text": [
      "\n",
      "Segmentation of provided images finished (0.9193828105926514s)\n",
      "Segmenting image : C3.14_ON_01_w1SPI-488_s4_cell_33_t063.tif\n",
      ">>> process file\n",
      "input file (size): (156, 161)\n",
      "resized file (size): (156, 161)\n",
      "Creating name to path to store data.\n",
      "Replacement parameters found: original string: MIP, replacement string: result_MIP\n",
      "Output path: /media/raphael/data/works/20231220_C3_14_2h_ofON/bleach_correction/w_background/C3.14_ON_01_w1SPI-488_s4/cell_33/result_MIP\n",
      "\n",
      "Performing segmentation of ('nuclei',)\n",
      "\n",
      "2024-05-27 10:12:28,503 [INFO] >>>> using CPU\n",
      "2024-05-27 10:12:28,557 [INFO] ~~~ FINDING MASKS ~~~\n"
     ]
    },
    {
     "name": "stderr",
     "output_type": "stream",
     "text": [
      "\n"
     ]
    },
    {
     "name": "stdout",
     "output_type": "stream",
     "text": [
      "2024-05-27 10:12:29,076 [INFO] >>>> TOTAL TIME 0.52 sec\n",
      "\n",
      " Creating outputs ...\n",
      "\n"
     ]
    },
    {
     "name": "stderr",
     "output_type": "stream",
     "text": [
      "100%|█████████████████████████████████████████████| 1/1 [00:00<00:00,  3.55it/s]"
     ]
    },
    {
     "name": "stdout",
     "output_type": "stream",
     "text": [
      "\n",
      "Segmentation of provided images finished (0.8567886352539062s)\n",
      "Segmenting image : C3.14_ON_01_w1SPI-488_s4_cell_33_t017.tif\n",
      ">>> process file\n",
      "input file (size): (156, 161)\n",
      "resized file (size): (156, 161)\n",
      "Creating name to path to store data.\n",
      "Replacement parameters found: original string: MIP, replacement string: result_MIP\n",
      "Output path: /media/raphael/data/works/20231220_C3_14_2h_ofON/bleach_correction/w_background/C3.14_ON_01_w1SPI-488_s4/cell_33/result_MIP\n",
      "\n",
      "Performing segmentation of ('nuclei',)\n",
      "\n",
      "2024-05-27 10:12:29,364 [INFO] >>>> using CPU\n",
      "2024-05-27 10:12:29,420 [INFO] ~~~ FINDING MASKS ~~~\n"
     ]
    },
    {
     "name": "stderr",
     "output_type": "stream",
     "text": [
      "\n"
     ]
    },
    {
     "name": "stdout",
     "output_type": "stream",
     "text": [
      "2024-05-27 10:12:29,939 [INFO] >>>> TOTAL TIME 0.52 sec\n",
      "\n",
      " Creating outputs ...\n",
      "\n"
     ]
    },
    {
     "name": "stderr",
     "output_type": "stream",
     "text": [
      "100%|█████████████████████████████████████████████| 1/1 [00:00<00:00,  3.56it/s]"
     ]
    },
    {
     "name": "stdout",
     "output_type": "stream",
     "text": [
      "\n",
      "Segmentation of provided images finished (0.8583638668060303s)\n",
      "Segmenting image : C3.14_ON_01_w1SPI-488_s4_cell_33_t091.tif\n",
      ">>> process file\n",
      "input file (size): (156, 161)\n",
      "resized file (size): (156, 161)\n",
      "Creating name to path to store data.\n",
      "Replacement parameters found: original string: MIP, replacement string: result_MIP\n",
      "Output path: /media/raphael/data/works/20231220_C3_14_2h_ofON/bleach_correction/w_background/C3.14_ON_01_w1SPI-488_s4/cell_33/result_MIP\n",
      "\n",
      "Performing segmentation of ('nuclei',)\n",
      "\n",
      "2024-05-27 10:12:30,226 [INFO] >>>> using CPU\n",
      "2024-05-27 10:12:30,282 [INFO] ~~~ FINDING MASKS ~~~\n"
     ]
    },
    {
     "name": "stderr",
     "output_type": "stream",
     "text": [
      "\n"
     ]
    },
    {
     "name": "stdout",
     "output_type": "stream",
     "text": [
      "2024-05-27 10:12:30,798 [INFO] >>>> TOTAL TIME 0.52 sec\n",
      "\n",
      " Creating outputs ...\n",
      "\n"
     ]
    },
    {
     "name": "stderr",
     "output_type": "stream",
     "text": [
      "100%|█████████████████████████████████████████████| 1/1 [00:00<00:00,  3.55it/s]"
     ]
    },
    {
     "name": "stdout",
     "output_type": "stream",
     "text": [
      "\n",
      "Segmentation of provided images finished (0.8571305274963379s)\n",
      "Segmenting image : C3.14_ON_01_w1SPI-488_s4_cell_33_t067.tif\n",
      ">>> process file\n",
      "input file (size): (156, 161)\n",
      "resized file (size): (156, 161)\n",
      "Creating name to path to store data.\n",
      "Replacement parameters found: original string: MIP, replacement string: result_MIP\n",
      "Output path: /media/raphael/data/works/20231220_C3_14_2h_ofON/bleach_correction/w_background/C3.14_ON_01_w1SPI-488_s4/cell_33/result_MIP\n",
      "\n",
      "Performing segmentation of ('nuclei',)\n",
      "\n",
      "2024-05-27 10:12:31,088 [INFO] >>>> using CPU\n",
      "2024-05-27 10:12:31,142 [INFO] ~~~ FINDING MASKS ~~~\n"
     ]
    },
    {
     "name": "stderr",
     "output_type": "stream",
     "text": [
      "\n"
     ]
    },
    {
     "name": "stdout",
     "output_type": "stream",
     "text": [
      "2024-05-27 10:12:31,709 [INFO] >>>> TOTAL TIME 0.57 sec\n",
      "\n",
      " Creating outputs ...\n",
      "\n"
     ]
    },
    {
     "name": "stderr",
     "output_type": "stream",
     "text": [
      "100%|█████████████████████████████████████████████| 1/1 [00:00<00:00,  3.52it/s]"
     ]
    },
    {
     "name": "stdout",
     "output_type": "stream",
     "text": [
      "\n",
      "Segmentation of provided images finished (0.9077882766723633s)\n",
      "Segmenting image : C3.14_ON_01_w1SPI-488_s4_cell_33_t015.tif\n",
      ">>> process file\n",
      "input file (size): (156, 161)\n",
      "resized file (size): (156, 161)\n",
      "Creating name to path to store data.\n",
      "Replacement parameters found: original string: MIP, replacement string: result_MIP\n",
      "Output path: /media/raphael/data/works/20231220_C3_14_2h_ofON/bleach_correction/w_background/C3.14_ON_01_w1SPI-488_s4/cell_33/result_MIP\n",
      "\n",
      "Performing segmentation of ('nuclei',)\n",
      "\n",
      "2024-05-27 10:12:32,000 [INFO] >>>> using CPU\n",
      "2024-05-27 10:12:32,056 [INFO] ~~~ FINDING MASKS ~~~\n"
     ]
    },
    {
     "name": "stderr",
     "output_type": "stream",
     "text": [
      "\n"
     ]
    },
    {
     "name": "stdout",
     "output_type": "stream",
     "text": [
      "2024-05-27 10:12:32,556 [INFO] >>>> TOTAL TIME 0.50 sec\n",
      "\n",
      " Creating outputs ...\n",
      "\n"
     ]
    },
    {
     "name": "stderr",
     "output_type": "stream",
     "text": [
      "100%|█████████████████████████████████████████████| 1/1 [00:00<00:00,  3.55it/s]"
     ]
    },
    {
     "name": "stdout",
     "output_type": "stream",
     "text": [
      "\n",
      "Segmentation of provided images finished (0.8399200439453125s)\n",
      "Segmenting image : C3.14_ON_01_w1SPI-488_s4_cell_33_t069.tif\n",
      ">>> process file\n",
      "input file (size): (156, 161)\n",
      "resized file (size): (156, 161)\n",
      "Creating name to path to store data.\n",
      "Replacement parameters found: original string: MIP, replacement string: result_MIP\n",
      "Output path: /media/raphael/data/works/20231220_C3_14_2h_ofON/bleach_correction/w_background/C3.14_ON_01_w1SPI-488_s4/cell_33/result_MIP\n",
      "\n",
      "Performing segmentation of ('nuclei',)\n",
      "\n",
      "2024-05-27 10:12:32,845 [INFO] >>>> using CPU\n"
     ]
    },
    {
     "name": "stderr",
     "output_type": "stream",
     "text": [
      "\n"
     ]
    },
    {
     "name": "stdout",
     "output_type": "stream",
     "text": [
      "2024-05-27 10:12:33,174 [INFO] ~~~ FINDING MASKS ~~~\n",
      "2024-05-27 10:12:33,747 [INFO] >>>> TOTAL TIME 0.57 sec\n",
      "\n",
      " Creating outputs ...\n",
      "\n"
     ]
    },
    {
     "name": "stderr",
     "output_type": "stream",
     "text": [
      "100%|█████████████████████████████████████████████| 1/1 [00:00<00:00,  3.51it/s]"
     ]
    },
    {
     "name": "stdout",
     "output_type": "stream",
     "text": [
      "\n",
      "Segmentation of provided images finished (1.1899240016937256s)\n",
      "Segmenting image : C3.14_ON_01_w1SPI-488_s4_cell_33_t003.tif\n",
      ">>> process file\n",
      "input file (size): (156, 161)\n",
      "resized file (size): (156, 161)\n",
      "Creating name to path to store data.\n",
      "Replacement parameters found: original string: MIP, replacement string: result_MIP\n",
      "Output path: /media/raphael/data/works/20231220_C3_14_2h_ofON/bleach_correction/w_background/C3.14_ON_01_w1SPI-488_s4/cell_33/result_MIP\n",
      "\n",
      "Performing segmentation of ('nuclei',)\n",
      "\n",
      "2024-05-27 10:12:34,039 [INFO] >>>> using CPU\n",
      "2024-05-27 10:12:34,093 [INFO] ~~~ FINDING MASKS ~~~\n"
     ]
    },
    {
     "name": "stderr",
     "output_type": "stream",
     "text": [
      "\n"
     ]
    },
    {
     "name": "stdout",
     "output_type": "stream",
     "text": [
      "2024-05-27 10:12:34,580 [INFO] >>>> TOTAL TIME 0.49 sec\n",
      "\n",
      " Creating outputs ...\n",
      "\n"
     ]
    },
    {
     "name": "stderr",
     "output_type": "stream",
     "text": [
      "100%|█████████████████████████████████████████████| 1/1 [00:00<00:00,  3.60it/s]"
     ]
    },
    {
     "name": "stdout",
     "output_type": "stream",
     "text": [
      "\n",
      "Segmentation of provided images finished (0.8214757442474365s)\n",
      "Segmenting image : C3.14_ON_01_w1SPI-488_s4_cell_33_t002.tif\n",
      ">>> process file\n",
      "input file (size): (156, 161)\n",
      "resized file (size): (156, 161)\n",
      "Creating name to path to store data.\n",
      "Replacement parameters found: original string: MIP, replacement string: result_MIP\n",
      "Output path: /media/raphael/data/works/20231220_C3_14_2h_ofON/bleach_correction/w_background/C3.14_ON_01_w1SPI-488_s4/cell_33/result_MIP\n",
      "\n",
      "Performing segmentation of ('nuclei',)\n",
      "\n",
      "2024-05-27 10:12:34,865 [INFO] >>>> using CPU\n",
      "2024-05-27 10:12:34,920 [INFO] ~~~ FINDING MASKS ~~~\n"
     ]
    },
    {
     "name": "stderr",
     "output_type": "stream",
     "text": [
      "\n"
     ]
    },
    {
     "name": "stdout",
     "output_type": "stream",
     "text": [
      "2024-05-27 10:12:35,452 [INFO] >>>> TOTAL TIME 0.53 sec\n",
      "\n",
      " Creating outputs ...\n",
      "\n"
     ]
    },
    {
     "name": "stderr",
     "output_type": "stream",
     "text": [
      "100%|█████████████████████████████████████████████| 1/1 [00:00<00:00,  3.56it/s]"
     ]
    },
    {
     "name": "stdout",
     "output_type": "stream",
     "text": [
      "\n",
      "Segmentation of provided images finished (0.8699896335601807s)\n",
      "Segmenting image : C3.14_ON_01_w1SPI-488_s4_cell_33_t087.tif\n",
      ">>> process file\n",
      "input file (size): (156, 161)\n",
      "resized file (size): (156, 161)\n",
      "Creating name to path to store data.\n",
      "Replacement parameters found: original string: MIP, replacement string: result_MIP\n",
      "Output path: /media/raphael/data/works/20231220_C3_14_2h_ofON/bleach_correction/w_background/C3.14_ON_01_w1SPI-488_s4/cell_33/result_MIP\n",
      "\n",
      "Performing segmentation of ('nuclei',)\n",
      "\n",
      "2024-05-27 10:12:35,740 [INFO] >>>> using CPU\n",
      "2024-05-27 10:12:35,794 [INFO] ~~~ FINDING MASKS ~~~\n"
     ]
    },
    {
     "name": "stderr",
     "output_type": "stream",
     "text": [
      "\n"
     ]
    },
    {
     "name": "stdout",
     "output_type": "stream",
     "text": [
      "2024-05-27 10:12:36,314 [INFO] >>>> TOTAL TIME 0.52 sec\n",
      "\n",
      " Creating outputs ...\n",
      "\n"
     ]
    },
    {
     "name": "stderr",
     "output_type": "stream",
     "text": [
      "100%|█████████████████████████████████████████████| 1/1 [00:00<00:00,  3.53it/s]"
     ]
    },
    {
     "name": "stdout",
     "output_type": "stream",
     "text": [
      "\n",
      "Segmentation of provided images finished (0.8604011535644531s)\n",
      "Segmenting image : C3.14_ON_01_w1SPI-488_s4_cell_33_t104.tif\n",
      ">>> process file\n",
      "input file (size): (156, 161)\n",
      "resized file (size): (156, 161)\n",
      "Creating name to path to store data.\n",
      "Replacement parameters found: original string: MIP, replacement string: result_MIP\n",
      "Output path: /media/raphael/data/works/20231220_C3_14_2h_ofON/bleach_correction/w_background/C3.14_ON_01_w1SPI-488_s4/cell_33/result_MIP\n",
      "\n",
      "Performing segmentation of ('nuclei',)\n",
      "\n",
      "2024-05-27 10:12:36,605 [INFO] >>>> using CPU\n",
      "2024-05-27 10:12:36,659 [INFO] ~~~ FINDING MASKS ~~~\n"
     ]
    },
    {
     "name": "stderr",
     "output_type": "stream",
     "text": [
      "\n"
     ]
    },
    {
     "name": "stdout",
     "output_type": "stream",
     "text": [
      "2024-05-27 10:12:37,230 [INFO] >>>> TOTAL TIME 0.57 sec\n",
      "\n",
      " Creating outputs ...\n",
      "\n"
     ]
    },
    {
     "name": "stderr",
     "output_type": "stream",
     "text": [
      "100%|█████████████████████████████████████████████| 1/1 [00:00<00:00,  3.52it/s]"
     ]
    },
    {
     "name": "stdout",
     "output_type": "stream",
     "text": [
      "\n",
      "Segmentation of provided images finished (0.9116172790527344s)\n",
      "Segmenting image : C3.14_ON_01_w1SPI-488_s4_cell_33_t005.tif\n",
      ">>> process file\n",
      "input file (size): (156, 161)\n",
      "resized file (size): (156, 161)\n",
      "Creating name to path to store data.\n",
      "Replacement parameters found: original string: MIP, replacement string: result_MIP\n",
      "Output path: /media/raphael/data/works/20231220_C3_14_2h_ofON/bleach_correction/w_background/C3.14_ON_01_w1SPI-488_s4/cell_33/result_MIP\n",
      "\n",
      "Performing segmentation of ('nuclei',)\n",
      "\n",
      "2024-05-27 10:12:37,521 [INFO] >>>> using CPU\n",
      "2024-05-27 10:12:37,576 [INFO] ~~~ FINDING MASKS ~~~\n"
     ]
    },
    {
     "name": "stderr",
     "output_type": "stream",
     "text": [
      "\n"
     ]
    },
    {
     "name": "stdout",
     "output_type": "stream",
     "text": [
      "2024-05-27 10:12:38,098 [INFO] >>>> TOTAL TIME 0.52 sec\n",
      "\n",
      " Creating outputs ...\n",
      "\n"
     ]
    },
    {
     "name": "stderr",
     "output_type": "stream",
     "text": [
      "100%|█████████████████████████████████████████████| 1/1 [00:00<00:00,  3.55it/s]"
     ]
    },
    {
     "name": "stdout",
     "output_type": "stream",
     "text": [
      "\n",
      "Segmentation of provided images finished (0.8614904880523682s)\n",
      "Segmenting image : C3.14_ON_01_w1SPI-488_s4_cell_33_t018.tif\n",
      ">>> process file\n",
      "input file (size): (156, 161)\n",
      "resized file (size): (156, 161)\n",
      "Creating name to path to store data.\n",
      "Replacement parameters found: original string: MIP, replacement string: result_MIP\n",
      "Output path: /media/raphael/data/works/20231220_C3_14_2h_ofON/bleach_correction/w_background/C3.14_ON_01_w1SPI-488_s4/cell_33/result_MIP\n",
      "\n",
      "Performing segmentation of ('nuclei',)\n",
      "\n",
      "2024-05-27 10:12:38,387 [INFO] >>>> using CPU\n",
      "2024-05-27 10:12:38,441 [INFO] ~~~ FINDING MASKS ~~~\n"
     ]
    },
    {
     "name": "stderr",
     "output_type": "stream",
     "text": [
      "\n"
     ]
    },
    {
     "name": "stdout",
     "output_type": "stream",
     "text": [
      "2024-05-27 10:12:38,962 [INFO] >>>> TOTAL TIME 0.52 sec\n",
      "\n",
      " Creating outputs ...\n",
      "\n"
     ]
    },
    {
     "name": "stderr",
     "output_type": "stream",
     "text": [
      "100%|█████████████████████████████████████████████| 1/1 [00:00<00:00,  3.57it/s]"
     ]
    },
    {
     "name": "stdout",
     "output_type": "stream",
     "text": [
      "\n",
      "Segmentation of provided images finished (0.856867790222168s)\n",
      "Segmenting image : C3.14_ON_01_w1SPI-488_s4_cell_33_t093.tif\n",
      ">>> process file\n",
      "input file (size): (156, 161)\n",
      "resized file (size): (156, 161)\n",
      "Creating name to path to store data.\n",
      "Replacement parameters found: original string: MIP, replacement string: result_MIP\n",
      "Output path: /media/raphael/data/works/20231220_C3_14_2h_ofON/bleach_correction/w_background/C3.14_ON_01_w1SPI-488_s4/cell_33/result_MIP\n",
      "\n",
      "Performing segmentation of ('nuclei',)\n",
      "\n",
      "2024-05-27 10:12:39,252 [INFO] >>>> using CPU\n",
      "2024-05-27 10:12:39,306 [INFO] ~~~ FINDING MASKS ~~~\n"
     ]
    },
    {
     "name": "stderr",
     "output_type": "stream",
     "text": [
      "\n"
     ]
    },
    {
     "name": "stdout",
     "output_type": "stream",
     "text": [
      "2024-05-27 10:12:39,850 [INFO] >>>> TOTAL TIME 0.54 sec\n",
      "\n",
      " Creating outputs ...\n",
      "\n"
     ]
    },
    {
     "name": "stderr",
     "output_type": "stream",
     "text": [
      "100%|█████████████████████████████████████████████| 1/1 [00:00<00:00,  3.40it/s]"
     ]
    },
    {
     "name": "stdout",
     "output_type": "stream",
     "text": [
      "\n",
      "Segmentation of provided images finished (0.8944623470306396s)\n",
      "Segmenting image : C3.14_ON_01_w1SPI-488_s4_cell_33_t080.tif\n",
      ">>> process file\n",
      "input file (size): (156, 161)\n",
      "resized file (size): (156, 161)\n",
      "Creating name to path to store data.\n",
      "Replacement parameters found: original string: MIP, replacement string: result_MIP\n",
      "Output path: /media/raphael/data/works/20231220_C3_14_2h_ofON/bleach_correction/w_background/C3.14_ON_01_w1SPI-488_s4/cell_33/result_MIP\n",
      "\n",
      "Performing segmentation of ('nuclei',)\n",
      "\n",
      "2024-05-27 10:12:40,151 [INFO] >>>> using CPU\n",
      "2024-05-27 10:12:40,205 [INFO] ~~~ FINDING MASKS ~~~\n"
     ]
    },
    {
     "name": "stderr",
     "output_type": "stream",
     "text": [
      "\n"
     ]
    },
    {
     "name": "stdout",
     "output_type": "stream",
     "text": [
      "2024-05-27 10:12:40,755 [INFO] >>>> TOTAL TIME 0.55 sec\n",
      "\n",
      " Creating outputs ...\n",
      "\n"
     ]
    },
    {
     "name": "stderr",
     "output_type": "stream",
     "text": [
      "100%|█████████████████████████████████████████████| 1/1 [00:00<00:00,  3.55it/s]"
     ]
    },
    {
     "name": "stdout",
     "output_type": "stream",
     "text": [
      "\n",
      "Segmentation of provided images finished (0.8889451026916504s)\n",
      "Segmenting image : C3.14_ON_01_w1SPI-488_s4_cell_33_t084.tif\n",
      ">>> process file\n",
      "input file (size): (156, 161)\n",
      "resized file (size): (156, 161)\n",
      "Creating name to path to store data.\n",
      "Replacement parameters found: original string: MIP, replacement string: result_MIP\n",
      "Output path: /media/raphael/data/works/20231220_C3_14_2h_ofON/bleach_correction/w_background/C3.14_ON_01_w1SPI-488_s4/cell_33/result_MIP\n",
      "\n",
      "Performing segmentation of ('nuclei',)\n",
      "\n",
      "2024-05-27 10:12:41,044 [INFO] >>>> using CPU\n",
      "2024-05-27 10:12:41,099 [INFO] ~~~ FINDING MASKS ~~~\n"
     ]
    },
    {
     "name": "stderr",
     "output_type": "stream",
     "text": [
      "\n"
     ]
    },
    {
     "name": "stdout",
     "output_type": "stream",
     "text": [
      "2024-05-27 10:12:41,647 [INFO] >>>> TOTAL TIME 0.55 sec\n",
      "\n",
      " Creating outputs ...\n",
      "\n"
     ]
    },
    {
     "name": "stderr",
     "output_type": "stream",
     "text": [
      "100%|█████████████████████████████████████████████| 1/1 [00:00<00:00,  3.47it/s]"
     ]
    },
    {
     "name": "stdout",
     "output_type": "stream",
     "text": [
      "\n",
      "Segmentation of provided images finished (0.8939504623413086s)\n",
      "Segmenting image : C3.14_ON_01_w1SPI-488_s4_cell_33_t035.tif\n",
      ">>> process file\n",
      "input file (size): (156, 161)\n",
      "resized file (size): (156, 161)\n",
      "Creating name to path to store data.\n",
      "Replacement parameters found: original string: MIP, replacement string: result_MIP\n",
      "Output path: /media/raphael/data/works/20231220_C3_14_2h_ofON/bleach_correction/w_background/C3.14_ON_01_w1SPI-488_s4/cell_33/result_MIP\n",
      "\n",
      "Performing segmentation of ('nuclei',)\n",
      "\n",
      "2024-05-27 10:12:41,943 [INFO] >>>> using CPU\n",
      "2024-05-27 10:12:41,998 [INFO] ~~~ FINDING MASKS ~~~\n"
     ]
    },
    {
     "name": "stderr",
     "output_type": "stream",
     "text": [
      "\n"
     ]
    },
    {
     "name": "stdout",
     "output_type": "stream",
     "text": [
      "2024-05-27 10:12:42,517 [INFO] >>>> TOTAL TIME 0.52 sec\n",
      "\n",
      " Creating outputs ...\n",
      "\n"
     ]
    },
    {
     "name": "stderr",
     "output_type": "stream",
     "text": [
      "100%|█████████████████████████████████████████████| 1/1 [00:00<00:00,  3.55it/s]"
     ]
    },
    {
     "name": "stdout",
     "output_type": "stream",
     "text": [
      "\n",
      "Segmentation of provided images finished (0.8583452701568604s)\n",
      "Segmenting image : C3.14_ON_01_w1SPI-488_s4_cell_33_t098.tif\n",
      ">>> process file\n",
      "input file (size): (156, 161)\n",
      "resized file (size): (156, 161)\n",
      "Creating name to path to store data.\n",
      "Replacement parameters found: original string: MIP, replacement string: result_MIP\n",
      "Output path: /media/raphael/data/works/20231220_C3_14_2h_ofON/bleach_correction/w_background/C3.14_ON_01_w1SPI-488_s4/cell_33/result_MIP\n",
      "\n",
      "Performing segmentation of ('nuclei',)\n",
      "\n",
      "2024-05-27 10:12:42,806 [INFO] >>>> using CPU\n",
      "2024-05-27 10:12:42,860 [INFO] ~~~ FINDING MASKS ~~~\n"
     ]
    },
    {
     "name": "stderr",
     "output_type": "stream",
     "text": [
      "\n"
     ]
    },
    {
     "name": "stdout",
     "output_type": "stream",
     "text": [
      "2024-05-27 10:12:43,444 [INFO] >>>> TOTAL TIME 0.58 sec\n",
      "\n",
      " Creating outputs ...\n",
      "\n"
     ]
    },
    {
     "name": "stderr",
     "output_type": "stream",
     "text": [
      "100%|█████████████████████████████████████████████| 1/1 [00:00<00:00,  3.49it/s]"
     ]
    },
    {
     "name": "stdout",
     "output_type": "stream",
     "text": [
      "\n",
      "Segmentation of provided images finished (0.9273848533630371s)\n",
      "Segmenting image : C3.14_ON_01_w1SPI-488_s4_cell_33_t037.tif\n",
      ">>> process file\n",
      "input file (size): (156, 161)\n",
      "resized file (size): (156, 161)\n",
      "Creating name to path to store data.\n",
      "Replacement parameters found: original string: MIP, replacement string: result_MIP\n",
      "Output path: /media/raphael/data/works/20231220_C3_14_2h_ofON/bleach_correction/w_background/C3.14_ON_01_w1SPI-488_s4/cell_33/result_MIP\n",
      "\n",
      "Performing segmentation of ('nuclei',)\n",
      "\n",
      "2024-05-27 10:12:43,738 [INFO] >>>> using CPU\n",
      "2024-05-27 10:12:43,794 [INFO] ~~~ FINDING MASKS ~~~\n"
     ]
    },
    {
     "name": "stderr",
     "output_type": "stream",
     "text": [
      "\n"
     ]
    },
    {
     "name": "stdout",
     "output_type": "stream",
     "text": [
      "2024-05-27 10:12:44,296 [INFO] >>>> TOTAL TIME 0.50 sec\n",
      "\n",
      " Creating outputs ...\n",
      "\n"
     ]
    },
    {
     "name": "stderr",
     "output_type": "stream",
     "text": [
      "100%|█████████████████████████████████████████████| 1/1 [00:00<00:00,  3.32it/s]"
     ]
    },
    {
     "name": "stdout",
     "output_type": "stream",
     "text": [
      "\n",
      "Segmentation of provided images finished (0.8632500171661377s)\n",
      "Segmenting image : C3.14_ON_01_w1SPI-488_s4_cell_33_t073.tif\n",
      ">>> process file\n",
      "input file (size): (156, 161)\n",
      "resized file (size): (156, 161)\n",
      "Creating name to path to store data.\n",
      "Replacement parameters found: original string: MIP, replacement string: result_MIP\n",
      "Output path: /media/raphael/data/works/20231220_C3_14_2h_ofON/bleach_correction/w_background/C3.14_ON_01_w1SPI-488_s4/cell_33/result_MIP\n",
      "\n",
      "Performing segmentation of ('nuclei',)\n",
      "\n",
      "2024-05-27 10:12:44,606 [INFO] >>>> using CPU\n",
      "2024-05-27 10:12:44,662 [INFO] ~~~ FINDING MASKS ~~~\n"
     ]
    },
    {
     "name": "stderr",
     "output_type": "stream",
     "text": [
      "\n"
     ]
    },
    {
     "name": "stdout",
     "output_type": "stream",
     "text": [
      "2024-05-27 10:12:45,282 [INFO] >>>> TOTAL TIME 0.62 sec\n",
      "\n",
      " Creating outputs ...\n",
      "\n"
     ]
    },
    {
     "name": "stderr",
     "output_type": "stream",
     "text": [
      "100%|█████████████████████████████████████████████| 1/1 [00:00<00:00,  2.98it/s]"
     ]
    },
    {
     "name": "stdout",
     "output_type": "stream",
     "text": [
      "\n",
      "Segmentation of provided images finished (1.014695405960083s)\n",
      "Segmenting image : C3.14_ON_01_w1SPI-488_s4_cell_33_t007.tif\n",
      ">>> process file\n",
      "input file (size): (156, 161)\n",
      "resized file (size): (156, 161)\n",
      "Creating name to path to store data.\n",
      "Replacement parameters found: original string: MIP, replacement string: result_MIP\n",
      "Output path: /media/raphael/data/works/20231220_C3_14_2h_ofON/bleach_correction/w_background/C3.14_ON_01_w1SPI-488_s4/cell_33/result_MIP\n",
      "\n",
      "Performing segmentation of ('nuclei',)\n",
      "\n",
      "2024-05-27 10:12:45,625 [INFO] >>>> using CPU\n",
      "2024-05-27 10:12:45,680 [INFO] ~~~ FINDING MASKS ~~~\n"
     ]
    },
    {
     "name": "stderr",
     "output_type": "stream",
     "text": [
      "\n"
     ]
    },
    {
     "name": "stdout",
     "output_type": "stream",
     "text": [
      "2024-05-27 10:12:46,239 [INFO] >>>> TOTAL TIME 0.56 sec\n",
      "\n",
      " Creating outputs ...\n",
      "\n"
     ]
    },
    {
     "name": "stderr",
     "output_type": "stream",
     "text": [
      "100%|█████████████████████████████████████████████| 1/1 [00:00<00:00,  3.55it/s]"
     ]
    },
    {
     "name": "stdout",
     "output_type": "stream",
     "text": [
      "\n",
      "Segmentation of provided images finished (0.8983519077301025s)\n",
      "Segmenting image : C3.14_ON_01_w1SPI-488_s4_cell_33_t029.tif\n",
      ">>> process file\n",
      "input file (size): (156, 161)\n",
      "resized file (size): (156, 161)\n",
      "Creating name to path to store data.\n",
      "Replacement parameters found: original string: MIP, replacement string: result_MIP\n",
      "Output path: /media/raphael/data/works/20231220_C3_14_2h_ofON/bleach_correction/w_background/C3.14_ON_01_w1SPI-488_s4/cell_33/result_MIP\n",
      "\n",
      "Performing segmentation of ('nuclei',)\n",
      "\n",
      "2024-05-27 10:12:46,528 [INFO] >>>> using CPU\n",
      "2024-05-27 10:12:46,579 [INFO] ~~~ FINDING MASKS ~~~\n"
     ]
    },
    {
     "name": "stderr",
     "output_type": "stream",
     "text": [
      "\n"
     ]
    },
    {
     "name": "stdout",
     "output_type": "stream",
     "text": [
      "2024-05-27 10:12:47,170 [INFO] >>>> TOTAL TIME 0.59 sec\n",
      "\n",
      " Creating outputs ...\n",
      "\n"
     ]
    },
    {
     "name": "stderr",
     "output_type": "stream",
     "text": [
      "100%|█████████████████████████████████████████████| 1/1 [00:00<00:00,  3.44it/s]"
     ]
    },
    {
     "name": "stdout",
     "output_type": "stream",
     "text": [
      "\n",
      "Segmentation of provided images finished (0.9363999366760254s)\n",
      "Segmenting image : C3.14_ON_01_w1SPI-488_s4_cell_33_t028.tif\n",
      ">>> process file\n",
      "input file (size): (156, 161)\n",
      "resized file (size): (156, 161)\n",
      "Creating name to path to store data.\n",
      "Replacement parameters found: original string: MIP, replacement string: result_MIP\n",
      "Output path: /media/raphael/data/works/20231220_C3_14_2h_ofON/bleach_correction/w_background/C3.14_ON_01_w1SPI-488_s4/cell_33/result_MIP\n",
      "\n",
      "Performing segmentation of ('nuclei',)\n",
      "\n",
      "2024-05-27 10:12:47,468 [INFO] >>>> using CPU\n",
      "2024-05-27 10:12:47,521 [INFO] ~~~ FINDING MASKS ~~~\n"
     ]
    },
    {
     "name": "stderr",
     "output_type": "stream",
     "text": [
      "\n"
     ]
    },
    {
     "name": "stdout",
     "output_type": "stream",
     "text": [
      "2024-05-27 10:12:48,501 [INFO] >>>> TOTAL TIME 0.98 sec\n",
      "\n",
      " Creating outputs ...\n",
      "\n"
     ]
    },
    {
     "name": "stderr",
     "output_type": "stream",
     "text": [
      "100%|█████████████████████████████████████████████| 1/1 [00:00<00:00,  3.47it/s]"
     ]
    },
    {
     "name": "stdout",
     "output_type": "stream",
     "text": [
      "\n",
      "Segmentation of provided images finished (1.3230445384979248s)\n",
      "Segmenting image : C3.14_ON_01_w1SPI-488_s4_cell_33_t056.tif\n",
      ">>> process file\n",
      "input file (size): (156, 161)\n",
      "resized file (size): (156, 161)\n",
      "Creating name to path to store data.\n",
      "Replacement parameters found: original string: MIP, replacement string: result_MIP\n",
      "Output path: /media/raphael/data/works/20231220_C3_14_2h_ofON/bleach_correction/w_background/C3.14_ON_01_w1SPI-488_s4/cell_33/result_MIP\n",
      "\n",
      "Performing segmentation of ('nuclei',)\n",
      "\n",
      "2024-05-27 10:12:48,797 [INFO] >>>> using CPU\n",
      "2024-05-27 10:12:48,852 [INFO] ~~~ FINDING MASKS ~~~\n"
     ]
    },
    {
     "name": "stderr",
     "output_type": "stream",
     "text": [
      "\n"
     ]
    },
    {
     "name": "stdout",
     "output_type": "stream",
     "text": [
      "2024-05-27 10:12:49,508 [INFO] >>>> TOTAL TIME 0.66 sec\n",
      "\n",
      " Creating outputs ...\n",
      "\n"
     ]
    },
    {
     "name": "stderr",
     "output_type": "stream",
     "text": [
      "100%|█████████████████████████████████████████████| 1/1 [00:00<00:00,  3.40it/s]"
     ]
    },
    {
     "name": "stdout",
     "output_type": "stream",
     "text": [
      "\n",
      "Segmentation of provided images finished (1.008185625076294s)\n",
      "Segmenting image : C3.14_ON_01_w1SPI-488_s4_cell_33_t113.tif\n",
      ">>> process file\n",
      "input file (size): (156, 161)\n",
      "resized file (size): (156, 161)\n",
      "Creating name to path to store data.\n",
      "Replacement parameters found: original string: MIP, replacement string: result_MIP\n",
      "Output path: /media/raphael/data/works/20231220_C3_14_2h_ofON/bleach_correction/w_background/C3.14_ON_01_w1SPI-488_s4/cell_33/result_MIP\n",
      "\n",
      "Performing segmentation of ('nuclei',)\n",
      "\n",
      "2024-05-27 10:12:49,809 [INFO] >>>> using CPU\n",
      "2024-05-27 10:12:49,866 [INFO] ~~~ FINDING MASKS ~~~\n"
     ]
    },
    {
     "name": "stderr",
     "output_type": "stream",
     "text": [
      "\n"
     ]
    },
    {
     "name": "stdout",
     "output_type": "stream",
     "text": [
      "2024-05-27 10:12:50,394 [INFO] >>>> TOTAL TIME 0.53 sec\n",
      "\n",
      " Creating outputs ...\n",
      "\n"
     ]
    },
    {
     "name": "stderr",
     "output_type": "stream",
     "text": [
      "100%|█████████████████████████████████████████████| 1/1 [00:00<00:00,  3.43it/s]"
     ]
    },
    {
     "name": "stdout",
     "output_type": "stream",
     "text": [
      "\n",
      "Segmentation of provided images finished (0.8791642189025879s)\n",
      "Segmenting image : C3.14_ON_01_w1SPI-488_s4_cell_33_t101.tif\n",
      ">>> process file\n",
      "input file (size): (156, 161)\n",
      "resized file (size): (156, 161)\n",
      "Creating name to path to store data.\n",
      "Replacement parameters found: original string: MIP, replacement string: result_MIP\n",
      "Output path: /media/raphael/data/works/20231220_C3_14_2h_ofON/bleach_correction/w_background/C3.14_ON_01_w1SPI-488_s4/cell_33/result_MIP\n",
      "\n",
      "Performing segmentation of ('nuclei',)\n",
      "\n",
      "2024-05-27 10:12:50,692 [INFO] >>>> using CPU\n",
      "2024-05-27 10:12:50,744 [INFO] ~~~ FINDING MASKS ~~~\n"
     ]
    },
    {
     "name": "stderr",
     "output_type": "stream",
     "text": [
      "\n"
     ]
    },
    {
     "name": "stdout",
     "output_type": "stream",
     "text": [
      "2024-05-27 10:12:51,344 [INFO] >>>> TOTAL TIME 0.60 sec\n",
      "\n",
      " Creating outputs ...\n",
      "\n"
     ]
    },
    {
     "name": "stderr",
     "output_type": "stream",
     "text": [
      "100%|█████████████████████████████████████████████| 1/1 [00:00<00:00,  3.21it/s]"
     ]
    },
    {
     "name": "stdout",
     "output_type": "stream",
     "text": [
      "\n",
      "Segmentation of provided images finished (0.9661834239959717s)\n",
      "Segmenting image : C3.14_ON_01_w1SPI-488_s4_cell_33_t089.tif\n",
      ">>> process file\n",
      "input file (size): (156, 161)\n",
      "resized file (size): (156, 161)\n",
      "Creating name to path to store data.\n",
      "Replacement parameters found: original string: MIP, replacement string: result_MIP\n",
      "Output path: /media/raphael/data/works/20231220_C3_14_2h_ofON/bleach_correction/w_background/C3.14_ON_01_w1SPI-488_s4/cell_33/result_MIP\n",
      "\n",
      "Performing segmentation of ('nuclei',)\n",
      "\n",
      "2024-05-27 10:12:51,663 [INFO] >>>> using CPU\n",
      "2024-05-27 10:12:51,721 [INFO] ~~~ FINDING MASKS ~~~\n"
     ]
    },
    {
     "name": "stderr",
     "output_type": "stream",
     "text": [
      "\n"
     ]
    },
    {
     "name": "stdout",
     "output_type": "stream",
     "text": [
      "2024-05-27 10:12:52,282 [INFO] >>>> TOTAL TIME 0.56 sec\n",
      "\n",
      " Creating outputs ...\n",
      "\n"
     ]
    },
    {
     "name": "stderr",
     "output_type": "stream",
     "text": [
      "100%|█████████████████████████████████████████████| 1/1 [00:00<00:00,  3.40it/s]"
     ]
    },
    {
     "name": "stdout",
     "output_type": "stream",
     "text": [
      "\n",
      "Segmentation of provided images finished (0.9166419506072998s)\n",
      "Segmenting image : C3.14_ON_01_w1SPI-488_s4_cell_33_t060.tif\n",
      ">>> process file\n",
      "input file (size): (156, 161)\n",
      "resized file (size): (156, 161)\n",
      "Creating name to path to store data.\n",
      "Replacement parameters found: original string: MIP, replacement string: result_MIP\n",
      "Output path: /media/raphael/data/works/20231220_C3_14_2h_ofON/bleach_correction/w_background/C3.14_ON_01_w1SPI-488_s4/cell_33/result_MIP\n",
      "\n",
      "Performing segmentation of ('nuclei',)\n",
      "\n",
      "2024-05-27 10:12:52,583 [INFO] >>>> using CPU\n",
      "2024-05-27 10:12:52,636 [INFO] ~~~ FINDING MASKS ~~~\n"
     ]
    },
    {
     "name": "stderr",
     "output_type": "stream",
     "text": [
      "\n"
     ]
    },
    {
     "name": "stdout",
     "output_type": "stream",
     "text": [
      "2024-05-27 10:12:53,250 [INFO] >>>> TOTAL TIME 0.61 sec\n",
      "\n",
      " Creating outputs ...\n",
      "\n"
     ]
    },
    {
     "name": "stderr",
     "output_type": "stream",
     "text": [
      "100%|█████████████████████████████████████████████| 1/1 [00:00<00:00,  3.37it/s]"
     ]
    },
    {
     "name": "stdout",
     "output_type": "stream",
     "text": [
      "\n",
      "Segmentation of provided images finished (0.9658927917480469s)\n",
      "Segmenting image : C3.14_ON_01_w1SPI-488_s4_cell_33_t032.tif\n",
      ">>> process file\n",
      "input file (size): (156, 161)\n",
      "resized file (size): (156, 161)\n",
      "Creating name to path to store data.\n",
      "Replacement parameters found: original string: MIP, replacement string: result_MIP\n",
      "Output path: /media/raphael/data/works/20231220_C3_14_2h_ofON/bleach_correction/w_background/C3.14_ON_01_w1SPI-488_s4/cell_33/result_MIP\n",
      "\n",
      "Performing segmentation of ('nuclei',)\n",
      "\n",
      "2024-05-27 10:12:53,553 [INFO] >>>> using CPU\n",
      "2024-05-27 10:12:53,609 [INFO] ~~~ FINDING MASKS ~~~\n"
     ]
    },
    {
     "name": "stderr",
     "output_type": "stream",
     "text": [
      "\n"
     ]
    },
    {
     "name": "stdout",
     "output_type": "stream",
     "text": [
      "2024-05-27 10:12:54,194 [INFO] >>>> TOTAL TIME 0.59 sec\n",
      "\n",
      " Creating outputs ...\n",
      "\n"
     ]
    },
    {
     "name": "stderr",
     "output_type": "stream",
     "text": [
      "100%|█████████████████████████████████████████████| 1/1 [00:00<00:00,  3.41it/s]"
     ]
    },
    {
     "name": "stdout",
     "output_type": "stream",
     "text": [
      "\n",
      "Segmentation of provided images finished (0.9367666244506836s)\n",
      "Segmenting image : C3.14_ON_01_w1SPI-488_s4_cell_33_t054.tif\n",
      ">>> process file\n",
      "input file (size): (156, 161)\n",
      "resized file (size): (156, 161)\n",
      "Creating name to path to store data.\n",
      "Replacement parameters found: original string: MIP, replacement string: result_MIP\n",
      "Output path: /media/raphael/data/works/20231220_C3_14_2h_ofON/bleach_correction/w_background/C3.14_ON_01_w1SPI-488_s4/cell_33/result_MIP\n",
      "\n",
      "Performing segmentation of ('nuclei',)\n",
      "\n",
      "2024-05-27 10:12:54,494 [INFO] >>>> using CPU\n",
      "2024-05-27 10:12:54,548 [INFO] ~~~ FINDING MASKS ~~~\n"
     ]
    },
    {
     "name": "stderr",
     "output_type": "stream",
     "text": [
      "\n"
     ]
    },
    {
     "name": "stdout",
     "output_type": "stream",
     "text": [
      "2024-05-27 10:12:55,121 [INFO] >>>> TOTAL TIME 0.57 sec\n",
      "\n",
      " Creating outputs ...\n",
      "\n"
     ]
    },
    {
     "name": "stderr",
     "output_type": "stream",
     "text": [
      "100%|█████████████████████████████████████████████| 1/1 [00:00<00:00,  3.57it/s]"
     ]
    },
    {
     "name": "stdout",
     "output_type": "stream",
     "text": [
      "\n",
      "Segmentation of provided images finished (0.9098408222198486s)\n",
      "Segmenting image : C3.14_ON_01_w1SPI-488_s4_cell_33_t011.tif\n",
      ">>> process file\n",
      "input file (size): (156, 161)\n",
      "resized file (size): (156, 161)\n",
      "Creating name to path to store data.\n",
      "Replacement parameters found: original string: MIP, replacement string: result_MIP\n",
      "Output path: /media/raphael/data/works/20231220_C3_14_2h_ofON/bleach_correction/w_background/C3.14_ON_01_w1SPI-488_s4/cell_33/result_MIP\n",
      "\n",
      "Performing segmentation of ('nuclei',)\n",
      "\n",
      "2024-05-27 10:12:55,409 [INFO] >>>> using CPU\n",
      "2024-05-27 10:12:55,464 [INFO] ~~~ FINDING MASKS ~~~\n"
     ]
    },
    {
     "name": "stderr",
     "output_type": "stream",
     "text": [
      "\n"
     ]
    },
    {
     "name": "stdout",
     "output_type": "stream",
     "text": [
      "2024-05-27 10:12:55,982 [INFO] >>>> TOTAL TIME 0.52 sec\n",
      "\n",
      " Creating outputs ...\n",
      "\n"
     ]
    },
    {
     "name": "stderr",
     "output_type": "stream",
     "text": [
      "100%|█████████████████████████████████████████████| 1/1 [00:00<00:00,  3.41it/s]"
     ]
    },
    {
     "name": "stdout",
     "output_type": "stream",
     "text": [
      "\n",
      "Segmentation of provided images finished (0.8687460422515869s)\n",
      "Segmenting image : C3.14_ON_01_w1SPI-488_s4_cell_33_t010.tif\n",
      ">>> process file\n",
      "input file (size): (156, 161)\n",
      "resized file (size): (156, 161)\n",
      "Creating name to path to store data.\n",
      "Replacement parameters found: original string: MIP, replacement string: result_MIP\n",
      "Output path: /media/raphael/data/works/20231220_C3_14_2h_ofON/bleach_correction/w_background/C3.14_ON_01_w1SPI-488_s4/cell_33/result_MIP\n",
      "\n",
      "Performing segmentation of ('nuclei',)\n",
      "\n",
      "2024-05-27 10:12:56,282 [INFO] >>>> using CPU\n",
      "2024-05-27 10:12:56,337 [INFO] ~~~ FINDING MASKS ~~~\n"
     ]
    },
    {
     "name": "stderr",
     "output_type": "stream",
     "text": [
      "\n"
     ]
    },
    {
     "name": "stdout",
     "output_type": "stream",
     "text": [
      "2024-05-27 10:12:56,864 [INFO] >>>> TOTAL TIME 0.53 sec\n",
      "\n",
      " Creating outputs ...\n",
      "\n"
     ]
    },
    {
     "name": "stderr",
     "output_type": "stream",
     "text": [
      "100%|█████████████████████████████████████████████| 1/1 [00:00<00:00,  3.55it/s]"
     ]
    },
    {
     "name": "stdout",
     "output_type": "stream",
     "text": [
      "\n",
      "Segmentation of provided images finished (0.8700716495513916s)\n",
      "Segmenting image : C3.14_ON_01_w1SPI-488_s4_cell_33_t065.tif\n",
      ">>> process file\n",
      "input file (size): (156, 161)\n",
      "resized file (size): (156, 161)\n",
      "Creating name to path to store data.\n",
      "Replacement parameters found: original string: MIP, replacement string: result_MIP\n",
      "Output path: /media/raphael/data/works/20231220_C3_14_2h_ofON/bleach_correction/w_background/C3.14_ON_01_w1SPI-488_s4/cell_33/result_MIP\n",
      "\n",
      "Performing segmentation of ('nuclei',)\n",
      "\n",
      "2024-05-27 10:12:57,156 [INFO] >>>> using CPU\n",
      "2024-05-27 10:12:57,211 [INFO] ~~~ FINDING MASKS ~~~\n"
     ]
    },
    {
     "name": "stderr",
     "output_type": "stream",
     "text": [
      "\n"
     ]
    },
    {
     "name": "stdout",
     "output_type": "stream",
     "text": [
      "2024-05-27 10:12:57,738 [INFO] >>>> TOTAL TIME 0.53 sec\n",
      "\n",
      " Creating outputs ...\n",
      "\n"
     ]
    },
    {
     "name": "stderr",
     "output_type": "stream",
     "text": [
      "100%|█████████████████████████████████████████████| 1/1 [00:00<00:00,  3.51it/s]"
     ]
    },
    {
     "name": "stdout",
     "output_type": "stream",
     "text": [
      "\n",
      "Segmentation of provided images finished (0.8701894283294678s)\n",
      "Segmenting image : C3.14_ON_01_w1SPI-488_s4_cell_33_t102.tif\n",
      ">>> process file\n",
      "input file (size): (156, 161)\n",
      "resized file (size): (156, 161)\n",
      "Creating name to path to store data.\n",
      "Replacement parameters found: original string: MIP, replacement string: result_MIP\n",
      "Output path: /media/raphael/data/works/20231220_C3_14_2h_ofON/bleach_correction/w_background/C3.14_ON_01_w1SPI-488_s4/cell_33/result_MIP\n",
      "\n",
      "Performing segmentation of ('nuclei',)\n",
      "\n",
      "2024-05-27 10:12:58,031 [INFO] >>>> using CPU\n",
      "2024-05-27 10:12:58,085 [INFO] ~~~ FINDING MASKS ~~~\n"
     ]
    },
    {
     "name": "stderr",
     "output_type": "stream",
     "text": [
      "\n"
     ]
    },
    {
     "name": "stdout",
     "output_type": "stream",
     "text": [
      "2024-05-27 10:12:58,606 [INFO] >>>> TOTAL TIME 0.52 sec\n",
      "\n",
      " Creating outputs ...\n",
      "\n"
     ]
    },
    {
     "name": "stderr",
     "output_type": "stream",
     "text": [
      "100%|█████████████████████████████████████████████| 1/1 [00:00<00:00,  3.41it/s]"
     ]
    },
    {
     "name": "stdout",
     "output_type": "stream",
     "text": [
      "\n",
      "Segmentation of provided images finished (0.871638298034668s)\n",
      "Segmenting image : C3.14_ON_01_w1SPI-488_s4_cell_33_t022.tif\n",
      ">>> process file\n",
      "input file (size): (156, 161)\n",
      "resized file (size): (156, 161)\n",
      "Creating name to path to store data.\n",
      "Replacement parameters found: original string: MIP, replacement string: result_MIP\n",
      "Output path: /media/raphael/data/works/20231220_C3_14_2h_ofON/bleach_correction/w_background/C3.14_ON_01_w1SPI-488_s4/cell_33/result_MIP\n",
      "\n",
      "Performing segmentation of ('nuclei',)\n",
      "\n",
      "2024-05-27 10:12:58,908 [INFO] >>>> using CPU\n",
      "2024-05-27 10:12:58,963 [INFO] ~~~ FINDING MASKS ~~~\n"
     ]
    },
    {
     "name": "stderr",
     "output_type": "stream",
     "text": [
      "\n"
     ]
    },
    {
     "name": "stdout",
     "output_type": "stream",
     "text": [
      "2024-05-27 10:12:59,482 [INFO] >>>> TOTAL TIME 0.52 sec\n",
      "\n",
      " Creating outputs ...\n",
      "\n"
     ]
    },
    {
     "name": "stderr",
     "output_type": "stream",
     "text": [
      "100%|█████████████████████████████████████████████| 1/1 [00:00<00:00,  3.54it/s]"
     ]
    },
    {
     "name": "stdout",
     "output_type": "stream",
     "text": [
      "\n",
      "Segmentation of provided images finished (0.8592662811279297s)\n",
      "Segmenting image : C3.14_ON_01_w1SPI-488_s4_cell_33_t004.tif\n",
      ">>> process file\n",
      "input file (size): (156, 161)\n",
      "resized file (size): (156, 161)\n",
      "Creating name to path to store data.\n",
      "Replacement parameters found: original string: MIP, replacement string: result_MIP\n",
      "Output path: /media/raphael/data/works/20231220_C3_14_2h_ofON/bleach_correction/w_background/C3.14_ON_01_w1SPI-488_s4/cell_33/result_MIP\n",
      "\n",
      "Performing segmentation of ('nuclei',)\n",
      "\n",
      "2024-05-27 10:12:59,772 [INFO] >>>> using CPU\n",
      "2024-05-27 10:12:59,826 [INFO] ~~~ FINDING MASKS ~~~\n"
     ]
    },
    {
     "name": "stderr",
     "output_type": "stream",
     "text": [
      "\n"
     ]
    },
    {
     "name": "stdout",
     "output_type": "stream",
     "text": [
      "2024-05-27 10:13:00,309 [INFO] >>>> TOTAL TIME 0.48 sec\n",
      "\n",
      " Creating outputs ...\n",
      "\n"
     ]
    },
    {
     "name": "stderr",
     "output_type": "stream",
     "text": [
      "100%|█████████████████████████████████████████████| 1/1 [00:00<00:00,  3.57it/s]"
     ]
    },
    {
     "name": "stdout",
     "output_type": "stream",
     "text": [
      "\n",
      "Segmentation of provided images finished (0.8193728923797607s)\n",
      "Segmenting image : C3.14_ON_01_w1SPI-488_s4_cell_33_t088.tif\n",
      ">>> process file\n",
      "input file (size): (156, 161)\n",
      "resized file (size): (156, 161)\n",
      "Creating name to path to store data.\n",
      "Replacement parameters found: original string: MIP, replacement string: result_MIP\n",
      "Output path: /media/raphael/data/works/20231220_C3_14_2h_ofON/bleach_correction/w_background/C3.14_ON_01_w1SPI-488_s4/cell_33/result_MIP\n",
      "\n",
      "Performing segmentation of ('nuclei',)\n",
      "\n",
      "2024-05-27 10:13:00,596 [INFO] >>>> using CPU\n",
      "2024-05-27 10:13:00,651 [INFO] ~~~ FINDING MASKS ~~~\n"
     ]
    },
    {
     "name": "stderr",
     "output_type": "stream",
     "text": [
      "\n"
     ]
    },
    {
     "name": "stdout",
     "output_type": "stream",
     "text": [
      "2024-05-27 10:13:01,212 [INFO] >>>> TOTAL TIME 0.56 sec\n",
      "\n",
      " Creating outputs ...\n",
      "\n"
     ]
    },
    {
     "name": "stderr",
     "output_type": "stream",
     "text": [
      "100%|█████████████████████████████████████████████| 1/1 [00:00<00:00,  3.51it/s]"
     ]
    },
    {
     "name": "stdout",
     "output_type": "stream",
     "text": [
      "\n",
      "Segmentation of provided images finished (0.9032783508300781s)\n",
      "Segmenting image : C3.14_ON_01_w1SPI-488_s4_cell_33_t043.tif\n",
      ">>> process file\n",
      "input file (size): (156, 161)\n",
      "resized file (size): (156, 161)\n",
      "Creating name to path to store data.\n",
      "Replacement parameters found: original string: MIP, replacement string: result_MIP\n",
      "Output path: /media/raphael/data/works/20231220_C3_14_2h_ofON/bleach_correction/w_background/C3.14_ON_01_w1SPI-488_s4/cell_33/result_MIP\n",
      "\n",
      "Performing segmentation of ('nuclei',)\n",
      "\n",
      "2024-05-27 10:13:01,505 [INFO] >>>> using CPU\n",
      "2024-05-27 10:13:01,560 [INFO] ~~~ FINDING MASKS ~~~\n"
     ]
    },
    {
     "name": "stderr",
     "output_type": "stream",
     "text": [
      "\n"
     ]
    },
    {
     "name": "stdout",
     "output_type": "stream",
     "text": [
      "2024-05-27 10:13:02,086 [INFO] >>>> TOTAL TIME 0.53 sec\n",
      "\n",
      " Creating outputs ...\n",
      "\n"
     ]
    },
    {
     "name": "stderr",
     "output_type": "stream",
     "text": [
      "100%|█████████████████████████████████████████████| 1/1 [00:00<00:00,  3.54it/s]"
     ]
    },
    {
     "name": "stdout",
     "output_type": "stream",
     "text": [
      "\n",
      "Segmentation of provided images finished (0.8667855262756348s)\n",
      "Segmenting image : C3.14_ON_01_w1SPI-488_s4_cell_33_t096.tif\n",
      ">>> process file\n",
      "input file (size): (156, 161)\n",
      "resized file (size): (156, 161)\n",
      "Creating name to path to store data.\n",
      "Replacement parameters found: original string: MIP, replacement string: result_MIP\n",
      "Output path: /media/raphael/data/works/20231220_C3_14_2h_ofON/bleach_correction/w_background/C3.14_ON_01_w1SPI-488_s4/cell_33/result_MIP\n",
      "\n",
      "Performing segmentation of ('nuclei',)\n",
      "\n",
      "2024-05-27 10:13:02,376 [INFO] >>>> using CPU\n",
      "2024-05-27 10:13:02,434 [INFO] ~~~ FINDING MASKS ~~~\n"
     ]
    },
    {
     "name": "stderr",
     "output_type": "stream",
     "text": [
      "\n"
     ]
    },
    {
     "name": "stdout",
     "output_type": "stream",
     "text": [
      "2024-05-27 10:13:02,991 [INFO] >>>> TOTAL TIME 0.56 sec\n",
      "\n",
      " Creating outputs ...\n",
      "\n"
     ]
    },
    {
     "name": "stderr",
     "output_type": "stream",
     "text": [
      "100%|█████████████████████████████████████████████| 1/1 [00:00<00:00,  3.51it/s]"
     ]
    },
    {
     "name": "stdout",
     "output_type": "stream",
     "text": [
      "\n",
      "Segmentation of provided images finished (0.9028024673461914s)\n",
      "Segmenting image : C3.14_ON_01_w1SPI-488_s4_cell_33_t085.tif\n",
      ">>> process file\n",
      "input file (size): (156, 161)\n",
      "resized file (size): (156, 161)\n",
      "Creating name to path to store data.\n",
      "Replacement parameters found: original string: MIP, replacement string: result_MIP\n",
      "Output path: /media/raphael/data/works/20231220_C3_14_2h_ofON/bleach_correction/w_background/C3.14_ON_01_w1SPI-488_s4/cell_33/result_MIP\n",
      "\n",
      "Performing segmentation of ('nuclei',)\n",
      "\n",
      "2024-05-27 10:13:03,284 [INFO] >>>> using CPU\n",
      "2024-05-27 10:13:03,339 [INFO] ~~~ FINDING MASKS ~~~\n"
     ]
    },
    {
     "name": "stderr",
     "output_type": "stream",
     "text": [
      "\n"
     ]
    },
    {
     "name": "stdout",
     "output_type": "stream",
     "text": [
      "2024-05-27 10:13:03,893 [INFO] >>>> TOTAL TIME 0.55 sec\n",
      "\n",
      " Creating outputs ...\n",
      "\n"
     ]
    },
    {
     "name": "stderr",
     "output_type": "stream",
     "text": [
      "100%|█████████████████████████████████████████████| 1/1 [00:00<00:00,  3.51it/s]"
     ]
    },
    {
     "name": "stdout",
     "output_type": "stream",
     "text": [
      "\n",
      "Segmentation of provided images finished (0.8963761329650879s)\n",
      "Segmenting image : C3.14_ON_01_w1SPI-488_s4_cell_33_t074.tif\n",
      ">>> process file\n",
      "input file (size): (156, 161)\n",
      "resized file (size): (156, 161)\n",
      "Creating name to path to store data.\n",
      "Replacement parameters found: original string: MIP, replacement string: result_MIP\n",
      "Output path: /media/raphael/data/works/20231220_C3_14_2h_ofON/bleach_correction/w_background/C3.14_ON_01_w1SPI-488_s4/cell_33/result_MIP\n",
      "\n",
      "Performing segmentation of ('nuclei',)\n",
      "\n",
      "2024-05-27 10:13:04,185 [INFO] >>>> using CPU\n",
      "2024-05-27 10:13:04,240 [INFO] ~~~ FINDING MASKS ~~~\n"
     ]
    },
    {
     "name": "stderr",
     "output_type": "stream",
     "text": [
      "\n"
     ]
    },
    {
     "name": "stdout",
     "output_type": "stream",
     "text": [
      "2024-05-27 10:13:04,791 [INFO] >>>> TOTAL TIME 0.55 sec\n",
      "\n",
      " Creating outputs ...\n",
      "\n"
     ]
    },
    {
     "name": "stderr",
     "output_type": "stream",
     "text": [
      "100%|█████████████████████████████████████████████| 1/1 [00:00<00:00,  3.55it/s]"
     ]
    },
    {
     "name": "stdout",
     "output_type": "stream",
     "text": [
      "\n",
      "Segmentation of provided images finished (0.8911051750183105s)\n",
      "Segmenting image : C3.14_ON_01_w1SPI-488_s4_cell_33_t044.tif\n",
      ">>> process file\n",
      "input file (size): (156, 161)\n",
      "resized file (size): (156, 161)\n",
      "Creating name to path to store data.\n",
      "Replacement parameters found: original string: MIP, replacement string: result_MIP\n",
      "Output path: /media/raphael/data/works/20231220_C3_14_2h_ofON/bleach_correction/w_background/C3.14_ON_01_w1SPI-488_s4/cell_33/result_MIP\n",
      "\n",
      "Performing segmentation of ('nuclei',)\n",
      "\n",
      "2024-05-27 10:13:05,080 [INFO] >>>> using CPU\n"
     ]
    },
    {
     "name": "stderr",
     "output_type": "stream",
     "text": [
      "\n"
     ]
    },
    {
     "name": "stdout",
     "output_type": "stream",
     "text": [
      "2024-05-27 10:13:05,494 [INFO] ~~~ FINDING MASKS ~~~\n",
      "2024-05-27 10:13:06,027 [INFO] >>>> TOTAL TIME 0.53 sec\n",
      "\n",
      " Creating outputs ...\n",
      "\n"
     ]
    },
    {
     "name": "stderr",
     "output_type": "stream",
     "text": [
      "100%|█████████████████████████████████████████████| 1/1 [00:00<00:00,  3.53it/s]"
     ]
    },
    {
     "name": "stdout",
     "output_type": "stream",
     "text": [
      "\n",
      "Segmentation of provided images finished (1.2335560321807861s)\n",
      "Segmenting image : C3.14_ON_01_w1SPI-488_s4_cell_33_t050.tif\n",
      ">>> process file\n",
      "input file (size): (156, 161)\n",
      "resized file (size): (156, 161)\n",
      "Creating name to path to store data.\n",
      "Replacement parameters found: original string: MIP, replacement string: result_MIP\n",
      "Output path: /media/raphael/data/works/20231220_C3_14_2h_ofON/bleach_correction/w_background/C3.14_ON_01_w1SPI-488_s4/cell_33/result_MIP\n",
      "\n",
      "Performing segmentation of ('nuclei',)\n",
      "\n",
      "2024-05-27 10:13:06,320 [INFO] >>>> using CPU\n",
      "2024-05-27 10:13:06,375 [INFO] ~~~ FINDING MASKS ~~~\n"
     ]
    },
    {
     "name": "stderr",
     "output_type": "stream",
     "text": [
      "\n"
     ]
    },
    {
     "name": "stdout",
     "output_type": "stream",
     "text": [
      "2024-05-27 10:13:06,886 [INFO] >>>> TOTAL TIME 0.51 sec\n",
      "\n",
      " Creating outputs ...\n",
      "\n"
     ]
    },
    {
     "name": "stderr",
     "output_type": "stream",
     "text": [
      "100%|█████████████████████████████████████████████| 1/1 [00:00<00:00,  3.53it/s]"
     ]
    },
    {
     "name": "stdout",
     "output_type": "stream",
     "text": [
      "\n",
      "Segmentation of provided images finished (0.8513004779815674s)\n",
      "Segmenting image : C3.14_ON_01_w1SPI-488_s4_cell_33_t027.tif\n",
      ">>> process file\n",
      "input file (size): (156, 161)\n",
      "resized file (size): (156, 161)\n",
      "Creating name to path to store data.\n",
      "Replacement parameters found: original string: MIP, replacement string: result_MIP\n",
      "Output path: /media/raphael/data/works/20231220_C3_14_2h_ofON/bleach_correction/w_background/C3.14_ON_01_w1SPI-488_s4/cell_33/result_MIP\n",
      "\n",
      "Performing segmentation of ('nuclei',)\n",
      "\n",
      "2024-05-27 10:13:07,176 [INFO] >>>> using CPU\n",
      "2024-05-27 10:13:07,232 [INFO] ~~~ FINDING MASKS ~~~\n"
     ]
    },
    {
     "name": "stderr",
     "output_type": "stream",
     "text": [
      "\n"
     ]
    },
    {
     "name": "stdout",
     "output_type": "stream",
     "text": [
      "2024-05-27 10:13:07,766 [INFO] >>>> TOTAL TIME 0.53 sec\n",
      "\n",
      " Creating outputs ...\n",
      "\n"
     ]
    },
    {
     "name": "stderr",
     "output_type": "stream",
     "text": [
      "100%|█████████████████████████████████████████████| 1/1 [00:00<00:00,  3.54it/s]"
     ]
    },
    {
     "name": "stdout",
     "output_type": "stream",
     "text": [
      "\n",
      "Segmentation of provided images finished (0.8744645118713379s)\n",
      "Segmenting image : C3.14_ON_01_w1SPI-488_s4_cell_33_t112.tif\n",
      ">>> process file\n",
      "input file (size): (156, 161)\n",
      "resized file (size): (156, 161)\n",
      "Creating name to path to store data.\n",
      "Replacement parameters found: original string: MIP, replacement string: result_MIP\n",
      "Output path: /media/raphael/data/works/20231220_C3_14_2h_ofON/bleach_correction/w_background/C3.14_ON_01_w1SPI-488_s4/cell_33/result_MIP\n",
      "\n",
      "Performing segmentation of ('nuclei',)\n",
      "\n",
      "2024-05-27 10:13:08,055 [INFO] >>>> using CPU\n",
      "2024-05-27 10:13:08,110 [INFO] ~~~ FINDING MASKS ~~~\n"
     ]
    },
    {
     "name": "stderr",
     "output_type": "stream",
     "text": [
      "\n"
     ]
    },
    {
     "name": "stdout",
     "output_type": "stream",
     "text": [
      "2024-05-27 10:13:08,670 [INFO] >>>> TOTAL TIME 0.56 sec\n",
      "\n",
      " Creating outputs ...\n",
      "\n"
     ]
    },
    {
     "name": "stderr",
     "output_type": "stream",
     "text": [
      "100%|█████████████████████████████████████████████| 1/1 [00:00<00:00,  3.53it/s]"
     ]
    },
    {
     "name": "stdout",
     "output_type": "stream",
     "text": [
      "\n",
      "Segmentation of provided images finished (0.9013664722442627s)\n",
      "Segmenting image : C3.14_ON_01_w1SPI-488_s4_cell_33_t110.tif\n",
      ">>> process file\n",
      "input file (size): (156, 161)\n",
      "resized file (size): (156, 161)\n",
      "Creating name to path to store data.\n",
      "Replacement parameters found: original string: MIP, replacement string: result_MIP\n",
      "Output path: /media/raphael/data/works/20231220_C3_14_2h_ofON/bleach_correction/w_background/C3.14_ON_01_w1SPI-488_s4/cell_33/result_MIP\n",
      "\n",
      "Performing segmentation of ('nuclei',)\n",
      "\n",
      "2024-05-27 10:13:08,961 [INFO] >>>> using CPU\n",
      "2024-05-27 10:13:09,015 [INFO] ~~~ FINDING MASKS ~~~\n"
     ]
    },
    {
     "name": "stderr",
     "output_type": "stream",
     "text": [
      "\n"
     ]
    },
    {
     "name": "stdout",
     "output_type": "stream",
     "text": [
      "2024-05-27 10:13:09,576 [INFO] >>>> TOTAL TIME 0.56 sec\n",
      "\n",
      " Creating outputs ...\n",
      "\n"
     ]
    },
    {
     "name": "stderr",
     "output_type": "stream",
     "text": [
      "100%|█████████████████████████████████████████████| 1/1 [00:00<00:00,  3.52it/s]"
     ]
    },
    {
     "name": "stdout",
     "output_type": "stream",
     "text": [
      "\n",
      "Segmentation of provided images finished (0.9021599292755127s)\n",
      "Segmenting image : C3.14_ON_01_w1SPI-488_s4_cell_33_t100.tif\n",
      ">>> process file\n",
      "input file (size): (156, 161)\n",
      "resized file (size): (156, 161)\n",
      "Creating name to path to store data.\n",
      "Replacement parameters found: original string: MIP, replacement string: result_MIP\n",
      "Output path: /media/raphael/data/works/20231220_C3_14_2h_ofON/bleach_correction/w_background/C3.14_ON_01_w1SPI-488_s4/cell_33/result_MIP\n",
      "\n",
      "Performing segmentation of ('nuclei',)\n",
      "\n",
      "2024-05-27 10:13:09,868 [INFO] >>>> using CPU\n",
      "2024-05-27 10:13:09,921 [INFO] ~~~ FINDING MASKS ~~~\n"
     ]
    },
    {
     "name": "stderr",
     "output_type": "stream",
     "text": [
      "\n"
     ]
    },
    {
     "name": "stdout",
     "output_type": "stream",
     "text": [
      "2024-05-27 10:13:10,480 [INFO] >>>> TOTAL TIME 0.56 sec\n",
      "\n",
      " Creating outputs ...\n",
      "\n"
     ]
    },
    {
     "name": "stderr",
     "output_type": "stream",
     "text": [
      "100%|█████████████████████████████████████████████| 1/1 [00:00<00:00,  3.50it/s]"
     ]
    },
    {
     "name": "stdout",
     "output_type": "stream",
     "text": [
      "\n",
      "Segmentation of provided images finished (0.9008266925811768s)\n",
      "Segmenting image : C3.14_ON_01_w1SPI-488_s4_cell_33_t072.tif\n",
      ">>> process file\n",
      "input file (size): (156, 161)\n",
      "resized file (size): (156, 161)\n",
      "Creating name to path to store data.\n",
      "Replacement parameters found: original string: MIP, replacement string: result_MIP\n",
      "Output path: /media/raphael/data/works/20231220_C3_14_2h_ofON/bleach_correction/w_background/C3.14_ON_01_w1SPI-488_s4/cell_33/result_MIP\n",
      "\n",
      "Performing segmentation of ('nuclei',)\n",
      "\n",
      "2024-05-27 10:13:10,773 [INFO] >>>> using CPU\n",
      "2024-05-27 10:13:10,828 [INFO] ~~~ FINDING MASKS ~~~\n"
     ]
    },
    {
     "name": "stderr",
     "output_type": "stream",
     "text": [
      "\n"
     ]
    },
    {
     "name": "stdout",
     "output_type": "stream",
     "text": [
      "2024-05-27 10:13:11,361 [INFO] >>>> TOTAL TIME 0.53 sec\n",
      "\n",
      " Creating outputs ...\n",
      "\n"
     ]
    },
    {
     "name": "stderr",
     "output_type": "stream",
     "text": [
      "100%|█████████████████████████████████████████████| 1/1 [00:00<00:00,  3.52it/s]"
     ]
    },
    {
     "name": "stdout",
     "output_type": "stream",
     "text": [
      "\n",
      "Segmentation of provided images finished (0.8754744529724121s)\n",
      "Segmenting image : C3.14_ON_01_w1SPI-488_s4_cell_33_t009.tif\n",
      ">>> process file\n",
      "input file (size): (156, 161)\n",
      "resized file (size): (156, 161)\n",
      "Creating name to path to store data.\n",
      "Replacement parameters found: original string: MIP, replacement string: result_MIP\n",
      "Output path: /media/raphael/data/works/20231220_C3_14_2h_ofON/bleach_correction/w_background/C3.14_ON_01_w1SPI-488_s4/cell_33/result_MIP\n",
      "\n",
      "Performing segmentation of ('nuclei',)\n",
      "\n",
      "2024-05-27 10:13:11,654 [INFO] >>>> using CPU\n",
      "2024-05-27 10:13:11,709 [INFO] ~~~ FINDING MASKS ~~~\n"
     ]
    },
    {
     "name": "stderr",
     "output_type": "stream",
     "text": [
      "\n"
     ]
    },
    {
     "name": "stdout",
     "output_type": "stream",
     "text": [
      "2024-05-27 10:13:12,214 [INFO] >>>> TOTAL TIME 0.51 sec\n",
      "\n",
      " Creating outputs ...\n",
      "\n"
     ]
    },
    {
     "name": "stderr",
     "output_type": "stream",
     "text": [
      "100%|█████████████████████████████████████████████| 1/1 [00:00<00:00,  3.57it/s]"
     ]
    },
    {
     "name": "stdout",
     "output_type": "stream",
     "text": [
      "\n",
      "Segmentation of provided images finished (0.8439185619354248s)\n",
      "Segmenting image : C3.14_ON_01_w1SPI-488_s4_cell_33_t108.tif\n",
      ">>> process file\n",
      "input file (size): (156, 161)\n",
      "resized file (size): (156, 161)\n",
      "Creating name to path to store data.\n",
      "Replacement parameters found: original string: MIP, replacement string: result_MIP\n",
      "Output path: /media/raphael/data/works/20231220_C3_14_2h_ofON/bleach_correction/w_background/C3.14_ON_01_w1SPI-488_s4/cell_33/result_MIP\n",
      "\n",
      "Performing segmentation of ('nuclei',)\n",
      "\n",
      "2024-05-27 10:13:12,502 [INFO] >>>> using CPU\n",
      "2024-05-27 10:13:12,558 [INFO] ~~~ FINDING MASKS ~~~\n"
     ]
    },
    {
     "name": "stderr",
     "output_type": "stream",
     "text": [
      "\n"
     ]
    },
    {
     "name": "stdout",
     "output_type": "stream",
     "text": [
      "2024-05-27 10:13:13,114 [INFO] >>>> TOTAL TIME 0.56 sec\n",
      "\n",
      " Creating outputs ...\n",
      "\n"
     ]
    },
    {
     "name": "stderr",
     "output_type": "stream",
     "text": [
      "100%|█████████████████████████████████████████████| 1/1 [00:00<00:00,  3.51it/s]"
     ]
    },
    {
     "name": "stdout",
     "output_type": "stream",
     "text": [
      "\n",
      "Segmentation of provided images finished (0.8985922336578369s)\n",
      "Segmenting image : C3.14_ON_01_w1SPI-488_s4_cell_33_t039.tif\n",
      ">>> process file\n",
      "input file (size): (156, 161)\n",
      "resized file (size): (156, 161)\n",
      "Creating name to path to store data.\n",
      "Replacement parameters found: original string: MIP, replacement string: result_MIP\n",
      "Output path: /media/raphael/data/works/20231220_C3_14_2h_ofON/bleach_correction/w_background/C3.14_ON_01_w1SPI-488_s4/cell_33/result_MIP\n",
      "\n",
      "Performing segmentation of ('nuclei',)\n",
      "\n",
      "2024-05-27 10:13:13,405 [INFO] >>>> using CPU\n",
      "2024-05-27 10:13:13,459 [INFO] ~~~ FINDING MASKS ~~~\n"
     ]
    },
    {
     "name": "stderr",
     "output_type": "stream",
     "text": [
      "\n"
     ]
    },
    {
     "name": "stdout",
     "output_type": "stream",
     "text": [
      "2024-05-27 10:13:13,960 [INFO] >>>> TOTAL TIME 0.50 sec\n",
      "\n",
      " Creating outputs ...\n",
      "\n"
     ]
    },
    {
     "name": "stderr",
     "output_type": "stream",
     "text": [
      "100%|█████████████████████████████████████████████| 1/1 [00:00<00:00,  3.54it/s]"
     ]
    },
    {
     "name": "stdout",
     "output_type": "stream",
     "text": [
      "\n",
      "Segmentation of provided images finished (0.839585542678833s)\n",
      "Segmenting image : C3.14_ON_01_w1SPI-488_s4_cell_33_t057.tif\n",
      ">>> process file\n",
      "input file (size): (156, 161)\n",
      "resized file (size): (156, 161)\n",
      "Creating name to path to store data.\n",
      "Replacement parameters found: original string: MIP, replacement string: result_MIP\n",
      "Output path: /media/raphael/data/works/20231220_C3_14_2h_ofON/bleach_correction/w_background/C3.14_ON_01_w1SPI-488_s4/cell_33/result_MIP\n",
      "\n",
      "Performing segmentation of ('nuclei',)\n",
      "\n",
      "2024-05-27 10:13:14,250 [INFO] >>>> using CPU\n",
      "2024-05-27 10:13:14,305 [INFO] ~~~ FINDING MASKS ~~~\n"
     ]
    },
    {
     "name": "stderr",
     "output_type": "stream",
     "text": [
      "\n"
     ]
    },
    {
     "name": "stdout",
     "output_type": "stream",
     "text": [
      "2024-05-27 10:13:14,844 [INFO] >>>> TOTAL TIME 0.54 sec\n",
      "\n",
      " Creating outputs ...\n",
      "\n"
     ]
    },
    {
     "name": "stderr",
     "output_type": "stream",
     "text": [
      "100%|█████████████████████████████████████████████| 1/1 [00:00<00:00,  3.56it/s]"
     ]
    },
    {
     "name": "stdout",
     "output_type": "stream",
     "text": [
      "\n",
      "Segmentation of provided images finished (0.8776969909667969s)\n",
      "\n",
      " BATCH SEGMENTATION finished\n"
     ]
    },
    {
     "name": "stderr",
     "output_type": "stream",
     "text": [
      "\n"
     ]
    }
   ],
   "source": [
    "# >> Function call\n",
    "\n",
    "# Parameters\n",
    "path_scan = Path(r'/media/raphael/data/works/20231220_C3_14_2h_ofON/bleach_correction/w_background/C3.14_ON_01_w1SPI-488_s4/cell_33')            # For example data: example_data\\analysis\\segmentation-input\n",
    "input_subfolder = 'MIP'                                # Name of subfolder containing the images to be segmented\n",
    "path_save = 'MIP>>result_MIP'    # For example data: example_data\\analysis\\segmentation-results\n",
    "obj_name='nuclei',                                 # Name of object that should be segmented\n",
    "str_channel = 'w1SPI-488'                                # Identifier of channel for nuclear segmentation\n",
    "img_ext = '.tif'                                   # Extension of images to be segmented\n",
    "\n",
    "new_size = (1,)                                    # Size of images (when resize should be applied, empty tuple otherwise)\n",
    "diameter = 100                                      # Typical size (diameter) of nuclei\n",
    "\n",
    "model_type = 'cyto'                              # Can be 'nuclei' or 'cyto', for densely packed nuclei 'cyto' might work well. \n",
    "net_avg=False                                     #  runs the 4 built-in networks and averages them if True, runs one network if False\n",
    "resample=True                                   #  run dynamics at original image size (will be (much) slower but create more accurate boundaries)\n",
    "\n",
    "# Call segmentation function\n",
    "utils_cellpose.segment_obj_indiv(\n",
    "                        path_scan=path_scan, \n",
    "                        obj_name=obj_name, \n",
    "                        str_channel=str_channel, \n",
    "                        img_ext=img_ext,\n",
    "                        new_size=new_size,  \n",
    "                        model_type=model_type, \n",
    "                        diameter = diameter, \n",
    "                        net_avg=net_avg, \n",
    "                        resample=resample, \n",
    "                        path_save=path_save,\n",
    "                        input_subfolder=input_subfolder)\n",
    "\n",
    "\n"
   ]
  },
  {
   "cell_type": "code",
   "execution_count": null,
   "metadata": {},
   "outputs": [],
   "source": []
  }
 ],
 "metadata": {
  "kernelspec": {
   "display_name": "Python 3 (ipykernel)",
   "language": "python",
   "name": "python3"
  },
  "language_info": {
   "codemirror_mode": {
    "name": "ipython",
    "version": 3
   },
   "file_extension": ".py",
   "mimetype": "text/x-python",
   "name": "python",
   "nbconvert_exporter": "python",
   "pygments_lexer": "ipython3",
   "version": "3.10.13"
  }
 },
 "nbformat": 4,
 "nbformat_minor": 4
}
