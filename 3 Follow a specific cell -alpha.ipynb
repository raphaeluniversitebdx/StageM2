{
 "cells": [
  {
   "cell_type": "markdown",
   "id": "a72e1724-9686-4a2c-b4de-06b558380b63",
   "metadata": {},
   "source": [
    "# Follow a specific cell "
   ]
  },
  {
   "cell_type": "markdown",
   "id": "99f8f8d1-9131-4b74-aa1b-b81b6c558fdc",
   "metadata": {},
   "source": [
    "# Import "
   ]
  },
  {
   "cell_type": "code",
   "execution_count": 1,
   "id": "cee937fa-ee6f-4fc2-a880-1352619b7d45",
   "metadata": {},
   "outputs": [
    {
     "name": "stderr",
     "output_type": "stream",
     "text": [
      "/tmp/ipykernel_10128/1565887051.py:4: DeprecationWarning: \n",
      "Pyarrow will become a required dependency of pandas in the next major release of pandas (pandas 3.0),\n",
      "(to allow more performant data types, such as the Arrow string type, and better interoperability with other libraries)\n",
      "but was not found to be installed on your system.\n",
      "If this would cause problems for you,\n",
      "please provide us feedback at https://github.com/pandas-dev/pandas/issues/54466\n",
      "        \n",
      "  import pandas as pd\n"
     ]
    }
   ],
   "source": [
    "import os\n",
    "import copy\n",
    "from pathlib import Path\n",
    "import pandas as pd\n",
    "\n",
    "import numpy as np\n",
    "import napari\n",
    "from napari.utils.notebook_display import nbscreenshot\n",
    "from tqdm import tqdm\n",
    "from rich.pretty import pprint\n",
    "\n",
    "from dask.array.image import imread as imr"
   ]
  },
  {
   "cell_type": "code",
   "execution_count": 2,
   "id": "041a06a6-67d9-4039-bd03-b66d390259c3",
   "metadata": {},
   "outputs": [],
   "source": [
    "from follow_cells import *\n",
    "from correct_cells import * \n",
    "from center_cells import * "
   ]
  },
  {
   "cell_type": "markdown",
   "id": "2ff3328c-40fe-451a-9d5b-5eed9c55c577",
   "metadata": {},
   "source": [
    "# 1. Load images and labels "
   ]
  },
  {
   "cell_type": "code",
   "execution_count": 3,
   "id": "4d0dd1d7-c7ff-4eab-ba8f-f3086456d2ac",
   "metadata": {},
   "outputs": [],
   "source": [
    "images_path = Path(\"/media/raphael/data/works/full_data_movie/c3_21_c3_45_ON_1_w1SPI-488_s3/MIP\")\n",
    "labels_path = \"/media/raphael/data/works/full_data_movie/c3_21_c3_45_ON_1_w1SPI-488_s3/MIP/maskfolder/mask/\" + \"*.tif\"\n",
    "stacks_3D = Path(\"/media/raphael/data/works/full_data_movie/c3_21_c3_45_ON_1_w1SPI-488_s3\")\n",
    "cellIndexPath = \"/media/raphael/data/works/full_data_movie/c3_21_c3_45_ON_1_w1SPI-488_s3/MIPfichier.npy\""
   ]
  },
  {
   "cell_type": "code",
   "execution_count": 4,
   "id": "129704a0-f3ce-4a8c-930c-c59b6d79ea39",
   "metadata": {},
   "outputs": [],
   "source": [
    "cellIndex = np.load(cellIndexPath)"
   ]
  },
  {
   "cell_type": "code",
   "execution_count": 5,
   "id": "54419cb2-dd46-4a9c-8267-1223ec826743",
   "metadata": {},
   "outputs": [],
   "source": [
    "images = imr(\"/media/raphael/data/works/full_data_movie/c3_21_c3_45_ON_1_w1SPI-488_s3/*.tif\")\n",
    "labels = imr(labels_path)"
   ]
  },
  {
   "cell_type": "code",
   "execution_count": 6,
   "id": "eb40f7b6-7f83-4ef5-8e31-815ad3c923f4",
   "metadata": {},
   "outputs": [
    {
     "data": {
      "text/plain": [
       "(123, 36, 1200, 1200)"
      ]
     },
     "execution_count": 6,
     "metadata": {},
     "output_type": "execute_result"
    }
   ],
   "source": [
    "labels = np.tile(labels[:, np.newaxis],(1,images.shape[1],1,1))\n",
    "labels.shape"
   ]
  },
  {
   "cell_type": "code",
   "execution_count": 7,
   "id": "7c31e9eb-5e9e-4179-b3f0-139e9ad55431",
   "metadata": {},
   "outputs": [
    {
     "data": {
      "text/plain": [
       "(123, 36, 1200, 1200)"
      ]
     },
     "execution_count": 7,
     "metadata": {},
     "output_type": "execute_result"
    }
   ],
   "source": [
    "images.shape"
   ]
  },
  {
   "cell_type": "code",
   "execution_count": 8,
   "id": "b638c32d-641f-4b44-a023-504aa5b38632",
   "metadata": {},
   "outputs": [],
   "source": [
    "#viewer = napari.Viewer()\n",
    "#viewer.window.resize(1800, 1000)\n",
    "#viewer.open(sorted(stacks_3D.glob(\"*.tif\")), stack=True)\n",
    "#viewer.add_labels(labels)"
   ]
  },
  {
   "cell_type": "code",
   "execution_count": 9,
   "id": "056df8c0-9153-4cd0-bc5f-4c2063b33b36",
   "metadata": {},
   "outputs": [],
   "source": [
    "#images = viewer.layers[0].data\n"
   ]
  },
  {
   "cell_type": "markdown",
   "id": "90229d3e-2e06-44de-9278-297316659fbf",
   "metadata": {},
   "source": [
    "# 2. Isolate and crop cells "
   ]
  },
  {
   "cell_type": "code",
   "execution_count": 10,
   "id": "72b83c65-8cfd-4c9d-aa58-54652696ba38",
   "metadata": {},
   "outputs": [
    {
     "data": {
      "text/plain": [
       "array([ 0,  1,  7,  8,  9, 10, 11, 12, 13, 14, 15, 16, 17, 18, 19, 23, 24,\n",
       "       25, 29, 30, 31, 32, 33, 34, 36, 37, 38, 39, 40, 41, 42, 43, 44, 45,\n",
       "       46, 47, 48, 49, 51, 54, 55, 56, 57, 58, 64, 65, 70], dtype=int32)"
      ]
     },
     "execution_count": 10,
     "metadata": {},
     "output_type": "execute_result"
    }
   ],
   "source": [
    "cellIndex"
   ]
  },
  {
   "cell_type": "code",
   "execution_count": 11,
   "id": "4099a29d",
   "metadata": {},
   "outputs": [
    {
     "data": {
      "text/plain": [
       "array([23, 24, 25, 29, 30], dtype=int32)"
      ]
     },
     "execution_count": 11,
     "metadata": {},
     "output_type": "execute_result"
    }
   ],
   "source": [
    "cellIndex[15:20]"
   ]
  },
  {
   "cell_type": "code",
   "execution_count": 12,
   "id": "993cd7a6-a7fa-4650-be47-3b4a7da33965",
   "metadata": {},
   "outputs": [],
   "source": [
    "savepath = \"/media/raphael/data/works/full_data_movie/c3_21_c3_45_ON_1_w1SPI-488_s3/\"\n"
   ]
  },
  {
   "cell_type": "code",
   "execution_count": 13,
   "id": "afeea223-4d36-4475-bab7-db1eda027b62",
   "metadata": {},
   "outputs": [
    {
     "data": {
      "text/plain": [
       "123"
      ]
     },
     "execution_count": 13,
     "metadata": {},
     "output_type": "execute_result"
    }
   ],
   "source": [
    "images.shape[0]"
   ]
  },
  {
   "cell_type": "code",
   "execution_count": null,
   "id": "dc086817-4eb5-431d-8f33-f787c19fa31b",
   "metadata": {},
   "outputs": [],
   "source": [
    "for i in cellIndex[0:10]:\n",
    "    cells = []\n",
    "    for t in range (0,images.shape[0]):\n",
    "    \n",
    "        cell = get_cells_from_3D_stack_v2(images[t],labels[t],i)\n",
    "        #cell = crop_cells_v3(cell)\n",
    "        if isinstance (cell,np.ndarray):\n",
    "            cells.append(cell)\n",
    "        #cell = da.from_array(cell,chunks=(6,400,400))\n",
    "        #cell = crop_cells(cell)\n",
    "        \n",
    "    cells = np.array(cells)\n",
    "    cells = crop_cells_v3(cells)\n",
    "    cells = center_a_cell(cells)\n",
    "    \n",
    "    save_cells(cells,savepath,\"c3_21_c3_45_ON_1_w1SPI-488_s\",\"3\",\"cell_\"+str(i), str(i))\n",
    "    print('Done for cell',i)"
   ]
  },
  {
   "cell_type": "markdown",
   "id": "12aa7d39-4b3f-494d-9327-182c52a2495c",
   "metadata": {},
   "source": [
    "for i in cellIndex[1:]:\n",
    "    \n",
    "    cell = get_cells_from_3D_stack_v2(images,labels,i)\n",
    "    #cell = crop_cells_v2(images,labels,i)\n",
    "    save_cells(cell,savepath,\"C3.14_ON_01_w1SPI-488_s\",\"4\",\"cell_\"+str(i), str(i))"
   ]
  }
 ],
 "metadata": {
  "kernelspec": {
   "display_name": "Python 3 (ipykernel)",
   "language": "python",
   "name": "python3"
  },
  "language_info": {
   "codemirror_mode": {
    "name": "ipython",
    "version": 3
   },
   "file_extension": ".py",
   "mimetype": "text/x-python",
   "name": "python",
   "nbconvert_exporter": "python",
   "pygments_lexer": "ipython3",
   "version": "3.9.18"
  }
 },
 "nbformat": 4,
 "nbformat_minor": 5
}
