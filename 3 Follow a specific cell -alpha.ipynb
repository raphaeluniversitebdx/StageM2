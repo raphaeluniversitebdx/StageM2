{
 "cells": [
  {
   "cell_type": "markdown",
   "id": "a72e1724-9686-4a2c-b4de-06b558380b63",
   "metadata": {},
   "source": [
    "# Follow a specific cell "
   ]
  },
  {
   "cell_type": "markdown",
   "id": "99f8f8d1-9131-4b74-aa1b-b81b6c558fdc",
   "metadata": {},
   "source": [
    "# Import "
   ]
  },
  {
   "cell_type": "code",
   "execution_count": 2,
   "id": "cee937fa-ee6f-4fc2-a880-1352619b7d45",
   "metadata": {},
   "outputs": [
    {
     "name": "stderr",
     "output_type": "stream",
     "text": [
      "/tmp/ipykernel_4449/2791179515.py:4: DeprecationWarning: \n",
      "Pyarrow will become a required dependency of pandas in the next major release of pandas (pandas 3.0),\n",
      "(to allow more performant data types, such as the Arrow string type, and better interoperability with other libraries)\n",
      "but was not found to be installed on your system.\n",
      "If this would cause problems for you,\n",
      "please provide us feedback at https://github.com/pandas-dev/pandas/issues/54466\n",
      "        \n",
      "  import pandas as pd\n"
     ]
    }
   ],
   "source": [
    "import os\n",
    "import copy\n",
    "from pathlib import Path\n",
    "import pandas as pd\n",
    "\n",
    "import numpy as np\n",
    "\n",
    "from tqdm import tqdm\n",
    "from rich.pretty import pprint\n",
    "\n",
    "from dask.array.image import imread as imr"
   ]
  },
  {
   "cell_type": "code",
   "execution_count": 3,
   "id": "041a06a6-67d9-4039-bd03-b66d390259c3",
   "metadata": {},
   "outputs": [],
   "source": [
    "from follow_cells import *\n",
    "from correct_cells import * \n",
    "from center_cells import * "
   ]
  },
  {
   "cell_type": "markdown",
   "id": "2ff3328c-40fe-451a-9d5b-5eed9c55c577",
   "metadata": {},
   "source": [
    "# 1. Load images and labels "
   ]
  },
  {
   "cell_type": "code",
   "execution_count": 4,
   "id": "4d0dd1d7-c7ff-4eab-ba8f-f3086456d2ac",
   "metadata": {},
   "outputs": [],
   "source": [
    "images_path = Path(\"/media/raphael/data/works/20231220_C3_14_2h_ofON/bleach_correction/expo/C3.14_ON_01_w1SPI-488_s4\")\n",
    "labels_path = \"/media/raphael/data/works/20231220_C3_14_2h_ofON/C3.14_ON_01_w1SPI-488_s4/full_movie/MIP/maskfolder/mask/mask/\" + \"*.tif\"\n",
    "stacks_3D = Path(\"/media/raphael/data/works/20231220_C3_14_2h_ofON/bleach_correction/expo/C3.14_ON_01_w1SPI-488_s4\")\n",
    "cellIndexPath = \"/media/raphael/data/works/20231220_C3_14_2h_ofON/bleach_correction/hist_splitt/C3.14_ON_01_w1SPI-488_s4/MIPfichier.npy\""
   ]
  },
  {
   "cell_type": "code",
   "execution_count": 5,
   "id": "129704a0-f3ce-4a8c-930c-c59b6d79ea39",
   "metadata": {},
   "outputs": [],
   "source": [
    "cellIndex = np.load(cellIndexPath)"
   ]
  },
  {
   "cell_type": "code",
   "execution_count": 6,
   "id": "54419cb2-dd46-4a9c-8267-1223ec826743",
   "metadata": {},
   "outputs": [],
   "source": [
    "images = imr(\"/media/raphael/data/works/20231220_C3_14_2h_ofON/bleach_correction/hist_splitt/C3.14_ON_01_w1SPI-488_s4/*.tif\")\n",
    "labels = imr(labels_path)"
   ]
  },
  {
   "cell_type": "code",
   "execution_count": 7,
   "id": "eb40f7b6-7f83-4ef5-8e31-815ad3c923f4",
   "metadata": {},
   "outputs": [
    {
     "data": {
      "text/plain": [
       "(120, 36, 1200, 1200)"
      ]
     },
     "execution_count": 7,
     "metadata": {},
     "output_type": "execute_result"
    }
   ],
   "source": [
    "labels = np.tile(labels[:, np.newaxis],(1,images.shape[1],1,1))\n",
    "labels.shape"
   ]
  },
  {
   "cell_type": "code",
   "execution_count": 8,
   "id": "68eb9326",
   "metadata": {},
   "outputs": [],
   "source": [
    "labels = labels[0:60]\n",
    "images = images[0:60]"
   ]
  },
  {
   "cell_type": "markdown",
   "id": "90229d3e-2e06-44de-9278-297316659fbf",
   "metadata": {},
   "source": [
    "# 2. Isolate and crop cells "
   ]
  },
  {
   "cell_type": "code",
   "execution_count": 9,
   "id": "72b83c65-8cfd-4c9d-aa58-54652696ba38",
   "metadata": {},
   "outputs": [
    {
     "data": {
      "text/plain": [
       "array([ 0,  9, 10, 12, 13, 18, 20, 21, 22, 24, 25, 26, 28, 29, 31, 32, 33,\n",
       "       34, 36, 37, 40, 41, 42, 43, 45, 46, 49, 50, 51, 52, 53, 54, 55, 57,\n",
       "       58, 59, 60, 62, 64], dtype=int32)"
      ]
     },
     "execution_count": 9,
     "metadata": {},
     "output_type": "execute_result"
    }
   ],
   "source": [
    "cellIndex"
   ]
  },
  {
   "cell_type": "code",
   "execution_count": 10,
   "id": "7faa0e00",
   "metadata": {},
   "outputs": [
    {
     "data": {
      "text/plain": [
       "39"
      ]
     },
     "execution_count": 10,
     "metadata": {},
     "output_type": "execute_result"
    }
   ],
   "source": [
    "len(cellIndex)"
   ]
  },
  {
   "cell_type": "code",
   "execution_count": 8,
   "id": "993cd7a6-a7fa-4650-be47-3b4a7da33965",
   "metadata": {},
   "outputs": [],
   "source": [
    "savepath = \"/media/raphael/data/works/20231220_C3_14_2h_ofON/bleach_correction/w_background/C3.14_ON_01_w1SPI-488_s4/\"\n"
   ]
  },
  {
   "cell_type": "code",
   "execution_count": 12,
   "id": "581f30bb",
   "metadata": {},
   "outputs": [
    {
     "name": "stdout",
     "output_type": "stream",
     "text": [
      "412 551 691 914\n",
      "Saving frame |████████████████████████████████████████| 60/60 [100%] in 6.5s (9.\n",
      "Saving frame |████████████████████████████████████████| 60/60 [100%] in 7.5s (7.\n",
      "Done for cell 9\n",
      "476 623 502 931\n",
      "Saving frame |████████████████████████████████████████| 60/60 [100%] in 6.9s (8.\n",
      "Saving frame |████████████████████████████████████████| 60/60 [100%] in 7.9s (7.\n",
      "Done for cell 10\n",
      "51 192 524 788\n",
      "Saving frame |████████████████████████████████████████| 60/60 [100%] in 6.6s (9.\n",
      "Saving frame |████████████████████████████████████████| 60/60 [100%] in 55.5s (1\n",
      "Done for cell 12\n",
      "136 245 880 1031\n",
      "Saving frame |████████████████████████████████████████| 60/60 [100%] in 12.4s (4\n",
      "Saving frame |████████████████████████████████████████| 60/60 [100%] in 6.7s (9.\n",
      "Done for cell 13\n",
      "195 319 434 594\n",
      "Saving frame |████████████████████████████████████████| 60/60 [100%] in 6.5s (9.\n",
      "Saving frame |████████████████████████████████████████| 60/60 [100%] in 1:34.1 (\n",
      "Done for cell 18\n",
      "302 433 50 284\n",
      "Saving frame |████████████████████████████████████████| 60/60 [100%] in 46.7s (1\n",
      "Saving frame |████████████████████████████████████████| 60/60 [100%] in 7.0s (8.\n",
      "Done for cell 20\n",
      "309 422 222 396\n",
      "Saving frame |████████████████████████████████████████| 60/60 [100%] in 6.5s (9.\n",
      "Saving frame |████████████████████████████████████████| 60/60 [100%] in 1:25.0 (\n",
      "Done for cell 21\n",
      "313 462 890 1036\n",
      "Saving frame |████████████████████████████████████████| 60/60 [100%] in 11.8s (5\n",
      "Saving frame |████████████████████████████████████████| 60/60 [100%] in 6.7s (8.\n",
      "Done for cell 22\n",
      "319 465 378 585\n",
      "Saving frame |████████████████████████████████████████| 60/60 [100%] in 6.5s (9.\n",
      "Saving frame |████████████████████████████████████████| 60/60 [100%] in 6.9s (8.\n",
      "Done for cell 24\n",
      "378 505 528 744\n",
      "Saving frame |████████████████████████████████████████| 60/60 [100%] in 6.6s (9.\n",
      "Saving frame |████████████████████████████████████████| 60/60 [100%] in 6.8s (8.\n",
      "Done for cell 25\n",
      "483 605 471 650\n",
      "Saving frame |████████████████████████████████████████| 60/60 [100%] in 6.4s (9.\n",
      "Saving frame |████████████████████████████████████████| 60/60 [100%] in 6.6s (9.\n",
      "Done for cell 26\n",
      "345 460 1013 1158\n",
      "Saving frame |████████████████████████████████████████| 60/60 [100%] in 6.4s (9.\n",
      "Saving frame |████████████████████████████████████████| 60/60 [100%] in 6.6s (9.\n",
      "Done for cell 28\n",
      "276 404 1045 1199\n",
      "Saving frame |████████████████████████████████████████| 60/60 [100%] in 7.3s (8.\n",
      "Saving frame |████████████████████████████████████████| 60/60 [100%] in 18.0s (3\n",
      "Done for cell 29\n",
      "418 546 0 158\n",
      "Saving frame |████████████████████████████████████████| 60/60 [100%] in 6.4s (9.\n",
      "Saving frame |████████████████████████████████████████| 60/60 [100%] in 6.6s (9.\n",
      "Done for cell 31\n",
      "401 502 248 474\n",
      "Saving frame |████████████████████████████████████████| 60/60 [100%] in 6.5s (9.\n",
      "Saving frame |████████████████████████████████████████| 60/60 [100%] in 9.2s (6.\n",
      "Done for cell 32\n",
      "405 518 110 317\n",
      "Saving frame |████████████████████████████████████████| 60/60 [100%] in 6.4s (9.\n",
      "Saving frame |████████████████████████████████████████| 60/60 [100%] in 10.4s (5\n",
      "Done for cell 33\n",
      "508 660 0 250\n",
      "Saving frame |████████████████████████████████████████| 60/60 [100%] in 6.6s (9.\n",
      "Saving frame |████████████████████████████████████████| 60/60 [100%] in 9.3s (6.\n",
      "Done for cell 34\n",
      "501 616 629 793\n",
      "Saving frame |████████████████████████████████████████| 60/60 [100%] in 6.4s (9.\n",
      "Saving frame |████████████████████████████████████████| 60/60 [100%] in 6.6s (9.\n",
      "Done for cell 36\n",
      "543 658 963 1163\n",
      "Saving frame |████████████████████████████████████████| 60/60 [100%] in 6.5s (9.\n",
      "Saving frame |████████████████████████████████████████| 60/60 [100%] in 14.9s (3\n",
      "Done for cell 37\n",
      "609 726 589 791\n",
      "Saving frame |████████████████████████████████████████| 60/60 [100%] in 6.4s (9.\n",
      "Saving frame |████████████████████████████████████████| 60/60 [100%] in 6.7s (8.\n",
      "Done for cell 40\n",
      "715 824 549 789\n",
      "Saving frame |████████████████████████████████████████| 60/60 [100%] in 6.5s (9.\n",
      "Saving frame |████████████████████████████████████████| 60/60 [100%] in 6.8s (8.\n",
      "Done for cell 41\n",
      "696 837 490 697\n",
      "Saving frame |████████████████████████████████████████| 60/60 [100%] in 6.5s (9.\n",
      "Saving frame |████████████████████████████████████████| 60/60 [100%] in 18.7s (3\n",
      "Done for cell 42\n",
      "865 1007 443 622\n",
      "Saving frame |████████████████████████████████████████| 60/60 [100%] in 7.9s (7.\n",
      "Saving frame |████████████████████████████████████████| 60/60 [100%] in 6.7s (8.\n",
      "Done for cell 43\n",
      "769 896 383 600\n",
      "Saving frame |████████████████████████████████████████| 60/60 [100%] in 6.5s (9.\n",
      "Saving frame |████████████████████████████████████████| 60/60 [100%] in 6.8s (8.\n",
      "Done for cell 45\n",
      "825 949 564 768\n",
      "Saving frame |████████████████████████████████████████| 60/60 [100%] in 6.5s (9.\n",
      "Saving frame |████████████████████████████████████████| 60/60 [100%] in 15.5s (3\n",
      "Done for cell 46\n",
      "651 790 943 1103\n",
      "Saving frame |████████████████████████████████████████| 60/60 [100%] in 6.5s (9.\n",
      "Saving frame |████████████████████████████████████████| 60/60 [100%] in 6.6s (9.\n",
      "Done for cell 49\n",
      "663 777 0 248\n",
      "Saving frame |████████████████████████████████████████| 60/60 [100%] in 14.6s (4\n",
      "Saving frame |████████████████████████████████████████| 60/60 [100%] in 6.9s (8.\n",
      "Done for cell 50\n",
      "697 805 761 888\n",
      "Saving frame |████████████████████████████████████████| 60/60 [100%] in 6.4s (9.\n",
      "Saving frame |████████████████████████████████████████| 60/60 [100%] in 6.5s (9.\n",
      "Done for cell 51\n",
      "736 846 260 386\n",
      "Saving frame |████████████████████████████████████████| 60/60 [100%] in 6.4s (9.\n",
      "Saving frame |████████████████████████████████████████| 60/60 [100%] in 6.5s (9.\n",
      "Done for cell 52\n",
      "828 941 306 487\n",
      "Saving frame |████████████████████████████████████████| 60/60 [100%] in 6.4s (9.\n",
      "Saving frame |████████████████████████████████████████| 60/60 [100%] in 6.6s (9.\n",
      "Done for cell 53\n",
      "826 944 374 606\n",
      "Saving frame |████████████████████████████████████████| 60/60 [100%] in 6.5s (9.\n",
      "Saving frame |████████████████████████████████████████| 60/60 [100%] in 6.7s (8.\n",
      "Done for cell 54\n",
      "770 874 1005 1185\n",
      "Saving frame |████████████████████████████████████████| 60/60 [100%] in 16.0s (3\n",
      "Saving frame |████████████████████████████████████████| 60/60 [100%] in 14.2s (4\n",
      "Done for cell 55\n",
      "828 957 652 854\n",
      "Saving frame |████████████████████████████████████████| 60/60 [100%] in 6.5s (9.\n",
      "Saving frame |████████████████████████████████████████| 60/60 [100%] in 6.8s (8.\n",
      "Done for cell 57\n",
      "898 1004 809 954\n",
      "Saving frame |████████████████████████████████████████| 60/60 [100%] in 6.4s (9.\n",
      "Saving frame |████████████████████████████████████████| 60/60 [100%] in 6.5s (9.\n",
      "Done for cell 58\n",
      "974 1114 32 191\n",
      "Saving frame |████████████████████████████████████████| 60/60 [100%] in 14.7s (3\n",
      "Saving frame |████████████████████████████████████████| 60/60 [100%] in 6.7s (8.\n",
      "Done for cell 59\n",
      "1006 1146 322 494\n",
      "Saving frame |████████████████████████████████████████| 60/60 [100%] in 6.5s (9.\n",
      "Saving frame |████████████████████████████████████████| 60/60 [100%] in 6.8s (8.\n",
      "Done for cell 60\n",
      "0 1199 240 382\n",
      "Saving frame |████████████████████████████████████████| 60/60 [100%] in 16.7s (3\n",
      "Saving frame |████████████████████████████████████████| 60/60 [100%] in 2:19.8 (\n",
      "Done for cell 62\n",
      "0 1199 475 632\n",
      "Saving frame |████████████████████████████████████████| 60/60 [100%] in 11.9s (5\n",
      "Saving frame |████████████████████████████████████████| 60/60 [100%] in 1:20.9 (\n",
      "Done for cell 64\n"
     ]
    }
   ],
   "source": [
    "movie_name = 'C3.14_ON_01_w1SPI-488_s'\n",
    "imsq = '4'\n",
    "\n",
    "for i in cellIndex[1:]: #[18: ]\n",
    "    ctr_cell, ctr_mask = center_a_cell_with_labels(images,labels,i)\n",
    "    cells, masks = crop_cells_with_background(ctr_cell,ctr_mask,i)\n",
    "\n",
    "    del ctr_cell,ctr_mask\n",
    "     \n",
    "    save_cells(cells,savepath,movie_name,'4',\"with_background_cell\"+str(i), str(i))\n",
    "    save_cells(masks,savepath,movie_name,'4',\"with_background_masks\"+str(i), str(i))\n",
    "    del cells,masks\n",
    "    \n",
    "    print('Done for cell',i)"
   ]
  },
  {
   "cell_type": "markdown",
   "id": "5c5a76c1",
   "metadata": {},
   "source": [
    "movie_name = 'C3.14_ON_01_w1SPI-488_s'\n",
    "imsq = '4'\n",
    "\n",
    "for i in cellIndex[26:28]: #[18: ]\n",
    "    cells = []\n",
    "    for t in range (0,images.shape[0]):\n",
    "    \n",
    "        cell = get_cells_from_3D_stack_v2(images[t],labels[t],i)\n",
    "        #cell = crop_cells_v3(cell)\n",
    "        if isinstance (cell,np.ndarray):\n",
    "            cells.append(cell)\n",
    "\n",
    "        \n",
    "    cells = np.array(cells)\n",
    "    cells = crop_cells_v3(cells)\n",
    "    #cells = center_a_cell(cells)\n",
    "    \n",
    "    save_cells(cells,savepath,movie_name,'4',\"cell_\"+str(i), str(i))\n",
    "    print('Done for cell',i)"
   ]
  },
  {
   "cell_type": "markdown",
   "id": "12aa7d39-4b3f-494d-9327-182c52a2495c",
   "metadata": {},
   "source": [
    "for i in cellIndex[1:]:\n",
    "    \n",
    "    cell = get_cells_from_3D_stack_v2(images,labels,i)\n",
    "    #cell = crop_cells_v2(images,labels,i)\n",
    "    save_cells(cell,savepath,\"C3.14_ON_01_w1SPI-488_s\",\"4\",\"cell_\"+str(i), str(i))"
   ]
  }
 ],
 "metadata": {
  "kernelspec": {
   "display_name": "Python 3 (ipykernel)",
   "language": "python",
   "name": "python3"
  },
  "language_info": {
   "codemirror_mode": {
    "name": "ipython",
    "version": 3
   },
   "file_extension": ".py",
   "mimetype": "text/x-python",
   "name": "python",
   "nbconvert_exporter": "python",
   "pygments_lexer": "ipython3",
   "version": "3.9.18"
  }
 },
 "nbformat": 4,
 "nbformat_minor": 5
}
