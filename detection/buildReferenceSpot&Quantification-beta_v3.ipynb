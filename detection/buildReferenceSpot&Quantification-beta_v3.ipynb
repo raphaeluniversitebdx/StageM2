{
 "cells": [
  {
   "cell_type": "markdown",
   "id": "c0cc3753",
   "metadata": {},
   "source": [
    "## Import necessary python modules"
   ]
  },
  {
   "cell_type": "code",
   "execution_count": 1,
   "id": "9d089cf9",
   "metadata": {},
   "outputs": [],
   "source": [
    "import os\n",
    "import napari\n",
    "import tifffile\n",
    "import numpy as np\n",
    "import matplotlib.pyplot as plt\n",
    "\n",
    "import bigfish\n",
    "import bigfish.plot as plot\n",
    "import bigfish.stack as stack\n",
    "import bigfish.detection as detection\n",
    "import bigfish.multistack as multistack\n",
    "\n",
    "from copy import deepcopy\n",
    "from dask.array.image import imread as imr\n",
    "from bigfish.detection.utils import get_object_radius_pixel\n",
    "from buildReferenceSpot import buildReferenceSpotFromImages\n",
    "from runBigfishDetection import getSpotAndClusters, saveSpotsNPZ, reorderZstack, getSpotAndClusters_multi"
   ]
  },
  {
   "cell_type": "code",
   "execution_count": 2,
   "id": "fec928ef",
   "metadata": {},
   "outputs": [],
   "source": [
    "from order_spot import * "
   ]
  },
  {
   "cell_type": "markdown",
   "id": "ef74aefd",
   "metadata": {},
   "source": [
    "## Specify Input and Output folders, identifiers"
   ]
  },
  {
   "cell_type": "code",
   "execution_count": 3,
   "id": "eb637701-79c5-46d0-9e46-04a4c46986e2",
   "metadata": {},
   "outputs": [],
   "source": [
    "homeFolder = '/media/raphael/data/works/20231220_C3_14_2h_ofON/bleach_correction/expo/'\n",
    "nameKey = 'C3.14_ON_01_w1SPI-488_s'\n",
    "\n",
    "imsQ = '4'\n",
    "cellNumber = '53'\n",
    "nucleiStackForm = nameKey+imsQ+\"_cell_\"\n",
    "\n",
    "pathToTimeSequenceFullView = homeFolder+nameKey+imsQ+'/*.tif'\n",
    "cell_Crop_Folder = homeFolder+nameKey+imsQ+'/cell_'+str(cellNumber)+'/'\n",
    "pathToTimeSequenceCell = homeFolder+nameKey+imsQ+'/cell_'+str(cellNumber)+'/*.tif'\n",
    "\n",
    "\n",
    "sequenceCell = imr(pathToTimeSequenceCell)\n",
    "sequenceCell = sequenceCell\n",
    "mipSequenceCell = np.max(sequenceCell, axis=1)\n",
    "MaxTimePoint = sequenceCell.shape[0]"
   ]
  },
  {
   "cell_type": "markdown",
   "id": "a6823fdb",
   "metadata": {},
   "source": [
    "## Specify voxel and object size"
   ]
  },
  {
   "cell_type": "code",
   "execution_count": 4,
   "id": "92e6c86b",
   "metadata": {},
   "outputs": [],
   "source": [
    "voxelRadius = (700, 110, 110) # in nanometers\n",
    "objectRadius = (700, 105, 105) # in nanometers"
   ]
  },
  {
   "cell_type": "code",
   "execution_count": 5,
   "id": "72a94eaa",
   "metadata": {},
   "outputs": [],
   "source": [
    "alpha = 0.9\n",
    "beta = 2\n",
    "gamma = 15"
   ]
  },
  {
   "cell_type": "markdown",
   "id": "f8a25dd7",
   "metadata": {},
   "source": [
    "## Choose detection threshold"
   ]
  },
  {
   "cell_type": "code",
   "execution_count": 6,
   "id": "9414caf2",
   "metadata": {},
   "outputs": [
    {
     "name": "stdout",
     "output_type": "stream",
     "text": [
      "Enter your selected threshold: 56\n"
     ]
    }
   ],
   "source": [
    "selectedThreshold = int(input(\"Enter your selected threshold: \"))"
   ]
  },
  {
   "cell_type": "code",
   "execution_count": 7,
   "id": "dde2e68a",
   "metadata": {},
   "outputs": [
    {
     "name": "stdout",
     "output_type": "stream",
     "text": [
      "Enter your min Frame: 1\n"
     ]
    }
   ],
   "source": [
    "minFrame = int(input(\"Enter your min Frame: \"))\n",
    "#minFrame = minFrame "
   ]
  },
  {
   "cell_type": "code",
   "execution_count": 8,
   "id": "d01607a9",
   "metadata": {},
   "outputs": [
    {
     "name": "stdout",
     "output_type": "stream",
     "text": [
      "Enter your max Frame: 120\n"
     ]
    }
   ],
   "source": [
    "maxFrame = int(input(\"Enter your max Frame: \"))\n",
    "maxFrame = maxFrame + 1 "
   ]
  },
  {
   "cell_type": "markdown",
   "id": "e60c6804",
   "metadata": {},
   "source": [
    "### Compute list of threshold "
   ]
  },
  {
   "cell_type": "markdown",
   "id": "31d78382",
   "metadata": {},
   "source": [
    "## Get a list of spots detected using the threshold specified in previous step"
   ]
  },
  {
   "cell_type": "markdown",
   "id": "3233ae96",
   "metadata": {},
   "source": [
    "Voire graphe du notebook 4 bleaching correction\n",
    "\n",
    "Toutes les frames ne suivent pas la meme allure avec des images bcp moins intense que l'autre d'une frame a l'autre besoin de ponderer le threshold en fonction d'une moyenne generale et d'une liste de moyenne en fonction des frames \n",
    "\n",
    "if mean_frame < moy_gen :\n",
    "    abaisser le threshold\n",
    "elid mean_frame > moy_gen :\n",
    "    augmenter le threshold\n",
    "    \n",
    "else : \n",
    "    conserver threshold \n",
    "    \n",
    "Ou possibilite d'appliquer ce principe a une difference de pourcentage d'une frame a l'autre "
   ]
  },
  {
   "cell_type": "code",
   "execution_count": 9,
   "id": "da8b11f2",
   "metadata": {},
   "outputs": [
    {
     "name": "stdout",
     "output_type": "stream",
     "text": [
      "Total number of images : 120\n"
     ]
    }
   ],
   "source": [
    "images=[]    \n",
    "spots_list=[]\n",
    "\n",
    "spot_radius_px = detection.get_object_radius_pixel(\n",
    "    voxel_size_nm=voxelRadius, \n",
    "    object_radius_nm=objectRadius, \n",
    "    ndim=3)\n",
    "\n",
    "for t in range(minFrame,maxFrame,1):\n",
    "\n",
    "    path = os.path.join(cell_Crop_Folder, nucleiStackForm+str(cellNumber)+'_t'+str(f\"{t:03}\")+\".tif\")\n",
    "    rna = stack.read_image(path)\n",
    "    images.append(rna)\n",
    "\n",
    "n=len(images)\n",
    "print(\"Total number of images : \"+str(n))\n",
    "\n",
    "selectedThreshold_loop = selectedThreshold\n",
    "\n",
    "for rna in images:\n",
    "    try : \n",
    "        # LoG filter\n",
    "        rna_log = stack.log_filter(rna, sigma=spot_radius_px)\n",
    "    \n",
    "        # local maximum detection\n",
    "        mask = detection.local_maximum_detection(rna_log, min_distance=spot_radius_px)\n",
    "    \n",
    "        # thresholding\n",
    "        threshold = detection.automated_threshold_setting(rna_log, mask)\n",
    "        \n",
    "        selectedThreshold_loop = (selectedThreshold_loop) #*((100+var_list[i])/100) \n",
    "        #print(selectedThreshold_loop)\n",
    "        spots_, _ = detection.spots_thresholding(rna_log, mask, float(selectedThreshold_loop))\n",
    "        spots_list.append(spots_)\n",
    "    except IndexError as e: \n",
    "        spots_, _ = detection.spots_thresholding(rna_log, mask, float(selectedThreshold))\n",
    "        spots_list.append(spots_)\n",
    "        print('Done')\n",
    "        break "
   ]
  },
  {
   "cell_type": "code",
   "execution_count": 10,
   "id": "82b8da97",
   "metadata": {},
   "outputs": [],
   "source": [
    "#spots_list = sort_spot_list(spots_list,mipSequenceCell)"
   ]
  },
  {
   "cell_type": "markdown",
   "id": "46415d37",
   "metadata": {},
   "source": [
    "## Build reference spot"
   ]
  },
  {
   "cell_type": "code",
   "execution_count": 11,
   "id": "53e4aab3",
   "metadata": {},
   "outputs": [
    {
     "name": "stdout",
     "output_type": "stream",
     "text": [
      "image list found!\n",
      "Found 4222\n",
      "Found 4222 spots, max intensity = 211\n"
     ]
    },
    {
     "data": {
      "image/png": "[encoded data removed]",
      "text/plain": [
       "<Figure size 300x300 with 1 Axes>"
      ]
     },
     "metadata": {},
     "output_type": "display_data"
    }
   ],
   "source": [
    "#gamma=5\n",
    "reference_spot = buildReferenceSpotFromImages(images, spots_list, alpha=alpha, gamma=5, voxelSize=voxelRadius, objectSize=objectRadius)\n",
    "%matplotlib inline\n",
    "plt.figure(num=3,figsize=(3,3))\n",
    "plt.imshow(np.max(reference_spot, axis=0))\n",
    "refSpot = deepcopy(reference_spot)"
   ]
  },
  {
   "cell_type": "code",
   "execution_count": 12,
   "id": "d2b6dbc5",
   "metadata": {},
   "outputs": [],
   "source": [
    "np.savez('/media/raphael/data/works/20231220_C3_14_2h_ofON/bleach_correction/expo/C3.14_ON_01_w1SPI-488_s4/refspot_18',reference_spot )"
   ]
  },
  {
   "cell_type": "markdown",
   "id": "dc2a526d",
   "metadata": {},
   "source": [
    "## Perform spot and cluster detection for all frames"
   ]
  },
  {
   "cell_type": "code",
   "execution_count": 13,
   "id": "494c3826",
   "metadata": {
    "scrolled": true
   },
   "outputs": [
    {
     "name": "stdout",
     "output_type": "stream",
     "text": [
      "0\n",
      "1\n",
      "2\n",
      "3\n",
      "4\n",
      "5\n",
      "6\n",
      "7\n",
      "8\n",
      "9\n",
      "10\n",
      "11\n",
      "12\n",
      "13\n",
      "14\n",
      "15\n",
      "16\n",
      "17\n",
      "18\n",
      "19\n",
      "20\n",
      "21\n",
      "22\n",
      "23\n",
      "24\n",
      "25\n",
      "26\n",
      "27\n",
      "28\n",
      "29\n",
      "30\n",
      "31\n",
      "32\n",
      "33\n",
      "34\n",
      "35\n",
      "36\n",
      "37\n",
      "38\n",
      "39\n",
      "40\n",
      "41\n",
      "42\n",
      "43\n",
      "44\n",
      "45\n",
      "46\n",
      "47\n",
      "48\n",
      "49\n",
      "50\n",
      "51\n",
      "52\n",
      "53\n",
      "54\n",
      "55\n",
      "56\n",
      "57\n",
      "58\n",
      "59\n",
      "60\n",
      "61\n",
      "62\n",
      "63\n",
      "64\n",
      "65\n",
      "66\n",
      "67\n",
      "68\n",
      "69\n",
      "70\n",
      "71\n",
      "72\n",
      "73\n",
      "74\n",
      "75\n",
      "76\n",
      "77\n",
      "78\n",
      "79\n",
      "80\n",
      "81\n",
      "82\n",
      "83\n",
      "84\n",
      "85\n",
      "86\n",
      "87\n",
      "88\n",
      "89\n",
      "90\n",
      "91\n",
      "92\n",
      "93\n",
      "94\n",
      "95\n",
      "96\n",
      "97\n",
      "98\n",
      "99\n",
      "100\n",
      "101\n",
      "102\n",
      "103\n",
      "104\n",
      "105\n",
      "106\n",
      "107\n",
      "108\n",
      "109\n",
      "110\n",
      "111\n",
      "112\n",
      "113\n",
      "114\n",
      "115\n",
      "116\n",
      "117\n",
      "118\n",
      "119\n",
      "done!\n"
     ]
    }
   ],
   "source": [
    "spotsFrame, clustersFrames, ThresholdFrames = getSpotAndClusters(images, \n",
    "                                                                 reference_spot, \n",
    "                                                                 cellnumber=cellNumber, \n",
    "                                                                 startTime=minFrame-1,\n",
    "                                                                 stopTime=maxFrame-1,\n",
    "                                                                 thresholdManual=selectedThreshold, \n",
    "                                                                 beta=beta, #2\n",
    "                                                                 gamma=gamma, #15 \n",
    "                                                                 numberOfSpots=2,\n",
    "                                                                 radiusCluster=400, \n",
    "                                                                 voxelSize=voxelRadius, \n",
    "                                                                 objectSize=objectRadius,\n",
    "                                                                 extensionMov='.tif')"
   ]
  },
  {
   "cell_type": "code",
   "execution_count": 14,
   "id": "06201534",
   "metadata": {
    "scrolled": true
   },
   "outputs": [
    {
     "name": "stdout",
     "output_type": "stream",
     "text": [
      "on 0: max() arg is an empty sequence                                            \n",
      "on 4: max() arg is an empty sequence                                            \n",
      "on 8: max() arg is an empty sequence                                            \n",
      "on 11: max() arg is an empty sequence                                           \n",
      "on 19: max() arg is an empty sequence                                           \n",
      "on 26: max() arg is an empty sequence                                           \n",
      "on 29: max() arg is an empty sequence                                           \n",
      "on 33: max() arg is an empty sequence                                           \n",
      "on 36: max() arg is an empty sequence                                           \n",
      "on 45: max() arg is an empty sequence                                           \n",
      "on 51: max() arg is an empty sequence                                           \n",
      "on 63: max() arg is an empty sequence                                           \n",
      "sort cluster frame |████████████████████████████████████████| 120/120 [100%] in \n"
     ]
    }
   ],
   "source": [
    "a = sort_clustersFrames(clustersFrames,mipSequenceCell,400,perc=1)"
   ]
  },
  {
   "cell_type": "markdown",
   "id": "865ddd26",
   "metadata": {},
   "source": [
    "## Correct clusters position if needed "
   ]
  },
  {
   "cell_type": "code",
   "execution_count": 15,
   "id": "fa0ef200",
   "metadata": {},
   "outputs": [],
   "source": [
    "#a[2] = move_sorted_clustersFrames(a[2], np.array(a[2][1]), 0) #position 1 \n"
   ]
  },
  {
   "cell_type": "markdown",
   "id": "cb2379b1",
   "metadata": {},
   "source": [
    "## Merge clusters "
   ]
  },
  {
   "cell_type": "markdown",
   "id": "461c79b9",
   "metadata": {},
   "source": [
    "radius xy = 5\n",
    "radius z = 2 \n",
    "\n",
    "\n",
    "Reduire le radius et modifier la fonction pour adapter le rayon en fonction de la dimension "
   ]
  },
  {
   "cell_type": "code",
   "execution_count": 16,
   "id": "8eacdd43",
   "metadata": {},
   "outputs": [],
   "source": [
    "b = merge_clusters_frame(a,mipSequenceCell,diffxy=5,diffz=1)"
   ]
  },
  {
   "cell_type": "code",
   "execution_count": 17,
   "id": "48c33ace",
   "metadata": {},
   "outputs": [],
   "source": [
    "c = create_index(b)    "
   ]
  },
  {
   "cell_type": "code",
   "execution_count": 18,
   "id": "bb4b195b",
   "metadata": {},
   "outputs": [
    {
     "data": {
      "text/plain": [
       "[[array([0., 0., 0., 0., 0.])],\n",
       " [array([0., 0., 0., 0., 1.])],\n",
       " [array([0., 0., 0., 0., 2.])],\n",
       " [array([15, 58, 93,  5,  3])],\n",
       " [array([0., 0., 0., 0., 4.])],\n",
       " [array([ 18,  55, 150,   4,   5])],\n",
       " [array([ 16,  54, 142,   5,   6])],\n",
       " [array([ 15,  59, 116,   4,   7])],\n",
       " [array([0., 0., 0., 0., 8.])],\n",
       " [array([0., 0., 0., 0., 9.])],\n",
       " [array([ 18,  44, 118,   3,  10])],\n",
       " [array([ 0.,  0.,  0.,  0., 11.])],\n",
       " [array([17, 60, 91,  4, 12])],\n",
       " [array([ 19,  77, 140,   6,  13])],\n",
       " [array([ 19,  65, 107,   6,  14])],\n",
       " [array([20, 32, 87,  8, 15])],\n",
       " [array([ 22,  72, 102,  10,  16])],\n",
       " [array([ 20,  65, 106,   8,  17])],\n",
       " [array([16, 48, 79,  6, 18])],\n",
       " [array([ 0.,  0.,  0.,  0., 19.])],\n",
       " [array([20, 30, 69,  8, 20])],\n",
       " [array([21, 47, 87,  8, 21])],\n",
       " [array([ 19,  69, 103,   6,  22])],\n",
       " [array([16, 57, 70,  6, 23])],\n",
       " [array([20, 27, 54,  7, 24])],\n",
       " [array([19, 48, 33,  5, 25])],\n",
       " [array([ 0.,  0.,  0.,  0., 26.])],\n",
       " [array([ 0.,  0.,  0.,  0., 27.])],\n",
       " [array([ 0.,  0.,  0.,  0., 28.])],\n",
       " [array([ 0.,  0.,  0.,  0., 29.])],\n",
       " [array([16, 38, 47,  4, 30])],\n",
       " [array([15, 38, 69,  4, 31])],\n",
       " [array([ 0.,  0.,  0.,  0., 32.])],\n",
       " [array([ 0.,  0.,  0.,  0., 33.])],\n",
       " [array([ 0.,  0.,  0.,  0., 34.])],\n",
       " [array([ 0.,  0.,  0.,  0., 35.])],\n",
       " [array([ 0.,  0.,  0.,  0., 36.])],\n",
       " [array([ 0.,  0.,  0.,  0., 37.])],\n",
       " [array([ 0.,  0.,  0.,  0., 38.])],\n",
       " [array([ 0.,  0.,  0.,  0., 39.])],\n",
       " [array([ 0.,  0.,  0.,  0., 40.])],\n",
       " [array([ 0.,  0.,  0.,  0., 41.])],\n",
       " [array([ 16,  65, 119,   4,  42])],\n",
       " [array([ 0.,  0.,  0.,  0., 43.])],\n",
       " [array([ 0.,  0.,  0.,  0., 44.])],\n",
       " [array([ 0.,  0.,  0.,  0., 45.])],\n",
       " [array([ 0.,  0.,  0.,  0., 46.])],\n",
       " [array([ 16, 102,  72,   5,  47])],\n",
       " [array([ 0.,  0.,  0.,  0., 48.])],\n",
       " [array([ 17, 117,  82,   4,  49])],\n",
       " [array([ 0.,  0.,  0.,  0., 50.])],\n",
       " [array([ 0.,  0.,  0.,  0., 51.])],\n",
       " [array([ 18, 113,  71,   5,  52])],\n",
       " [array([ 0.,  0.,  0.,  0., 53.])],\n",
       " [array([ 0.,  0.,  0.,  0., 54.])],\n",
       " [array([13, 82, 94,  5, 55])],\n",
       " [array([ 14,  62, 117,   7,  56])],\n",
       " [array([ 16,  75, 113,   8,  57])],\n",
       " [array([ 20,  70, 119,  10,  58])],\n",
       " [array([ 18, 103, 155,   5,  59])],\n",
       " [array([ 18, 142, 105,   5,  60])],\n",
       " [array([ 0.,  0.,  0.,  0., 61.])],\n",
       " [array([ 0.,  0.,  0.,  0., 62.])],\n",
       " [array([ 0.,  0.,  0.,  0., 63.])],\n",
       " [array([ 17, 119,  90,   6,  64])],\n",
       " [array([ 14, 105,  71,   3,  65])],\n",
       " [array([ 16, 120,  81,   5,  66])],\n",
       " [array([ 21, 145, 133,   8,  67])],\n",
       " [array([ 24, 157, 126,  11,  68])],\n",
       " [array([ 22, 124, 101,   7,  69])],\n",
       " [array([20, 92, 92,  8, 70])],\n",
       " [array([23, 87, 99, 10, 71])],\n",
       " [array([ 21, 105, 107,   6,  72])],\n",
       " [array([22, 99, 82, 10, 73])],\n",
       " [array([ 20, 114,  60,   4,  74])],\n",
       " [array([ 22, 108,  82,   8,  75])],\n",
       " [array([ 21, 107,  73,   7,  76])],\n",
       " [array([20, 92, 57,  4, 77])],\n",
       " [array([ 21, 123,  94,   7,  78])],\n",
       " [array([ 20, 118, 101,   9,  79])],\n",
       " [array([ 23, 111,  76,   9,  80])],\n",
       " [array([ 19, 114,  74,   6,  81])],\n",
       " [array([20, 90, 44,  9, 82])],\n",
       " [array([19, 84, 38,  6, 83])],\n",
       " [array([ 19, 102,  49,   8,  84])],\n",
       " [array([ 24, 109,  65,  12,  85])],\n",
       " [array([ 24, 113,  82,  10,  86])],\n",
       " [array([ 23, 119, 100,   9,  87])],\n",
       " [array([ 25, 115,  92,  15,  88])],\n",
       " [array([ 25, 122,  77,   6,  89])],\n",
       " [array([ 25, 127,  72,   4,  90])],\n",
       " [array([ 25, 119, 107,   7,  91])],\n",
       " [array([ 0.,  0.,  0.,  0., 92.])],\n",
       " [array([ 23, 111,  95,   5,  93])],\n",
       " [array([ 23, 121,  99,   6,  94])],\n",
       " [array([ 23, 111,  94,   7,  95])],\n",
       " [array([24, 86, 94,  7, 96])],\n",
       " [array([ 24,  94, 108,   6,  97])],\n",
       " [array([ 25,  83, 102,   9,  98])],\n",
       " [array([20, 88, 80, 10, 99])],\n",
       " [array([ 21,  82,  91,  11, 100])],\n",
       " [array([ 20, 118, 116,   8, 101])],\n",
       " [array([ 23, 105, 116,  11, 102])],\n",
       " [array([ 23, 111, 110,   8, 103])],\n",
       " [array([ 22, 104,  99,   7, 104])],\n",
       " [array([ 23, 103, 111,   7, 105])],\n",
       " [array([ 22, 105, 117,   7, 106])],\n",
       " [array([ 23, 119, 131,   8, 107])],\n",
       " [array([ 23, 104, 123,  10, 108])],\n",
       " [array([ 25,  94, 136,  13, 109])],\n",
       " [array([ 22, 107, 134,   7, 110])],\n",
       " [array([ 23, 110, 108,   9, 111])],\n",
       " [array([ 24, 105, 111,  12, 112])],\n",
       " [array([ 24, 116, 118,  13, 113])],\n",
       " [array([ 25,  99, 124,  10, 114])],\n",
       " [array([ 23,  85, 132,  12, 115])],\n",
       " [array([ 22,  54, 116,  11, 116])],\n",
       " [array([ 20,  68, 115,  11, 117])],\n",
       " [array([ 19,  51, 110,  11, 118])],\n",
       " [array([ 17,  45,  89,  12, 119])]]"
      ]
     },
     "execution_count": 18,
     "metadata": {},
     "output_type": "execute_result"
    }
   ],
   "source": [
    "c"
   ]
  },
  {
   "cell_type": "markdown",
   "id": "5d562f82",
   "metadata": {},
   "source": [
    "## Correct spots "
   ]
  },
  {
   "cell_type": "code",
   "execution_count": 19,
   "id": "202bc668",
   "metadata": {},
   "outputs": [],
   "source": [
    "#spotsFrame2 = sort_spot_list(spotsFrame,mipSequenceCell)"
   ]
  },
  {
   "cell_type": "markdown",
   "id": "04d62622",
   "metadata": {},
   "source": [
    "## Save detection results to be used later"
   ]
  },
  {
   "cell_type": "code",
   "execution_count": 20,
   "id": "f11018f0",
   "metadata": {},
   "outputs": [],
   "source": [
    "saveSpotsNPZ(np.array(spotsFrame, dtype=object), \n",
    "             np.array(clustersFrames, dtype=object), \n",
    "             np.array(ThresholdFrames, dtype=object), \n",
    "             cellNumber, \n",
    "             cell_Crop_Folder, \n",
    "             reference_spot,\n",
    "             threshold = selectedThreshold\n",
    "             ) \n"
   ]
  },
  {
   "cell_type": "markdown",
   "id": "cf74116e",
   "metadata": {},
   "source": [
    "## Visualise detection results"
   ]
  },
  {
   "cell_type": "code",
   "execution_count": 21,
   "id": "79671cd8",
   "metadata": {},
   "outputs": [
    {
     "data": {
      "text/plain": [
       "<function __main__.<lambda>(event)>"
      ]
     },
     "execution_count": 21,
     "metadata": {},
     "output_type": "execute_result"
    }
   ],
   "source": [
    "def getDetectedPointsForFrame(pts_coordinates, frameNumer):\n",
    "    sd = np.shape(pts_coordinates[frameNumer][:])\n",
    "    pts_coords = np.empty([sd[0],sd[1]-1])\n",
    "    for ii in range(np.shape(pts_coordinates[frameNumer][:])[0]):\n",
    "        pts_coords[ii,:] = pts_coordinates[frameNumer][ii][1:]\n",
    "    return pts_coords\n",
    "\n",
    "def getDetectedClustersForFrame(pts_coordinates, frameNumer):\n",
    "    sd = np.shape(pts_coordinates[frameNumer][:])\n",
    "    pts_coords = np.empty([sd[0],sd[1]-3])\n",
    "    for ii in range(np.shape(pts_coordinates[frameNumer][:])[0]):\n",
    "        pts_coords[ii,:] = pts_coordinates[frameNumer][ii][1:3]\n",
    "    return pts_coords\n",
    "\n",
    "def set_pts_features(pts_layer, cls_layer, pts_coordinates, cluster_coordinate, step): #TxLayer\n",
    "    # step is a 4D coordinate with the current slider position for each dim\n",
    "    frameNumber = step[0]  # grab the leading (\"time\") coordinate\n",
    "    pts_layer.data = getDetectedPointsForFrame(pts_coordinates,frameNumber)\n",
    "    cls_layer.data = getDetectedClustersForFrame(cluster_coordinate,frameNumber)\n",
    "\n",
    "\n",
    "pts_coordinates = spotsFrame\n",
    "cluster_coordinate = c\n",
    "\n",
    "viewer = napari.Viewer()\n",
    "image_layer = viewer.add_image(\n",
    "        mipSequenceCell, colormap='green' #maxImageCell\n",
    "        )\n",
    "if image_layer.data.ndim == 4:\n",
    "    bigfishSpots = spotsFrame\n",
    "elif image_layer.data.ndim == 3:\n",
    "    bigfishSpots = getDetectedPointsForFrame(pts_coordinates,int(np.shape(mipSequenceCell)[0]/2))\n",
    "    \n",
    "bigfish_Spots = viewer.add_points(\n",
    "        getDetectedPointsForFrame(pts_coordinates,int(np.shape(mipSequenceCell)[0]/2)-1),\n",
    "        face_color='#00000000',\n",
    "        size=4,\n",
    "        edge_width=0.3,\n",
    "        edge_width_is_relative=False,\n",
    "        edge_color='white',\n",
    "        name = 'bigFish Detected Spots'\n",
    "        )\n",
    "\n",
    "bigfish_clusters = viewer.add_points(\n",
    "        getDetectedClustersForFrame(cluster_coordinate,int(np.shape(mipSequenceCell)[0]/2)-1),\n",
    "        face_color='#00000000',\n",
    "        size=8,\n",
    "        edge_width=0.3,\n",
    "        edge_width_is_relative=False,\n",
    "        edge_color='red',\n",
    "        symbol='diamond',\n",
    "        name = 'bigFish Clusters'\n",
    "        )\n",
    "\n",
    "\n",
    "viewer.dims.events.current_step.connect(\n",
    "        lambda event: set_pts_features(bigfish_Spots, bigfish_clusters, pts_coordinates, cluster_coordinate, event.value)\n",
    "        )\n",
    "\n"
   ]
  },
  {
   "cell_type": "markdown",
   "id": "e4910681-94e0-4f30-aa84-f2f86db476da",
   "metadata": {},
   "source": [
    "# Save clusters frame in csv "
   ]
  },
  {
   "cell_type": "code",
   "execution_count": 22,
   "id": "4678046e",
   "metadata": {},
   "outputs": [
    {
     "name": "stdout",
     "output_type": "stream",
     "text": [
      "saved on  /media/raphael/data/works/20231220_C3_14_2h_ofON/bleach_correction/expo/C3.14_ON_01_w1SPI-488_s4/2024_05_15_C3.14_ON_01_w1SPI-488_s4/C3.14_ON_01_w1SPI-488_s4_TS_cell_53_bleach_correction_sort_ref_spots0.9_2_15_thres_56.csv\n"
     ]
    }
   ],
   "source": [
    "save_csv_file(homeFolder,nameKey,imsQ,cellNumber,selectedThreshold,alpha,beta,gamma,c)"
   ]
  },
  {
   "cell_type": "code",
   "execution_count": null,
   "id": "447af5ca",
   "metadata": {},
   "outputs": [],
   "source": []
  }
 ],
 "metadata": {
  "kernelspec": {
   "display_name": "Python 3 (ipykernel)",
   "language": "python",
   "name": "python3"
  },
  "language_info": {
   "codemirror_mode": {
    "name": "ipython",
    "version": 3
   },
   "file_extension": ".py",
   "mimetype": "text/x-python",
   "name": "python",
   "nbconvert_exporter": "python",
   "pygments_lexer": "ipython3",
   "version": "3.9.18"
  }
 },
 "nbformat": 4,
 "nbformat_minor": 5
}
