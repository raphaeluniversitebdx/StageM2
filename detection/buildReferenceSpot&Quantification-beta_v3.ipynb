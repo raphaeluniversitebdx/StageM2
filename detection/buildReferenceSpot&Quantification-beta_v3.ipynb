{
 "cells": [
  {
   "cell_type": "markdown",
   "id": "c0cc3753",
   "metadata": {},
   "source": [
    "## Import necessary python modules"
   ]
  },
  {
   "cell_type": "code",
   "execution_count": 1,
   "id": "9d089cf9",
   "metadata": {},
   "outputs": [],
   "source": [
    "import os\n",
    "import napari\n",
    "import tifffile\n",
    "import numpy as np\n",
    "import matplotlib.pyplot as plt\n",
    "\n",
    "import bigfish\n",
    "import bigfish.plot as plot\n",
    "import bigfish.stack as stack\n",
    "import bigfish.detection as detection\n",
    "import bigfish.multistack as multistack\n",
    "\n",
    "from copy import deepcopy\n",
    "from dask.array.image import imread as imr\n",
    "from bigfish.detection.utils import get_object_radius_pixel\n",
    "from buildReferenceSpot import buildReferenceSpotFromImages\n",
    "from runBigfishDetection import getSpotAndClusters, saveSpotsNPZ, reorderZstack, getSpotAndClusters_multi"
   ]
  },
  {
   "cell_type": "code",
   "execution_count": 2,
   "id": "fec928ef",
   "metadata": {},
   "outputs": [],
   "source": [
    "from order_spot import * "
   ]
  },
  {
   "cell_type": "markdown",
   "id": "ef74aefd",
   "metadata": {},
   "source": [
    "## Specify Input and Output folders, identifiers"
   ]
  },
  {
   "cell_type": "code",
   "execution_count": 3,
   "id": "eb637701-79c5-46d0-9e46-04a4c46986e2",
   "metadata": {},
   "outputs": [],
   "source": [
    "homeFolder = '/media/raphael/data/works/20231220_C3_14_2h_ofON/new_correction/'\n",
    "nameKey = 'C3.14_ON_01_w1SPI-488_s'\n",
    "\n",
    "imsQ = '4'\n",
    "cellNumber = '18'\n",
    "nucleiStackForm = nameKey+imsQ+\"_cell_\"\n",
    "\n",
    "pathToTimeSequenceFullView = homeFolder+nameKey+imsQ+'/*.tif'\n",
    "cell_Crop_Folder = homeFolder+nameKey+imsQ+'/cell_'+str(cellNumber)+'/'\n",
    "pathToTimeSequenceCell = homeFolder+nameKey+imsQ+'/cell_'+str(cellNumber)+'/*.tif'\n",
    "\n",
    "\n",
    "sequenceCell = imr(pathToTimeSequenceCell)\n",
    "sequenceCell = sequenceCell\n",
    "mipSequenceCell = np.max(sequenceCell, axis=1)\n",
    "MaxTimePoint = sequenceCell.shape[0]"
   ]
  },
  {
   "cell_type": "markdown",
   "id": "a6823fdb",
   "metadata": {},
   "source": [
    "## Specify voxel and object size"
   ]
  },
  {
   "cell_type": "code",
   "execution_count": 4,
   "id": "92e6c86b",
   "metadata": {},
   "outputs": [],
   "source": [
    "voxelRadius = (700, 110, 110) # in nanometers\n",
    "objectRadius = (700, 105, 105) # in nanometers"
   ]
  },
  {
   "cell_type": "code",
   "execution_count": 5,
   "id": "72a94eaa",
   "metadata": {},
   "outputs": [],
   "source": [
    "alpha = 0.5\n",
    "\n",
    "beta = 2\n",
    "gamma = 15"
   ]
  },
  {
   "cell_type": "markdown",
   "id": "f8a25dd7",
   "metadata": {},
   "source": [
    "## Choose detection threshold"
   ]
  },
  {
   "cell_type": "code",
   "execution_count": 6,
   "id": "9414caf2",
   "metadata": {},
   "outputs": [
    {
     "name": "stdout",
     "output_type": "stream",
     "text": [
      "Enter your selected threshold: 70\n"
     ]
    }
   ],
   "source": [
    "selectedThreshold = int(input(\"Enter your selected threshold: \"))"
   ]
  },
  {
   "cell_type": "code",
   "execution_count": 7,
   "id": "dde2e68a",
   "metadata": {},
   "outputs": [
    {
     "name": "stdout",
     "output_type": "stream",
     "text": [
      "Enter your max Frame: 1\n"
     ]
    }
   ],
   "source": [
    "minFrame = int(input(\"Enter your max Frame: \"))\n",
    "minFrame = minFrame "
   ]
  },
  {
   "cell_type": "code",
   "execution_count": 8,
   "id": "d01607a9",
   "metadata": {},
   "outputs": [
    {
     "name": "stdout",
     "output_type": "stream",
     "text": [
      "Enter your max Frame: 120\n"
     ]
    }
   ],
   "source": [
    "maxFrame = int(input(\"Enter your max Frame: \"))\n",
    "maxFrame = maxFrame + 1 "
   ]
  },
  {
   "cell_type": "markdown",
   "id": "e60c6804",
   "metadata": {},
   "source": [
    "### Compute list of threshold "
   ]
  },
  {
   "cell_type": "markdown",
   "id": "31d78382",
   "metadata": {},
   "source": [
    "## Get a list of spots detected using the threshold specified in previous step"
   ]
  },
  {
   "cell_type": "markdown",
   "id": "3233ae96",
   "metadata": {},
   "source": [
    "Voire graphe du notebook 4 bleaching correction\n",
    "\n",
    "Toutes les frames ne suivent pas la meme allure avec des images bcp moins intense que l'autre d'une frame a l'autre besoin de ponderer le threshold en fonction d'une moyenne generale et d'une liste de moyenne en fonction des frames \n",
    "\n",
    "if mean_frame < moy_gen :\n",
    "    abaisser le threshold\n",
    "elid mean_frame > moy_gen :\n",
    "    augmenter le threshold\n",
    "    \n",
    "else : \n",
    "    conserver threshold \n",
    "    \n",
    "Ou possibilite d'appliquer ce principe a une difference de pourcentage d'une frame a l'autre "
   ]
  },
  {
   "cell_type": "code",
   "execution_count": 9,
   "id": "da8b11f2",
   "metadata": {},
   "outputs": [
    {
     "ename": "KeyboardInterrupt",
     "evalue": "",
     "output_type": "error",
     "traceback": [
      "\u001b[0;31m---------------------------------------------------------------------------\u001b[0m",
      "\u001b[0;31mKeyboardInterrupt\u001b[0m                         Traceback (most recent call last)",
      "\u001b[0;32m/tmp/ipykernel_10590/3973972203.py\u001b[0m in \u001b[0;36m?\u001b[0;34m()\u001b[0m\n\u001b[1;32m      9\u001b[0m \u001b[0mimages\u001b[0m\u001b[0;34m=\u001b[0m\u001b[0;34m[\u001b[0m\u001b[0;34m]\u001b[0m\u001b[0;34m\u001b[0m\u001b[0;34m\u001b[0m\u001b[0m\n\u001b[1;32m     10\u001b[0m \u001b[0mspots_list\u001b[0m\u001b[0;34m=\u001b[0m\u001b[0;34m[\u001b[0m\u001b[0;34m]\u001b[0m\u001b[0;34m\u001b[0m\u001b[0;34m\u001b[0m\u001b[0m\n\u001b[1;32m     11\u001b[0m \u001b[0;34m\u001b[0m\u001b[0m\n\u001b[0;32m---> 12\u001b[0;31m spot_radius_px = detection.get_object_radius_pixel(\n\u001b[0m\u001b[1;32m     13\u001b[0m     \u001b[0mvoxel_size_nm\u001b[0m\u001b[0;34m=\u001b[0m\u001b[0mvoxelRadius\u001b[0m\u001b[0;34m,\u001b[0m\u001b[0;34m\u001b[0m\u001b[0;34m\u001b[0m\u001b[0m\n\u001b[1;32m     14\u001b[0m     \u001b[0mobject_radius_nm\u001b[0m\u001b[0;34m=\u001b[0m\u001b[0mobjectRadius\u001b[0m\u001b[0;34m,\u001b[0m\u001b[0;34m\u001b[0m\u001b[0;34m\u001b[0m\u001b[0m\n\u001b[1;32m     15\u001b[0m     ndim=3)\n",
      "\u001b[0;32m~/miniconda3/envs/bigfishlive/lib/python3.9/site-packages/bigfish/stack/io.py\u001b[0m in \u001b[0;36m?\u001b[0;34m(path, sanity_check)\u001b[0m\n\u001b[1;32m     45\u001b[0m         \u001b[0mpath\u001b[0m\u001b[0;34m=\u001b[0m\u001b[0mstr\u001b[0m\u001b[0;34m,\u001b[0m\u001b[0;34m\u001b[0m\u001b[0;34m\u001b[0m\u001b[0m\n\u001b[1;32m     46\u001b[0m         sanity_check=bool)\n\u001b[1;32m     47\u001b[0m \u001b[0;34m\u001b[0m\u001b[0m\n\u001b[1;32m     48\u001b[0m     \u001b[0;31m# read image\u001b[0m\u001b[0;34m\u001b[0m\u001b[0;34m\u001b[0m\u001b[0m\n\u001b[0;32m---> 49\u001b[0;31m     \u001b[0mimage\u001b[0m \u001b[0;34m=\u001b[0m \u001b[0mio\u001b[0m\u001b[0;34m.\u001b[0m\u001b[0mimread\u001b[0m\u001b[0;34m(\u001b[0m\u001b[0mpath\u001b[0m\u001b[0;34m)\u001b[0m\u001b[0;34m\u001b[0m\u001b[0;34m\u001b[0m\u001b[0m\n\u001b[0m\u001b[1;32m     50\u001b[0m \u001b[0;34m\u001b[0m\u001b[0m\n\u001b[1;32m     51\u001b[0m     \u001b[0;31m# check the output image\u001b[0m\u001b[0;34m\u001b[0m\u001b[0;34m\u001b[0m\u001b[0m\n\u001b[1;32m     52\u001b[0m     \u001b[0;32mif\u001b[0m \u001b[0msanity_check\u001b[0m\u001b[0;34m:\u001b[0m\u001b[0;34m\u001b[0m\u001b[0;34m\u001b[0m\u001b[0m\n",
      "\u001b[0;32m~/miniconda3/envs/bigfishlive/lib/python3.9/site-packages/skimage/io/_io.py\u001b[0m in \u001b[0;36m?\u001b[0;34m(fname, as_gray, plugin, **plugin_args)\u001b[0m\n\u001b[1;32m     49\u001b[0m         \u001b[0;32mif\u001b[0m \u001b[0mfname\u001b[0m\u001b[0;34m.\u001b[0m\u001b[0mlower\u001b[0m\u001b[0;34m(\u001b[0m\u001b[0;34m)\u001b[0m\u001b[0;34m.\u001b[0m\u001b[0mendswith\u001b[0m\u001b[0;34m(\u001b[0m\u001b[0;34m(\u001b[0m\u001b[0;34m'.tiff'\u001b[0m\u001b[0;34m,\u001b[0m \u001b[0;34m'.tif'\u001b[0m\u001b[0;34m)\u001b[0m\u001b[0;34m)\u001b[0m\u001b[0;34m:\u001b[0m\u001b[0;34m\u001b[0m\u001b[0;34m\u001b[0m\u001b[0m\n\u001b[1;32m     50\u001b[0m             \u001b[0mplugin\u001b[0m \u001b[0;34m=\u001b[0m \u001b[0;34m'tifffile'\u001b[0m\u001b[0;34m\u001b[0m\u001b[0;34m\u001b[0m\u001b[0m\n\u001b[1;32m     51\u001b[0m \u001b[0;34m\u001b[0m\u001b[0m\n\u001b[1;32m     52\u001b[0m     \u001b[0;32mwith\u001b[0m \u001b[0mfile_or_url_context\u001b[0m\u001b[0;34m(\u001b[0m\u001b[0mfname\u001b[0m\u001b[0;34m)\u001b[0m \u001b[0;32mas\u001b[0m \u001b[0mfname\u001b[0m\u001b[0;34m:\u001b[0m\u001b[0;34m\u001b[0m\u001b[0;34m\u001b[0m\u001b[0m\n\u001b[0;32m---> 53\u001b[0;31m         \u001b[0mimg\u001b[0m \u001b[0;34m=\u001b[0m \u001b[0mcall_plugin\u001b[0m\u001b[0;34m(\u001b[0m\u001b[0;34m'imread'\u001b[0m\u001b[0;34m,\u001b[0m \u001b[0mfname\u001b[0m\u001b[0;34m,\u001b[0m \u001b[0mplugin\u001b[0m\u001b[0;34m=\u001b[0m\u001b[0mplugin\u001b[0m\u001b[0;34m,\u001b[0m \u001b[0;34m**\u001b[0m\u001b[0mplugin_args\u001b[0m\u001b[0;34m)\u001b[0m\u001b[0;34m\u001b[0m\u001b[0;34m\u001b[0m\u001b[0m\n\u001b[0m\u001b[1;32m     54\u001b[0m \u001b[0;34m\u001b[0m\u001b[0m\n\u001b[1;32m     55\u001b[0m     \u001b[0;32mif\u001b[0m \u001b[0;32mnot\u001b[0m \u001b[0mhasattr\u001b[0m\u001b[0;34m(\u001b[0m\u001b[0mimg\u001b[0m\u001b[0;34m,\u001b[0m \u001b[0;34m'ndim'\u001b[0m\u001b[0;34m)\u001b[0m\u001b[0;34m:\u001b[0m\u001b[0;34m\u001b[0m\u001b[0;34m\u001b[0m\u001b[0m\n\u001b[1;32m     56\u001b[0m         \u001b[0;32mreturn\u001b[0m \u001b[0mimg\u001b[0m\u001b[0;34m\u001b[0m\u001b[0;34m\u001b[0m\u001b[0m\n",
      "\u001b[0;32m~/miniconda3/envs/bigfishlive/lib/python3.9/site-packages/skimage/io/manage_plugins.py\u001b[0m in \u001b[0;36m?\u001b[0;34m(kind, *args, **kwargs)\u001b[0m\n\u001b[1;32m    201\u001b[0m             \u001b[0mfunc\u001b[0m \u001b[0;34m=\u001b[0m \u001b[0;34m[\u001b[0m\u001b[0mf\u001b[0m \u001b[0;32mfor\u001b[0m \u001b[0;34m(\u001b[0m\u001b[0mp\u001b[0m\u001b[0;34m,\u001b[0m \u001b[0mf\u001b[0m\u001b[0;34m)\u001b[0m \u001b[0;32min\u001b[0m \u001b[0mplugin_funcs\u001b[0m \u001b[0;32mif\u001b[0m \u001b[0mp\u001b[0m \u001b[0;34m==\u001b[0m \u001b[0mplugin\u001b[0m\u001b[0;34m]\u001b[0m\u001b[0;34m[\u001b[0m\u001b[0;36m0\u001b[0m\u001b[0;34m]\u001b[0m\u001b[0;34m\u001b[0m\u001b[0;34m\u001b[0m\u001b[0m\n\u001b[1;32m    202\u001b[0m         \u001b[0;32mexcept\u001b[0m \u001b[0mIndexError\u001b[0m\u001b[0;34m:\u001b[0m\u001b[0;34m\u001b[0m\u001b[0;34m\u001b[0m\u001b[0m\n\u001b[1;32m    203\u001b[0m             \u001b[0;32mraise\u001b[0m \u001b[0mRuntimeError\u001b[0m\u001b[0;34m(\u001b[0m\u001b[0;34mf'Could not find the plugin \"{plugin}\" for {kind}.'\u001b[0m\u001b[0;34m)\u001b[0m\u001b[0;34m\u001b[0m\u001b[0;34m\u001b[0m\u001b[0m\n\u001b[1;32m    204\u001b[0m \u001b[0;34m\u001b[0m\u001b[0m\n\u001b[0;32m--> 205\u001b[0;31m     \u001b[0;32mreturn\u001b[0m \u001b[0mfunc\u001b[0m\u001b[0;34m(\u001b[0m\u001b[0;34m*\u001b[0m\u001b[0margs\u001b[0m\u001b[0;34m,\u001b[0m \u001b[0;34m**\u001b[0m\u001b[0mkwargs\u001b[0m\u001b[0;34m)\u001b[0m\u001b[0;34m\u001b[0m\u001b[0;34m\u001b[0m\u001b[0m\n\u001b[0m",
      "\u001b[0;32m~/miniconda3/envs/bigfishlive/lib/python3.9/site-packages/skimage/io/_plugins/tifffile_plugin.py\u001b[0m in \u001b[0;36m?\u001b[0;34m(fname, **kwargs)\u001b[0m\n\u001b[1;32m     70\u001b[0m     \"\"\"\n\u001b[1;32m     71\u001b[0m     \u001b[0;32mif\u001b[0m \u001b[0;34m'img_num'\u001b[0m \u001b[0;32min\u001b[0m \u001b[0mkwargs\u001b[0m\u001b[0;34m:\u001b[0m\u001b[0;34m\u001b[0m\u001b[0;34m\u001b[0m\u001b[0m\n\u001b[1;32m     72\u001b[0m         \u001b[0mkwargs\u001b[0m\u001b[0;34m[\u001b[0m\u001b[0;34m'key'\u001b[0m\u001b[0;34m]\u001b[0m \u001b[0;34m=\u001b[0m \u001b[0mkwargs\u001b[0m\u001b[0;34m.\u001b[0m\u001b[0mpop\u001b[0m\u001b[0;34m(\u001b[0m\u001b[0;34m'img_num'\u001b[0m\u001b[0;34m)\u001b[0m\u001b[0;34m\u001b[0m\u001b[0;34m\u001b[0m\u001b[0m\n\u001b[1;32m     73\u001b[0m \u001b[0;34m\u001b[0m\u001b[0m\n\u001b[0;32m---> 74\u001b[0;31m     \u001b[0;32mreturn\u001b[0m \u001b[0mtifffile_imread\u001b[0m\u001b[0;34m(\u001b[0m\u001b[0mfname\u001b[0m\u001b[0;34m,\u001b[0m \u001b[0;34m**\u001b[0m\u001b[0mkwargs\u001b[0m\u001b[0;34m)\u001b[0m\u001b[0;34m\u001b[0m\u001b[0;34m\u001b[0m\u001b[0m\n\u001b[0m",
      "\u001b[0;32m~/miniconda3/envs/bigfishlive/lib/python3.9/site-packages/tifffile/tifffile.py\u001b[0m in \u001b[0;36m?\u001b[0;34m(files, selection, aszarr, key, series, level, squeeze, maxworkers, buffersize, mode, name, offset, size, pattern, axesorder, categories, imread, sort, container, chunkshape, dtype, axestiled, ioworkers, chunkmode, fillvalue, zattrs, multiscales, omexml, out, out_inplace, _multifile, _useframes, **kwargs)\u001b[0m\n\u001b[1;32m   1247\u001b[0m                     )\n\u001b[1;32m   1248\u001b[0m                     \u001b[0;32mif\u001b[0m \u001b[0mselection\u001b[0m \u001b[0;32mis\u001b[0m \u001b[0;32mNone\u001b[0m\u001b[0;34m:\u001b[0m\u001b[0;34m\u001b[0m\u001b[0;34m\u001b[0m\u001b[0m\n\u001b[1;32m   1249\u001b[0m                         \u001b[0;32mreturn\u001b[0m \u001b[0mstore\u001b[0m\u001b[0;34m\u001b[0m\u001b[0;34m\u001b[0m\u001b[0m\n\u001b[1;32m   1250\u001b[0m                     \u001b[0;32mreturn\u001b[0m \u001b[0mzarr_selection\u001b[0m\u001b[0;34m(\u001b[0m\u001b[0mstore\u001b[0m\u001b[0;34m,\u001b[0m \u001b[0mselection\u001b[0m\u001b[0;34m,\u001b[0m \u001b[0mout\u001b[0m\u001b[0;34m=\u001b[0m\u001b[0mout\u001b[0m\u001b[0;34m)\u001b[0m\u001b[0;34m\u001b[0m\u001b[0;34m\u001b[0m\u001b[0m\n\u001b[0;32m-> 1251\u001b[0;31m                 return tif.asarray(\n\u001b[0m\u001b[1;32m   1252\u001b[0m                     \u001b[0mkey\u001b[0m\u001b[0;34m=\u001b[0m\u001b[0mkey\u001b[0m\u001b[0;34m,\u001b[0m\u001b[0;34m\u001b[0m\u001b[0;34m\u001b[0m\u001b[0m\n\u001b[1;32m   1253\u001b[0m                     \u001b[0mseries\u001b[0m\u001b[0;34m=\u001b[0m\u001b[0mseries\u001b[0m\u001b[0;34m,\u001b[0m\u001b[0;34m\u001b[0m\u001b[0;34m\u001b[0m\u001b[0m\n\u001b[1;32m   1254\u001b[0m                     \u001b[0mlevel\u001b[0m\u001b[0;34m=\u001b[0m\u001b[0mlevel\u001b[0m\u001b[0;34m,\u001b[0m\u001b[0;34m\u001b[0m\u001b[0;34m\u001b[0m\u001b[0m\n",
      "\u001b[0;32m~/miniconda3/envs/bigfishlive/lib/python3.9/site-packages/tifffile/tifffile.py\u001b[0m in \u001b[0;36m?\u001b[0;34m(self, key, series, level, squeeze, out, maxworkers, buffersize)\u001b[0m\n\u001b[1;32m   4476\u001b[0m                 \u001b[0;31m# read into output\u001b[0m\u001b[0;34m\u001b[0m\u001b[0;34m\u001b[0m\u001b[0m\n\u001b[1;32m   4477\u001b[0m                 \u001b[0mshape\u001b[0m \u001b[0;34m=\u001b[0m \u001b[0mseries\u001b[0m\u001b[0;34m.\u001b[0m\u001b[0mget_shape\u001b[0m\u001b[0;34m(\u001b[0m\u001b[0msqueeze\u001b[0m\u001b[0;34m)\u001b[0m\u001b[0;34m\u001b[0m\u001b[0;34m\u001b[0m\u001b[0m\n\u001b[1;32m   4478\u001b[0m                 \u001b[0;32mif\u001b[0m \u001b[0mout\u001b[0m \u001b[0;32mis\u001b[0m \u001b[0;32mnot\u001b[0m \u001b[0;32mNone\u001b[0m\u001b[0;34m:\u001b[0m\u001b[0;34m\u001b[0m\u001b[0;34m\u001b[0m\u001b[0m\n\u001b[1;32m   4479\u001b[0m                     \u001b[0mout\u001b[0m \u001b[0;34m=\u001b[0m \u001b[0mcreate_output\u001b[0m\u001b[0;34m(\u001b[0m\u001b[0mout\u001b[0m\u001b[0;34m,\u001b[0m \u001b[0mshape\u001b[0m\u001b[0;34m,\u001b[0m \u001b[0mseries\u001b[0m\u001b[0;34m.\u001b[0m\u001b[0mdtype\u001b[0m\u001b[0;34m)\u001b[0m\u001b[0;34m\u001b[0m\u001b[0;34m\u001b[0m\u001b[0m\n\u001b[0;32m-> 4480\u001b[0;31m                 result = self.filehandle.read_array(\n\u001b[0m\u001b[1;32m   4481\u001b[0m                     \u001b[0mtypecode\u001b[0m\u001b[0;34m,\u001b[0m\u001b[0;34m\u001b[0m\u001b[0;34m\u001b[0m\u001b[0m\n\u001b[1;32m   4482\u001b[0m                     \u001b[0mseries\u001b[0m\u001b[0;34m.\u001b[0m\u001b[0msize\u001b[0m\u001b[0;34m,\u001b[0m\u001b[0;34m\u001b[0m\u001b[0;34m\u001b[0m\u001b[0m\n\u001b[1;32m   4483\u001b[0m                     \u001b[0mseries\u001b[0m\u001b[0;34m.\u001b[0m\u001b[0mdataoffset\u001b[0m\u001b[0;34m,\u001b[0m\u001b[0;34m\u001b[0m\u001b[0;34m\u001b[0m\u001b[0m\n",
      "\u001b[0;32m~/miniconda3/envs/bigfishlive/lib/python3.9/site-packages/tifffile/tifffile.py\u001b[0m in \u001b[0;36m?\u001b[0;34m(self, dtype, count, offset, out)\u001b[0m\n\u001b[1;32m  14683\u001b[0m         \u001b[0;32mexcept\u001b[0m \u001b[0mAttributeError\u001b[0m\u001b[0;34m:\u001b[0m\u001b[0;34m\u001b[0m\u001b[0;34m\u001b[0m\u001b[0m\n\u001b[1;32m  14684\u001b[0m             result[:] = numpy.frombuffer(self._fh.read(nbytes), dtype).reshape(\n\u001b[1;32m  14685\u001b[0m                 \u001b[0mresult\u001b[0m\u001b[0;34m.\u001b[0m\u001b[0mshape\u001b[0m\u001b[0;34m\u001b[0m\u001b[0;34m\u001b[0m\u001b[0m\n\u001b[1;32m  14686\u001b[0m             )\n\u001b[0;32m> 14687\u001b[0;31m             \u001b[0mn\u001b[0m \u001b[0;34m=\u001b[0m \u001b[0mnbytes\u001b[0m\u001b[0;34m\u001b[0m\u001b[0;34m\u001b[0m\u001b[0m\n\u001b[0m\u001b[1;32m  14688\u001b[0m \u001b[0;34m\u001b[0m\u001b[0m\n\u001b[1;32m  14689\u001b[0m         \u001b[0;32mif\u001b[0m \u001b[0mn\u001b[0m \u001b[0;34m!=\u001b[0m \u001b[0mnbytes\u001b[0m\u001b[0;34m:\u001b[0m\u001b[0;34m\u001b[0m\u001b[0;34m\u001b[0m\u001b[0m\n\u001b[1;32m  14690\u001b[0m             \u001b[0;32mraise\u001b[0m \u001b[0mValueError\u001b[0m\u001b[0;34m(\u001b[0m\u001b[0;34mf'failed to read {nbytes} bytes, got {n}'\u001b[0m\u001b[0;34m)\u001b[0m\u001b[0;34m\u001b[0m\u001b[0;34m\u001b[0m\u001b[0m\n",
      "\u001b[0;31mKeyboardInterrupt\u001b[0m: "
     ]
    }
   ],
   "source": [
    "images=[]    \n",
    "spots_list=[]\n",
    "\n",
    "spot_radius_px = detection.get_object_radius_pixel(\n",
    "    voxel_size_nm=voxelRadius, \n",
    "    object_radius_nm=objectRadius, \n",
    "    ndim=3)\n",
    "\n",
    "for t in range(minFrame,maxFrame,1):\n",
    "\n",
    "    path = os.path.join(cell_Crop_Folder, nucleiStackForm+str(cellNumber)+'_t'+str(f\"{t:03}\")+\".tif\")\n",
    "    rna = stack.read_image(path)\n",
    "    images.append(rna)\n",
    "\n",
    "n=len(images)\n",
    "print(\"Total number of images : \"+str(n))\n",
    "\n",
    "selectedThreshold_loop = selectedThreshold\n",
    "\n",
    "for rna in images:\n",
    "    try : \n",
    "        # LoG filter\n",
    "        rna_log = stack.log_filter(rna, sigma=spot_radius_px)\n",
    "    \n",
    "        # local maximum detection\n",
    "        mask = detection.local_maximum_detection(rna_log, min_distance=spot_radius_px)\n",
    "    \n",
    "        # thresholding\n",
    "        threshold = detection.automated_threshold_setting(rna_log, mask)\n",
    "        \n",
    "        selectedThreshold_loop = (selectedThreshold_loop) #*((100+var_list[i])/100) \n",
    "        #print(selectedThreshold_loop)\n",
    "        spots_, _ = detection.spots_thresholding(rna_log, mask, float(selectedThreshold_loop))\n",
    "        spots_list.append(spots_)\n",
    "    except IndexError as e: \n",
    "        spots_, _ = detection.spots_thresholding(rna_log, mask, float(selectedThreshold))\n",
    "        spots_list.append(spots_)\n",
    "        print('Done')\n",
    "        break "
   ]
  },
  {
   "cell_type": "markdown",
   "id": "46415d37",
   "metadata": {},
   "source": [
    "## Build reference spot"
   ]
  },
  {
   "cell_type": "code",
   "execution_count": null,
   "id": "53e4aab3",
   "metadata": {},
   "outputs": [],
   "source": [
    "reference_spot = buildReferenceSpotFromImages(images, spots_list, alpha=alpha, gamma=5, voxelSize=voxelRadius, objectSize=objectRadius)\n",
    "%matplotlib inline\n",
    "plt.figure(num=3,figsize=(3,3))\n",
    "plt.imshow(np.max(reference_spot, axis=0))\n",
    "refSpot = deepcopy(reference_spot)"
   ]
  },
  {
   "cell_type": "markdown",
   "id": "dc2a526d",
   "metadata": {},
   "source": [
    "## Perform spot and cluster detection for all frames"
   ]
  },
  {
   "cell_type": "markdown",
   "id": "14d201d1",
   "metadata": {},
   "source": [
    "comparer detection avec beta = 1 gamma = 10 et beta = 2 gamma = 20 "
   ]
  },
  {
   "cell_type": "code",
   "execution_count": null,
   "id": "494c3826",
   "metadata": {
    "scrolled": true
   },
   "outputs": [],
   "source": [
    "spotsFrame, clustersFrames, ThresholdFrames = getSpotAndClusters(images, \n",
    "                                                                 reference_spot, \n",
    "                                                                 cellnumber=cellNumber, \n",
    "                                                                 startTime=minFrame-1,\n",
    "                                                                 stopTime=maxFrame-1,\n",
    "                                                                 thresholdManual=selectedThreshold, \n",
    "                                                                 beta=beta, #2\n",
    "                                                                 gamma=gamma, #15 \n",
    "                                                                 numberOfSpots=2,\n",
    "                                                                 radiusCluster=400, \n",
    "                                                                 voxelSize=voxelRadius, \n",
    "                                                                 objectSize=objectRadius,\n",
    "                                                                 extensionMov='.tif')"
   ]
  },
  {
   "cell_type": "code",
   "execution_count": null,
   "id": "06201534",
   "metadata": {
    "scrolled": true
   },
   "outputs": [],
   "source": [
    "a = sort_clustersFrames(clustersFrames,mipSequenceCell,400,perc=1)"
   ]
  },
  {
   "cell_type": "markdown",
   "id": "865ddd26",
   "metadata": {},
   "source": [
    "## Correct clusters position if needed "
   ]
  },
  {
   "cell_type": "markdown",
   "id": "e7303256",
   "metadata": {},
   "source": [
    "a[X] = move_sorted_clustersFrames(a[X], [z,y,x,n,i], new_position=int)"
   ]
  },
  {
   "cell_type": "code",
   "execution_count": null,
   "id": "fa0ef200",
   "metadata": {},
   "outputs": [],
   "source": [
    "# a[2] = move_sorted_clustersFrames(a[2], np.array([ 7, 81, 63,  3,  2]), 0)"
   ]
  },
  {
   "cell_type": "markdown",
   "id": "cb2379b1",
   "metadata": {},
   "source": [
    "## Merge clusters "
   ]
  },
  {
   "cell_type": "code",
   "execution_count": null,
   "id": "8eacdd43",
   "metadata": {},
   "outputs": [],
   "source": [
    "b = merge_clusters_frame(a,diff=3)"
   ]
  },
  {
   "cell_type": "code",
   "execution_count": null,
   "id": "48c33ace",
   "metadata": {},
   "outputs": [],
   "source": [
    "c = create_index2(b)    "
   ]
  },
  {
   "cell_type": "code",
   "execution_count": null,
   "id": "bb4b195b",
   "metadata": {},
   "outputs": [],
   "source": [
    "c"
   ]
  },
  {
   "cell_type": "code",
   "execution_count": null,
   "id": "7736692f",
   "metadata": {},
   "outputs": [],
   "source": [
    "a[61]"
   ]
  },
  {
   "cell_type": "code",
   "execution_count": null,
   "id": "37422fdc",
   "metadata": {},
   "outputs": [],
   "source": [
    "def get_all_clusters(images,threshold,size):\n",
    "    '''\n",
    "    This function return a list of array corresponding to all the pixel corresponding to the most intense regions of a cell \n",
    "    '''\n",
    "    res=[]\n",
    "    i = 0\n",
    "    for frames in images : \n",
    "        tmp = np.where(frames>threshold)\n",
    "        coord = []\n",
    "        for px in range(0,len(tmp[0])):\n",
    "            z = tmp[0][px]\n",
    "            y = tmp[1][px]\n",
    "            x = tmp[2][px]\n",
    "            if len(coord) < size : \n",
    "                coord.append([z,y,x,i])\n",
    "        res.append(coord)\n",
    "        i = i+1 \n",
    "    return res "
   ]
  },
  {
   "cell_type": "code",
   "execution_count": null,
   "id": "affe5f22",
   "metadata": {},
   "outputs": [],
   "source": [
    "ttest = get_all_clusters(images,400,50)"
   ]
  },
  {
   "cell_type": "markdown",
   "id": "04d62622",
   "metadata": {},
   "source": [
    "## Save detection results to be used later"
   ]
  },
  {
   "cell_type": "code",
   "execution_count": null,
   "id": "f11018f0",
   "metadata": {},
   "outputs": [],
   "source": [
    "saveSpotsNPZ(np.array(spotsFrame, dtype=object), \n",
    "             np.array(clustersFrames, dtype=object), \n",
    "             np.array(ThresholdFrames, dtype=object), \n",
    "             cellNumber, \n",
    "             cell_Crop_Folder, \n",
    "             reference_spot,\n",
    "             threshold = selectedThreshold\n",
    "             ) \n"
   ]
  },
  {
   "cell_type": "markdown",
   "id": "cf74116e",
   "metadata": {},
   "source": [
    "## Visualise detection results"
   ]
  },
  {
   "cell_type": "code",
   "execution_count": null,
   "id": "79671cd8",
   "metadata": {},
   "outputs": [],
   "source": [
    "def getDetectedPointsForFrame(pts_coordinates, frameNumer):\n",
    "    sd = np.shape(pts_coordinates[frameNumer][:])\n",
    "    pts_coords = np.empty([sd[0],sd[1]-1])\n",
    "    for ii in range(np.shape(pts_coordinates[frameNumer][:])[0]):\n",
    "        pts_coords[ii,:] = pts_coordinates[frameNumer][ii][1:]\n",
    "    return pts_coords\n",
    "\n",
    "def getDetectedClustersForFrame(pts_coordinates, frameNumer):\n",
    "    sd = np.shape(pts_coordinates[frameNumer][:])\n",
    "    pts_coords = np.empty([sd[0],sd[1]-3])\n",
    "    for ii in range(np.shape(pts_coordinates[frameNumer][:])[0]):\n",
    "        pts_coords[ii,:] = pts_coordinates[frameNumer][ii][1:3]\n",
    "    return pts_coords\n",
    "\n",
    "def set_pts_features(pts_layer, cls_layer, pts_coordinates, cluster_coordinate, step): #TxLayer\n",
    "    # step is a 4D coordinate with the current slider position for each dim\n",
    "    frameNumber = step[0]  # grab the leading (\"time\") coordinate\n",
    "    pts_layer.data = getDetectedPointsForFrame(pts_coordinates,frameNumber)\n",
    "    cls_layer.data = getDetectedClustersForFrame(cluster_coordinate,frameNumber)\n",
    "\n",
    "\n",
    "pts_coordinates = spotsFrame\n",
    "cluster_coordinate = c\n",
    "\n",
    "viewer = napari.Viewer()\n",
    "image_layer = viewer.add_image(\n",
    "        mipSequenceCell, colormap='green' #maxImageCell\n",
    "        )\n",
    "if image_layer.data.ndim == 4:\n",
    "    bigfishSpots = spotsFrame\n",
    "elif image_layer.data.ndim == 3:\n",
    "    bigfishSpots = getDetectedPointsForFrame(pts_coordinates,int(np.shape(mipSequenceCell)[0]/2))\n",
    "    \n",
    "bigfish_Spots = viewer.add_points(\n",
    "        getDetectedPointsForFrame(pts_coordinates,int(np.shape(mipSequenceCell)[0]/2)-1),\n",
    "        face_color='#00000000',\n",
    "        size=4,\n",
    "        edge_width=0.3,\n",
    "        edge_width_is_relative=False,\n",
    "        edge_color='white',\n",
    "        name = 'bigFish Detected Spots'\n",
    "        )\n",
    "\n",
    "bigfish_clusters = viewer.add_points(\n",
    "        getDetectedClustersForFrame(cluster_coordinate,int(np.shape(mipSequenceCell)[0]/2)-1),\n",
    "        face_color='#00000000',\n",
    "        size=8,\n",
    "        edge_width=0.3,\n",
    "        edge_width_is_relative=False,\n",
    "        edge_color='red',\n",
    "        symbol='diamond',\n",
    "        name = 'bigFish Clusters'\n",
    "        )\n",
    "\n",
    "\n",
    "viewer.dims.events.current_step.connect(\n",
    "        lambda event: set_pts_features(bigfish_Spots, bigfish_clusters, pts_coordinates, cluster_coordinate, event.value)\n",
    "        )\n",
    "\n"
   ]
  },
  {
   "cell_type": "markdown",
   "id": "e4910681-94e0-4f30-aa84-f2f86db476da",
   "metadata": {},
   "source": [
    "# Save clusters frame in csv "
   ]
  },
  {
   "cell_type": "code",
   "execution_count": null,
   "id": "95c00fd7",
   "metadata": {},
   "outputs": [],
   "source": [
    "b = np.concatenate(c)\n",
    "savepath = homeFolder+nameKey+imsQ + '/' + nameKey + imsQ + '_TS' +'_cell_' + cellNumber + '_fusion_'+  str(alpha) +'_' + str(beta) + '_' + str(gamma) + '_thres_' + str(selectedThreshold) + '.csv'"
   ]
  },
  {
   "cell_type": "code",
   "execution_count": null,
   "id": "6d1a8f3f-8b26-40b2-b7b3-cf31fbec5374",
   "metadata": {},
   "outputs": [],
   "source": [
    "entete = ['z','y','x','n_molecule','index']"
   ]
  },
  {
   "cell_type": "code",
   "execution_count": null,
   "id": "9e2da3fa-4d0c-46e3-aeba-d4ba012344f9",
   "metadata": {},
   "outputs": [],
   "source": [
    "import csv \n",
    "\n",
    "with open(savepath, 'w', newline='') as csv_file :\n",
    "    writer = csv.writer(csv_file)\n",
    "    writer.writerow(entete)\n",
    "    writer.writerows(b)"
   ]
  },
  {
   "cell_type": "code",
   "execution_count": null,
   "id": "c915d693",
   "metadata": {},
   "outputs": [],
   "source": [
    "import session_info\n",
    "session_info.show()"
   ]
  },
  {
   "cell_type": "code",
   "execution_count": null,
   "id": "447af5ca",
   "metadata": {},
   "outputs": [],
   "source": []
  }
 ],
 "metadata": {
  "kernelspec": {
   "display_name": "Python 3 (ipykernel)",
   "language": "python",
   "name": "python3"
  },
  "language_info": {
   "codemirror_mode": {
    "name": "ipython",
    "version": 3
   },
   "file_extension": ".py",
   "mimetype": "text/x-python",
   "name": "python",
   "nbconvert_exporter": "python",
   "pygments_lexer": "ipython3",
   "version": "3.9.18"
  }
 },
 "nbformat": 4,
 "nbformat_minor": 5
}
