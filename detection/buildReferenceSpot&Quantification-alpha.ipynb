{
 "cells": [
  {
   "cell_type": "markdown",
   "id": "c0cc3753",
   "metadata": {},
   "source": [
    "## Import necessary python modules"
   ]
  },
  {
   "cell_type": "code",
   "execution_count": 1,
   "id": "9d089cf9",
   "metadata": {},
   "outputs": [],
   "source": [
    "import os\n",
    "import napari\n",
    "import tifffile\n",
    "import numpy as np\n",
    "import matplotlib.pyplot as plt\n",
    "\n",
    "import bigfish\n",
    "import bigfish.plot as plot\n",
    "import bigfish.stack as stack\n",
    "import bigfish.detection as detection\n",
    "import bigfish.multistack as multistack\n",
    "\n",
    "from copy import deepcopy\n",
    "from dask.array.image import imread as imr\n",
    "from bigfish.detection.utils import get_object_radius_pixel\n",
    "from buildReferenceSpot import buildReferenceSpotFromImages\n",
    "from runBigfishDetection import getSpotAndClusters, saveSpotsNPZ, reorderZstack"
   ]
  },
  {
   "cell_type": "markdown",
   "id": "ef74aefd",
   "metadata": {},
   "source": [
    "## Specify Input and Output folders, identifiers"
   ]
  },
  {
   "cell_type": "code",
   "execution_count": 2,
   "id": "eb637701-79c5-46d0-9e46-04a4c46986e2",
   "metadata": {},
   "outputs": [],
   "source": [
    "homeFolder = '/media/raphael/data/works/full_data_movie/'\n",
    "nameKey = 'c3_21_c3_45_ON_1_w1SPI-488_s'\n",
    "\n",
    "imsQ = '3'\n",
    "cellNumber = '5'\n",
    "nucleiStackForm = nameKey+imsQ+\"_cell_\"\n",
    "\n",
    "pathToTimeSequenceFullView = homeFolder+nameKey+imsQ+'/*.tif'\n",
    "cell_Crop_Folder = homeFolder+nameKey+imsQ+'/cell_'+str(cellNumber)+'/'\n",
    "pathToTimeSequenceCell = homeFolder+nameKey+imsQ+'/cell_'+str(cellNumber)+'/*.tif'\n",
    "\n",
    "\n",
    "sequenceCell = imr(pathToTimeSequenceCell)\n",
    "mipSequenceCell = np.max(sequenceCell, axis=1)\n",
    "MaxTimePoint = sequenceCell.shape[0]"
   ]
  },
  {
   "cell_type": "markdown",
   "id": "a6823fdb",
   "metadata": {},
   "source": [
    "## Specify voxel and object size"
   ]
  },
  {
   "cell_type": "code",
   "execution_count": 3,
   "id": "92e6c86b",
   "metadata": {},
   "outputs": [],
   "source": [
    "voxelRadius = (600, 110, 110) # in nanometers\n",
    "objectRadius = (600, 105, 105) # in nanometers"
   ]
  },
  {
   "cell_type": "code",
   "execution_count": 4,
   "id": "8fd3984e",
   "metadata": {},
   "outputs": [],
   "source": [
    "# Save Maximum Intensity Projection of the cell movie\n",
    "\n",
    "maxProjSavePath = homeFolder+nameKey+imsQ+'/'\n",
    "with tifffile.TiffWriter(maxProjSavePath+'MAX_cell'+cellNumber+'.tif', imagej=True) as tif:\n",
    "    tif.write(mipSequenceCell)"
   ]
  },
  {
   "cell_type": "markdown",
   "id": "f8a25dd7",
   "metadata": {},
   "source": [
    "## Choose detection threshold"
   ]
  },
  {
   "cell_type": "code",
   "execution_count": 5,
   "id": "9414caf2",
   "metadata": {},
   "outputs": [
    {
     "name": "stdout",
     "output_type": "stream",
     "text": [
      "Enter your selected threshold: 100\n"
     ]
    }
   ],
   "source": [
    "selectedThreshold = int(input(\"Enter your selected threshold: \"))"
   ]
  },
  {
   "cell_type": "code",
   "execution_count": 6,
   "id": "d01607a9",
   "metadata": {},
   "outputs": [
    {
     "name": "stdout",
     "output_type": "stream",
     "text": [
      "Enter your max Frame: 123\n"
     ]
    }
   ],
   "source": [
    "maxFrame = int(input(\"Enter your max Frame: \"))\n",
    "maxFrame = maxFrame + 1 "
   ]
  },
  {
   "cell_type": "markdown",
   "id": "31d78382",
   "metadata": {},
   "source": [
    "## Get a list of spots detected using the threshold specified in previous step"
   ]
  },
  {
   "cell_type": "code",
   "execution_count": 7,
   "id": "da8b11f2",
   "metadata": {},
   "outputs": [
    {
     "name": "stdout",
     "output_type": "stream",
     "text": [
      "Total number of images : 123\n"
     ]
    },
    {
     "name": "stderr",
     "output_type": "stream",
     "text": [
      "/home/raphael/miniconda3/envs/bigfishlive/lib/python3.9/site-packages/bigfish/detection/spot_detection.py:586: RuntimeWarning: divide by zero encountered in log\n",
      "  count_spots = np.log([np.count_nonzero(value_spots > t)\n"
     ]
    }
   ],
   "source": [
    "images=[]    \n",
    "spots_list=[]\n",
    "\n",
    "spot_radius_px = detection.get_object_radius_pixel(\n",
    "    voxel_size_nm=voxelRadius, \n",
    "    object_radius_nm=objectRadius, \n",
    "    ndim=3)\n",
    "\n",
    "for t in range(1,maxFrame,1):\n",
    "\n",
    "    path = os.path.join(cell_Crop_Folder, nucleiStackForm+str(cellNumber)+'_t'+str(f\"{t:03}\")+\".tif\")\n",
    "    rna = stack.read_image(path)\n",
    "    images.append(rna)\n",
    "\n",
    "n=len(images)\n",
    "print(\"Total number of images : \"+str(n))\n",
    "\n",
    "for rna in images:\n",
    "    # LoG filter\n",
    "    rna_log = stack.log_filter(rna, sigma=spot_radius_px)\n",
    "\n",
    "    # local maximum detection\n",
    "    mask = detection.local_maximum_detection(rna_log, min_distance=spot_radius_px)\n",
    "\n",
    "    # thresholding\n",
    "    threshold = detection.automated_threshold_setting(rna_log, mask)\n",
    "    spots_, _ = detection.spots_thresholding(rna_log, mask, float(selectedThreshold))\n",
    "    spots_list.append(spots_)\n"
   ]
  },
  {
   "cell_type": "code",
   "execution_count": 22,
   "id": "614b34ee",
   "metadata": {},
   "outputs": [
    {
     "data": {
      "text/plain": [
       "12.0"
      ]
     },
     "execution_count": 22,
     "metadata": {},
     "output_type": "execute_result"
    }
   ],
   "source": [
    "threshold"
   ]
  },
  {
   "cell_type": "markdown",
   "id": "46415d37",
   "metadata": {},
   "source": [
    "## Build reference spot"
   ]
  },
  {
   "cell_type": "code",
   "execution_count": 8,
   "id": "53e4aab3",
   "metadata": {},
   "outputs": [
    {
     "name": "stdout",
     "output_type": "stream",
     "text": [
      "image list found!\n",
      "Found 13675\n",
      "Found 13675 spots, max intensity = 309\n"
     ]
    },
    {
     "data": {
      "image/png": "[encoded data removed]",
      "text/plain": [
       "<Figure size 300x300 with 1 Axes>"
      ]
     },
     "metadata": {},
     "output_type": "display_data"
    }
   ],
   "source": [
    "reference_spot = buildReferenceSpotFromImages(images, spots_list, alpha=0.5, gamma=5, voxelSize=voxelRadius, objectSize=objectRadius)\n",
    "%matplotlib inline\n",
    "plt.figure(num=3,figsize=(3,3))\n",
    "plt.imshow(np.max(reference_spot, axis=0))\n",
    "refSpot = deepcopy(reference_spot)"
   ]
  },
  {
   "cell_type": "markdown",
   "id": "dc2a526d",
   "metadata": {},
   "source": [
    "## Perform spot and cluster detection for all frames"
   ]
  },
  {
   "cell_type": "code",
   "execution_count": 9,
   "id": "494c3826",
   "metadata": {
    "scrolled": true
   },
   "outputs": [
    {
     "name": "stdout",
     "output_type": "stream",
     "text": [
      "1\n",
      "2\n",
      "3\n",
      "4\n",
      "5\n",
      "6\n",
      "7\n",
      "8\n",
      "9\n",
      "10\n",
      "11\n",
      "12\n",
      "13\n",
      "14\n",
      "15\n",
      "16\n",
      "17\n",
      "18\n",
      "19\n",
      "20\n",
      "21\n",
      "22\n",
      "23\n",
      "24\n",
      "25\n",
      "26\n",
      "27\n",
      "28\n",
      "29\n",
      "30\n",
      "31\n",
      "32\n",
      "33\n",
      "34\n",
      "35\n",
      "36\n",
      "37\n",
      "38\n",
      "39\n",
      "40\n",
      "41\n"
     ]
    },
    {
     "name": "stderr",
     "output_type": "stream",
     "text": [
      "/home/raphael/miniconda3/envs/bigfishlive/lib/python3.9/site-packages/bigfish/detection/spot_detection.py:586: RuntimeWarning: divide by zero encountered in log\n",
      "  count_spots = np.log([np.count_nonzero(value_spots > t)\n"
     ]
    },
    {
     "name": "stdout",
     "output_type": "stream",
     "text": [
      "42\n",
      "43\n",
      "44\n",
      "45\n",
      "46\n",
      "47\n",
      "48\n",
      "49\n",
      "50\n",
      "51\n",
      "52\n",
      "53\n",
      "54\n",
      "55\n",
      "56\n",
      "57\n",
      "58\n",
      "59\n",
      "60\n",
      "61\n",
      "62\n",
      "63\n",
      "64\n",
      "65\n",
      "66\n",
      "67\n",
      "68\n",
      "69\n",
      "70\n"
     ]
    },
    {
     "name": "stderr",
     "output_type": "stream",
     "text": [
      "/home/raphael/miniconda3/envs/bigfishlive/lib/python3.9/site-packages/bigfish/detection/spot_detection.py:586: RuntimeWarning: divide by zero encountered in log\n",
      "  count_spots = np.log([np.count_nonzero(value_spots > t)\n"
     ]
    },
    {
     "name": "stdout",
     "output_type": "stream",
     "text": [
      "71\n",
      "72\n",
      "73\n",
      "74\n",
      "75\n",
      "76\n",
      "77\n",
      "78\n",
      "79\n",
      "80\n",
      "81\n",
      "82\n",
      "83\n",
      "84\n",
      "85\n",
      "86\n",
      "87\n",
      "88\n",
      "89\n",
      "90\n",
      "91\n",
      "92\n",
      "93\n",
      "94\n",
      "95\n",
      "96\n",
      "97\n",
      "98\n",
      "99\n",
      "100\n",
      "101\n",
      "102\n",
      "103\n",
      "104\n",
      "105\n",
      "106\n"
     ]
    },
    {
     "name": "stderr",
     "output_type": "stream",
     "text": [
      "/home/raphael/miniconda3/envs/bigfishlive/lib/python3.9/site-packages/bigfish/detection/spot_detection.py:586: RuntimeWarning: divide by zero encountered in log\n",
      "  count_spots = np.log([np.count_nonzero(value_spots > t)\n"
     ]
    },
    {
     "name": "stdout",
     "output_type": "stream",
     "text": [
      "107\n",
      "108\n",
      "109\n",
      "110\n",
      "111\n",
      "112\n",
      "113\n",
      "114\n",
      "115\n",
      "116\n",
      "117\n",
      "118\n",
      "119\n",
      "120\n",
      "121\n"
     ]
    },
    {
     "name": "stderr",
     "output_type": "stream",
     "text": [
      "/home/raphael/miniconda3/envs/bigfishlive/lib/python3.9/site-packages/bigfish/detection/spot_detection.py:586: RuntimeWarning: divide by zero encountered in log\n",
      "  count_spots = np.log([np.count_nonzero(value_spots > t)\n"
     ]
    },
    {
     "name": "stdout",
     "output_type": "stream",
     "text": [
      "122\n",
      "123\n",
      "done!\n"
     ]
    }
   ],
   "source": [
    "spotsFrame, clustersFrames, ThresholdFrames = getSpotAndClusters(cell_Crop_Folder, \n",
    "                                                                 reference_spot, \n",
    "                                                                 cellnumber=cellNumber, \n",
    "                                                                 startTime=1,\n",
    "                                                                 stopTime=maxFrame, \n",
    "                                                                 thresholdManual=selectedThreshold, \n",
    "                                                                 beta=3, \n",
    "                                                                 gamma=10,\n",
    "                                                                 numberOfSpots=2,\n",
    "                                                                 radiusCluster=700, \n",
    "                                                                 voxelSize=voxelRadius, \n",
    "                                                                 objectSize=objectRadius,\n",
    "                                                                 extensionMov='.tif')"
   ]
  },
  {
   "cell_type": "code",
   "execution_count": 10,
   "id": "0b8e3e6f",
   "metadata": {},
   "outputs": [],
   "source": [
    "from alive_progress import alive_bar\n",
    "import time\n",
    "def order_clusters_frames(clustersFrames,mipSequenceCell,threshold ):\n",
    "\n",
    "    res = []\n",
    "    with alive_bar(len(clustersFrames), title = \"order cluster frame\",force_tty=True) as bar :\n",
    "        for i in range(len(clustersFrames)):\n",
    "            #print('clustersFrames', i)\n",
    "            frame = clustersFrames[i]\n",
    "            tmp =[]\n",
    "            id = 0\n",
    "            for j in range(len(frame)):\n",
    "                y_coord = frame[j][1]\n",
    "                x_coord = frame[j][2]\n",
    "\n",
    "                test = np.array(mipSequenceCell[i][y_coord:y_coord+1,x_coord:x_coord+1])\n",
    "                val = test[0][0]\n",
    "\n",
    "                tmp.append(val)\n",
    "\n",
    "            try :\n",
    "                # possibilite de rajouter une condition \n",
    "                # pour filtrer les sites de transcription uniquement en rajoutant un threshold de 1000\n",
    "                if max(tmp) < threshold :\n",
    "                    res.append([np.zeros(5)])\n",
    "                else :\n",
    "                    index_max = tmp.index(max(tmp))\n",
    "                    #print(max(tmp), index_max)\n",
    "                    #print(frame)\n",
    "                    res.append([frame[index_max]])\n",
    "\n",
    "            except ValueError as e:\n",
    "                res.append([np.zeros(5)])\n",
    "            time.sleep(0.1)\n",
    "            bar()\n",
    "        \n",
    "    \n",
    "        return res "
   ]
  },
  {
   "cell_type": "code",
   "execution_count": 11,
   "id": "9eb27c90",
   "metadata": {},
   "outputs": [
    {
     "name": "stdout",
     "output_type": "stream",
     "text": [
      "order cluster frame |████████████████████████████████████████| 123/123 [100%] in\n"
     ]
    }
   ],
   "source": [
    "a = order_clusters_frames(clustersFrames,mipSequenceCell,530)"
   ]
  },
  {
   "cell_type": "code",
   "execution_count": 12,
   "id": "12856e51",
   "metadata": {},
   "outputs": [
    {
     "data": {
      "text/plain": [
       "[[array([18, 82, 49, 23,  8])],\n",
       " [array([20, 66, 49, 29,  2])],\n",
       " [array([21, 64, 48, 36,  2])],\n",
       " [array([21, 67, 31, 28, 30])],\n",
       " [array([ 7, 94, 34, 24, 22])],\n",
       " [array([21, 89, 40, 31, 10])],\n",
       " [array([19, 68, 26, 25,  4])],\n",
       " [array([17, 63, 31, 20,  1])],\n",
       " [array([35, 53, 34,  5, 27])],\n",
       " [array([19, 85, 24, 25,  4])],\n",
       " [array([ 21, 100,  22,  27,  12])],\n",
       " [array([ 22, 108,  35,  28,  15])],\n",
       " [array([ 21, 108,  42,  28,  13])],\n",
       " [array([ 21, 106,  43,  25,  15])],\n",
       " [array([ 20, 106,  43,  21,   5])],\n",
       " [array([ 19, 116,  63,   8,  33])],\n",
       " [array([ 19, 119,  52,  24,   4])],\n",
       " [array([ 21, 116,  48,  20,  36])],\n",
       " [array([ 20, 119,  40,  15,  27])],\n",
       " [array([ 19, 120,  57,  15,  24])],\n",
       " [array([ 17, 126,  59,  13,   5])],\n",
       " [array([ 16, 114,  68,   9,  25])],\n",
       " [array([ 17, 126,  82,   2,   1])],\n",
       " [array([ 19, 102,  75,   3,   5])],\n",
       " [array([22, 70, 40,  2, 12])],\n",
       " [array([14, 86, 68,  2, 43])],\n",
       " [array([20, 78, 40,  2,  4])],\n",
       " [array([ 17, 121,  79,   6,  20])],\n",
       " [array([ 16, 115,  74,   7,  19])],\n",
       " [array([ 3, 77, 90,  2,  1])],\n",
       " [array([ 15, 107,  83,   7,  12])],\n",
       " [array([ 16, 116,  72,   9,  14])],\n",
       " [array([ 16, 116,  80,   7,  15])],\n",
       " [array([ 15, 124,  69,   6,  16])],\n",
       " [array([ 14, 107,  62,   5,  12])],\n",
       " [array([ 20, 101,  79,   2,   4])],\n",
       " [array([13, 84, 54,  5,  6])],\n",
       " [array([0., 0., 0., 0., 0.])],\n",
       " [array([0., 0., 0., 0., 0.])],\n",
       " [array([19, 73, 90,  3,  0])],\n",
       " [array([20, 78, 28,  2,  5])],\n",
       " [array([13, 95, 46,  4,  6])],\n",
       " [array([22, 77, 45,  3,  5])],\n",
       " [array([14, 71, 49,  4, 11])],\n",
       " [array([14, 75, 57,  6, 12])],\n",
       " [array([ 23, 105,  56,   3,   8])],\n",
       " [array([15, 78, 37,  4, 10])],\n",
       " [array([16, 87, 35,  4, 23])],\n",
       " [array([ 24, 109,  53,   6,  22])],\n",
       " [array([16, 95, 38,  9, 11])],\n",
       " [array([18, 98, 46, 13, 18])],\n",
       " [array([ 18, 108,  39,  14,  16])],\n",
       " [array([ 17, 112,  42,   6,  20])],\n",
       " [array([ 17, 105,  38,   7,  10])],\n",
       " [array([15, 94, 40,  6,  0])],\n",
       " [array([17, 95, 36, 12,  3])],\n",
       " [array([20, 76, 16, 18,  3])],\n",
       " [array([18, 68, 12,  7, 21])],\n",
       " [array([20, 57, 19,  6,  2])],\n",
       " [array([16, 68, 29,  2,  0])],\n",
       " [array([15, 75, 34,  6,  0])],\n",
       " [array([15, 67, 36,  5, 20])],\n",
       " [array([14, 81, 50,  7, 22])],\n",
       " [array([13, 68, 57,  4,  8])],\n",
       " [array([12, 66, 45,  5,  9])],\n",
       " [array([20, 72, 44,  3,  4])],\n",
       " [array([14, 65, 53,  7,  6])],\n",
       " [array([14, 68, 56,  5, 16])],\n",
       " [array([13, 58, 51, 11, 15])],\n",
       " [array([14, 74, 57,  6, 13])],\n",
       " [array([13, 57, 54,  7,  8])],\n",
       " [array([14, 61, 47,  5, 12])],\n",
       " [array([14, 67, 46,  5,  8])],\n",
       " [array([16, 59, 42,  6,  5])],\n",
       " [array([15, 44, 65,  4,  6])],\n",
       " [array([15, 53, 62,  7,  0])],\n",
       " [array([15, 51, 59,  9, 11])],\n",
       " [array([18, 92, 62,  2,  3])],\n",
       " [array([15, 36, 70,  2,  0])],\n",
       " [array([18, 36, 52,  8,  3])],\n",
       " [array([20, 87, 87,  2,  6])],\n",
       " [array([24, 53, 57,  7, 12])],\n",
       " [array([15, 41, 82,  4, 20])],\n",
       " [array([13, 46, 90,  6,  9])],\n",
       " [array([ 15,  28, 102,   6,   1])],\n",
       " [array([ 17, 106,  76,   2,   0])],\n",
       " [array([13, 50, 81,  4,  9])],\n",
       " [array([17, 88, 59,  2,  1])],\n",
       " [array([20, 80, 75,  3,  4])],\n",
       " [array([ 20,  63, 102,   2,   5])],\n",
       " [array([19, 81, 85,  4, 28])],\n",
       " [array([24, 43, 66,  3, 15])],\n",
       " [array([24, 46, 48,  2, 20])],\n",
       " [array([18, 81, 98,  2,  5])],\n",
       " [array([13, 42, 80,  4, 12])],\n",
       " [array([14, 60, 36,  6,  0])],\n",
       " [array([15, 49, 56,  7, 19])],\n",
       " [array([16, 58, 34, 11, 14])],\n",
       " [array([16, 48, 32, 11,  0])],\n",
       " [array([18, 53, 33,  8, 20])],\n",
       " [array([18, 41, 44,  7, 30])],\n",
       " [array([17, 45, 46,  7, 21])],\n",
       " [array([17, 44, 42,  9, 18])],\n",
       " [array([17, 55, 51,  9, 18])],\n",
       " [array([18, 47, 31, 10, 18])],\n",
       " [array([16, 51, 34, 10, 21])],\n",
       " [array([16, 60, 26, 11,  1])],\n",
       " [array([15, 55, 35,  8, 21])],\n",
       " [array([21, 76, 57,  3, 13])],\n",
       " [array([23, 45, 37,  2, 18])],\n",
       " [array([19, 77, 88,  2,  4])],\n",
       " [array([21, 48, 51,  2, 12])],\n",
       " [array([20, 80, 39,  3,  7])],\n",
       " [array([18, 78, 72,  2,  4])],\n",
       " [array([18, 76, 68,  2,  2])],\n",
       " [array([13, 73, 92,  6,  0])],\n",
       " [array([19, 72, 93,  2,  3])],\n",
       " [array([21, 86, 50,  3, 13])],\n",
       " [array([13, 79, 90,  2,  0])],\n",
       " [array([18, 92, 71,  2,  5])],\n",
       " [array([18, 76, 95,  3,  5])],\n",
       " [array([16, 87, 44,  5,  3])],\n",
       " [array([19, 93, 88,  2,  2])]]"
      ]
     },
     "execution_count": 12,
     "metadata": {},
     "output_type": "execute_result"
    }
   ],
   "source": [
    "a"
   ]
  },
  {
   "cell_type": "markdown",
   "id": "04d62622",
   "metadata": {},
   "source": [
    "## Save detection results to be used later"
   ]
  },
  {
   "cell_type": "code",
   "execution_count": 13,
   "id": "f11018f0",
   "metadata": {},
   "outputs": [],
   "source": [
    "saveSpotsNPZ(np.array(spotsFrame, dtype=object), \n",
    "             np.array(clustersFrames, dtype=object), \n",
    "             np.array(ThresholdFrames, dtype=object), \n",
    "             cellNumber, \n",
    "             cell_Crop_Folder, \n",
    "             reference_spot,\n",
    "             threshold = selectedThreshold\n",
    "             ) \n"
   ]
  },
  {
   "cell_type": "markdown",
   "id": "cf74116e",
   "metadata": {},
   "source": [
    "## Visualise detection results"
   ]
  },
  {
   "cell_type": "code",
   "execution_count": 14,
   "id": "79671cd8",
   "metadata": {},
   "outputs": [
    {
     "data": {
      "text/plain": [
       "<function __main__.<lambda>(event)>"
      ]
     },
     "execution_count": 14,
     "metadata": {},
     "output_type": "execute_result"
    }
   ],
   "source": [
    "def getDetectedPointsForFrame(pts_coordinates, frameNumer):\n",
    "    sd = np.shape(pts_coordinates[frameNumer][:])\n",
    "    pts_coords = np.empty([sd[0],sd[1]-1])\n",
    "    for ii in range(np.shape(pts_coordinates[frameNumer][:])[0]):\n",
    "        pts_coords[ii,:] = pts_coordinates[frameNumer][ii][1:]\n",
    "    return pts_coords\n",
    "\n",
    "def getDetectedClustersForFrame(pts_coordinates, frameNumer):\n",
    "    sd = np.shape(pts_coordinates[frameNumer][:])\n",
    "    pts_coords = np.empty([sd[0],sd[1]-3])\n",
    "    for ii in range(np.shape(pts_coordinates[frameNumer][:])[0]):\n",
    "        pts_coords[ii,:] = pts_coordinates[frameNumer][ii][1:3]\n",
    "    return pts_coords\n",
    "\n",
    "def set_pts_features(pts_layer, cls_layer, pts_coordinates, cluster_coordinate, step): #TxLayer\n",
    "    # step is a 4D coordinate with the current slider position for each dim\n",
    "    frameNumber = step[0]  # grab the leading (\"time\") coordinate\n",
    "    pts_layer.data = getDetectedPointsForFrame(pts_coordinates,frameNumber)\n",
    "    cls_layer.data = getDetectedClustersForFrame(cluster_coordinate,frameNumber)\n",
    "\n",
    "\n",
    "pts_coordinates = spotsFrame\n",
    "cluster_coordinate = a\n",
    "\n",
    "viewer = napari.Viewer()\n",
    "image_layer = viewer.add_image(\n",
    "        mipSequenceCell, colormap='green' #maxImageCell\n",
    "        )\n",
    "if image_layer.data.ndim == 4:\n",
    "    bigfishSpots = spotsFrame\n",
    "elif image_layer.data.ndim == 3:\n",
    "    bigfishSpots = getDetectedPointsForFrame(pts_coordinates,int(np.shape(mipSequenceCell)[0]/2))\n",
    "    \n",
    "bigfish_Spots = viewer.add_points(\n",
    "        getDetectedPointsForFrame(pts_coordinates,int(np.shape(mipSequenceCell)[0]/2)-1),\n",
    "        face_color='#00000000',\n",
    "        size=4,\n",
    "        edge_width=0.3,\n",
    "        edge_width_is_relative=False,\n",
    "        edge_color='white',\n",
    "        name = 'bigFish Detected Spots'\n",
    "        )\n",
    "\n",
    "bigfish_clusters = viewer.add_points(\n",
    "        getDetectedClustersForFrame(cluster_coordinate,int(np.shape(mipSequenceCell)[0]/2)-1),\n",
    "        face_color='#00000000',\n",
    "        size=8,\n",
    "        edge_width=0.3,\n",
    "        edge_width_is_relative=False,\n",
    "        edge_color='red',\n",
    "        symbol='diamond',\n",
    "        name = 'bigFish Clusters'\n",
    "        )\n",
    "\n",
    "\n",
    "viewer.dims.events.current_step.connect(\n",
    "        lambda event: set_pts_features(bigfish_Spots, bigfish_clusters, pts_coordinates, cluster_coordinate, event.value)\n",
    "        )"
   ]
  },
  {
   "cell_type": "markdown",
   "id": "e4910681-94e0-4f30-aa84-f2f86db476da",
   "metadata": {},
   "source": [
    "# Save clusters frame in csv "
   ]
  },
  {
   "cell_type": "code",
   "execution_count": 15,
   "id": "95c00fd7",
   "metadata": {},
   "outputs": [],
   "source": [
    "a = np.concatenate(a)\n",
    "savepath = homeFolder+nameKey+imsQ + '/' + nameKey + imsQ + '_TS' +'_cell_' + cellNumber + '.csv'"
   ]
  },
  {
   "cell_type": "code",
   "execution_count": 16,
   "id": "6d1a8f3f-8b26-40b2-b7b3-cf31fbec5374",
   "metadata": {},
   "outputs": [],
   "source": [
    "entete = ['z','y','x','n_molecule','index']"
   ]
  },
  {
   "cell_type": "code",
   "execution_count": 17,
   "id": "9e2da3fa-4d0c-46e3-aeba-d4ba012344f9",
   "metadata": {},
   "outputs": [],
   "source": [
    "import csv \n",
    "\n",
    "with open(savepath, 'w', newline='') as csv_file :\n",
    "    writer = csv.writer(csv_file)\n",
    "    writer.writerow(entete)\n",
    "    writer.writerows(a)"
   ]
  },
  {
   "cell_type": "code",
   "execution_count": 18,
   "id": "c915d693",
   "metadata": {},
   "outputs": [
    {
     "data": {
      "text/html": [
       "<details>\n",
       "<summary>Click to view session information</summary>\n",
       "<pre>\n",
       "-----\n",
       "alive_progress      3.1.5\n",
       "bigfish             0.6.2\n",
       "buildReferenceSpot  NA\n",
       "dask                2024.2.0\n",
       "matplotlib          3.8.2\n",
       "napari              0.4.19\n",
       "numpy               1.23.0\n",
       "reorderStack        NA\n",
       "runBigfishDetection NA\n",
       "session_info        1.0.0\n",
       "tifffile            2024.1.30\n",
       "-----\n",
       "</pre>\n",
       "<details>\n",
       "<summary>Click to view modules imported as dependencies</summary>\n",
       "<pre>\n",
       "PIL                         10.2.0\n",
       "PyQt5                       NA\n",
       "a742a3cbc3aad3027957__mypyc NA\n",
       "about_time                  4.2.1\n",
       "annotated_types             0.6.0\n",
       "app_model                   0.2.4\n",
       "appdirs                     1.4.4\n",
       "asttokens                   NA\n",
       "attr                        23.1.0\n",
       "attrs                       23.1.0\n",
       "babel                       2.14.0\n",
       "backcall                    0.2.0\n",
       "cachey                      0.2.1\n",
       "cffi                        1.16.0\n",
       "cloudpickle                 3.0.0\n",
       "comm                        0.1.2\n",
       "cycler                      0.12.1\n",
       "cython_runtime              NA\n",
       "dateutil                    2.8.2\n",
       "debugpy                     1.6.7\n",
       "decorator                   5.1.1\n",
       "defusedxml                  0.7.1\n",
       "docstring_parser            NA\n",
       "entrypoints                 0.4\n",
       "exceptiongroup              1.2.0\n",
       "executing                   0.8.3\n",
       "grapheme                    NA\n",
       "heapdict                    NA\n",
       "hsluv                       5.0.4\n",
       "idna                        3.4\n",
       "imagecodecs                 2024.1.1\n",
       "imageio                     2.33.1\n",
       "importlib_metadata          NA\n",
       "importlib_resources         NA\n",
       "in_n_out                    0.1.9\n",
       "ipykernel                   6.25.0\n",
       "ipython_genutils            0.2.0\n",
       "jedi                        0.18.1\n",
       "jinja2                      3.1.3\n",
       "joblib                      1.3.2\n",
       "jsonschema                  4.19.2\n",
       "jsonschema_specifications   NA\n",
       "kiwisolver                  1.4.5\n",
       "lazy_loader                 NA\n",
       "llvmlite                    0.42.0\n",
       "magicgui                    0.8.1\n",
       "markupsafe                  2.1.3\n",
       "matplotlib_inline           0.1.6\n",
       "mpl_toolkits                NA\n",
       "mrc                         0.3.1\n",
       "mypy_extensions             NA\n",
       "napari_builtins             0.4.19\n",
       "napari_plugin_engine        0.2.0\n",
       "networkx                    3.2.1\n",
       "npe2                        0.7.4\n",
       "numba                       0.59.0\n",
       "numpydoc                    1.6.0\n",
       "packaging                   23.1\n",
       "pandas                      2.2.0\n",
       "parso                       0.8.3\n",
       "pexpect                     4.8.0\n",
       "pickleshare                 0.7.5\n",
       "pint                        0.23\n",
       "pkg_resources               NA\n",
       "platformdirs                3.10.0\n",
       "pooch                       v1.8.0\n",
       "prompt_toolkit              3.0.43\n",
       "psutil                      5.9.0\n",
       "psygnal                     0.9.5\n",
       "ptyprocess                  0.7.0\n",
       "pure_eval                   0.2.2\n",
       "pydantic                    2.6.1\n",
       "pydantic_compat             0.1.2\n",
       "pydantic_core               2.16.2\n",
       "pydev_ipython               NA\n",
       "pydevconsole                NA\n",
       "pydevd                      2.9.5\n",
       "pydevd_file_utils           NA\n",
       "pydevd_plugins              NA\n",
       "pydevd_tracing              NA\n",
       "pygments                    2.15.1\n",
       "pyparsing                   3.1.1\n",
       "pytz                        2024.1\n",
       "qtpy                        2.4.1\n",
       "referencing                 NA\n",
       "rpds                        NA\n",
       "scipy                       1.12.0\n",
       "sip                         NA\n",
       "six                         1.16.0\n",
       "skimage                     0.22.0\n",
       "sklearn                     1.4.0\n",
       "sphinxcontrib               NA\n",
       "stack_data                  0.2.0\n",
       "superqt                     0.6.1\n",
       "threadpoolctl               3.2.0\n",
       "tlz                         0.12.1\n",
       "toolz                       0.12.1\n",
       "tornado                     6.3.3\n",
       "tqdm                        4.66.2\n",
       "traitlets                   5.7.1\n",
       "triangle                    20230923\n",
       "typing_extensions           NA\n",
       "vispy                       0.14.1\n",
       "wcwidth                     0.2.5\n",
       "wrapt                       1.16.0\n",
       "yaml                        6.0.1\n",
       "zipp                        NA\n",
       "zmq                         23.2.0\n",
       "zoneinfo                    NA\n",
       "</pre>\n",
       "</details> <!-- seems like this ends pre, so might as well be explicit -->\n",
       "<pre>\n",
       "-----\n",
       "IPython             8.15.0\n",
       "jupyter_client      7.4.9\n",
       "jupyter_core        5.5.0\n",
       "notebook            6.5.4\n",
       "-----\n",
       "Python 3.9.18 (main, Sep 11 2023, 13:41:44) [GCC 11.2.0]\n",
       "Linux-6.5.0-17-generic-x86_64-with-glibc2.35\n",
       "-----\n",
       "Session information updated at 2024-03-22 14:01\n",
       "</pre>\n",
       "</details>"
      ],
      "text/plain": [
       "<IPython.core.display.HTML object>"
      ]
     },
     "execution_count": 18,
     "metadata": {},
     "output_type": "execute_result"
    }
   ],
   "source": [
    "import session_info\n",
    "session_info.show()"
   ]
  },
  {
   "cell_type": "code",
   "execution_count": null,
   "id": "447af5ca",
   "metadata": {},
   "outputs": [],
   "source": []
  }
 ],
 "metadata": {
  "kernelspec": {
   "display_name": "Python 3 (ipykernel)",
   "language": "python",
   "name": "python3"
  },
  "language_info": {
   "codemirror_mode": {
    "name": "ipython",
    "version": 3
   },
   "file_extension": ".py",
   "mimetype": "text/x-python",
   "name": "python",
   "nbconvert_exporter": "python",
   "pygments_lexer": "ipython3",
   "version": "3.9.18"
  }
 },
 "nbformat": 4,
 "nbformat_minor": 5
}
