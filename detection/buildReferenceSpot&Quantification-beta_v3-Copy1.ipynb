{
 "cells": [
  {
   "cell_type": "markdown",
   "id": "c0cc3753",
   "metadata": {},
   "source": [
    "## Import necessary python modules"
   ]
  },
  {
   "cell_type": "code",
   "execution_count": 1,
   "id": "9d089cf9",
   "metadata": {},
   "outputs": [],
   "source": [
    "import os\n",
    "import napari\n",
    "import tifffile\n",
    "import numpy as np\n",
    "import matplotlib.pyplot as plt\n",
    "\n",
    "import bigfish\n",
    "import bigfish.plot as plot\n",
    "import bigfish.stack as stack\n",
    "import bigfish.detection as detection\n",
    "import bigfish.multistack as multistack\n",
    "\n",
    "from copy import deepcopy\n",
    "from dask.array.image import imread as imr\n",
    "from bigfish.detection.utils import get_object_radius_pixel\n",
    "from buildReferenceSpot import buildReferenceSpotFromImages\n",
    "from runBigfishDetection import getSpotAndClusters, saveSpotsNPZ, reorderZstack, getSpotAndClusters_multi"
   ]
  },
  {
   "cell_type": "code",
   "execution_count": 2,
   "id": "fec928ef",
   "metadata": {},
   "outputs": [],
   "source": [
    "from order_spot import * "
   ]
  },
  {
   "cell_type": "markdown",
   "id": "ef74aefd",
   "metadata": {},
   "source": [
    "## Specify Input and Output folders, identifiers"
   ]
  },
  {
   "cell_type": "code",
   "execution_count": 3,
   "id": "eb637701-79c5-46d0-9e46-04a4c46986e2",
   "metadata": {},
   "outputs": [],
   "source": [
    "homeFolder = '/media/raphael/data/works/20231220_C3_14_2h_ofON/new_correction/'\n",
    "nameKey = 'C3.14_ON_01_w1SPI-488_s'\n",
    "\n",
    "imsQ = '4'\n",
    "cellNumber = '18'\n",
    "nucleiStackForm = nameKey+imsQ+\"_cell_\"\n",
    "\n",
    "pathToTimeSequenceFullView = homeFolder+nameKey+imsQ+'/*.tif'\n",
    "cell_Crop_Folder = homeFolder+nameKey+imsQ+'/cell_'+str(cellNumber)+'/'\n",
    "pathToTimeSequenceCell = homeFolder+nameKey+imsQ+'/cell_'+str(cellNumber)+'/*.tif'\n",
    "\n",
    "\n",
    "sequenceCell = imr(pathToTimeSequenceCell)\n",
    "sequenceCell = sequenceCell\n",
    "mipSequenceCell = np.max(sequenceCell, axis=1)\n",
    "MaxTimePoint = sequenceCell.shape[0]"
   ]
  },
  {
   "cell_type": "markdown",
   "id": "a6823fdb",
   "metadata": {},
   "source": [
    "## Specify voxel and object size"
   ]
  },
  {
   "cell_type": "code",
   "execution_count": 4,
   "id": "92e6c86b",
   "metadata": {},
   "outputs": [],
   "source": [
    "voxelRadius = (700, 110, 110) # in nanometers\n",
    "objectRadius = (700, 105, 105) # in nanometers"
   ]
  },
  {
   "cell_type": "code",
   "execution_count": 5,
   "id": "72a94eaa",
   "metadata": {},
   "outputs": [],
   "source": [
    "alpha = 0.5\n",
    "\n",
    "beta = 1\n",
    "gamma = 15"
   ]
  },
  {
   "cell_type": "markdown",
   "id": "f8a25dd7",
   "metadata": {},
   "source": [
    "## Choose detection threshold"
   ]
  },
  {
   "cell_type": "code",
   "execution_count": 6,
   "id": "9414caf2",
   "metadata": {},
   "outputs": [
    {
     "name": "stdout",
     "output_type": "stream",
     "text": [
      "Enter your selected threshold: 70\n"
     ]
    }
   ],
   "source": [
    "selectedThreshold = int(input(\"Enter your selected threshold: \"))"
   ]
  },
  {
   "cell_type": "code",
   "execution_count": 7,
   "id": "dde2e68a",
   "metadata": {},
   "outputs": [
    {
     "name": "stdout",
     "output_type": "stream",
     "text": [
      "Enter your max Frame: 1\n"
     ]
    }
   ],
   "source": [
    "minFrame = int(input(\"Enter your max Frame: \"))\n",
    "minFrame = minFrame "
   ]
  },
  {
   "cell_type": "code",
   "execution_count": 8,
   "id": "d01607a9",
   "metadata": {},
   "outputs": [
    {
     "name": "stdout",
     "output_type": "stream",
     "text": [
      "Enter your max Frame: 120\n"
     ]
    }
   ],
   "source": [
    "maxFrame = int(input(\"Enter your max Frame: \"))\n",
    "maxFrame = maxFrame + 1 "
   ]
  },
  {
   "cell_type": "markdown",
   "id": "e60c6804",
   "metadata": {},
   "source": [
    "### Compute list of threshold "
   ]
  },
  {
   "cell_type": "markdown",
   "id": "31d78382",
   "metadata": {},
   "source": [
    "## Get a list of spots detected using the threshold specified in previous step"
   ]
  },
  {
   "cell_type": "markdown",
   "id": "3233ae96",
   "metadata": {},
   "source": [
    "Voire graphe du notebook 4 bleaching correction\n",
    "\n",
    "Toutes les frames ne suivent pas la meme allure avec des images bcp moins intense que l'autre d'une frame a l'autre besoin de ponderer le threshold en fonction d'une moyenne generale et d'une liste de moyenne en fonction des frames \n",
    "\n",
    "if mean_frame < moy_gen :\n",
    "    abaisser le threshold\n",
    "elid mean_frame > moy_gen :\n",
    "    augmenter le threshold\n",
    "    \n",
    "else : \n",
    "    conserver threshold \n",
    "    \n",
    "Ou possibilite d'appliquer ce principe a une difference de pourcentage d'une frame a l'autre "
   ]
  },
  {
   "cell_type": "code",
   "execution_count": 9,
   "id": "da8b11f2",
   "metadata": {},
   "outputs": [
    {
     "name": "stdout",
     "output_type": "stream",
     "text": [
      "Total number of images : 120\n"
     ]
    }
   ],
   "source": [
    "images=[]    \n",
    "spots_list=[]\n",
    "\n",
    "spot_radius_px = detection.get_object_radius_pixel(\n",
    "    voxel_size_nm=voxelRadius, \n",
    "    object_radius_nm=objectRadius, \n",
    "    ndim=3)\n",
    "\n",
    "for t in range(minFrame,maxFrame,1):\n",
    "\n",
    "    path = os.path.join(cell_Crop_Folder, nucleiStackForm+str(cellNumber)+'_t'+str(f\"{t:03}\")+\".tif\")\n",
    "    rna = stack.read_image(path)\n",
    "    images.append(rna)\n",
    "\n",
    "n=len(images)\n",
    "print(\"Total number of images : \"+str(n))\n",
    "\n",
    "selectedThreshold_loop = selectedThreshold\n",
    "\n",
    "for rna in images:\n",
    "    try : \n",
    "        # LoG filter\n",
    "        rna_log = stack.log_filter(rna, sigma=spot_radius_px)\n",
    "    \n",
    "        # local maximum detection\n",
    "        mask = detection.local_maximum_detection(rna_log, min_distance=spot_radius_px)\n",
    "    \n",
    "        # thresholding\n",
    "        threshold = detection.automated_threshold_setting(rna_log, mask)\n",
    "        \n",
    "        selectedThreshold_loop = (selectedThreshold_loop) #*((100+var_list[i])/100) \n",
    "        #print(selectedThreshold_loop)\n",
    "        spots_, _ = detection.spots_thresholding(rna_log, mask, float(selectedThreshold_loop))\n",
    "        spots_list.append(spots_)\n",
    "    except IndexError as e: \n",
    "        spots_, _ = detection.spots_thresholding(rna_log, mask, float(selectedThreshold))\n",
    "        spots_list.append(spots_)\n",
    "        print('Done')\n",
    "        break "
   ]
  },
  {
   "cell_type": "markdown",
   "id": "46415d37",
   "metadata": {},
   "source": [
    "## Build reference spot"
   ]
  },
  {
   "cell_type": "code",
   "execution_count": 10,
   "id": "53e4aab3",
   "metadata": {},
   "outputs": [
    {
     "name": "stdout",
     "output_type": "stream",
     "text": [
      "image list found!\n",
      "Found 11044\n",
      "Found 11044 spots, max intensity = 229\n"
     ]
    },
    {
     "data": {
      "image/png": "[encoded data removed]",
      "text/plain": [
       "<Figure size 300x300 with 1 Axes>"
      ]
     },
     "metadata": {},
     "output_type": "display_data"
    }
   ],
   "source": [
    "reference_spot = buildReferenceSpotFromImages(images, spots_list, alpha=alpha, gamma=5, voxelSize=voxelRadius, objectSize=objectRadius)\n",
    "%matplotlib inline\n",
    "plt.figure(num=3,figsize=(3,3))\n",
    "plt.imshow(np.max(reference_spot, axis=0))\n",
    "refSpot = deepcopy(reference_spot)"
   ]
  },
  {
   "cell_type": "markdown",
   "id": "dc2a526d",
   "metadata": {},
   "source": [
    "## Perform spot and cluster detection for all frames"
   ]
  },
  {
   "cell_type": "markdown",
   "id": "14d201d1",
   "metadata": {},
   "source": [
    "comparer detection avec beta = 1 gamma = 10 et beta = 2 gamma = 20 "
   ]
  },
  {
   "cell_type": "code",
   "execution_count": 11,
   "id": "494c3826",
   "metadata": {
    "scrolled": true
   },
   "outputs": [
    {
     "name": "stdout",
     "output_type": "stream",
     "text": [
      "0\n",
      "1\n",
      "2\n",
      "3\n",
      "4\n",
      "5\n"
     ]
    },
    {
     "name": "stderr",
     "output_type": "stream",
     "text": [
      "/home/raphael/miniconda3/envs/bigfishlive/lib/python3.9/site-packages/bigfish/detection/dense_decomposition_live.py:264: UserWarning: Problem occurs during the decomposition of dense regions. Less spots are detected after the decomposition than before.\n",
      "  warnings.warn(\"Problem occurs during the decomposition of dense \"\n"
     ]
    },
    {
     "name": "stdout",
     "output_type": "stream",
     "text": [
      "6\n",
      "7\n",
      "8\n"
     ]
    },
    {
     "name": "stderr",
     "output_type": "stream",
     "text": [
      "/home/raphael/miniconda3/envs/bigfishlive/lib/python3.9/site-packages/bigfish/detection/dense_decomposition_live.py:264: UserWarning: Problem occurs during the decomposition of dense regions. Less spots are detected after the decomposition than before.\n",
      "  warnings.warn(\"Problem occurs during the decomposition of dense \"\n"
     ]
    },
    {
     "name": "stdout",
     "output_type": "stream",
     "text": [
      "9\n"
     ]
    },
    {
     "name": "stderr",
     "output_type": "stream",
     "text": [
      "/home/raphael/miniconda3/envs/bigfishlive/lib/python3.9/site-packages/bigfish/detection/dense_decomposition_live.py:264: UserWarning: Problem occurs during the decomposition of dense regions. Less spots are detected after the decomposition than before.\n",
      "  warnings.warn(\"Problem occurs during the decomposition of dense \"\n"
     ]
    },
    {
     "name": "stdout",
     "output_type": "stream",
     "text": [
      "10\n"
     ]
    },
    {
     "name": "stderr",
     "output_type": "stream",
     "text": [
      "/home/raphael/miniconda3/envs/bigfishlive/lib/python3.9/site-packages/bigfish/detection/dense_decomposition_live.py:264: UserWarning: Problem occurs during the decomposition of dense regions. Less spots are detected after the decomposition than before.\n",
      "  warnings.warn(\"Problem occurs during the decomposition of dense \"\n"
     ]
    },
    {
     "name": "stdout",
     "output_type": "stream",
     "text": [
      "11\n"
     ]
    },
    {
     "name": "stderr",
     "output_type": "stream",
     "text": [
      "/home/raphael/miniconda3/envs/bigfishlive/lib/python3.9/site-packages/bigfish/detection/dense_decomposition_live.py:264: UserWarning: Problem occurs during the decomposition of dense regions. Less spots are detected after the decomposition than before.\n",
      "  warnings.warn(\"Problem occurs during the decomposition of dense \"\n"
     ]
    },
    {
     "name": "stdout",
     "output_type": "stream",
     "text": [
      "12\n"
     ]
    },
    {
     "name": "stderr",
     "output_type": "stream",
     "text": [
      "/home/raphael/miniconda3/envs/bigfishlive/lib/python3.9/site-packages/bigfish/detection/dense_decomposition_live.py:264: UserWarning: Problem occurs during the decomposition of dense regions. Less spots are detected after the decomposition than before.\n",
      "  warnings.warn(\"Problem occurs during the decomposition of dense \"\n"
     ]
    },
    {
     "name": "stdout",
     "output_type": "stream",
     "text": [
      "13\n"
     ]
    },
    {
     "name": "stderr",
     "output_type": "stream",
     "text": [
      "/home/raphael/miniconda3/envs/bigfishlive/lib/python3.9/site-packages/bigfish/detection/dense_decomposition_live.py:264: UserWarning: Problem occurs during the decomposition of dense regions. Less spots are detected after the decomposition than before.\n",
      "  warnings.warn(\"Problem occurs during the decomposition of dense \"\n"
     ]
    },
    {
     "name": "stdout",
     "output_type": "stream",
     "text": [
      "14\n"
     ]
    },
    {
     "name": "stderr",
     "output_type": "stream",
     "text": [
      "/home/raphael/miniconda3/envs/bigfishlive/lib/python3.9/site-packages/bigfish/detection/dense_decomposition_live.py:264: UserWarning: Problem occurs during the decomposition of dense regions. Less spots are detected after the decomposition than before.\n",
      "  warnings.warn(\"Problem occurs during the decomposition of dense \"\n"
     ]
    },
    {
     "name": "stdout",
     "output_type": "stream",
     "text": [
      "15\n"
     ]
    },
    {
     "name": "stderr",
     "output_type": "stream",
     "text": [
      "/home/raphael/miniconda3/envs/bigfishlive/lib/python3.9/site-packages/bigfish/detection/dense_decomposition_live.py:264: UserWarning: Problem occurs during the decomposition of dense regions. Less spots are detected after the decomposition than before.\n",
      "  warnings.warn(\"Problem occurs during the decomposition of dense \"\n"
     ]
    },
    {
     "name": "stdout",
     "output_type": "stream",
     "text": [
      "16\n"
     ]
    },
    {
     "name": "stderr",
     "output_type": "stream",
     "text": [
      "/home/raphael/miniconda3/envs/bigfishlive/lib/python3.9/site-packages/bigfish/detection/dense_decomposition_live.py:264: UserWarning: Problem occurs during the decomposition of dense regions. Less spots are detected after the decomposition than before.\n",
      "  warnings.warn(\"Problem occurs during the decomposition of dense \"\n"
     ]
    },
    {
     "name": "stdout",
     "output_type": "stream",
     "text": [
      "17\n"
     ]
    },
    {
     "name": "stderr",
     "output_type": "stream",
     "text": [
      "/home/raphael/miniconda3/envs/bigfishlive/lib/python3.9/site-packages/bigfish/detection/dense_decomposition_live.py:264: UserWarning: Problem occurs during the decomposition of dense regions. Less spots are detected after the decomposition than before.\n",
      "  warnings.warn(\"Problem occurs during the decomposition of dense \"\n"
     ]
    },
    {
     "name": "stdout",
     "output_type": "stream",
     "text": [
      "18\n",
      "19\n"
     ]
    },
    {
     "name": "stderr",
     "output_type": "stream",
     "text": [
      "/home/raphael/miniconda3/envs/bigfishlive/lib/python3.9/site-packages/bigfish/detection/dense_decomposition_live.py:264: UserWarning: Problem occurs during the decomposition of dense regions. Less spots are detected after the decomposition than before.\n",
      "  warnings.warn(\"Problem occurs during the decomposition of dense \"\n"
     ]
    },
    {
     "name": "stdout",
     "output_type": "stream",
     "text": [
      "20\n"
     ]
    },
    {
     "name": "stderr",
     "output_type": "stream",
     "text": [
      "/home/raphael/miniconda3/envs/bigfishlive/lib/python3.9/site-packages/bigfish/detection/dense_decomposition_live.py:264: UserWarning: Problem occurs during the decomposition of dense regions. Less spots are detected after the decomposition than before.\n",
      "  warnings.warn(\"Problem occurs during the decomposition of dense \"\n"
     ]
    },
    {
     "name": "stdout",
     "output_type": "stream",
     "text": [
      "21\n",
      "22\n",
      "23\n"
     ]
    },
    {
     "name": "stderr",
     "output_type": "stream",
     "text": [
      "/home/raphael/miniconda3/envs/bigfishlive/lib/python3.9/site-packages/bigfish/detection/dense_decomposition_live.py:264: UserWarning: Problem occurs during the decomposition of dense regions. Less spots are detected after the decomposition than before.\n",
      "  warnings.warn(\"Problem occurs during the decomposition of dense \"\n"
     ]
    },
    {
     "name": "stdout",
     "output_type": "stream",
     "text": [
      "24\n"
     ]
    },
    {
     "name": "stderr",
     "output_type": "stream",
     "text": [
      "/home/raphael/miniconda3/envs/bigfishlive/lib/python3.9/site-packages/bigfish/detection/dense_decomposition_live.py:264: UserWarning: Problem occurs during the decomposition of dense regions. Less spots are detected after the decomposition than before.\n",
      "  warnings.warn(\"Problem occurs during the decomposition of dense \"\n"
     ]
    },
    {
     "name": "stdout",
     "output_type": "stream",
     "text": [
      "25\n",
      "26\n",
      "27\n"
     ]
    },
    {
     "name": "stderr",
     "output_type": "stream",
     "text": [
      "/home/raphael/miniconda3/envs/bigfishlive/lib/python3.9/site-packages/bigfish/detection/dense_decomposition_live.py:264: UserWarning: Problem occurs during the decomposition of dense regions. Less spots are detected after the decomposition than before.\n",
      "  warnings.warn(\"Problem occurs during the decomposition of dense \"\n"
     ]
    },
    {
     "name": "stdout",
     "output_type": "stream",
     "text": [
      "28\n",
      "29\n"
     ]
    },
    {
     "name": "stderr",
     "output_type": "stream",
     "text": [
      "/home/raphael/miniconda3/envs/bigfishlive/lib/python3.9/site-packages/bigfish/detection/dense_decomposition_live.py:264: UserWarning: Problem occurs during the decomposition of dense regions. Less spots are detected after the decomposition than before.\n",
      "  warnings.warn(\"Problem occurs during the decomposition of dense \"\n"
     ]
    },
    {
     "name": "stdout",
     "output_type": "stream",
     "text": [
      "30\n"
     ]
    },
    {
     "name": "stderr",
     "output_type": "stream",
     "text": [
      "/home/raphael/miniconda3/envs/bigfishlive/lib/python3.9/site-packages/bigfish/detection/dense_decomposition_live.py:264: UserWarning: Problem occurs during the decomposition of dense regions. Less spots are detected after the decomposition than before.\n",
      "  warnings.warn(\"Problem occurs during the decomposition of dense \"\n"
     ]
    },
    {
     "name": "stdout",
     "output_type": "stream",
     "text": [
      "31\n",
      "32\n"
     ]
    },
    {
     "name": "stderr",
     "output_type": "stream",
     "text": [
      "/home/raphael/miniconda3/envs/bigfishlive/lib/python3.9/site-packages/bigfish/detection/dense_decomposition_live.py:264: UserWarning: Problem occurs during the decomposition of dense regions. Less spots are detected after the decomposition than before.\n",
      "  warnings.warn(\"Problem occurs during the decomposition of dense \"\n"
     ]
    },
    {
     "name": "stdout",
     "output_type": "stream",
     "text": [
      "33\n"
     ]
    },
    {
     "name": "stderr",
     "output_type": "stream",
     "text": [
      "/home/raphael/miniconda3/envs/bigfishlive/lib/python3.9/site-packages/bigfish/detection/dense_decomposition_live.py:264: UserWarning: Problem occurs during the decomposition of dense regions. Less spots are detected after the decomposition than before.\n",
      "  warnings.warn(\"Problem occurs during the decomposition of dense \"\n"
     ]
    },
    {
     "name": "stdout",
     "output_type": "stream",
     "text": [
      "34\n"
     ]
    },
    {
     "name": "stderr",
     "output_type": "stream",
     "text": [
      "/home/raphael/miniconda3/envs/bigfishlive/lib/python3.9/site-packages/bigfish/detection/dense_decomposition_live.py:264: UserWarning: Problem occurs during the decomposition of dense regions. Less spots are detected after the decomposition than before.\n",
      "  warnings.warn(\"Problem occurs during the decomposition of dense \"\n"
     ]
    },
    {
     "name": "stdout",
     "output_type": "stream",
     "text": [
      "35\n"
     ]
    },
    {
     "name": "stderr",
     "output_type": "stream",
     "text": [
      "/home/raphael/miniconda3/envs/bigfishlive/lib/python3.9/site-packages/bigfish/detection/dense_decomposition_live.py:264: UserWarning: Problem occurs during the decomposition of dense regions. Less spots are detected after the decomposition than before.\n",
      "  warnings.warn(\"Problem occurs during the decomposition of dense \"\n"
     ]
    },
    {
     "name": "stdout",
     "output_type": "stream",
     "text": [
      "36\n",
      "37\n",
      "38\n",
      "39\n",
      "40\n",
      "41\n",
      "42\n"
     ]
    },
    {
     "name": "stderr",
     "output_type": "stream",
     "text": [
      "/home/raphael/miniconda3/envs/bigfishlive/lib/python3.9/site-packages/bigfish/detection/dense_decomposition_live.py:264: UserWarning: Problem occurs during the decomposition of dense regions. Less spots are detected after the decomposition than before.\n",
      "  warnings.warn(\"Problem occurs during the decomposition of dense \"\n"
     ]
    },
    {
     "name": "stdout",
     "output_type": "stream",
     "text": [
      "43\n",
      "44\n",
      "45\n",
      "46\n",
      "47\n",
      "48\n",
      "49\n",
      "50\n",
      "51\n",
      "52\n",
      "53\n",
      "54\n",
      "55\n",
      "56\n",
      "57\n",
      "58\n",
      "59\n",
      "60\n",
      "61\n",
      "62\n",
      "63\n",
      "64\n"
     ]
    },
    {
     "name": "stderr",
     "output_type": "stream",
     "text": [
      "/home/raphael/miniconda3/envs/bigfishlive/lib/python3.9/site-packages/bigfish/detection/dense_decomposition_live.py:264: UserWarning: Problem occurs during the decomposition of dense regions. Less spots are detected after the decomposition than before.\n",
      "  warnings.warn(\"Problem occurs during the decomposition of dense \"\n"
     ]
    },
    {
     "name": "stdout",
     "output_type": "stream",
     "text": [
      "65\n",
      "66\n",
      "67\n",
      "68\n",
      "69\n",
      "70\n",
      "71\n",
      "72\n",
      "73\n",
      "74\n",
      "75\n",
      "76\n",
      "77\n",
      "78\n",
      "79\n",
      "80\n",
      "81\n",
      "82\n",
      "83\n",
      "84\n",
      "85\n",
      "86\n",
      "87\n",
      "88\n",
      "89\n",
      "90\n",
      "91\n",
      "92\n",
      "93\n",
      "94\n",
      "95\n",
      "96\n",
      "97\n",
      "98\n"
     ]
    },
    {
     "name": "stderr",
     "output_type": "stream",
     "text": [
      "/home/raphael/miniconda3/envs/bigfishlive/lib/python3.9/site-packages/bigfish/detection/dense_decomposition_live.py:264: UserWarning: Problem occurs during the decomposition of dense regions. Less spots are detected after the decomposition than before.\n",
      "  warnings.warn(\"Problem occurs during the decomposition of dense \"\n"
     ]
    },
    {
     "name": "stdout",
     "output_type": "stream",
     "text": [
      "99\n",
      "100\n",
      "101\n",
      "102\n",
      "103\n",
      "104\n",
      "105\n",
      "106\n",
      "107\n",
      "108\n",
      "109\n",
      "110\n",
      "111\n",
      "112\n",
      "113\n",
      "114\n",
      "115\n",
      "116\n",
      "117\n",
      "118\n",
      "119\n",
      "done!\n"
     ]
    }
   ],
   "source": [
    "spotsFrame, clustersFrames, ThresholdFrames = getSpotAndClusters(images, \n",
    "                                                                 reference_spot, \n",
    "                                                                 cellnumber=cellNumber, \n",
    "                                                                 startTime=minFrame-1,\n",
    "                                                                 stopTime=maxFrame-1,\n",
    "                                                                 thresholdManual=selectedThreshold, \n",
    "                                                                 beta=beta, #2\n",
    "                                                                 gamma=gamma, #15 \n",
    "                                                                 numberOfSpots=2,\n",
    "                                                                 radiusCluster=400, \n",
    "                                                                 voxelSize=voxelRadius, \n",
    "                                                                 objectSize=objectRadius,\n",
    "                                                                 extensionMov='.tif')"
   ]
  },
  {
   "cell_type": "code",
   "execution_count": 12,
   "id": "06201534",
   "metadata": {
    "scrolled": true
   },
   "outputs": [
    {
     "name": "stdout",
     "output_type": "stream",
     "text": [
      "on 46: 46 [] [[458]]                                                            \n",
      "on 46: max() arg is an empty sequence                                           \n",
      "sort cluster frame |████████████████████████████████████████| 120/120 [100%] in \n"
     ]
    }
   ],
   "source": [
    "a = sort_clustersFrames(clustersFrames,mipSequenceCell,400,perc=1)"
   ]
  },
  {
   "cell_type": "markdown",
   "id": "865ddd26",
   "metadata": {},
   "source": [
    "## Correct clusters position if needed "
   ]
  },
  {
   "cell_type": "markdown",
   "id": "e7303256",
   "metadata": {},
   "source": [
    "a[X] = move_sorted_clustersFrames(a[X], [z,y,x,n,i], new_position=int)"
   ]
  },
  {
   "cell_type": "code",
   "execution_count": 13,
   "id": "fa0ef200",
   "metadata": {},
   "outputs": [],
   "source": [
    "# a[2] = move_sorted_clustersFrames(a[2], np.array([ 7, 81, 63,  3,  2]), 0)"
   ]
  },
  {
   "cell_type": "markdown",
   "id": "cb2379b1",
   "metadata": {},
   "source": [
    "## Merge clusters "
   ]
  },
  {
   "cell_type": "code",
   "execution_count": 13,
   "id": "8eacdd43",
   "metadata": {},
   "outputs": [],
   "source": [
    "b = merge_clusters_frame(a,diff=4)"
   ]
  },
  {
   "cell_type": "code",
   "execution_count": 14,
   "id": "48c33ace",
   "metadata": {},
   "outputs": [],
   "source": [
    "c = create_index2(b)    "
   ]
  },
  {
   "cell_type": "code",
   "execution_count": 15,
   "id": "bb4b195b",
   "metadata": {},
   "outputs": [
    {
     "data": {
      "text/plain": [
       "[[array([ 8, 89, 64,  6,  0])],\n",
       " [array([32, 79, 81,  3,  1])],\n",
       " [array([ 15, 109,  81,   2,   2])],\n",
       " [array([ 0, 82, 74,  3,  3])],\n",
       " [array([24, 93, 83,  2,  4])],\n",
       " [array([ 14, 104, 112,   4,   5])],\n",
       " [array([ 25, 109,  84,   4,   6])],\n",
       " [array([ 10, 121, 110,   3,   7])],\n",
       " [array([ 28, 109,  76,   4,   8])],\n",
       " [array([ 18, 102,  88,   5,   9])],\n",
       " [array([ 22, 108,  87,   5,  10])],\n",
       " [array([ 17, 103, 102,   8,  11])],\n",
       " [array([  8, 116, 112,   8,  12])],\n",
       " [array([  5, 114, 107,   4,  13])],\n",
       " [array([ 17, 100,  97,   6,  14])],\n",
       " [array([ 24, 101, 100,   6,  15])],\n",
       " [array([23, 93, 97,  6, 16])],\n",
       " [array([ 16,  84, 100,   5,  17])],\n",
       " [array([ 34,  85, 116,   4,  18])],\n",
       " [array([15, 92, 91,  5, 19])],\n",
       " [array([ 17,  77, 101,   6,  20])],\n",
       " [array([ 30,  73, 120,   3,  21])],\n",
       " [array([ 24,  76, 136,   5,  22])],\n",
       " [array([ 20,  83, 126,   6,  23])],\n",
       " [array([  9,  75, 127,   6,  24])],\n",
       " [array([ 14,  84, 130,   6,  25])],\n",
       " [array([ 35,  71, 110,   4,  26])],\n",
       " [array([ 23,  69, 116,   6,  27])],\n",
       " [array([ 5, 62, 88,  4, 28])],\n",
       " [array([ 6, 64, 83,  6, 29])],\n",
       " [array([26, 72, 93,  5, 30])],\n",
       " [array([34, 91, 83,  3, 31])],\n",
       " [array([30, 89, 97,  5, 32])],\n",
       " [array([33, 85, 98,  5, 33])],\n",
       " [array([ 25,  76, 102,   6,  34])],\n",
       " [array([ 32,  87, 100,   5,  35])],\n",
       " [array([21, 93, 90,  5, 36])],\n",
       " [array([12, 94, 90,  2, 37])],\n",
       " [array([12, 92, 95,  3, 38])],\n",
       " [array([ 2, 89, 99,  2, 39])],\n",
       " [array([  4,  96, 107,   2,  40])],\n",
       " [array([ 23,  90, 129,   6,  41])],\n",
       " [array([ 17,  88, 133,   5,  42])],\n",
       " [array([ 20, 105, 139,   4,  43])],\n",
       " [array([  9, 123, 141,   3,  44])],\n",
       " [array([ 30, 104,  94,   2,  45])],\n",
       " [array([ 0.,  0.,  0.,  0., 46.])],\n",
       " [array([ 21, 105, 127,   2,  47])],\n",
       " [array([  5, 101, 106,   2,  48])],\n",
       " [array([ 25,  94, 132,   4,  49])],\n",
       " [array([ 17,  98, 140,   6,  50])],\n",
       " [array([  1,  89, 103,   5,  51])],\n",
       " [array([ 13, 103, 138,   3,  52])],\n",
       " [array([ 13, 114, 107,   2,  53])],\n",
       " [array([ 19,  84, 118,   2,  54])],\n",
       " [array([ 21,  83, 138,   2,  55])],\n",
       " [array([ 14,  62, 118,   2,  56])],\n",
       " [array([24, 63, 94,  2, 57])],\n",
       " [array([ 24,  66, 112,   2,  58])],\n",
       " [array([  6, 108, 128,   5,  59])],\n",
       " [array([  4, 114, 131,   4,  60])],\n",
       " [array([ 30, 113, 140,   5,  61])],\n",
       " [array([  4, 107, 125,   3,  62])],\n",
       " [array([ 20, 114, 128,   5,  63])],\n",
       " [array([ 12,  93, 112,   8,  64])],\n",
       " [array([  9,  95, 108,   5,  65])],\n",
       " [array([ 11,  98, 103,   4,  66])],\n",
       " [array([ 9, 95, 80,  4, 67])],\n",
       " [array([ 15,  92, 110,   3,  68])],\n",
       " [array([ 35, 103,  92,   3,  69])],\n",
       " [array([ 31, 105,  92,   2,  70])],\n",
       " [array([ 16, 111,  95,   3,  71])],\n",
       " [array([ 10, 115, 106,   3,  72])],\n",
       " [array([ 11, 114, 105,   4,  73])],\n",
       " [array([ 22, 106, 138,   4,  74])],\n",
       " [array([ 21,  96, 100,   4,  75])],\n",
       " [array([  8,  98, 148,   6,  76])],\n",
       " [array([ 18,  75, 113,   2,  77])],\n",
       " [array([ 15, 113, 119,   2,  78])],\n",
       " [array([ 32, 105, 131,   2,  79])],\n",
       " [array([  2, 123, 127,   2,  80])],\n",
       " [array([  8, 128, 120,   6,  81])],\n",
       " [array([  9, 105,  97,   2,  82])],\n",
       " [array([ 16,  90, 120,   2,  83])],\n",
       " [array([ 5, 99, 99,  5, 84])],\n",
       " [array([ 15, 107, 145,   2,  85])],\n",
       " [array([ 15, 124, 119,   2,  86])],\n",
       " [array([ 28,  85, 126,   6,  87])],\n",
       " [array([ 5, 68, 97,  2, 88])],\n",
       " [array([ 17, 104,  87,   2,  89])],\n",
       " [array([  7, 105, 105,   4,  90])],\n",
       " [array([  3, 100, 105,   4,  91])],\n",
       " [array([ 17, 110,  98,   4,  92])],\n",
       " [array([  7, 119, 113,   4,  93])],\n",
       " [array([ 17, 122, 124,   5,  94])],\n",
       " [array([ 28, 123, 110,   4,  95])],\n",
       " [array([ 32, 119, 113,   4,  96])],\n",
       " [array([  0, 104, 122,   4,  97])],\n",
       " [array([21, 88, 97,  4, 98])],\n",
       " [array([ 23,  76, 131,   3,  99])],\n",
       " [array([ 32,  99, 102,   2, 100])],\n",
       " [array([ 20,  83,  62,   5, 101])],\n",
       " [array([ 32,  85,  90,   4, 102])],\n",
       " [array([ 34,  84, 115,   2, 103])],\n",
       " [array([  5,  85, 108,   2, 104])],\n",
       " [array([ 24, 110, 127,   3, 105])],\n",
       " [array([ 21,  98, 133,   4, 106])],\n",
       " [array([ 24,  77, 124,   5, 107])],\n",
       " [array([ 20,  78, 128,   3, 108])],\n",
       " [array([ 32, 101, 123,   2, 109])],\n",
       " [array([ 23,  95, 135,   4, 110])],\n",
       " [array([  8,  71, 147,   4, 111])],\n",
       " [array([  0.,   0.,   0.,   0., 112.])],\n",
       " [array([ 16,  85, 135,   3, 113])],\n",
       " [array([ 26,  98, 128,   2, 114])],\n",
       " [array([ 17, 123, 133,   3, 115])],\n",
       " [array([ 21,  84, 112,   5, 116])],\n",
       " [array([  8, 123, 126,   3, 117])],\n",
       " [array([ 21, 106, 111,   2, 118])],\n",
       " [array([  3,  92, 129,   2, 119])]]"
      ]
     },
     "execution_count": 15,
     "metadata": {},
     "output_type": "execute_result"
    }
   ],
   "source": [
    "c"
   ]
  },
  {
   "cell_type": "code",
   "execution_count": 22,
   "id": "7736692f",
   "metadata": {},
   "outputs": [
    {
     "data": {
      "text/plain": [
       "[array([ 17,  77, 101,   6,   1]),\n",
       " array([ 12, 107, 110,   2,   2]),\n",
       " array([ 13,  85, 109,   2,   3]),\n",
       " array([ 14,  78, 132,   2,   5]),\n",
       " array([ 15,  92, 121,   2,   6]),\n",
       " array([ 14,  95, 103,   2,   4]),\n",
       " array([ 11,  99, 107,   2,   0]),\n",
       " array([ 16,  61, 107,   2,   7])]"
      ]
     },
     "execution_count": 22,
     "metadata": {},
     "output_type": "execute_result"
    }
   ],
   "source": [
    "a[20]"
   ]
  },
  {
   "cell_type": "code",
   "execution_count": 18,
   "id": "37422fdc",
   "metadata": {},
   "outputs": [],
   "source": [
    "def get_all_clusters(images,threshold,size):\n",
    "    '''\n",
    "    This function return a list of array corresponding to all the pixel corresponding to the most intense regions of a cell \n",
    "    '''\n",
    "    res=[]\n",
    "    i = 0\n",
    "    for frames in images : \n",
    "        tmp = np.where(frames>threshold)\n",
    "        coord = []\n",
    "        for px in range(0,len(tmp[0])):\n",
    "            z = tmp[0][px]\n",
    "            y = tmp[1][px]\n",
    "            x = tmp[2][px]\n",
    "            if len(coord) < size : \n",
    "                coord.append([z,y,x,i])\n",
    "        res.append(coord)\n",
    "        i = i+1 \n",
    "    return res "
   ]
  },
  {
   "cell_type": "code",
   "execution_count": 19,
   "id": "affe5f22",
   "metadata": {},
   "outputs": [],
   "source": [
    "ttest = get_all_clusters(images,400,50)"
   ]
  },
  {
   "cell_type": "markdown",
   "id": "04d62622",
   "metadata": {},
   "source": [
    "## Save detection results to be used later"
   ]
  },
  {
   "cell_type": "code",
   "execution_count": 17,
   "id": "f11018f0",
   "metadata": {},
   "outputs": [],
   "source": [
    "saveSpotsNPZ(np.array(spotsFrame, dtype=object), \n",
    "             np.array(clustersFrames, dtype=object), \n",
    "             np.array(ThresholdFrames, dtype=object), \n",
    "             cellNumber, \n",
    "             cell_Crop_Folder, \n",
    "             reference_spot,\n",
    "             threshold = selectedThreshold\n",
    "             ) \n"
   ]
  },
  {
   "cell_type": "markdown",
   "id": "cf74116e",
   "metadata": {},
   "source": [
    "## Visualise detection results"
   ]
  },
  {
   "cell_type": "code",
   "execution_count": 18,
   "id": "79671cd8",
   "metadata": {},
   "outputs": [
    {
     "data": {
      "text/plain": [
       "<function __main__.<lambda>(event)>"
      ]
     },
     "execution_count": 18,
     "metadata": {},
     "output_type": "execute_result"
    }
   ],
   "source": [
    "def getDetectedPointsForFrame(pts_coordinates, frameNumer):\n",
    "    sd = np.shape(pts_coordinates[frameNumer][:])\n",
    "    pts_coords = np.empty([sd[0],sd[1]-1])\n",
    "    for ii in range(np.shape(pts_coordinates[frameNumer][:])[0]):\n",
    "        pts_coords[ii,:] = pts_coordinates[frameNumer][ii][1:]\n",
    "    return pts_coords\n",
    "\n",
    "def getDetectedClustersForFrame(pts_coordinates, frameNumer):\n",
    "    sd = np.shape(pts_coordinates[frameNumer][:])\n",
    "    pts_coords = np.empty([sd[0],sd[1]-3])\n",
    "    for ii in range(np.shape(pts_coordinates[frameNumer][:])[0]):\n",
    "        pts_coords[ii,:] = pts_coordinates[frameNumer][ii][1:3]\n",
    "    return pts_coords\n",
    "\n",
    "def set_pts_features(pts_layer, cls_layer, pts_coordinates, cluster_coordinate, step): #TxLayer\n",
    "    # step is a 4D coordinate with the current slider position for each dim\n",
    "    frameNumber = step[0]  # grab the leading (\"time\") coordinate\n",
    "    pts_layer.data = getDetectedPointsForFrame(pts_coordinates,frameNumber)\n",
    "    cls_layer.data = getDetectedClustersForFrame(cluster_coordinate,frameNumber)\n",
    "\n",
    "\n",
    "pts_coordinates = spotsFrame\n",
    "cluster_coordinate = c\n",
    "\n",
    "viewer = napari.Viewer()\n",
    "image_layer = viewer.add_image(\n",
    "        mipSequenceCell, colormap='green' #maxImageCell\n",
    "        )\n",
    "if image_layer.data.ndim == 4:\n",
    "    bigfishSpots = spotsFrame\n",
    "elif image_layer.data.ndim == 3:\n",
    "    bigfishSpots = getDetectedPointsForFrame(pts_coordinates,int(np.shape(mipSequenceCell)[0]/2))\n",
    "    \n",
    "bigfish_Spots = viewer.add_points(\n",
    "        getDetectedPointsForFrame(pts_coordinates,int(np.shape(mipSequenceCell)[0]/2)-1),\n",
    "        face_color='#00000000',\n",
    "        size=4,\n",
    "        edge_width=0.3,\n",
    "        edge_width_is_relative=False,\n",
    "        edge_color='white',\n",
    "        name = 'bigFish Detected Spots'\n",
    "        )\n",
    "\n",
    "bigfish_clusters = viewer.add_points(\n",
    "        getDetectedClustersForFrame(cluster_coordinate,int(np.shape(mipSequenceCell)[0]/2)-1),\n",
    "        face_color='#00000000',\n",
    "        size=8,\n",
    "        edge_width=0.3,\n",
    "        edge_width_is_relative=False,\n",
    "        edge_color='red',\n",
    "        symbol='diamond',\n",
    "        name = 'bigFish Clusters'\n",
    "        )\n",
    "\n",
    "\n",
    "viewer.dims.events.current_step.connect(\n",
    "        lambda event: set_pts_features(bigfish_Spots, bigfish_clusters, pts_coordinates, cluster_coordinate, event.value)\n",
    "        )\n",
    "\n"
   ]
  },
  {
   "cell_type": "markdown",
   "id": "e4910681-94e0-4f30-aa84-f2f86db476da",
   "metadata": {},
   "source": [
    "# Save clusters frame in csv "
   ]
  },
  {
   "cell_type": "code",
   "execution_count": 19,
   "id": "95c00fd7",
   "metadata": {},
   "outputs": [],
   "source": [
    "b = np.concatenate(c)\n",
    "savepath = homeFolder+nameKey+imsQ + '/' + nameKey + imsQ + '_TS' +'_cell_' + cellNumber + '_fusion_'+  str(alpha) +'_' + str(beta) + '_' + str(gamma) + '_thres_' + str(selectedThreshold) + '.csv'"
   ]
  },
  {
   "cell_type": "code",
   "execution_count": 20,
   "id": "6d1a8f3f-8b26-40b2-b7b3-cf31fbec5374",
   "metadata": {},
   "outputs": [],
   "source": [
    "entete = ['z','y','x','n_molecule','index']"
   ]
  },
  {
   "cell_type": "code",
   "execution_count": 21,
   "id": "9e2da3fa-4d0c-46e3-aeba-d4ba012344f9",
   "metadata": {},
   "outputs": [],
   "source": [
    "import csv \n",
    "\n",
    "with open(savepath, 'w', newline='') as csv_file :\n",
    "    writer = csv.writer(csv_file)\n",
    "    writer.writerow(entete)\n",
    "    writer.writerows(b)"
   ]
  },
  {
   "cell_type": "code",
   "execution_count": 25,
   "id": "c915d693",
   "metadata": {},
   "outputs": [
    {
     "data": {
      "text/html": [
       "<details>\n",
       "<summary>Click to view session information</summary>\n",
       "<pre>\n",
       "-----\n",
       "alive_progress      3.1.5\n",
       "bigfish             0.6.2\n",
       "buildReferenceSpot  NA\n",
       "dask                2024.2.0\n",
       "matplotlib          3.8.2\n",
       "napari              0.4.19\n",
       "numpy               1.23.0\n",
       "order_spot          NA\n",
       "reorderStack        NA\n",
       "runBigfishDetection NA\n",
       "session_info        1.0.0\n",
       "tifffile            2024.1.30\n",
       "-----\n",
       "</pre>\n",
       "<details>\n",
       "<summary>Click to view modules imported as dependencies</summary>\n",
       "<pre>\n",
       "PIL                         10.2.0\n",
       "PyQt5                       NA\n",
       "a742a3cbc3aad3027957__mypyc NA\n",
       "about_time                  4.2.1\n",
       "annotated_types             0.6.0\n",
       "app_model                   0.2.4\n",
       "appdirs                     1.4.4\n",
       "asttokens                   NA\n",
       "attr                        23.1.0\n",
       "attrs                       23.1.0\n",
       "babel                       2.14.0\n",
       "backcall                    0.2.0\n",
       "cachey                      0.2.1\n",
       "cffi                        1.16.0\n",
       "cloudpickle                 3.0.0\n",
       "comm                        0.1.2\n",
       "cycler                      0.12.1\n",
       "cython_runtime              NA\n",
       "dateutil                    2.8.2\n",
       "debugpy                     1.6.7\n",
       "decorator                   5.1.1\n",
       "defusedxml                  0.7.1\n",
       "docstring_parser            NA\n",
       "entrypoints                 0.4\n",
       "exceptiongroup              1.2.0\n",
       "executing                   0.8.3\n",
       "grapheme                    NA\n",
       "heapdict                    NA\n",
       "hsluv                       5.0.4\n",
       "idna                        3.4\n",
       "imagecodecs                 2024.1.1\n",
       "imageio                     2.33.1\n",
       "importlib_metadata          NA\n",
       "importlib_resources         NA\n",
       "in_n_out                    0.1.9\n",
       "ipykernel                   6.25.0\n",
       "ipython_genutils            0.2.0\n",
       "jedi                        0.18.1\n",
       "jinja2                      3.1.3\n",
       "joblib                      1.3.2\n",
       "jsonschema                  4.19.2\n",
       "jsonschema_specifications   NA\n",
       "kiwisolver                  1.4.5\n",
       "lazy_loader                 NA\n",
       "llvmlite                    0.42.0\n",
       "magicgui                    0.8.1\n",
       "markupsafe                  2.1.3\n",
       "matplotlib_inline           0.1.6\n",
       "mpl_toolkits                NA\n",
       "mrc                         0.3.1\n",
       "mypy_extensions             NA\n",
       "napari_builtins             0.4.19\n",
       "napari_plugin_engine        0.2.0\n",
       "networkx                    3.2.1\n",
       "npe2                        0.7.4\n",
       "numba                       0.59.0\n",
       "numpydoc                    1.6.0\n",
       "packaging                   23.1\n",
       "pandas                      2.2.0\n",
       "parso                       0.8.3\n",
       "pexpect                     4.8.0\n",
       "pickleshare                 0.7.5\n",
       "pint                        0.23\n",
       "pkg_resources               NA\n",
       "platformdirs                3.10.0\n",
       "pooch                       v1.8.0\n",
       "prompt_toolkit              3.0.43\n",
       "psutil                      5.9.0\n",
       "psygnal                     0.9.5\n",
       "ptyprocess                  0.7.0\n",
       "pure_eval                   0.2.2\n",
       "pydantic                    2.6.1\n",
       "pydantic_compat             0.1.2\n",
       "pydantic_core               2.16.2\n",
       "pydev_ipython               NA\n",
       "pydevconsole                NA\n",
       "pydevd                      2.9.5\n",
       "pydevd_file_utils           NA\n",
       "pydevd_plugins              NA\n",
       "pydevd_tracing              NA\n",
       "pygments                    2.15.1\n",
       "pyparsing                   3.1.1\n",
       "pytz                        2024.1\n",
       "qtpy                        2.4.1\n",
       "referencing                 NA\n",
       "rpds                        NA\n",
       "scipy                       1.12.0\n",
       "sip                         NA\n",
       "six                         1.16.0\n",
       "skimage                     0.22.0\n",
       "sklearn                     1.4.0\n",
       "sphinxcontrib               NA\n",
       "stack_data                  0.2.0\n",
       "superqt                     0.6.1\n",
       "threadpoolctl               3.2.0\n",
       "tlz                         0.12.1\n",
       "toolz                       0.12.1\n",
       "tornado                     6.3.3\n",
       "tqdm                        4.66.2\n",
       "traitlets                   5.7.1\n",
       "triangle                    20230923\n",
       "typing_extensions           NA\n",
       "vispy                       0.14.1\n",
       "wcwidth                     0.2.5\n",
       "wrapt                       1.16.0\n",
       "yaml                        6.0.1\n",
       "zipp                        NA\n",
       "zmq                         23.2.0\n",
       "zoneinfo                    NA\n",
       "</pre>\n",
       "</details> <!-- seems like this ends pre, so might as well be explicit -->\n",
       "<pre>\n",
       "-----\n",
       "IPython             8.15.0\n",
       "jupyter_client      7.4.9\n",
       "jupyter_core        5.5.0\n",
       "notebook            6.5.4\n",
       "-----\n",
       "Python 3.9.18 (main, Sep 11 2023, 13:41:44) [GCC 11.2.0]\n",
       "Linux-6.5.0-17-generic-x86_64-with-glibc2.35\n",
       "-----\n",
       "Session information updated at 2024-04-11 17:29\n",
       "</pre>\n",
       "</details>"
      ],
      "text/plain": [
       "<IPython.core.display.HTML object>"
      ]
     },
     "execution_count": 25,
     "metadata": {},
     "output_type": "execute_result"
    }
   ],
   "source": [
    "import session_info\n",
    "session_info.show()"
   ]
  },
  {
   "cell_type": "code",
   "execution_count": null,
   "id": "447af5ca",
   "metadata": {},
   "outputs": [],
   "source": []
  }
 ],
 "metadata": {
  "kernelspec": {
   "display_name": "Python 3 (ipykernel)",
   "language": "python",
   "name": "python3"
  },
  "language_info": {
   "codemirror_mode": {
    "name": "ipython",
    "version": 3
   },
   "file_extension": ".py",
   "mimetype": "text/x-python",
   "name": "python",
   "nbconvert_exporter": "python",
   "pygments_lexer": "ipython3",
   "version": "3.9.18"
  }
 },
 "nbformat": 4,
 "nbformat_minor": 5
}
