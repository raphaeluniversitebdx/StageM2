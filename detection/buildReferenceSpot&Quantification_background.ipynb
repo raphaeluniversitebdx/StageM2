{
 "cells": [
  {
   "cell_type": "markdown",
   "id": "c0cc3753",
   "metadata": {},
   "source": [
    "## Import necessary python modules"
   ]
  },
  {
   "cell_type": "code",
   "execution_count": 1,
   "id": "9d089cf9",
   "metadata": {},
   "outputs": [],
   "source": [
    "import os\n",
    "import napari\n",
    "import tifffile\n",
    "import numpy as np\n",
    "import matplotlib.pyplot as plt\n",
    "\n",
    "import bigfish\n",
    "import bigfish.plot as plot\n",
    "import bigfish.stack as stack\n",
    "import bigfish.detection as detection\n",
    "import bigfish.multistack as multistack\n",
    "\n",
    "from copy import deepcopy\n",
    "from dask.array.image import imread as imr\n",
    "from bigfish.detection.utils import get_object_radius_pixel\n",
    "from buildReferenceSpot import buildReferenceSpotFromImages\n",
    "from runBigfishDetection import getSpotAndClusters, saveSpotsNPZ, reorderZstack, getSpotAndClusters_multi"
   ]
  },
  {
   "cell_type": "code",
   "execution_count": 2,
   "id": "fec928ef",
   "metadata": {},
   "outputs": [],
   "source": [
    "from order_spot import * \n",
    "\n",
    "import sys \n",
    "\n",
    "sys.path.append('/media/raphael/data/works/notebooks/notebook_scripts_perso/full_pipeline_perso/')\n",
    "from follow_cells import *"
   ]
  },
  {
   "cell_type": "markdown",
   "id": "ef74aefd",
   "metadata": {},
   "source": [
    "## Specify Input and Output folders, identifiers"
   ]
  },
  {
   "cell_type": "code",
   "execution_count": 3,
   "id": "eb637701-79c5-46d0-9e46-04a4c46986e2",
   "metadata": {},
   "outputs": [],
   "source": [
    "homeFolder = '/media/raphael/data/works/20231220_C3_14_2h_ofON/bleach_correction/w_background/'\n",
    "nameKey = 'C3.14_ON_01_w1SPI-488_s'\n",
    "\n",
    "imsQ = '4'\n",
    "cellNumber = '58'\n",
    "nucleiStackForm = nameKey+imsQ+\"_cell_\"\n",
    "\n",
    "pathToTimeSequenceFullView = homeFolder+nameKey+imsQ+'/*.tif'\n",
    "cell_Crop_Folder = homeFolder+nameKey+imsQ+'/cell_'+str(cellNumber)+'/'\n",
    "pathToTimeSequenceCell = homeFolder+nameKey+imsQ+'/cell_'+str(cellNumber)+'/*.tif'\n",
    "\n",
    "\n",
    "sequenceCell = imr(pathToTimeSequenceCell)\n",
    "sequenceCell = sequenceCell\n",
    "mipSequenceCell = np.max(sequenceCell, axis=1)\n",
    "MaxTimePoint = sequenceCell.shape[0]"
   ]
  },
  {
   "cell_type": "code",
   "execution_count": 4,
   "id": "5d9bc7bb",
   "metadata": {},
   "outputs": [
    {
     "data": {
      "text/plain": [
       "(60, 36, 107, 146)"
      ]
     },
     "execution_count": 4,
     "metadata": {},
     "output_type": "execute_result"
    }
   ],
   "source": [
    "pathToTimeSequenceMask = homeFolder+nameKey+imsQ+'/mask_'+str(cellNumber)+'/*.tif'\n",
    "mask = imr(pathToTimeSequenceMask)\n",
    "\n",
    "mipSequenceMask= np.max(mask, axis=1)\n",
    "mask.shape"
   ]
  },
  {
   "cell_type": "markdown",
   "id": "a6823fdb",
   "metadata": {},
   "source": [
    "## Specify voxel and object size"
   ]
  },
  {
   "cell_type": "code",
   "execution_count": 5,
   "id": "92e6c86b",
   "metadata": {},
   "outputs": [],
   "source": [
    "voxelRadius = (700, 110, 110) # in nanometers\n",
    "objectRadius = (700, 105, 105) # in nanometers"
   ]
  },
  {
   "cell_type": "code",
   "execution_count": 6,
   "id": "72a94eaa",
   "metadata": {},
   "outputs": [],
   "source": [
    "alpha = 0.5\n",
    "beta = 2\n",
    "gamma = 15"
   ]
  },
  {
   "cell_type": "markdown",
   "id": "f8a25dd7",
   "metadata": {},
   "source": [
    "## Choose detection threshold"
   ]
  },
  {
   "cell_type": "code",
   "execution_count": 7,
   "id": "9414caf2",
   "metadata": {},
   "outputs": [
    {
     "name": "stdout",
     "output_type": "stream",
     "text": [
      "Enter your selected threshold: 35\n"
     ]
    }
   ],
   "source": [
    "selectedThreshold = int(input(\"Enter your selected threshold: \"))"
   ]
  },
  {
   "cell_type": "code",
   "execution_count": 8,
   "id": "dde2e68a",
   "metadata": {},
   "outputs": [
    {
     "name": "stdout",
     "output_type": "stream",
     "text": [
      "Enter your min Frame: 1\n"
     ]
    }
   ],
   "source": [
    "minFrame = int(input(\"Enter your min Frame: \"))\n",
    "#minFrame = minFrame "
   ]
  },
  {
   "cell_type": "code",
   "execution_count": 9,
   "id": "d01607a9",
   "metadata": {},
   "outputs": [
    {
     "name": "stdout",
     "output_type": "stream",
     "text": [
      "Enter your max Frame: 60\n"
     ]
    }
   ],
   "source": [
    "maxFrame = int(input(\"Enter your max Frame: \"))\n",
    "maxFrame = maxFrame + 1 "
   ]
  },
  {
   "cell_type": "markdown",
   "id": "e60c6804",
   "metadata": {},
   "source": [
    "### Compute list of threshold "
   ]
  },
  {
   "cell_type": "markdown",
   "id": "31d78382",
   "metadata": {},
   "source": [
    "## Get a list of spots detected using the threshold specified in previous step"
   ]
  },
  {
   "cell_type": "code",
   "execution_count": 10,
   "id": "da8b11f2",
   "metadata": {},
   "outputs": [
    {
     "name": "stdout",
     "output_type": "stream",
     "text": [
      "Total number of images : 60\n"
     ]
    },
    {
     "name": "stderr",
     "output_type": "stream",
     "text": [
      "/home/raphael/miniconda3/envs/bigfishlive/lib/python3.9/site-packages/bigfish/detection/spot_detection.py:586: RuntimeWarning: divide by zero encountered in log\n",
      "  count_spots = np.log([np.count_nonzero(value_spots > t)\n"
     ]
    }
   ],
   "source": [
    "images=[]    \n",
    "spots_list=[]\n",
    "\n",
    "spot_radius_px = detection.get_object_radius_pixel(\n",
    "    voxel_size_nm=voxelRadius, \n",
    "    object_radius_nm=objectRadius, \n",
    "    ndim=3)\n",
    "\n",
    "for t in range(minFrame,maxFrame,1):\n",
    "\n",
    "    path = os.path.join(cell_Crop_Folder, nucleiStackForm+str(cellNumber)+'_t'+str(f\"{t:03}\")+\".tif\")\n",
    "    rna = stack.read_image(path)\n",
    "    images.append(rna)\n",
    "\n",
    "n=len(images)\n",
    "print(\"Total number of images : \"+str(n))\n",
    "\n",
    "selectedThreshold_loop = selectedThreshold\n",
    "\n",
    "for rna in images:\n",
    "    try : \n",
    "        # LoG filter\n",
    "        rna_log = stack.log_filter(rna, sigma=spot_radius_px)\n",
    "    \n",
    "        # local maximum detection\n",
    "        mask = detection.local_maximum_detection(rna_log, min_distance=spot_radius_px)\n",
    "    \n",
    "        # thresholding\n",
    "        threshold = detection.automated_threshold_setting(rna_log, mask)\n",
    "        \n",
    "        selectedThreshold_loop = (selectedThreshold_loop) #*((100+var_list[i])/100) \n",
    "        #print(selectedThreshold_loop)\n",
    "        spots_, _ = detection.spots_thresholding(rna_log, mask, float(selectedThreshold_loop))\n",
    "        spots_list.append(spots_)\n",
    "    except IndexError as e: \n",
    "        spots_, _ = detection.spots_thresholding(rna_log, mask, float(selectedThreshold))\n",
    "        spots_list.append(spots_)\n",
    "        print('Done')\n",
    "        break "
   ]
  },
  {
   "cell_type": "markdown",
   "id": "2f26081e",
   "metadata": {},
   "source": [
    "## Remove spot outside of cell mask for building the reference spot "
   ]
  },
  {
   "cell_type": "code",
   "execution_count": 11,
   "id": "f69bec74",
   "metadata": {},
   "outputs": [],
   "source": [
    "def sort_spot_list_mask(spot_list,mipSequenceCell,mask,cellNumber):\n",
    "    '''\n",
    "    The goal of this function is to sort spot which are on the side of a cell to improve the computing of the reference spot\n",
    "    spot_list : numpy array corresponding to a numpy array of spots through the whole movie\n",
    "    mipSequenceCell : 2D projection of the movie\n",
    "    '''\n",
    "\n",
    "    test_cell = get_cells(mipSequenceCell,mask,int(cellNumber))\n",
    "    res=[]\n",
    "    i=0\n",
    "    count=0\n",
    "    for spot_frame in spot_list : \n",
    "        tmp=[]\n",
    "        \n",
    "        for spot in spot_frame: \n",
    "            \n",
    "            z=spot[0]\n",
    "            y=spot[1]\n",
    "            x=spot[2]\n",
    "            \n",
    "            #test_cell = np.max(test_cell, axis=1)\n",
    "            \n",
    "          \n",
    "            if test_cell[i][y][x]!=0 : \n",
    "                tmp.append(spot)\n",
    "            else : \n",
    "                count=count+1\n",
    "            \n",
    "        # if there is no spots\n",
    "        if len(tmp)==0:\n",
    "            tmp=np.empty((0,3))\n",
    "            res.append(tmp)\n",
    "                    \n",
    "        res.append(np.array(tmp))\n",
    "        i=i+1\n",
    "    \n",
    "    \n",
    "    print('eliminated spots :', count)\n",
    "    return res"
   ]
  },
  {
   "cell_type": "code",
   "execution_count": 12,
   "id": "82b8da97",
   "metadata": {
    "scrolled": true
   },
   "outputs": [
    {
     "name": "stdout",
     "output_type": "stream",
     "text": [
      "eliminated spots : 104\n"
     ]
    }
   ],
   "source": [
    "spots_list = sort_spot_list_mask(spots_list,mipSequenceCell,mipSequenceMask,cellNumber)"
   ]
  },
  {
   "cell_type": "markdown",
   "id": "46415d37",
   "metadata": {},
   "source": [
    "## Build reference spot"
   ]
  },
  {
   "cell_type": "code",
   "execution_count": 13,
   "id": "53e4aab3",
   "metadata": {},
   "outputs": [
    {
     "name": "stdout",
     "output_type": "stream",
     "text": [
      "image list found!\n",
      "Found 506\n",
      "Found 506 spots, max intensity = 0\n"
     ]
    },
    {
     "data": {
      "image/png": "[encoded data removed]",
      "text/plain": [
       "<Figure size 300x300 with 1 Axes>"
      ]
     },
     "metadata": {},
     "output_type": "display_data"
    }
   ],
   "source": [
    "#gamma=5\n",
    "reference_spot = buildReferenceSpotFromImages(images, spots_list, alpha=alpha, gamma=5, voxelSize=voxelRadius, objectSize=objectRadius)\n",
    "%matplotlib inline\n",
    "plt.figure(num=3,figsize=(3,3))\n",
    "plt.imshow(np.max(reference_spot, axis=0))\n",
    "refSpot = deepcopy(reference_spot)"
   ]
  },
  {
   "cell_type": "code",
   "execution_count": 14,
   "id": "d2b6dbc5",
   "metadata": {},
   "outputs": [],
   "source": [
    "np.savez('/media/raphael/data/works/20231220_C3_14_2h_ofON/bleach_correction/expo/C3.14_ON_01_w1SPI-488_s4/refspot_18',reference_spot )"
   ]
  },
  {
   "cell_type": "markdown",
   "id": "bef2b3b8",
   "metadata": {},
   "source": [
    "## Eliminate neighboor cells "
   ]
  },
  {
   "cell_type": "code",
   "execution_count": 15,
   "id": "66122aab",
   "metadata": {},
   "outputs": [],
   "source": [
    "images = get_cells(images,mipSequenceMask,int(cellNumber))"
   ]
  },
  {
   "cell_type": "markdown",
   "id": "dc2a526d",
   "metadata": {},
   "source": [
    "## Perform spot and cluster detection for all frames"
   ]
  },
  {
   "cell_type": "code",
   "execution_count": 16,
   "id": "494c3826",
   "metadata": {
    "scrolled": true
   },
   "outputs": [
    {
     "name": "stdout",
     "output_type": "stream",
     "text": [
      "0\n"
     ]
    },
    {
     "name": "stderr",
     "output_type": "stream",
     "text": [
      "/home/raphael/miniconda3/envs/bigfishlive/lib/python3.9/site-packages/bigfish/detection/spot_modeling.py:272: RuntimeWarning: invalid value encountered in divide\n",
      "  centroid_z = np.sum(dz) / area\n",
      "/home/raphael/miniconda3/envs/bigfishlive/lib/python3.9/site-packages/bigfish/detection/spot_modeling.py:273: RuntimeWarning: invalid value encountered in divide\n",
      "  centroid_y = np.sum(dy) / area\n",
      "/home/raphael/miniconda3/envs/bigfishlive/lib/python3.9/site-packages/bigfish/detection/spot_modeling.py:274: RuntimeWarning: invalid value encountered in divide\n",
      "  centroid_x = np.sum(dx) / area\n"
     ]
    },
    {
     "ename": "ValueError",
     "evalue": "`x0` is infeasible.",
     "output_type": "error",
     "traceback": [
      "\u001b[0;31m---------------------------------------------------------------------------\u001b[0m",
      "\u001b[0;31mValueError\u001b[0m                                Traceback (most recent call last)",
      "Cell \u001b[0;32mIn[16], line 1\u001b[0m\n\u001b[0;32m----> 1\u001b[0m spotsFrame, clustersFrames, ThresholdFrames \u001b[38;5;241m=\u001b[39m \u001b[43mgetSpotAndClusters\u001b[49m\u001b[43m(\u001b[49m\u001b[43mimages\u001b[49m\u001b[43m,\u001b[49m\u001b[43m \u001b[49m\n\u001b[1;32m      2\u001b[0m \u001b[43m                                                                 \u001b[49m\u001b[43mreference_spot\u001b[49m\u001b[43m,\u001b[49m\u001b[43m \u001b[49m\n\u001b[1;32m      3\u001b[0m \u001b[43m                                                                 \u001b[49m\u001b[43mcellnumber\u001b[49m\u001b[38;5;241;43m=\u001b[39;49m\u001b[43mcellNumber\u001b[49m\u001b[43m,\u001b[49m\u001b[43m \u001b[49m\n\u001b[1;32m      4\u001b[0m \u001b[43m                                                                 \u001b[49m\u001b[43mstartTime\u001b[49m\u001b[38;5;241;43m=\u001b[39;49m\u001b[43mminFrame\u001b[49m\u001b[38;5;241;43m-\u001b[39;49m\u001b[38;5;241;43m1\u001b[39;49m\u001b[43m,\u001b[49m\n\u001b[1;32m      5\u001b[0m \u001b[43m                                                                 \u001b[49m\u001b[43mstopTime\u001b[49m\u001b[38;5;241;43m=\u001b[39;49m\u001b[43mmaxFrame\u001b[49m\u001b[38;5;241;43m-\u001b[39;49m\u001b[38;5;241;43m1\u001b[39;49m\u001b[43m,\u001b[49m\n\u001b[1;32m      6\u001b[0m \u001b[43m                                                                 \u001b[49m\u001b[43mthresholdManual\u001b[49m\u001b[38;5;241;43m=\u001b[39;49m\u001b[43mselectedThreshold\u001b[49m\u001b[43m,\u001b[49m\u001b[43m \u001b[49m\n\u001b[1;32m      7\u001b[0m \u001b[43m                                                                 \u001b[49m\u001b[43mbeta\u001b[49m\u001b[38;5;241;43m=\u001b[39;49m\u001b[43mbeta\u001b[49m\u001b[43m,\u001b[49m\u001b[43m \u001b[49m\u001b[38;5;66;43;03m#2\u001b[39;49;00m\n\u001b[1;32m      8\u001b[0m \u001b[43m                                                                 \u001b[49m\u001b[43mgamma\u001b[49m\u001b[38;5;241;43m=\u001b[39;49m\u001b[43mgamma\u001b[49m\u001b[43m,\u001b[49m\u001b[43m \u001b[49m\u001b[38;5;66;43;03m#15 \u001b[39;49;00m\n\u001b[1;32m      9\u001b[0m \u001b[43m                                                                 \u001b[49m\u001b[43mnumberOfSpots\u001b[49m\u001b[38;5;241;43m=\u001b[39;49m\u001b[38;5;241;43m2\u001b[39;49m\u001b[43m,\u001b[49m\n\u001b[1;32m     10\u001b[0m \u001b[43m                                                                 \u001b[49m\u001b[43mradiusCluster\u001b[49m\u001b[38;5;241;43m=\u001b[39;49m\u001b[38;5;241;43m400\u001b[39;49m\u001b[43m,\u001b[49m\u001b[43m \u001b[49m\n\u001b[1;32m     11\u001b[0m \u001b[43m                                                                 \u001b[49m\u001b[43mvoxelSize\u001b[49m\u001b[38;5;241;43m=\u001b[39;49m\u001b[43mvoxelRadius\u001b[49m\u001b[43m,\u001b[49m\u001b[43m \u001b[49m\n\u001b[1;32m     12\u001b[0m \u001b[43m                                                                 \u001b[49m\u001b[43mobjectSize\u001b[49m\u001b[38;5;241;43m=\u001b[39;49m\u001b[43mobjectRadius\u001b[49m\u001b[43m,\u001b[49m\n\u001b[1;32m     13\u001b[0m \u001b[43m                                                                 \u001b[49m\u001b[43mextensionMov\u001b[49m\u001b[38;5;241;43m=\u001b[39;49m\u001b[38;5;124;43m'\u001b[39;49m\u001b[38;5;124;43m.tif\u001b[39;49m\u001b[38;5;124;43m'\u001b[39;49m\u001b[43m)\u001b[49m\n",
      "File \u001b[0;32m/media/raphael/data/works/notebooks/notebook_scripts_perso/full_pipeline_perso/detection/runBigfishDetection.py:319\u001b[0m, in \u001b[0;36mgetSpotAndClusters\u001b[0;34m(imageSequence, reference_spot, cellnumber, startTime, stopTime, thresholdManual, beta, gamma, numberOfSpots, radiusCluster, voxelSize, objectSize, reorder, extensionMov, showProgress)\u001b[0m\n\u001b[1;32m    317\u001b[0m ThresholdFrames\u001b[38;5;241m.\u001b[39mappend(threshold)\n\u001b[1;32m    318\u001b[0m \u001b[38;5;28;01mif\u001b[39;00m showProgress\u001b[38;5;241m==\u001b[39m\u001b[38;5;28;01mTrue\u001b[39;00m: \u001b[38;5;28mprint\u001b[39m(t)\n\u001b[0;32m--> 319\u001b[0m spots_post_decomposition, dense_regions, reference_spot_current \u001b[38;5;241m=\u001b[39m \u001b[43mdetection\u001b[49m\u001b[38;5;241;43m.\u001b[39;49m\u001b[43mdecompose_dense_live\u001b[49m\u001b[43m(\u001b[49m\n\u001b[1;32m    320\u001b[0m \u001b[43m    \u001b[49m\u001b[43mimage\u001b[49m\u001b[38;5;241;43m=\u001b[39;49m\u001b[43mrna\u001b[49m\u001b[43m,\u001b[49m\u001b[43m \u001b[49m\n\u001b[1;32m    321\u001b[0m \u001b[43m    \u001b[49m\u001b[43mspots\u001b[49m\u001b[38;5;241;43m=\u001b[39;49m\u001b[43mspots_current\u001b[49m\u001b[43m,\u001b[49m\n\u001b[1;32m    322\u001b[0m \u001b[43m    \u001b[49m\u001b[43mreference_spot_previous\u001b[49m\u001b[38;5;241;43m=\u001b[39;49m\u001b[43mreference_spot\u001b[49m\u001b[43m,\u001b[49m\n\u001b[1;32m    323\u001b[0m \u001b[43m    \u001b[49m\u001b[43mvoxel_size\u001b[49m\u001b[38;5;241;43m=\u001b[39;49m\u001b[43mvoxelSize\u001b[49m\u001b[43m,\u001b[49m\u001b[43m \u001b[49m\n\u001b[1;32m    324\u001b[0m \u001b[43m    \u001b[49m\u001b[43mspot_radius\u001b[49m\u001b[38;5;241;43m=\u001b[39;49m\u001b[43mobjectSize\u001b[49m\u001b[43m,\u001b[49m\u001b[43m \u001b[49m\n\u001b[1;32m    325\u001b[0m \u001b[43m   \u001b[49m\u001b[38;5;66;43;03m# alpha=alpha,  # alpha impacts the number of spots per candidate region\u001b[39;49;00m\n\u001b[1;32m    326\u001b[0m \u001b[43m    \u001b[49m\u001b[43mbeta\u001b[49m\u001b[38;5;241;43m=\u001b[39;49m\u001b[43mbeta\u001b[49m\u001b[43m,\u001b[49m\u001b[43m  \u001b[49m\u001b[38;5;66;43;03m# beta impacts the number of candidate regions to decompose\u001b[39;49;00m\n\u001b[1;32m    327\u001b[0m \u001b[43m    \u001b[49m\u001b[43mgamma\u001b[49m\u001b[38;5;241;43m=\u001b[39;49m\u001b[43mgamma\u001b[49m\u001b[43m)\u001b[49m  \u001b[38;5;66;03m# gamma the filtering step to denoise the image\u001b[39;00m\n\u001b[1;32m    328\u001b[0m reference_spot_previous \u001b[38;5;241m=\u001b[39m deepcopy(reference_spot_current)\n\u001b[1;32m    330\u001b[0m \u001b[38;5;66;03m#clustering\u001b[39;00m\n",
      "File \u001b[0;32m~/miniconda3/envs/bigfishlive/lib/python3.9/site-packages/bigfish/detection/dense_decomposition_live.py:218\u001b[0m, in \u001b[0;36mdecompose_dense_live\u001b[0;34m(image, spots, reference_spot_previous, voxel_size, spot_radius, kernel_size, alpha, beta, gamma)\u001b[0m\n\u001b[1;32m    201\u001b[0m     image_denoised \u001b[38;5;241m=\u001b[39m image\u001b[38;5;241m.\u001b[39mcopy()\n\u001b[1;32m    203\u001b[0m \u001b[38;5;66;03m# build a reference median spot\u001b[39;00m\n\u001b[1;32m    204\u001b[0m \u001b[38;5;66;03m#reference_spot = build_reference_spot(\u001b[39;00m\n\u001b[1;32m    205\u001b[0m \u001b[38;5;66;03m#    image=image_denoised,\u001b[39;00m\n\u001b[0;32m   (...)\u001b[0m\n\u001b[1;32m    216\u001b[0m \n\u001b[1;32m    217\u001b[0m \u001b[38;5;66;03m# fit a gaussian function on the reference spot to be able to simulate it\u001b[39;00m\n\u001b[0;32m--> 218\u001b[0m parameters_fitted \u001b[38;5;241m=\u001b[39m \u001b[43mmodelize_spot\u001b[49m\u001b[43m(\u001b[49m\n\u001b[1;32m    219\u001b[0m \u001b[43m    \u001b[49m\u001b[43mreference_spot\u001b[49m\u001b[38;5;241;43m=\u001b[39;49m\u001b[43mreference_spot\u001b[49m\u001b[43m,\u001b[49m\n\u001b[1;32m    220\u001b[0m \u001b[43m    \u001b[49m\u001b[43mvoxel_size\u001b[49m\u001b[38;5;241;43m=\u001b[39;49m\u001b[43mvoxel_size\u001b[49m\u001b[43m,\u001b[49m\n\u001b[1;32m    221\u001b[0m \u001b[43m    \u001b[49m\u001b[43mspot_radius\u001b[49m\u001b[38;5;241;43m=\u001b[39;49m\u001b[43mspot_radius\u001b[49m\u001b[43m)\u001b[49m\n\u001b[1;32m    222\u001b[0m \u001b[38;5;28;01mif\u001b[39;00m ndim \u001b[38;5;241m==\u001b[39m \u001b[38;5;241m3\u001b[39m:\n\u001b[1;32m    223\u001b[0m     sigma_z, sigma_yx, amplitude, background \u001b[38;5;241m=\u001b[39m parameters_fitted\n",
      "File \u001b[0;32m~/miniconda3/envs/bigfishlive/lib/python3.9/site-packages/bigfish/detection/spot_modeling.py:121\u001b[0m, in \u001b[0;36mmodelize_spot\u001b[0;34m(reference_spot, voxel_size, spot_radius, return_coord)\u001b[0m\n\u001b[1;32m    118\u001b[0m     u_bound \u001b[38;5;241m=\u001b[39m [np\u001b[38;5;241m.\u001b[39minf, np\u001b[38;5;241m.\u001b[39minf, np\u001b[38;5;241m.\u001b[39minf, np\u001b[38;5;241m.\u001b[39minf, np\u001b[38;5;241m.\u001b[39minf]\n\u001b[1;32m    120\u001b[0m \u001b[38;5;66;03m# fit a gaussian function on this reference spot\u001b[39;00m\n\u001b[0;32m--> 121\u001b[0m popt, pcov \u001b[38;5;241m=\u001b[39m \u001b[43m_fit_gaussian\u001b[49m\u001b[43m(\u001b[49m\n\u001b[1;32m    122\u001b[0m \u001b[43m    \u001b[49m\u001b[43mf\u001b[49m\u001b[43m,\u001b[49m\u001b[43m \u001b[49m\u001b[43mgrid\u001b[49m\u001b[43m,\u001b[49m\u001b[43m \u001b[49m\u001b[43mreference_spot\u001b[49m\u001b[43m,\u001b[49m\u001b[43m \u001b[49m\u001b[43mp0\u001b[49m\u001b[43m,\u001b[49m\u001b[43m \u001b[49m\u001b[43mlower_bound\u001b[49m\u001b[38;5;241;43m=\u001b[39;49m\u001b[43ml_bound\u001b[49m\u001b[43m,\u001b[49m\u001b[43m \u001b[49m\u001b[43mupper_bound\u001b[49m\u001b[38;5;241;43m=\u001b[39;49m\u001b[43mu_bound\u001b[49m\u001b[43m)\u001b[49m\n\u001b[1;32m    124\u001b[0m \u001b[38;5;66;03m# get optimized parameters to modelize the reference spot as a gaussian\u001b[39;00m\n\u001b[1;32m    125\u001b[0m \u001b[38;5;28;01mif\u001b[39;00m ndim \u001b[38;5;241m==\u001b[39m \u001b[38;5;241m3\u001b[39m:\n",
      "File \u001b[0;32m~/miniconda3/envs/bigfishlive/lib/python3.9/site-packages/bigfish/detection/spot_modeling.py:842\u001b[0m, in \u001b[0;36m_fit_gaussian\u001b[0;34m(f, grid, image_spot, p0, lower_bound, upper_bound)\u001b[0m\n\u001b[1;32m    840\u001b[0m \u001b[38;5;66;03m# Apply non-linear least squares to fit a gaussian function to a 3-d image\u001b[39;00m\n\u001b[1;32m    841\u001b[0m y \u001b[38;5;241m=\u001b[39m np\u001b[38;5;241m.\u001b[39mreshape(image_spot, (image_spot\u001b[38;5;241m.\u001b[39msize,))\u001b[38;5;241m.\u001b[39mastype(np\u001b[38;5;241m.\u001b[39mfloat32)\n\u001b[0;32m--> 842\u001b[0m popt, pcov \u001b[38;5;241m=\u001b[39m \u001b[43mcurve_fit\u001b[49m\u001b[43m(\u001b[49m\u001b[43mf\u001b[49m\u001b[38;5;241;43m=\u001b[39;49m\u001b[43mf\u001b[49m\u001b[43m,\u001b[49m\u001b[43m \u001b[49m\u001b[43mxdata\u001b[49m\u001b[38;5;241;43m=\u001b[39;49m\u001b[43mgrid\u001b[49m\u001b[43m,\u001b[49m\u001b[43m \u001b[49m\u001b[43mydata\u001b[49m\u001b[38;5;241;43m=\u001b[39;49m\u001b[43my\u001b[49m\u001b[43m,\u001b[49m\u001b[43m \u001b[49m\u001b[43mp0\u001b[49m\u001b[38;5;241;43m=\u001b[39;49m\u001b[43mp0\u001b[49m\u001b[43m,\u001b[49m\u001b[43m \u001b[49m\u001b[43mbounds\u001b[49m\u001b[38;5;241;43m=\u001b[39;49m\u001b[43mbounds\u001b[49m\u001b[43m)\u001b[49m\n\u001b[1;32m    844\u001b[0m \u001b[38;5;28;01mreturn\u001b[39;00m popt, pcov\n",
      "File \u001b[0;32m~/miniconda3/envs/bigfishlive/lib/python3.9/site-packages/scipy/optimize/_minpack_py.py:988\u001b[0m, in \u001b[0;36mcurve_fit\u001b[0;34m(f, xdata, ydata, p0, sigma, absolute_sigma, check_finite, bounds, method, jac, full_output, nan_policy, **kwargs)\u001b[0m\n\u001b[1;32m    985\u001b[0m \u001b[38;5;28;01mif\u001b[39;00m \u001b[38;5;124m'\u001b[39m\u001b[38;5;124mmax_nfev\u001b[39m\u001b[38;5;124m'\u001b[39m \u001b[38;5;129;01mnot\u001b[39;00m \u001b[38;5;129;01min\u001b[39;00m kwargs:\n\u001b[1;32m    986\u001b[0m     kwargs[\u001b[38;5;124m'\u001b[39m\u001b[38;5;124mmax_nfev\u001b[39m\u001b[38;5;124m'\u001b[39m] \u001b[38;5;241m=\u001b[39m kwargs\u001b[38;5;241m.\u001b[39mpop(\u001b[38;5;124m'\u001b[39m\u001b[38;5;124mmaxfev\u001b[39m\u001b[38;5;124m'\u001b[39m, \u001b[38;5;28;01mNone\u001b[39;00m)\n\u001b[0;32m--> 988\u001b[0m res \u001b[38;5;241m=\u001b[39m \u001b[43mleast_squares\u001b[49m\u001b[43m(\u001b[49m\u001b[43mfunc\u001b[49m\u001b[43m,\u001b[49m\u001b[43m \u001b[49m\u001b[43mp0\u001b[49m\u001b[43m,\u001b[49m\u001b[43m \u001b[49m\u001b[43mjac\u001b[49m\u001b[38;5;241;43m=\u001b[39;49m\u001b[43mjac\u001b[49m\u001b[43m,\u001b[49m\u001b[43m \u001b[49m\u001b[43mbounds\u001b[49m\u001b[38;5;241;43m=\u001b[39;49m\u001b[43mbounds\u001b[49m\u001b[43m,\u001b[49m\u001b[43m \u001b[49m\u001b[43mmethod\u001b[49m\u001b[38;5;241;43m=\u001b[39;49m\u001b[43mmethod\u001b[49m\u001b[43m,\u001b[49m\n\u001b[1;32m    989\u001b[0m \u001b[43m                    \u001b[49m\u001b[38;5;241;43m*\u001b[39;49m\u001b[38;5;241;43m*\u001b[39;49m\u001b[43mkwargs\u001b[49m\u001b[43m)\u001b[49m\n\u001b[1;32m    991\u001b[0m \u001b[38;5;28;01mif\u001b[39;00m \u001b[38;5;129;01mnot\u001b[39;00m res\u001b[38;5;241m.\u001b[39msuccess:\n\u001b[1;32m    992\u001b[0m     \u001b[38;5;28;01mraise\u001b[39;00m \u001b[38;5;167;01mRuntimeError\u001b[39;00m(\u001b[38;5;124m\"\u001b[39m\u001b[38;5;124mOptimal parameters not found: \u001b[39m\u001b[38;5;124m\"\u001b[39m \u001b[38;5;241m+\u001b[39m res\u001b[38;5;241m.\u001b[39mmessage)\n",
      "File \u001b[0;32m~/miniconda3/envs/bigfishlive/lib/python3.9/site-packages/scipy/optimize/_lsq/least_squares.py:820\u001b[0m, in \u001b[0;36mleast_squares\u001b[0;34m(fun, x0, jac, bounds, method, ftol, xtol, gtol, x_scale, loss, f_scale, diff_step, tr_solver, tr_options, jac_sparsity, max_nfev, verbose, args, kwargs)\u001b[0m\n\u001b[1;32m    816\u001b[0m     \u001b[38;5;28;01mraise\u001b[39;00m \u001b[38;5;167;01mValueError\u001b[39;00m(\u001b[38;5;124m\"\u001b[39m\u001b[38;5;124mEach lower bound must be strictly less than each \u001b[39m\u001b[38;5;124m\"\u001b[39m\n\u001b[1;32m    817\u001b[0m                      \u001b[38;5;124m\"\u001b[39m\u001b[38;5;124mupper bound.\u001b[39m\u001b[38;5;124m\"\u001b[39m)\n\u001b[1;32m    819\u001b[0m \u001b[38;5;28;01mif\u001b[39;00m \u001b[38;5;129;01mnot\u001b[39;00m in_bounds(x0, lb, ub):\n\u001b[0;32m--> 820\u001b[0m     \u001b[38;5;28;01mraise\u001b[39;00m \u001b[38;5;167;01mValueError\u001b[39;00m(\u001b[38;5;124m\"\u001b[39m\u001b[38;5;124m`x0` is infeasible.\u001b[39m\u001b[38;5;124m\"\u001b[39m)\n\u001b[1;32m    822\u001b[0m x_scale \u001b[38;5;241m=\u001b[39m check_x_scale(x_scale, x0)\n\u001b[1;32m    824\u001b[0m ftol, xtol, gtol \u001b[38;5;241m=\u001b[39m check_tolerance(ftol, xtol, gtol, method)\n",
      "\u001b[0;31mValueError\u001b[0m: `x0` is infeasible."
     ]
    }
   ],
   "source": [
    "spotsFrame, clustersFrames, ThresholdFrames = getSpotAndClusters(images, \n",
    "                                                                 reference_spot, \n",
    "                                                                 cellnumber=cellNumber, \n",
    "                                                                 startTime=minFrame-1,\n",
    "                                                                 stopTime=maxFrame-1,\n",
    "                                                                 thresholdManual=selectedThreshold, \n",
    "                                                                 beta=beta, #2\n",
    "                                                                 gamma=gamma, #15 \n",
    "                                                                 numberOfSpots=2,\n",
    "                                                                 radiusCluster=400, \n",
    "                                                                 voxelSize=voxelRadius, \n",
    "                                                                 objectSize=objectRadius,\n",
    "                                                                 extensionMov='.tif')"
   ]
  },
  {
   "cell_type": "code",
   "execution_count": null,
   "id": "06201534",
   "metadata": {
    "scrolled": true
   },
   "outputs": [],
   "source": [
    "a = sort_clustersFrames(clustersFrames,mipSequenceCell,400,perc=1)"
   ]
  },
  {
   "cell_type": "markdown",
   "id": "865ddd26",
   "metadata": {},
   "source": [
    "## Correct clusters position if needed "
   ]
  },
  {
   "cell_type": "code",
   "execution_count": null,
   "id": "fa0ef200",
   "metadata": {},
   "outputs": [],
   "source": [
    "#a[2] = move_sorted_clustersFrames(a[2], np.array(a[2][1]), 0) #position 1 \n"
   ]
  },
  {
   "cell_type": "markdown",
   "id": "cb2379b1",
   "metadata": {},
   "source": [
    "## Merge clusters "
   ]
  },
  {
   "cell_type": "markdown",
   "id": "461c79b9",
   "metadata": {},
   "source": [
    "radius xy = 5\n",
    "radius z = 2 \n",
    "\n",
    "\n",
    "Reduire le radius et modifier la fonction pour adapter le rayon en fonction de la dimension "
   ]
  },
  {
   "cell_type": "code",
   "execution_count": null,
   "id": "8eacdd43",
   "metadata": {},
   "outputs": [],
   "source": [
    "b = merge_clusters_frame(a,mipSequenceCell,diffxy=5,diffz=1)"
   ]
  },
  {
   "cell_type": "code",
   "execution_count": null,
   "id": "48c33ace",
   "metadata": {},
   "outputs": [],
   "source": [
    "c = create_index(b)    "
   ]
  },
  {
   "cell_type": "markdown",
   "id": "5d562f82",
   "metadata": {},
   "source": [
    "## Correct spots "
   ]
  },
  {
   "cell_type": "code",
   "execution_count": null,
   "id": "53bfd483",
   "metadata": {},
   "outputs": [],
   "source": [
    "spotsFrame"
   ]
  },
  {
   "cell_type": "code",
   "execution_count": null,
   "id": "202bc668",
   "metadata": {},
   "outputs": [],
   "source": [
    "#spotsFrame = sort_spot_list(spotsFrame,mipSequenceMask,distance=2)"
   ]
  },
  {
   "cell_type": "markdown",
   "id": "04d62622",
   "metadata": {},
   "source": [
    "## Save detection results to be used later"
   ]
  },
  {
   "cell_type": "code",
   "execution_count": null,
   "id": "f11018f0",
   "metadata": {},
   "outputs": [],
   "source": [
    "saveSpotsNPZ(np.array(spotsFrame, dtype=object), \n",
    "             np.array(clustersFrames, dtype=object), \n",
    "             np.array(ThresholdFrames, dtype=object), \n",
    "             cellNumber, \n",
    "             cell_Crop_Folder, \n",
    "             reference_spot,\n",
    "             threshold = selectedThreshold\n",
    "             ) \n"
   ]
  },
  {
   "cell_type": "markdown",
   "id": "cf74116e",
   "metadata": {},
   "source": [
    "## Visualise detection results"
   ]
  },
  {
   "cell_type": "code",
   "execution_count": null,
   "id": "79671cd8",
   "metadata": {},
   "outputs": [],
   "source": [
    "def getDetectedPointsForFrame(pts_coordinates, frameNumer):\n",
    "    sd = np.shape(pts_coordinates[frameNumer][:])\n",
    "    pts_coords = np.empty([sd[0],sd[1]-1])\n",
    "    for ii in range(np.shape(pts_coordinates[frameNumer][:])[0]):\n",
    "        pts_coords[ii,:] = pts_coordinates[frameNumer][ii][1:]\n",
    "    return pts_coords\n",
    "\n",
    "def getDetectedClustersForFrame(pts_coordinates, frameNumer):\n",
    "    sd = np.shape(pts_coordinates[frameNumer][:])\n",
    "    pts_coords = np.empty([sd[0],sd[1]-3])\n",
    "    for ii in range(np.shape(pts_coordinates[frameNumer][:])[0]):\n",
    "        pts_coords[ii,:] = pts_coordinates[frameNumer][ii][1:3]\n",
    "    return pts_coords\n",
    "\n",
    "def set_pts_features(pts_layer, cls_layer, pts_coordinates, cluster_coordinate, step): #TxLayer\n",
    "    # step is a 4D coordinate with the current slider position for each dim\n",
    "    frameNumber = step[0]  # grab the leading (\"time\") coordinate\n",
    "    pts_layer.data = getDetectedPointsForFrame(pts_coordinates,frameNumber)\n",
    "    cls_layer.data = getDetectedClustersForFrame(cluster_coordinate,frameNumber)\n",
    "\n",
    "\n",
    "pts_coordinates = spotsFrame\n",
    "cluster_coordinate = c\n",
    "\n",
    "viewer = napari.Viewer()\n",
    "image_layer = viewer.add_image(\n",
    "        mipSequenceCell, colormap='green' #maxImageCell\n",
    "        )\n",
    "if image_layer.data.ndim == 4:\n",
    "    bigfishSpots = spotsFrame\n",
    "elif image_layer.data.ndim == 3:\n",
    "    bigfishSpots = getDetectedPointsForFrame(pts_coordinates,int(np.shape(mipSequenceCell)[0]/2))\n",
    "    \n",
    "bigfish_Spots = viewer.add_points(\n",
    "        getDetectedPointsForFrame(pts_coordinates,int(np.shape(mipSequenceCell)[0]/2)-1),\n",
    "        face_color='#00000000',\n",
    "        size=4,\n",
    "        edge_width=0.3,\n",
    "        edge_width_is_relative=False,\n",
    "        edge_color='white',\n",
    "        name = 'bigFish Detected Spots'\n",
    "        )\n",
    "\n",
    "bigfish_clusters = viewer.add_points(\n",
    "        getDetectedClustersForFrame(cluster_coordinate,int(np.shape(mipSequenceCell)[0]/2)-1),\n",
    "        face_color='#00000000',\n",
    "        size=8,\n",
    "        edge_width=0.3,\n",
    "        edge_width_is_relative=False,\n",
    "        edge_color='red',\n",
    "        symbol='diamond',\n",
    "        name = 'bigFish Clusters'\n",
    "        )\n",
    "\n",
    "\n",
    "viewer.dims.events.current_step.connect(\n",
    "        lambda event: set_pts_features(bigfish_Spots, bigfish_clusters, pts_coordinates, cluster_coordinate, event.value)\n",
    "        )\n",
    "\n"
   ]
  },
  {
   "cell_type": "markdown",
   "id": "e4910681-94e0-4f30-aa84-f2f86db476da",
   "metadata": {},
   "source": [
    "# Save clusters frame in csv "
   ]
  },
  {
   "cell_type": "code",
   "execution_count": null,
   "id": "4678046e",
   "metadata": {},
   "outputs": [],
   "source": [
    "save_csv_file(homeFolder,nameKey,imsQ,cellNumber,selectedThreshold,alpha,beta,gamma,c)"
   ]
  },
  {
   "cell_type": "code",
   "execution_count": null,
   "id": "447af5ca",
   "metadata": {},
   "outputs": [],
   "source": []
  }
 ],
 "metadata": {
  "kernelspec": {
   "display_name": "Python 3 (ipykernel)",
   "language": "python",
   "name": "python3"
  },
  "language_info": {
   "codemirror_mode": {
    "name": "ipython",
    "version": 3
   },
   "file_extension": ".py",
   "mimetype": "text/x-python",
   "name": "python",
   "nbconvert_exporter": "python",
   "pygments_lexer": "ipython3",
   "version": "3.9.18"
  }
 },
 "nbformat": 4,
 "nbformat_minor": 5
}
