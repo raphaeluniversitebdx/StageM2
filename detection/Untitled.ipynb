{
 "cells": [
  {
   "cell_type": "code",
   "execution_count": 1,
   "id": "38e8fb09",
   "metadata": {},
   "outputs": [],
   "source": [
    "import os\n",
    "import napari\n",
    "import tifffile\n",
    "import numpy as np\n",
    "import matplotlib.pyplot as plt\n",
    "\n",
    "import bigfish\n",
    "import bigfish.plot as plot\n",
    "import bigfish.stack as stack\n",
    "import bigfish.detection as detection\n",
    "import bigfish.multistack as multistack\n",
    "\n",
    "from copy import deepcopy\n",
    "from dask.array.image import imread as imr\n",
    "from bigfish.detection.utils import get_object_radius_pixel\n",
    "from buildReferenceSpot import buildReferenceSpotFromImages\n",
    "from runBigfishDetection import getSpotAndClusters, saveSpotsNPZ, reorderZstack, getSpotAndClusters_multi"
   ]
  },
  {
   "cell_type": "code",
   "execution_count": 2,
   "id": "67e9e6b9",
   "metadata": {},
   "outputs": [],
   "source": [
    "from order_spot import * \n",
    "\n",
    "import sys \n",
    "\n",
    "sys.path.append('/media/raphael/data/works/notebooks/notebook_scripts_perso/full_pipeline_perso/')\n",
    "from follow_cells import *"
   ]
  },
  {
   "cell_type": "code",
   "execution_count": 3,
   "id": "23080cb0",
   "metadata": {},
   "outputs": [],
   "source": [
    "homeFolder = '/media/raphael/data/works/20231220_C3_14_2h_ofON/bleach_correction/w_background/'\n",
    "nameKey = 'C3.14_ON_01_w1SPI-488_s'\n",
    "\n",
    "imsQ = '4'\n",
    "cellNumber = '33'\n",
    "nucleiStackForm = nameKey+imsQ+\"_cell_\"\n",
    "\n",
    "pathToTimeSequenceFullView = homeFolder+nameKey+imsQ+'/*.tif'\n",
    "cell_Crop_Folder = homeFolder+nameKey+imsQ+'/cell_'+str(cellNumber)+'/'\n",
    "pathToTimeSequenceCell = homeFolder+nameKey+imsQ+'/cell_'+str(cellNumber)+'/*.tif'\n",
    "\n",
    "\n",
    "sequenceCell = imr(pathToTimeSequenceCell)\n",
    "sequenceCell = sequenceCell\n",
    "mipSequenceCell = np.max(sequenceCell, axis=1)\n",
    "MaxTimePoint = sequenceCell.shape[0]"
   ]
  },
  {
   "cell_type": "code",
   "execution_count": 4,
   "id": "38481d4e",
   "metadata": {},
   "outputs": [
    {
     "data": {
      "text/plain": [
       "(120, 36, 156, 161)"
      ]
     },
     "execution_count": 4,
     "metadata": {},
     "output_type": "execute_result"
    }
   ],
   "source": [
    "pathToTimeSequenceMask = homeFolder+nameKey+imsQ+'/mask_'+str(cellNumber)+'/*.tif'\n",
    "mask = imr(pathToTimeSequenceMask)\n",
    "\n",
    "mipSequenceMask= np.max(mask, axis=1)\n",
    "mask.shape"
   ]
  },
  {
   "cell_type": "code",
   "execution_count": 5,
   "id": "090d8a39",
   "metadata": {},
   "outputs": [
    {
     "name": "stdout",
     "output_type": "stream",
     "text": [
      "Saving frame |████████████████████████████████████████| 120/120 [100%] in 12.6s \n"
     ]
    }
   ],
   "source": [
    "masked = get_cells_from_3D_stack_v2(sequenceCell,mask,33)\n",
    "save_cells(masked, homeFolder, nameKey, imsQ,'diapo', cellNumber=33)"
   ]
  },
  {
   "cell_type": "code",
   "execution_count": null,
   "id": "4acca9e3",
   "metadata": {},
   "outputs": [],
   "source": []
  }
 ],
 "metadata": {
  "kernelspec": {
   "display_name": "Python 3 (ipykernel)",
   "language": "python",
   "name": "python3"
  },
  "language_info": {
   "codemirror_mode": {
    "name": "ipython",
    "version": 3
   },
   "file_extension": ".py",
   "mimetype": "text/x-python",
   "name": "python",
   "nbconvert_exporter": "python",
   "pygments_lexer": "ipython3",
   "version": "3.9.18"
  }
 },
 "nbformat": 4,
 "nbformat_minor": 5
}
