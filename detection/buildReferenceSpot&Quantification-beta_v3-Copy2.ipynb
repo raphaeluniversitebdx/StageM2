{
 "cells": [
  {
   "cell_type": "markdown",
   "id": "c0cc3753",
   "metadata": {},
   "source": [
    "## Import necessary python modules"
   ]
  },
  {
   "cell_type": "code",
   "execution_count": 1,
   "id": "9d089cf9",
   "metadata": {},
   "outputs": [],
   "source": [
    "import os\n",
    "import napari\n",
    "import tifffile\n",
    "import numpy as np\n",
    "import matplotlib.pyplot as plt\n",
    "\n",
    "import bigfish\n",
    "import bigfish.plot as plot\n",
    "import bigfish.stack as stack\n",
    "import bigfish.detection as detection\n",
    "import bigfish.multistack as multistack\n",
    "\n",
    "from copy import deepcopy\n",
    "from dask.array.image import imread as imr\n",
    "from bigfish.detection.utils import get_object_radius_pixel\n",
    "from buildReferenceSpot import buildReferenceSpotFromImages\n",
    "from runBigfishDetection import getSpotAndClusters, saveSpotsNPZ, reorderZstack, getSpotAndClusters_multi"
   ]
  },
  {
   "cell_type": "code",
   "execution_count": 2,
   "id": "fec928ef",
   "metadata": {},
   "outputs": [],
   "source": [
    "from order_spot import * "
   ]
  },
  {
   "cell_type": "code",
   "execution_count": 3,
   "id": "26c1f6ec",
   "metadata": {},
   "outputs": [],
   "source": [
    "import dask.array as da\n",
    "def verify_array(labels):\n",
    "    '''\n",
    "    Convert labels to numpy array\n",
    "    '''\n",
    "    if not isinstance(labels, np.ndarray):\n",
    "\n",
    "        if isinstance(labels,list):\n",
    "            labels = np.array(labels)\n",
    "\n",
    "        if isinstance(labels, da.core.Array):\n",
    "            labels = labels.compute()\n",
    "\n",
    "    return labels\n",
    "\n",
    "\n",
    "def generate_background(movie_frame, background_signal,min_val, max_val):\n",
    "    \n",
    "    '''\n",
    "    This function generate background for cells image according to a list of background signals \n",
    "    '''\n",
    "    res =[]\n",
    "    movie_frame=verify_array(movie_frame)\n",
    "    \n",
    "    aleatoire = np.random.uniform(min_val,max_val,movie_frame.shape)\n",
    "    res=np.where(movie_frame==background_signal, aleatoire,movie_frame)\n",
    "\n",
    "    return res "
   ]
  },
  {
   "cell_type": "markdown",
   "id": "ef74aefd",
   "metadata": {},
   "source": [
    "## Specify Input and Output folders, identifiers"
   ]
  },
  {
   "cell_type": "code",
   "execution_count": 4,
   "id": "eb637701-79c5-46d0-9e46-04a4c46986e2",
   "metadata": {},
   "outputs": [],
   "source": [
    "homeFolder = '/media/raphael/data/works/20231220_C3_14_2h_ofON/bleach_correction/expo/'\n",
    "nameKey = 'C3.14_ON_01_w1SPI-488_s'\n",
    "\n",
    "imsQ = '4'\n",
    "cellNumber = '54'\n",
    "nucleiStackForm = nameKey+imsQ+\"_cell_\"\n",
    "\n",
    "pathToTimeSequenceFullView = homeFolder+nameKey+imsQ+'/*.tif'\n",
    "cell_Crop_Folder = homeFolder+nameKey+imsQ+'/cell_'+str(cellNumber)+'/'\n",
    "pathToTimeSequenceCell = homeFolder+nameKey+imsQ+'/cell_'+str(cellNumber)+'/*.tif'\n",
    "\n",
    "\n",
    "sequenceCell = imr(pathToTimeSequenceCell)\n",
    "sequenceCell = generate_background(sequenceCell,0,100,160)\n",
    "mipSequenceCell = np.max(sequenceCell, axis=1)\n",
    "MaxTimePoint = sequenceCell.shape[0]"
   ]
  },
  {
   "cell_type": "markdown",
   "id": "a6823fdb",
   "metadata": {},
   "source": [
    "## Specify voxel and object size"
   ]
  },
  {
   "cell_type": "code",
   "execution_count": 5,
   "id": "92e6c86b",
   "metadata": {},
   "outputs": [],
   "source": [
    "voxelRadius = (700, 110, 110) # in nanometers\n",
    "objectRadius = (700, 105, 105) # in nanometers"
   ]
  },
  {
   "cell_type": "code",
   "execution_count": 6,
   "id": "72a94eaa",
   "metadata": {},
   "outputs": [],
   "source": [
    "alpha = 0.9\n",
    "\n",
    "beta = 2\n",
    "gamma = 15"
   ]
  },
  {
   "cell_type": "markdown",
   "id": "f8a25dd7",
   "metadata": {},
   "source": [
    "## Choose detection threshold"
   ]
  },
  {
   "cell_type": "code",
   "execution_count": 7,
   "id": "9414caf2",
   "metadata": {},
   "outputs": [
    {
     "name": "stdout",
     "output_type": "stream",
     "text": [
      "Enter your selected threshold: 45\n"
     ]
    }
   ],
   "source": [
    "selectedThreshold = int(input(\"Enter your selected threshold: \"))"
   ]
  },
  {
   "cell_type": "code",
   "execution_count": 8,
   "id": "dde2e68a",
   "metadata": {},
   "outputs": [
    {
     "name": "stdout",
     "output_type": "stream",
     "text": [
      "Enter your min Frame: 1\n"
     ]
    }
   ],
   "source": [
    "minFrame = int(input(\"Enter your min Frame: \"))\n",
    "#minFrame = minFrame "
   ]
  },
  {
   "cell_type": "code",
   "execution_count": 9,
   "id": "d01607a9",
   "metadata": {},
   "outputs": [
    {
     "name": "stdout",
     "output_type": "stream",
     "text": [
      "Enter your max Frame: 120\n"
     ]
    }
   ],
   "source": [
    "maxFrame = int(input(\"Enter your max Frame: \"))\n",
    "maxFrame = maxFrame + 1 "
   ]
  },
  {
   "cell_type": "markdown",
   "id": "e60c6804",
   "metadata": {},
   "source": [
    "### Compute list of threshold "
   ]
  },
  {
   "cell_type": "markdown",
   "id": "31d78382",
   "metadata": {},
   "source": [
    "## Get a list of spots detected using the threshold specified in previous step"
   ]
  },
  {
   "cell_type": "markdown",
   "id": "3233ae96",
   "metadata": {},
   "source": [
    "Voire graphe du notebook 4 bleaching correction\n",
    "\n",
    "Toutes les frames ne suivent pas la meme allure avec des images bcp moins intense que l'autre d'une frame a l'autre besoin de ponderer le threshold en fonction d'une moyenne generale et d'une liste de moyenne en fonction des frames \n",
    "\n",
    "if mean_frame < moy_gen :\n",
    "    abaisser le threshold\n",
    "elid mean_frame > moy_gen :\n",
    "    augmenter le threshold\n",
    "    \n",
    "else : \n",
    "    conserver threshold \n",
    "    \n",
    "Ou possibilite d'appliquer ce principe a une difference de pourcentage d'une frame a l'autre "
   ]
  },
  {
   "cell_type": "code",
   "execution_count": 10,
   "id": "da8b11f2",
   "metadata": {},
   "outputs": [
    {
     "name": "stdout",
     "output_type": "stream",
     "text": [
      "Total number of images : 120\n"
     ]
    }
   ],
   "source": [
    "images=[]    \n",
    "spots_list=[]\n",
    "\n",
    "spot_radius_px = detection.get_object_radius_pixel(\n",
    "    voxel_size_nm=voxelRadius, \n",
    "    object_radius_nm=objectRadius, \n",
    "    ndim=3)\n",
    "\n",
    "for t in range(minFrame,maxFrame,1):\n",
    "\n",
    "    path = os.path.join(cell_Crop_Folder, nucleiStackForm+str(cellNumber)+'_t'+str(f\"{t:03}\")+\".tif\")\n",
    "    rna = stack.read_image(path)\n",
    "    images.append(rna)\n",
    "\n",
    "images =  generate_background(images,0,100,160)\n",
    "images.tolist()\n",
    "\n",
    "n=len(images)\n",
    "print(\"Total number of images : \"+str(n))\n",
    "\n",
    "selectedThreshold_loop = selectedThreshold\n",
    "\n",
    "for rna in images:\n",
    "    try : \n",
    "        # LoG filter\n",
    "        rna_log = stack.log_filter(rna, sigma=spot_radius_px)\n",
    "    \n",
    "        # local maximum detection\n",
    "        mask = detection.local_maximum_detection(rna_log, min_distance=spot_radius_px)\n",
    "    \n",
    "        # thresholding\n",
    "        threshold = detection.automated_threshold_setting(rna_log, mask)\n",
    "        \n",
    "        selectedThreshold_loop = (selectedThreshold_loop) #*((100+var_list[i])/100) \n",
    "        #print(selectedThreshold_loop)\n",
    "        spots_, _ = detection.spots_thresholding(rna_log, mask, float(selectedThreshold_loop))\n",
    "        spots_list.append(spots_)\n",
    "    except IndexError as e: \n",
    "        spots_, _ = detection.spots_thresholding(rna_log, mask, float(selectedThreshold))\n",
    "        spots_list.append(spots_)\n",
    "        print('Done')\n",
    "        break "
   ]
  },
  {
   "cell_type": "code",
   "execution_count": null,
   "id": "841a74b3",
   "metadata": {},
   "outputs": [],
   "source": [
    "images.tolist()"
   ]
  },
  {
   "cell_type": "markdown",
   "id": "46415d37",
   "metadata": {},
   "source": [
    "## Build reference spot"
   ]
  },
  {
   "cell_type": "code",
   "execution_count": null,
   "id": "53e4aab3",
   "metadata": {},
   "outputs": [],
   "source": [
    "reference_spot = buildReferenceSpotFromImages(images, spots_list, alpha=alpha, gamma=5, voxelSize=voxelRadius, objectSize=objectRadius)\n",
    "%matplotlib inline\n",
    "plt.figure(num=3,figsize=(3,3))\n",
    "plt.imshow(np.max(reference_spot, axis=0))\n",
    "refSpot = deepcopy(reference_spot)"
   ]
  },
  {
   "cell_type": "markdown",
   "id": "dc2a526d",
   "metadata": {},
   "source": [
    "## Perform spot and cluster detection for all frames"
   ]
  },
  {
   "cell_type": "code",
   "execution_count": null,
   "id": "494c3826",
   "metadata": {
    "scrolled": true
   },
   "outputs": [],
   "source": [
    "spotsFrame, clustersFrames, ThresholdFrames = getSpotAndClusters(images, \n",
    "                                                                 reference_spot, \n",
    "                                                                 cellnumber=cellNumber, \n",
    "                                                                 startTime=minFrame-1,\n",
    "                                                                 stopTime=maxFrame-1,\n",
    "                                                                 thresholdManual=selectedThreshold, \n",
    "                                                                 beta=beta, #2\n",
    "                                                                 gamma=gamma, #15 \n",
    "                                                                 numberOfSpots=2,\n",
    "                                                                 radiusCluster=400, \n",
    "                                                                 voxelSize=voxelRadius, \n",
    "                                                                 objectSize=objectRadius,\n",
    "                                                                 extensionMov='.tif')"
   ]
  },
  {
   "cell_type": "code",
   "execution_count": null,
   "id": "4ca60281",
   "metadata": {},
   "outputs": [],
   "source": [
    "def sort_clustersFrames(clustersFrames,mipSequenceCell,threshold,perc=1):\n",
    "    '''This function sort a list of numpy array according to a threshold corresponding to the intensity of the mipSequenceCell's pixels \n",
    "    '''\n",
    "\n",
    "    clustersFrames_cp = deepcopy(clustersFrames)\n",
    "    res = []\n",
    "    i = 0 \n",
    "    with alive_bar(len(clustersFrames_cp), title = \"sort cluster frame\",force_tty=True) as bar : \n",
    "        for frames in clustersFrames_cp: \n",
    "            tmp = []\n",
    "            tmp_res = []\n",
    "            for cand in frames :\n",
    "                y = cand[1]\n",
    "                x = cand[2]\n",
    "                \n",
    "                test = np.array(mipSequenceCell[i][y:y+1, x:x+1])\n",
    "                \n",
    "                val = test[0][0]\n",
    "                #if val < threshold: \n",
    "                    #print(val)\n",
    "                tmp.append(val) \n",
    "            #print(i, np.array(tmp))\n",
    "            \n",
    "            \n",
    "            try : \n",
    "                if max(tmp)<threshold:\n",
    "                    res.append([np.zeros(5)])\n",
    "                    \n",
    "                else : \n",
    "                    # print('i = ', i,'len frames = ', int(len(frames)*perc))\n",
    "                    for j in range(0,int(len(frames)*perc)):\n",
    "                        index_max = tmp.index(max(tmp)) #index of most intense point of images \n",
    "                        fmax = deepcopy(frames[index_max]) # get corresponding clusters coordinates \n",
    "                        cp = compare_array(fmax,tmp_res)\n",
    "\n",
    "                        #print(i,j, fmax, frames, index_max)\n",
    "                        if np.any(cp)!= True :\n",
    "                            #print(\"!= True\")\n",
    "                            tmp_res.append(fmax)\n",
    "                        tmp.pop(index_max) # pop max point \n",
    "                        \n",
    "                        \n",
    "                        frames = frames.tolist()\n",
    "                        frames.pop(index_max) # pop corresponding clusters \n",
    "                        frames = np.array(frames)\n",
    "                        #print('after \\n ', frames)\n",
    "                    res.append(tmp_res)\n",
    "            except ValueError as e : \n",
    "                #print(i, tmp, test)\n",
    "                print(e)\n",
    "                res.append([np.zeros(5)])\n",
    "            time.sleep(0.1)\n",
    "            bar()\n",
    "            i = i+1 \n",
    "        return res "
   ]
  },
  {
   "cell_type": "code",
   "execution_count": null,
   "id": "06201534",
   "metadata": {
    "scrolled": true
   },
   "outputs": [],
   "source": [
    "a = sort_clustersFrames(clustersFrames,mipSequenceCell,400,perc=1)"
   ]
  },
  {
   "cell_type": "code",
   "execution_count": null,
   "id": "f203b945",
   "metadata": {},
   "outputs": [],
   "source": [
    "clustersFrames[11]"
   ]
  },
  {
   "cell_type": "code",
   "execution_count": null,
   "id": "68d68184",
   "metadata": {},
   "outputs": [],
   "source": [
    "a[11]"
   ]
  },
  {
   "cell_type": "markdown",
   "id": "865ddd26",
   "metadata": {},
   "source": [
    "## Correct clusters position if needed "
   ]
  },
  {
   "cell_type": "code",
   "execution_count": null,
   "id": "fa0ef200",
   "metadata": {},
   "outputs": [],
   "source": [
    "#a[2] = move_sorted_clustersFrames(a[2], np.array(a[2][1]), 0) #position 1 \n"
   ]
  },
  {
   "cell_type": "markdown",
   "id": "cb2379b1",
   "metadata": {},
   "source": [
    "## Merge clusters "
   ]
  },
  {
   "cell_type": "code",
   "execution_count": null,
   "id": "dae1a7e9",
   "metadata": {},
   "outputs": [],
   "source": [
    "def merge_clusters_framev2(res,mipSequenceCell,diff,perc=0.5):\n",
    "    '''\n",
    "    This function compute coordinate of clusters Frame with the compatible neighboor to get a better quantification \n",
    "    '''\n",
    "    # prendre en compte \n",
    "    res2 = deepcopy(res)\n",
    "    p = 0\n",
    "    i=0\n",
    "    new_clusters_frames = []\n",
    "    diff2 = diff * (1+(1/3))\n",
    "    \n",
    "    for frames in res2 :\n",
    "        tc = frames[0]\n",
    "        tmp = [tc]\n",
    "        \n",
    "        threshold = np.array(mipSequenceCell[i][tc[1]][tc[2]])*perc\n",
    "        #print(i, threshold)\n",
    "        for cluster in frames[1:]:\n",
    "            # define tests in 3 dimensions\n",
    "            test_z = tc[0] - cluster[0]\n",
    "            test_y = tc[1] - cluster[1]\n",
    "            test_x = tc[2] - cluster[2]\n",
    "\n",
    "            # define test on intensity \n",
    "            test_array_a = np.array(mipSequenceCell[i][cluster[1]][cluster[2]])\n",
    "            test_array_b =  np.array(mipSequenceCell[i][tc[1]][tc[2]])\n",
    "            test_array =  int(test_array_a) - int(test_array_b) \n",
    "\n",
    "            if -diff <=test_y <= diff and -diff <=test_x <= diff and -diff <= test_z <= diff :\n",
    "                if -threshold <= test_array <= +threshold : \n",
    "                    tmp.append(cluster)\n",
    "                    \n",
    "        \n",
    "        for t in tmp[1:] :\n",
    "            #average the coordinate of the clusters \n",
    "            tc[0] = (tc[0]+t[0])/2 \n",
    "            tc[1] = (tc[1]+t[1])/2\n",
    "            tc[2] = (tc[2]+t[2])/2\n",
    "\n",
    "            # sum of the molecules \n",
    "            tc[3] = tc[3] + t[3]\n",
    "        i=i+1\n",
    "        new_clusters_frames.append([tc])\n",
    "    return new_clusters_frames"
   ]
  },
  {
   "cell_type": "code",
   "execution_count": null,
   "id": "8eacdd43",
   "metadata": {},
   "outputs": [],
   "source": [
    "b = merge_clusters_framev2(a,mipSequenceCell,diff=5)"
   ]
  },
  {
   "cell_type": "code",
   "execution_count": null,
   "id": "48c33ace",
   "metadata": {},
   "outputs": [],
   "source": [
    "c = create_index2(b)    "
   ]
  },
  {
   "cell_type": "code",
   "execution_count": null,
   "id": "bb4b195b",
   "metadata": {},
   "outputs": [],
   "source": [
    "c"
   ]
  },
  {
   "cell_type": "markdown",
   "id": "04d62622",
   "metadata": {},
   "source": [
    "## Save detection results to be used later"
   ]
  },
  {
   "cell_type": "code",
   "execution_count": null,
   "id": "f11018f0",
   "metadata": {},
   "outputs": [],
   "source": [
    "saveSpotsNPZ(np.array(spotsFrame, dtype=object), \n",
    "             np.array(clustersFrames, dtype=object), \n",
    "             np.array(ThresholdFrames, dtype=object), \n",
    "             cellNumber, \n",
    "             cell_Crop_Folder, \n",
    "             reference_spot,\n",
    "             threshold = selectedThreshold\n",
    "             ) \n"
   ]
  },
  {
   "cell_type": "markdown",
   "id": "cf74116e",
   "metadata": {},
   "source": [
    "## Visualise detection results"
   ]
  },
  {
   "cell_type": "code",
   "execution_count": null,
   "id": "79671cd8",
   "metadata": {},
   "outputs": [],
   "source": [
    "def getDetectedPointsForFrame(pts_coordinates, frameNumer):\n",
    "    sd = np.shape(pts_coordinates[frameNumer][:])\n",
    "    pts_coords = np.empty([sd[0],sd[1]-1])\n",
    "    for ii in range(np.shape(pts_coordinates[frameNumer][:])[0]):\n",
    "        pts_coords[ii,:] = pts_coordinates[frameNumer][ii][1:]\n",
    "    return pts_coords\n",
    "\n",
    "def getDetectedClustersForFrame(pts_coordinates, frameNumer):\n",
    "    sd = np.shape(pts_coordinates[frameNumer][:])\n",
    "    pts_coords = np.empty([sd[0],sd[1]-3])\n",
    "    for ii in range(np.shape(pts_coordinates[frameNumer][:])[0]):\n",
    "        pts_coords[ii,:] = pts_coordinates[frameNumer][ii][1:3]\n",
    "    return pts_coords\n",
    "\n",
    "def set_pts_features(pts_layer, cls_layer, pts_coordinates, cluster_coordinate, step): #TxLayer\n",
    "    # step is a 4D coordinate with the current slider position for each dim\n",
    "    frameNumber = step[0]  # grab the leading (\"time\") coordinate\n",
    "    pts_layer.data = getDetectedPointsForFrame(pts_coordinates,frameNumber)\n",
    "    cls_layer.data = getDetectedClustersForFrame(cluster_coordinate,frameNumber)\n",
    "\n",
    "\n",
    "pts_coordinates = spotsFrame\n",
    "cluster_coordinate = c\n",
    "\n",
    "viewer = napari.Viewer()\n",
    "image_layer = viewer.add_image(\n",
    "        mipSequenceCell, colormap='green' #maxImageCell\n",
    "        )\n",
    "if image_layer.data.ndim == 4:\n",
    "    bigfishSpots = spotsFrame\n",
    "elif image_layer.data.ndim == 3:\n",
    "    bigfishSpots = getDetectedPointsForFrame(pts_coordinates,int(np.shape(mipSequenceCell)[0]/2))\n",
    "    \n",
    "bigfish_Spots = viewer.add_points(\n",
    "        getDetectedPointsForFrame(pts_coordinates,int(np.shape(mipSequenceCell)[0]/2)-1),\n",
    "        face_color='#00000000',\n",
    "        size=4,\n",
    "        edge_width=0.3,\n",
    "        edge_width_is_relative=False,\n",
    "        edge_color='white',\n",
    "        name = 'bigFish Detected Spots'\n",
    "        )\n",
    "\n",
    "bigfish_clusters = viewer.add_points(\n",
    "        getDetectedClustersForFrame(cluster_coordinate,int(np.shape(mipSequenceCell)[0]/2)-1),\n",
    "        face_color='#00000000',\n",
    "        size=8,\n",
    "        edge_width=0.3,\n",
    "        edge_width_is_relative=False,\n",
    "        edge_color='red',\n",
    "        symbol='diamond',\n",
    "        name = 'bigFish Clusters'\n",
    "        )\n",
    "\n",
    "\n",
    "viewer.dims.events.current_step.connect(\n",
    "        lambda event: set_pts_features(bigfish_Spots, bigfish_clusters, pts_coordinates, cluster_coordinate, event.value)\n",
    "        )\n",
    "\n"
   ]
  },
  {
   "cell_type": "markdown",
   "id": "e4910681-94e0-4f30-aa84-f2f86db476da",
   "metadata": {},
   "source": [
    "# Save clusters frame in csv "
   ]
  },
  {
   "cell_type": "code",
   "execution_count": null,
   "id": "95c00fd7",
   "metadata": {},
   "outputs": [],
   "source": [
    "b = np.concatenate(c)\n",
    "savepath = homeFolder+nameKey+imsQ + '/' + nameKey + imsQ + '_TS' +'_cell_' + cellNumber + '_fusionv2_bleach_correction'+  str(alpha) +'_' + str(beta) + '_' + str(gamma) + '_thres_' + str(selectedThreshold) + '.csv'"
   ]
  },
  {
   "cell_type": "code",
   "execution_count": null,
   "id": "6d1a8f3f-8b26-40b2-b7b3-cf31fbec5374",
   "metadata": {},
   "outputs": [],
   "source": [
    "entete = ['z','y','x','n_molecule','index']"
   ]
  },
  {
   "cell_type": "markdown",
   "id": "49e23580",
   "metadata": {},
   "source": [
    "import csv \n",
    "\n",
    "with open(savepath, 'w', newline='') as csv_file :\n",
    "    writer = csv.writer(csv_file)\n",
    "    writer.writerow(entete)\n",
    "    writer.writerows(b)"
   ]
  },
  {
   "cell_type": "code",
   "execution_count": null,
   "id": "c915d693",
   "metadata": {},
   "outputs": [],
   "source": [
    "import session_info\n",
    "session_info.show()"
   ]
  },
  {
   "cell_type": "code",
   "execution_count": null,
   "id": "447af5ca",
   "metadata": {},
   "outputs": [],
   "source": []
  }
 ],
 "metadata": {
  "kernelspec": {
   "display_name": "Python 3 (ipykernel)",
   "language": "python",
   "name": "python3"
  },
  "language_info": {
   "codemirror_mode": {
    "name": "ipython",
    "version": 3
   },
   "file_extension": ".py",
   "mimetype": "text/x-python",
   "name": "python",
   "nbconvert_exporter": "python",
   "pygments_lexer": "ipython3",
   "version": "3.9.18"
  }
 },
 "nbformat": 4,
 "nbformat_minor": 5
}
