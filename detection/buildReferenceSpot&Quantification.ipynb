{
 "cells": [
  {
   "cell_type": "markdown",
   "id": "c0cc3753",
   "metadata": {},
   "source": [
    "## Import necessary python modules"
   ]
  },
  {
   "cell_type": "code",
   "execution_count": 1,
   "id": "9d089cf9",
   "metadata": {},
   "outputs": [],
   "source": [
    "import os\n",
    "import napari\n",
    "import tifffile\n",
    "import numpy as np\n",
    "import matplotlib.pyplot as plt\n",
    "\n",
    "import bigfish\n",
    "import bigfish.plot as plot\n",
    "import bigfish.stack as stack\n",
    "import bigfish.detection as detection\n",
    "import bigfish.multistack as multistack\n",
    "\n",
    "from copy import deepcopy\n",
    "from dask.array.image import imread as imr\n",
    "from bigfish.detection.utils import get_object_radius_pixel\n",
    "from buildReferenceSpot import buildReferenceSpotFromImages\n",
    "from runBigfishDetection import getSpotAndClusters, saveSpotsNPZ, reorderZstack"
   ]
  },
  {
   "cell_type": "markdown",
   "id": "ef74aefd",
   "metadata": {},
   "source": [
    "## Specify Input and Output folders, identifiers"
   ]
  },
  {
   "cell_type": "code",
   "execution_count": 2,
   "id": "eb637701-79c5-46d0-9e46-04a4c46986e2",
   "metadata": {},
   "outputs": [],
   "source": [
    "homeFolder = '/media/raphael/data/works/test_bigfish_live_data/'\n",
    "nameKey = 'c3_21_c3_45_ON_1_w1SPI-488_s'\n",
    "\n",
    "imsQ = '3'\n",
    "cellNumber = '10'\n",
    "\n",
    "nucleiStackForm = nameKey+imsQ+\"_cell_\"\n",
    "\n",
    "pathToTimeSequenceFullView = homeFolder+nameKey+imsQ+'/*.tif'\n",
    "cell_Crop_Folder = homeFolder+nameKey+imsQ+'/cell_'+str(cellNumber)+'/'\n",
    "pathToTimeSequenceCell = homeFolder+nameKey+imsQ+'/cell_'+str(cellNumber)+'/*.tif'\n",
    "\n",
    "\n",
    "sequenceCell = imr(pathToTimeSequenceCell)\n",
    "mipSequenceCell = np.max(sequenceCell, axis=1)\n",
    "MaxTimePoint = sequenceCell.shape[0]"
   ]
  },
  {
   "cell_type": "code",
   "execution_count": 3,
   "id": "c1c17acb",
   "metadata": {},
   "outputs": [
    {
     "data": {
      "text/plain": [
       "(123, 147, 147)"
      ]
     },
     "execution_count": 3,
     "metadata": {},
     "output_type": "execute_result"
    }
   ],
   "source": [
    "mipSequenceCell.shape"
   ]
  },
  {
   "cell_type": "markdown",
   "id": "a6823fdb",
   "metadata": {},
   "source": [
    "## Specify voxel and object size"
   ]
  },
  {
   "cell_type": "code",
   "execution_count": 4,
   "id": "92e6c86b",
   "metadata": {},
   "outputs": [],
   "source": [
    "voxelRadius = (600, 121, 121) # in nanometers\n",
    "objectRadius = (600, 105, 105) # in nanometers"
   ]
  },
  {
   "cell_type": "code",
   "execution_count": 5,
   "id": "8fd3984e",
   "metadata": {},
   "outputs": [],
   "source": [
    "# Save Maximum Intensity Projection of the cell movie\n",
    "\n",
    "maxProjSavePath = homeFolder+nameKey+imsQ+'/'\n",
    "with tifffile.TiffWriter(maxProjSavePath+'MAX_cell'+cellNumber+'.tif', imagej=True) as tif:\n",
    "    tif.write(mipSequenceCell)"
   ]
  },
  {
   "cell_type": "markdown",
   "id": "f8a25dd7",
   "metadata": {},
   "source": [
    "## Choose detection threshold"
   ]
  },
  {
   "cell_type": "code",
   "execution_count": 6,
   "id": "9414caf2",
   "metadata": {},
   "outputs": [
    {
     "name": "stdout",
     "output_type": "stream",
     "text": [
      "Enter your selected threshold: 60\n"
     ]
    }
   ],
   "source": [
    "selectedThreshold = int(input(\"Enter your selected threshold: \"))"
   ]
  },
  {
   "cell_type": "markdown",
   "id": "31d78382",
   "metadata": {},
   "source": [
    "## Get a list of spots detected using the threshold specified in previous step"
   ]
  },
  {
   "cell_type": "code",
   "execution_count": 7,
   "id": "da8b11f2",
   "metadata": {},
   "outputs": [
    {
     "name": "stdout",
     "output_type": "stream",
     "text": [
      "Total number of images : 123\n"
     ]
    },
    {
     "name": "stderr",
     "output_type": "stream",
     "text": [
      "/home/raphael/miniconda3/envs/bigfishlive/lib/python3.9/site-packages/bigfish/detection/spot_detection.py:586: RuntimeWarning: divide by zero encountered in log\n",
      "  count_spots = np.log([np.count_nonzero(value_spots > t)\n"
     ]
    }
   ],
   "source": [
    "images=[]    \n",
    "spots_list=[]\n",
    "\n",
    "spot_radius_px = detection.get_object_radius_pixel(\n",
    "    voxel_size_nm=voxelRadius, \n",
    "    object_radius_nm=objectRadius, \n",
    "    ndim=3)\n",
    "\n",
    "for t in range(1,124,1):\n",
    "\n",
    "    path = os.path.join(cell_Crop_Folder, nucleiStackForm+str(cellNumber)+'_t'+str(f\"{t:03}\")+\".tif\")\n",
    "    rna = stack.read_image(path)\n",
    "    images.append(rna)\n",
    "\n",
    "n=len(images)\n",
    "print(\"Total number of images : \"+str(n))\n",
    "\n",
    "for rna in images:\n",
    "    # LoG filter\n",
    "    rna_log = stack.log_filter(rna, sigma=spot_radius_px)\n",
    "\n",
    "    # local maximum detection\n",
    "    mask = detection.local_maximum_detection(rna_log, min_distance=spot_radius_px)\n",
    "\n",
    "    # thresholding\n",
    "    threshold = detection.automated_threshold_setting(rna_log, mask)\n",
    "    spots_, _ = detection.spots_thresholding(rna_log, mask, float(selectedThreshold))\n",
    "    spots_list.append(spots_)\n"
   ]
  },
  {
   "cell_type": "markdown",
   "id": "46415d37",
   "metadata": {},
   "source": [
    "## Build reference spot"
   ]
  },
  {
   "cell_type": "code",
   "execution_count": 8,
   "id": "53e4aab3",
   "metadata": {},
   "outputs": [
    {
     "name": "stdout",
     "output_type": "stream",
     "text": [
      "image list found!\n",
      "Found 25769\n",
      "Found 25769 spots, max intensity = 195\n"
     ]
    },
    {
     "data": {
      "image/png": "[encoded data removed]",
      "text/plain": [
       "<Figure size 300x300 with 1 Axes>"
      ]
     },
     "metadata": {},
     "output_type": "display_data"
    }
   ],
   "source": [
    "reference_spot = buildReferenceSpotFromImages(images, spots_list, alpha=0.5, gamma=5, voxelSize=voxelRadius, objectSize=objectRadius)\n",
    "%matplotlib inline\n",
    "plt.figure(num=3,figsize=(3,3))\n",
    "plt.imshow(np.max(reference_spot, axis=0))\n",
    "refSpot = deepcopy(reference_spot)"
   ]
  },
  {
   "cell_type": "markdown",
   "id": "dc2a526d",
   "metadata": {},
   "source": [
    "## Perform spot and cluster detection for all frames"
   ]
  },
  {
   "cell_type": "code",
   "execution_count": 9,
   "id": "494c3826",
   "metadata": {
    "scrolled": true
   },
   "outputs": [
    {
     "name": "stdout",
     "output_type": "stream",
     "text": [
      "1\n",
      "2\n",
      "3\n",
      "4\n",
      "5\n",
      "6\n",
      "7\n",
      "8\n",
      "9\n",
      "10\n",
      "11\n",
      "12\n",
      "13\n",
      "14\n",
      "15\n",
      "16\n"
     ]
    },
    {
     "name": "stderr",
     "output_type": "stream",
     "text": [
      "/home/raphael/miniconda3/envs/bigfishlive/lib/python3.9/site-packages/bigfish/detection/spot_detection.py:586: RuntimeWarning: divide by zero encountered in log\n",
      "  count_spots = np.log([np.count_nonzero(value_spots > t)\n"
     ]
    },
    {
     "name": "stdout",
     "output_type": "stream",
     "text": [
      "17\n",
      "18\n",
      "19\n",
      "20\n",
      "21\n",
      "22\n",
      "23\n",
      "24\n",
      "25\n",
      "26\n",
      "27\n",
      "28\n",
      "29\n",
      "30\n",
      "31\n",
      "32\n",
      "33\n",
      "34\n",
      "35\n",
      "36\n"
     ]
    },
    {
     "name": "stderr",
     "output_type": "stream",
     "text": [
      "/home/raphael/miniconda3/envs/bigfishlive/lib/python3.9/site-packages/bigfish/detection/spot_detection.py:586: RuntimeWarning: divide by zero encountered in log\n",
      "  count_spots = np.log([np.count_nonzero(value_spots > t)\n"
     ]
    },
    {
     "name": "stdout",
     "output_type": "stream",
     "text": [
      "37\n",
      "38\n",
      "39\n",
      "40\n",
      "41\n",
      "42\n",
      "43\n",
      "44\n",
      "45\n",
      "46\n",
      "47\n",
      "48\n",
      "49\n",
      "50\n",
      "51\n",
      "52\n",
      "53\n",
      "54\n",
      "55\n",
      "56\n",
      "57\n",
      "58\n",
      "59\n"
     ]
    },
    {
     "name": "stderr",
     "output_type": "stream",
     "text": [
      "/home/raphael/miniconda3/envs/bigfishlive/lib/python3.9/site-packages/bigfish/detection/spot_detection.py:586: RuntimeWarning: divide by zero encountered in log\n",
      "  count_spots = np.log([np.count_nonzero(value_spots > t)\n"
     ]
    },
    {
     "name": "stdout",
     "output_type": "stream",
     "text": [
      "60\n",
      "61\n",
      "62\n",
      "63\n",
      "64\n",
      "65\n",
      "66\n",
      "67\n",
      "68\n",
      "69\n",
      "70\n",
      "71\n",
      "72\n",
      "73\n",
      "74\n",
      "75\n",
      "76\n",
      "77\n",
      "78\n",
      "79\n",
      "80\n",
      "81\n",
      "82\n",
      "83\n",
      "84\n",
      "85\n",
      "86\n",
      "87\n",
      "88\n",
      "89\n",
      "90\n",
      "91\n",
      "92\n",
      "93\n",
      "94\n",
      "95\n",
      "96\n",
      "97\n",
      "98\n",
      "99\n",
      "100\n",
      "101\n",
      "102\n",
      "103\n",
      "104\n",
      "105\n",
      "106\n",
      "107\n",
      "108\n",
      "109\n",
      "110\n",
      "111\n",
      "112\n",
      "113\n",
      "114\n",
      "115\n",
      "116\n",
      "117\n",
      "118\n",
      "119\n",
      "120\n",
      "121\n",
      "122\n",
      "123\n",
      "done!\n"
     ]
    }
   ],
   "source": [
    "spotsFrame, clustersFrames, ThresholdFrames = getSpotAndClusters(cell_Crop_Folder, \n",
    "                                                                 reference_spot, \n",
    "                                                                 cellnumber=cellNumber, \n",
    "                                                                 startTime=1,\n",
    "                                                                 stopTime=124, \n",
    "                                                                 thresholdManual=selectedThreshold, \n",
    "                                                                 beta=1.5, \n",
    "                                                                 gamma=5,\n",
    "                                                                 numberOfSpots=8,\n",
    "                                                                 radiusCluster=700, \n",
    "                                                                 voxelSize=voxelRadius, \n",
    "                                                                 objectSize=objectRadius,\n",
    "                                                                 extensionMov='.tif')"
   ]
  },
  {
   "cell_type": "markdown",
   "id": "04d62622",
   "metadata": {},
   "source": [
    "## Save detection results to be used later"
   ]
  },
  {
   "cell_type": "code",
   "execution_count": 14,
   "id": "3634b45e",
   "metadata": {},
   "outputs": [
    {
     "data": {
      "text/plain": [
       "[array([[28, 29, 66, 21,  0],\n",
       "        [26, 35, 68, 22,  1]]),\n",
       " array([[26, 44, 52, 46,  0]]),\n",
       " array([[27, 30, 66, 23,  0],\n",
       "        [25, 39, 68, 19,  1]]),\n",
       " array([[23, 25, 71, 38,  0]]),\n",
       " array([], shape=(0, 5), dtype=int64),\n",
       " array([[22, 15, 49, 25,  0]]),\n",
       " array([[18, 41, 62, 25,  0]]),\n",
       " array([[20, 40, 49, 13,  0],\n",
       "        [19, 47, 53, 11,  1]]),\n",
       " array([[ 4, 68, 39, 18,  0],\n",
       "        [11, 68, 39, 18,  1],\n",
       "        [13, 68, 38, 17,  2],\n",
       "        [16, 67, 39, 14,  3],\n",
       "        [18, 67, 39, 17,  4],\n",
       "        [21, 67, 39, 13,  5],\n",
       "        [23, 66, 39, 14,  6],\n",
       "        [26, 66, 39, 15,  7],\n",
       "        [28, 66, 40, 15,  8],\n",
       "        [32, 66, 39, 29,  9]]),\n",
       " array([[20, 72, 46, 26,  0]]),\n",
       " array([[18, 70, 44, 27,  0]]),\n",
       " array([[19, 75, 43, 30,  0]]),\n",
       " array([[20, 71, 40, 26,  0]]),\n",
       " array([[20, 60, 56, 29,  0]]),\n",
       " array([[19, 81, 37, 29,  0]]),\n",
       " array([[17, 70, 70, 23,  0]]),\n",
       " array([[19, 77, 38, 27,  0]]),\n",
       " array([[17, 78, 56, 21,  0]]),\n",
       " array([[17, 93, 45, 16,  0]]),\n",
       " array([[18, 92, 42, 26,  0]]),\n",
       " array([[ 20, 100,  48,  12,   0]]),\n",
       " array([[23, 99, 38, 14,  0]]),\n",
       " array([[ 23, 104,  48,  24,   0]]),\n",
       " array([[ 24, 104,  56,  31,   0]]),\n",
       " array([[ 24, 104,  51,  35,   0]]),\n",
       " array([[  7, 105,  50,  13,   0]]),\n",
       " array([[ 22, 100,  51,  18,   0]]),\n",
       " array([[ 21, 104,  51,  26,   0]]),\n",
       " array([[19, 99, 42, 22,  0]]),\n",
       " array([[ 4, 95, 41, 24,  0],\n",
       "        [10, 91, 43, 10,  1],\n",
       "        [12, 91, 43, 12,  2],\n",
       "        [19, 88, 43, 10,  3],\n",
       "        [23, 85, 45, 12,  4],\n",
       "        [29, 85, 44, 11,  5],\n",
       "        [32, 84, 44,  9,  6]]),\n",
       " array([[ 19, 104,  42,   8,   0],\n",
       "        [ 18,  95,  43,   9,   1]]),\n",
       " array([[18, 97, 41, 31,  0]]),\n",
       " array([[16, 84, 49, 12,  0],\n",
       "        [18, 92, 44, 10,  1]]),\n",
       " array([[18, 58, 66, 14,  0],\n",
       "        [19, 60, 59,  9,  1]]),\n",
       " array([[17, 64, 40, 10,  0]]),\n",
       " array([[16, 81, 48,  9,  0]]),\n",
       " array([[16, 67, 47, 11,  0],\n",
       "        [18, 72, 39,  8,  1]]),\n",
       " array([[15, 74, 65,  8,  0]]),\n",
       " array([[15, 75, 61, 15,  0]]),\n",
       " array([[16, 83, 45, 14,  0],\n",
       "        [17, 79, 37,  8,  1]]),\n",
       " array([[15, 91, 55, 16,  0]]),\n",
       " array([[15, 77, 63, 13,  0],\n",
       "        [16, 79, 70,  4,  1]]),\n",
       " array([[17, 94, 47, 18,  0]]),\n",
       " array([[ 18, 101,  51,  25,   0]]),\n",
       " array([[ 19, 104,  55,  23,   0]]),\n",
       " array([[ 16, 101,  50,  13,   0]]),\n",
       " array([[ 19, 105,  56,  15,   0]]),\n",
       " array([[ 21, 111,  57,  12,   0]]),\n",
       " array([[ 24, 107,  50,  14,   0],\n",
       "        [ 24, 110,  57,  10,   1]]),\n",
       " array([[ 24, 103,  54,  14,   0],\n",
       "        [ 25, 107,  58,  14,   1]]),\n",
       " array([[ 25,  98,  56,  20,   0],\n",
       "        [ 26, 101,  66,  12,   1]]),\n",
       " array([[ 23,  98,  45,  20,   0],\n",
       "        [ 23, 102,  56,  21,   1]]),\n",
       " array([[ 20, 108,  57,  16,   0],\n",
       "        [ 22, 103,  48,  20,   1]]),\n",
       " array([[24, 92, 79, 22,  0],\n",
       "        [22, 97, 81, 17,  1]]),\n",
       " array([[ 24, 107,  67,  18,   0],\n",
       "        [ 22, 113,  68,  25,   1]]),\n",
       " array([[ 23, 113,  68,  40,   0]]),\n",
       " array([[ 24, 106,  81,  36,   0]]),\n",
       " array([[ 22, 112,  75,  22,   0],\n",
       "        [ 23, 110,  69,  20,   1]]),\n",
       " array([[ 20, 110,  70,  17,   0],\n",
       "        [ 25,   2, 103,   8,   1]]),\n",
       " array([[ 23, 110,  80,  14,   0],\n",
       "        [ 23, 116,  75,  14,   1]]),\n",
       " array([[24, 89, 94, 40,  0],\n",
       "        [27,  1, 92, 11,  1]]),\n",
       " array([[26, 94, 87, 44,  0]]),\n",
       " array([[24, 85, 95, 21,  0],\n",
       "        [25, 94, 94, 14,  1]]),\n",
       " array([[ 22, 106, 104,  18,   0],\n",
       "        [ 21,  98, 103,  17,   1]]),\n",
       " array([[ 19,  95, 108,  20,   0]]),\n",
       " array([[ 15,  93, 102,  22,   0]]),\n",
       " array([[ 17,  94, 100,  10,   0],\n",
       "        [ 18, 102,  99,   9,   1]]),\n",
       " array([[ 18,  76, 115,  21,   0]]),\n",
       " array([[15, 68, 98, 18,  0]]),\n",
       " array([[16, 83, 97,  9,  0]]),\n",
       " array([[18, 73, 98, 20,  0]]),\n",
       " array([[16, 74, 88, 10,  0]]),\n",
       " array([[16, 70, 84, 19,  0]]),\n",
       " array([[15, 79, 82,  8,  0]]),\n",
       " array([[17, 76, 91, 19,  0]]),\n",
       " array([[15, 68, 81, 14,  0],\n",
       "        [16, 64, 89,  9,  1]]),\n",
       " array([[18, 84, 86, 17,  0],\n",
       "        [20, 79, 91,  9,  1]]),\n",
       " array([[19, 97, 92, 18,  0]]),\n",
       " array([[16, 79, 94, 11,  0]]),\n",
       " array([[19, 89, 97, 15,  0]]),\n",
       " array([[19, 83, 96, 19,  0]]),\n",
       " array([[17, 84, 95, 15,  0]]),\n",
       " array([[19, 78, 99, 18,  0]]),\n",
       " array([[ 18,  78, 101,  13,   0]]),\n",
       " array([[16, 73, 99, 13,  0]]),\n",
       " array([[17, 75, 99, 19,  0]]),\n",
       " array([[16, 71, 95, 10,  0]]),\n",
       " array([[ 17,  65, 101,  12,   0]]),\n",
       " array([], shape=(0, 5), dtype=int64),\n",
       " array([[25, 84, 27,  8,  0],\n",
       "        [27, 72, 57,  9,  1]]),\n",
       " array([[  3,  85, 101,   8,   0],\n",
       "        [  7,  84, 100,   8,   1],\n",
       "        [ 27,  79,  98,   9,   2],\n",
       "        [ 32,  80,  98,   8,   3],\n",
       "        [ 30,  78,  96,   7,   4]]),\n",
       " array([[ 17,  90, 102,  10,   0]]),\n",
       " array([[ 24, 100,  41,   8,   0]]),\n",
       " array([[ 18,  53, 106,  16,   0]]),\n",
       " array([[ 20,  59, 116,  17,   0]]),\n",
       " array([[ 22,  55, 109,  21,   0]]),\n",
       " array([[ 24,  61, 107,  18,   0],\n",
       "        [ 26,  76,  98,   9,   1]]),\n",
       " array([[ 24,  71, 110,  15,   0]]),\n",
       " array([[ 24,  64, 107,  13,   0]]),\n",
       " array([[ 21,  70, 109,  17,   0],\n",
       "        [ 27,  67,  78,   8,   1]]),\n",
       " array([[ 21,  74, 108,  25,   0]]),\n",
       " array([[ 22,  87, 108,  12,   0],\n",
       "        [ 21,  86, 104,  14,   1]]),\n",
       " array([[21, 88, 98, 34,  0]]),\n",
       " array([[ 21,  89,  96,  17,   0],\n",
       "        [ 21,  89, 103,  13,   1]]),\n",
       " array([[ 21,  85, 105,  34,   0],\n",
       "        [ 26,  91,  88,   8,   1]]),\n",
       " array([[ 20,  85, 106,  35,   0]]),\n",
       " array([[ 21,  77, 115,  14,   0],\n",
       "        [ 21,  83, 107,  10,   1]]),\n",
       " array([[ 22,  70, 113,  32,   0],\n",
       "        [ 27,  66,  90,   9,   1]]),\n",
       " array([[ 19,  77, 112,  27,   0],\n",
       "        [ 25,  72,  78,  11,   1]]),\n",
       " array([[ 26,  88,  99,   8,   0],\n",
       "        [ 23,  64, 118,  26,   1],\n",
       "        [ 23,  69, 103,  18,   2]]),\n",
       " array([[ 25,  83,  32,  11,   0],\n",
       "        [ 22,  76, 114,  23,   1],\n",
       "        [ 23,  75, 105,  20,   2]]),\n",
       " array([[ 23,  78, 107,  21,   0],\n",
       "        [ 21,  75, 111,  11,   1]]),\n",
       " array([[ 23,  75, 103,  45,   0]]),\n",
       " array([[ 22,  67, 104,  21,   0],\n",
       "        [ 22,  72, 103,  18,   1],\n",
       "        [ 25, 100,  43,   8,   2]]),\n",
       " array([[ 24,  66, 104,  43,   0],\n",
       "        [ 25,  77, 112,   9,   1],\n",
       "        [ 27,  50,  62,   8,   2]]),\n",
       " array([[25, 70, 99, 50,  0]]),\n",
       " array([[ 24,  53, 100,  37,   0]]),\n",
       " array([[24, 47, 96, 35,  0]]),\n",
       " array([[ 23,  47, 100,  35,   0]]),\n",
       " array([[25, 43, 93, 28,  0]]),\n",
       " array([[26, 46, 85, 46,  0]]),\n",
       " array([[ 24, 103,  68,  13,   0],\n",
       "        [ 25,  43,  92,  42,   1],\n",
       "        [ 25,  81,  57,   9,   2]]),\n",
       " array([[23, 30, 89, 31,  0],\n",
       "        [23, 33, 85, 14,  1]])]"
      ]
     },
     "execution_count": 14,
     "metadata": {},
     "output_type": "execute_result"
    }
   ],
   "source": [
    "clustersFrames"
   ]
  },
  {
   "cell_type": "code",
   "execution_count": 10,
   "id": "f11018f0",
   "metadata": {},
   "outputs": [],
   "source": [
    "saveSpotsNPZ(np.array(spotsFrame, dtype=object), \n",
    "             np.array(clustersFrames, dtype=object), \n",
    "             np.array(ThresholdFrames, dtype=object), \n",
    "             cellNumber, \n",
    "             cell_Crop_Folder, \n",
    "             reference_spot,\n",
    "             threshold = selectedThreshold\n",
    "             ) \n"
   ]
  },
  {
   "cell_type": "markdown",
   "id": "cf74116e",
   "metadata": {},
   "source": [
    "## Visualise detection results"
   ]
  },
  {
   "cell_type": "code",
   "execution_count": 11,
   "id": "79671cd8",
   "metadata": {},
   "outputs": [
    {
     "data": {
      "text/plain": [
       "<function __main__.<lambda>(event)>"
      ]
     },
     "execution_count": 11,
     "metadata": {},
     "output_type": "execute_result"
    }
   ],
   "source": [
    "def getDetectedPointsForFrame(pts_coordinates, frameNumer):\n",
    "    sd = np.shape(pts_coordinates[frameNumer][:])\n",
    "    pts_coords = np.empty([sd[0],sd[1]-1])\n",
    "    for ii in range(np.shape(pts_coordinates[frameNumer][:])[0]):\n",
    "        pts_coords[ii,:] = pts_coordinates[frameNumer][ii][1:]\n",
    "    return pts_coords\n",
    "\n",
    "def getDetectedClustersForFrame(pts_coordinates, frameNumer):\n",
    "    sd = np.shape(pts_coordinates[frameNumer][:])\n",
    "    pts_coords = np.empty([sd[0],sd[1]-3])\n",
    "    for ii in range(np.shape(pts_coordinates[frameNumer][:])[0]):\n",
    "        pts_coords[ii,:] = pts_coordinates[frameNumer][ii][1:3]\n",
    "    return pts_coords\n",
    "\n",
    "def set_pts_features(pts_layer, cls_layer, pts_coordinates, cluster_coordinate, step): #TxLayer\n",
    "    # step is a 4D coordinate with the current slider position for each dim\n",
    "    frameNumber = step[0]  # grab the leading (\"time\") coordinate\n",
    "    pts_layer.data = getDetectedPointsForFrame(pts_coordinates,frameNumber)\n",
    "    cls_layer.data = getDetectedClustersForFrame(cluster_coordinate,frameNumber)\n",
    "\n",
    "\n",
    "pts_coordinates = spotsFrame\n",
    "cluster_coordinate = clustersFrames\n",
    "\n",
    "viewer = napari.Viewer()\n",
    "image_layer = viewer.add_image(\n",
    "        mipSequenceCell, colormap='green' #maxImageCell\n",
    "        )\n",
    "if image_layer.data.ndim == 4:\n",
    "    bigfishSpots = spotsFrame\n",
    "elif image_layer.data.ndim == 3:\n",
    "    bigfishSpots = getDetectedPointsForFrame(pts_coordinates,int(np.shape(mipSequenceCell)[0]/2))\n",
    "    \n",
    "bigfish_Spots = viewer.add_points(\n",
    "        getDetectedPointsForFrame(pts_coordinates,int(np.shape(mipSequenceCell)[0]/2)-1),\n",
    "        face_color='#00000000',\n",
    "        size=4,\n",
    "        edge_width=0.3,\n",
    "        edge_width_is_relative=False,\n",
    "        edge_color='white',\n",
    "        name = 'bigFish Detected Spots'\n",
    "        )\n",
    "\n",
    "bigfish_clusters = viewer.add_points(\n",
    "        getDetectedClustersForFrame(cluster_coordinate,int(np.shape(mipSequenceCell)[0]/2)-1),\n",
    "        face_color='#00000000',\n",
    "        size=8,\n",
    "        edge_width=0.3,\n",
    "        edge_width_is_relative=False,\n",
    "        edge_color='red',\n",
    "        symbol='diamond',\n",
    "        name = 'bigFish Clusters'\n",
    "        )\n",
    "\n",
    "viewer.dims.events.current_step.connect(\n",
    "        lambda event: set_pts_features(bigfish_Spots, bigfish_clusters, pts_coordinates, cluster_coordinate, event.value)\n",
    "        )"
   ]
  },
  {
   "cell_type": "code",
   "execution_count": 4,
   "id": "ecaa1b19-1c83-421c-9801-246fe088ee77",
   "metadata": {},
   "outputs": [
    {
     "name": "stdout",
     "output_type": "stream",
     "text": [
      "/home/raphael/miniconda3/envs/bigfishlive/lib/python3.9/site-packages/matplotlib/pyplot.py\n",
      "3.8.2\n"
     ]
    }
   ],
   "source": [
    "import matplotlib\n",
    "print(matplotlib.pyplot.__file__)\n",
    "print(matplotlib.__version__)"
   ]
  },
  {
   "cell_type": "code",
   "execution_count": 13,
   "id": "c915d693",
   "metadata": {},
   "outputs": [
    {
     "data": {
      "text/html": [
       "<details>\n",
       "<summary>Click to view session information</summary>\n",
       "<pre>\n",
       "-----\n",
       "bigfish             0.6.2\n",
       "buildReferenceSpot  NA\n",
       "dask                2024.2.0\n",
       "matplotlib          3.8.2\n",
       "napari              0.4.19\n",
       "numpy               1.23.0\n",
       "reorderStack        NA\n",
       "runBigfishDetection NA\n",
       "session_info        1.0.0\n",
       "tifffile            2024.1.30\n",
       "-----\n",
       "</pre>\n",
       "<details>\n",
       "<summary>Click to view modules imported as dependencies</summary>\n",
       "<pre>\n",
       "PIL                         10.2.0\n",
       "PyQt5                       NA\n",
       "a742a3cbc3aad3027957__mypyc NA\n",
       "annotated_types             0.6.0\n",
       "app_model                   0.2.4\n",
       "appdirs                     1.4.4\n",
       "asttokens                   NA\n",
       "attr                        23.1.0\n",
       "attrs                       23.1.0\n",
       "babel                       2.14.0\n",
       "backcall                    0.2.0\n",
       "cachey                      0.2.1\n",
       "cffi                        1.16.0\n",
       "cloudpickle                 3.0.0\n",
       "comm                        0.1.2\n",
       "cycler                      0.12.1\n",
       "cython_runtime              NA\n",
       "dateutil                    2.8.2\n",
       "debugpy                     1.6.7\n",
       "decorator                   5.1.1\n",
       "defusedxml                  0.7.1\n",
       "docstring_parser            NA\n",
       "entrypoints                 0.4\n",
       "exceptiongroup              1.2.0\n",
       "executing                   0.8.3\n",
       "heapdict                    NA\n",
       "hsluv                       5.0.4\n",
       "idna                        3.4\n",
       "imagecodecs                 2024.1.1\n",
       "imageio                     2.33.1\n",
       "importlib_metadata          NA\n",
       "importlib_resources         NA\n",
       "in_n_out                    0.1.9\n",
       "ipykernel                   6.25.0\n",
       "ipython_genutils            0.2.0\n",
       "jedi                        0.18.1\n",
       "jinja2                      3.1.3\n",
       "joblib                      1.3.2\n",
       "jsonschema                  4.19.2\n",
       "jsonschema_specifications   NA\n",
       "kiwisolver                  1.4.5\n",
       "lazy_loader                 NA\n",
       "llvmlite                    0.42.0\n",
       "magicgui                    0.8.1\n",
       "markupsafe                  2.1.3\n",
       "matplotlib_inline           0.1.6\n",
       "mpl_toolkits                NA\n",
       "mrc                         0.3.1\n",
       "mypy_extensions             NA\n",
       "napari_builtins             0.4.19\n",
       "napari_plugin_engine        0.2.0\n",
       "networkx                    3.2.1\n",
       "npe2                        0.7.4\n",
       "numba                       0.59.0\n",
       "numpydoc                    1.6.0\n",
       "packaging                   23.1\n",
       "pandas                      2.2.0\n",
       "parso                       0.8.3\n",
       "pexpect                     4.8.0\n",
       "pickleshare                 0.7.5\n",
       "pint                        0.23\n",
       "pkg_resources               NA\n",
       "platformdirs                3.10.0\n",
       "pooch                       v1.8.0\n",
       "prompt_toolkit              3.0.43\n",
       "psutil                      5.9.0\n",
       "psygnal                     0.9.5\n",
       "ptyprocess                  0.7.0\n",
       "pure_eval                   0.2.2\n",
       "pydantic                    2.6.1\n",
       "pydantic_compat             0.1.2\n",
       "pydantic_core               2.16.2\n",
       "pydev_ipython               NA\n",
       "pydevconsole                NA\n",
       "pydevd                      2.9.5\n",
       "pydevd_file_utils           NA\n",
       "pydevd_plugins              NA\n",
       "pydevd_tracing              NA\n",
       "pygments                    2.15.1\n",
       "pyparsing                   3.1.1\n",
       "pytz                        2024.1\n",
       "qtpy                        2.4.1\n",
       "referencing                 NA\n",
       "rpds                        NA\n",
       "scipy                       1.12.0\n",
       "sip                         NA\n",
       "six                         1.16.0\n",
       "skimage                     0.22.0\n",
       "sklearn                     1.4.0\n",
       "sphinxcontrib               NA\n",
       "stack_data                  0.2.0\n",
       "superqt                     0.6.1\n",
       "threadpoolctl               3.2.0\n",
       "tlz                         0.12.1\n",
       "toolz                       0.12.1\n",
       "tornado                     6.3.3\n",
       "tqdm                        4.66.2\n",
       "traitlets                   5.7.1\n",
       "triangle                    20230923\n",
       "typing_extensions           NA\n",
       "vispy                       0.14.1\n",
       "wcwidth                     0.2.5\n",
       "wrapt                       1.16.0\n",
       "yaml                        6.0.1\n",
       "zipp                        NA\n",
       "zmq                         23.2.0\n",
       "zoneinfo                    NA\n",
       "</pre>\n",
       "</details> <!-- seems like this ends pre, so might as well be explicit -->\n",
       "<pre>\n",
       "-----\n",
       "IPython             8.15.0\n",
       "jupyter_client      7.4.9\n",
       "jupyter_core        5.5.0\n",
       "notebook            6.5.4\n",
       "-----\n",
       "Python 3.9.18 (main, Sep 11 2023, 13:41:44) [GCC 11.2.0]\n",
       "Linux-6.5.0-17-generic-x86_64-with-glibc2.35\n",
       "-----\n",
       "Session information updated at 2024-02-26 10:36\n",
       "</pre>\n",
       "</details>"
      ],
      "text/plain": [
       "<IPython.core.display.HTML object>"
      ]
     },
     "execution_count": 13,
     "metadata": {},
     "output_type": "execute_result"
    }
   ],
   "source": [
    "import session_info\n",
    "session_info.show()"
   ]
  },
  {
   "cell_type": "code",
   "execution_count": null,
   "id": "447af5ca",
   "metadata": {},
   "outputs": [],
   "source": []
  }
 ],
 "metadata": {
  "kernelspec": {
   "display_name": "Python 3 (ipykernel)",
   "language": "python",
   "name": "python3"
  },
  "language_info": {
   "codemirror_mode": {
    "name": "ipython",
    "version": 3
   },
   "file_extension": ".py",
   "mimetype": "text/x-python",
   "name": "python",
   "nbconvert_exporter": "python",
   "pygments_lexer": "ipython3",
   "version": "3.9.18"
  }
 },
 "nbformat": 4,
 "nbformat_minor": 5
}
