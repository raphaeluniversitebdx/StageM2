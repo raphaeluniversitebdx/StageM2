{
 "cells": [
  {
   "cell_type": "markdown",
   "id": "c0cc3753",
   "metadata": {},
   "source": [
    "## Import necessary python modules"
   ]
  },
  {
   "cell_type": "code",
   "execution_count": 1,
   "id": "9d089cf9",
   "metadata": {},
   "outputs": [],
   "source": [
    "import os\n",
    "import napari\n",
    "import tifffile\n",
    "import numpy as np\n",
    "import matplotlib.pyplot as plt\n",
    "\n",
    "import bigfish\n",
    "import bigfish.plot as plot\n",
    "import bigfish.stack as stack\n",
    "import bigfish.detection as detection\n",
    "import bigfish.multistack as multistack\n",
    "\n",
    "from copy import deepcopy\n",
    "from dask.array.image import imread as imr\n",
    "from bigfish.detection.utils import get_object_radius_pixel\n",
    "from buildReferenceSpot import buildReferenceSpotFromImages\n",
    "from runBigfishDetection import getSpotAndClusters, saveSpotsNPZ, reorderZstack"
   ]
  },
  {
   "cell_type": "markdown",
   "id": "ef74aefd",
   "metadata": {},
   "source": [
    "## Specify Input and Output folders, identifiers"
   ]
  },
  {
   "cell_type": "code",
   "execution_count": 2,
   "id": "eb637701-79c5-46d0-9e46-04a4c46986e2",
   "metadata": {},
   "outputs": [],
   "source": [
    "homeFolder = '/media/raphael/data/works/20231220_C3_14_2h_ofON/bleach_correction/w_background/'\n",
    "nameKey = 'C3.14_ON_01_w1SPI-488_s'\n",
    "\n",
    "imsQ = '4'\n",
    "cellNumber = '33'\n",
    "\n",
    "nucleiStackForm = nameKey+imsQ+\"_cell_\"\n",
    "\n",
    "pathToTimeSequenceFullView = homeFolder+nameKey+imsQ+'/*.tif'\n",
    "cell_Crop_Folder = homeFolder+nameKey+imsQ+'/cell_'+str(cellNumber)+'/'\n",
    "pathToTimeSequenceCell = homeFolder+nameKey+imsQ+'/cell_'+str(cellNumber)+'/*.tif'\n",
    "\n",
    "\n",
    "sequenceCell = imr(pathToTimeSequenceCell)\n",
    "mipSequenceCell = np.max(sequenceCell, axis=1)\n",
    "MaxTimePoint = sequenceCell.shape[0]"
   ]
  },
  {
   "cell_type": "code",
   "execution_count": 3,
   "id": "c1c17acb",
   "metadata": {},
   "outputs": [
    {
     "data": {
      "text/plain": [
       "(120, 156, 161)"
      ]
     },
     "execution_count": 3,
     "metadata": {},
     "output_type": "execute_result"
    }
   ],
   "source": [
    "mipSequenceCell.shape"
   ]
  },
  {
   "cell_type": "markdown",
   "id": "a6823fdb",
   "metadata": {},
   "source": [
    "## Specify voxel and object size"
   ]
  },
  {
   "cell_type": "code",
   "execution_count": 4,
   "id": "92e6c86b",
   "metadata": {},
   "outputs": [],
   "source": [
    "voxelRadius = (700, 110, 110) # in nanometers\n",
    "objectRadius = (700, 105, 105) # in nanometers"
   ]
  },
  {
   "cell_type": "code",
   "execution_count": 5,
   "id": "8fd3984e",
   "metadata": {},
   "outputs": [],
   "source": [
    "# Save Maximum Intensity Projection of the cell movie\n",
    "\n",
    "maxProjSavePath = homeFolder+nameKey+imsQ+'/'\n",
    "with tifffile.TiffWriter(maxProjSavePath+'MAX_cell'+cellNumber+'.tif', imagej=True) as tif:\n",
    "    tif.write(mipSequenceCell)"
   ]
  },
  {
   "cell_type": "markdown",
   "id": "f8a25dd7",
   "metadata": {},
   "source": [
    "## Choose detection threshold"
   ]
  },
  {
   "cell_type": "code",
   "execution_count": 6,
   "id": "9414caf2",
   "metadata": {},
   "outputs": [
    {
     "name": "stdout",
     "output_type": "stream",
     "text": [
      "Enter your selected threshold: 85\n"
     ]
    }
   ],
   "source": [
    "selectedThreshold = int(input(\"Enter your selected threshold: \"))"
   ]
  },
  {
   "cell_type": "markdown",
   "id": "31d78382",
   "metadata": {},
   "source": [
    "## Get a list of spots detected using the threshold specified in previous step"
   ]
  },
  {
   "cell_type": "code",
   "execution_count": 7,
   "id": "da8b11f2",
   "metadata": {},
   "outputs": [
    {
     "name": "stdout",
     "output_type": "stream",
     "text": [
      "Total number of images : 120\n"
     ]
    },
    {
     "name": "stderr",
     "output_type": "stream",
     "text": [
      "/home/raphael/miniconda3/envs/bigfishlive/lib/python3.9/site-packages/bigfish/detection/spot_detection.py:586: RuntimeWarning: divide by zero encountered in log\n",
      "  count_spots = np.log([np.count_nonzero(value_spots > t)\n"
     ]
    }
   ],
   "source": [
    "images=[]    \n",
    "spots_list=[]\n",
    "\n",
    "spot_radius_px = detection.get_object_radius_pixel(\n",
    "    voxel_size_nm=voxelRadius, \n",
    "    object_radius_nm=objectRadius, \n",
    "    ndim=3)\n",
    "\n",
    "for t in range(1,121,1):\n",
    "\n",
    "    path = os.path.join(cell_Crop_Folder, nucleiStackForm+str(cellNumber)+'_t'+str(f\"{t:03}\")+\".tif\")\n",
    "    rna = stack.read_image(path)\n",
    "    images.append(rna)\n",
    "\n",
    "n=len(images)\n",
    "print(\"Total number of images : \"+str(n))\n",
    "\n",
    "for rna in images:\n",
    "    # LoG filter\n",
    "    rna_log = stack.log_filter(rna, sigma=spot_radius_px)\n",
    "\n",
    "    # local maximum detection\n",
    "    mask = detection.local_maximum_detection(rna_log, min_distance=spot_radius_px)\n",
    "\n",
    "    # thresholding\n",
    "    threshold = detection.automated_threshold_setting(rna_log, mask)\n",
    "    spots_, _ = detection.spots_thresholding(rna_log, mask, float(selectedThreshold))\n",
    "    spots_list.append(spots_)\n"
   ]
  },
  {
   "cell_type": "markdown",
   "id": "46415d37",
   "metadata": {},
   "source": [
    "## Build reference spot"
   ]
  },
  {
   "cell_type": "code",
   "execution_count": 9,
   "id": "53e4aab3",
   "metadata": {},
   "outputs": [
    {
     "name": "stdout",
     "output_type": "stream",
     "text": [
      "image list found!\n",
      "Found 1568\n",
      "Found 1568 spots, max intensity = 232\n"
     ]
    },
    {
     "data": {
      "image/png": "[encoded data removed]",
      "text/plain": [
       "<Figure size 300x300 with 1 Axes>"
      ]
     },
     "metadata": {},
     "output_type": "display_data"
    }
   ],
   "source": [
    "#gamma=5\n",
    "reference_spot, _, _ = buildReferenceSpotFromImages(images, spots_list, alpha=0.5, gamma=5, voxelSize=voxelRadius, objectSize=objectRadius)\n",
    "%matplotlib inline\n",
    "plt.figure(num=3,figsize=(3,3))\n",
    "plt.imshow(np.max(reference_spot, axis=0))\n",
    "refSpot = deepcopy(reference_spot)"
   ]
  },
  {
   "cell_type": "markdown",
   "id": "dc2a526d",
   "metadata": {},
   "source": [
    "## Perform spot and cluster detection for all frames"
   ]
  },
  {
   "cell_type": "code",
   "execution_count": 13,
   "id": "494c3826",
   "metadata": {
    "scrolled": true
   },
   "outputs": [
    {
     "ename": "TypeError",
     "evalue": "<U1 is not supported yet. Use one of those dtypes instead: [<class 'numpy.uint8'>, <class 'numpy.uint16'>, <class 'numpy.int32'>, <class 'numpy.int64'>, <class 'numpy.float32'>, <class 'numpy.float64'>].",
     "output_type": "error",
     "traceback": [
      "\u001b[0;31m---------------------------------------------------------------------------\u001b[0m",
      "\u001b[0;31mTypeError\u001b[0m                                 Traceback (most recent call last)",
      "Cell \u001b[0;32mIn[13], line 1\u001b[0m\n\u001b[0;32m----> 1\u001b[0m spotsFrame, clustersFrames, ThresholdFrames \u001b[38;5;241m=\u001b[39m \u001b[43mgetSpotAndClusters\u001b[49m\u001b[43m(\u001b[49m\u001b[43mcell_Crop_Folder\u001b[49m\u001b[43m,\u001b[49m\u001b[43m \u001b[49m\n\u001b[1;32m      2\u001b[0m \u001b[43m                                                                 \u001b[49m\u001b[43mreference_spot\u001b[49m\u001b[43m,\u001b[49m\u001b[43m \u001b[49m\n\u001b[1;32m      3\u001b[0m \u001b[43m                                                                 \u001b[49m\u001b[43mcellnumber\u001b[49m\u001b[38;5;241;43m=\u001b[39;49m\u001b[43mcellNumber\u001b[49m\u001b[43m,\u001b[49m\u001b[43m \u001b[49m\n\u001b[1;32m      4\u001b[0m \u001b[43m                                                                 \u001b[49m\u001b[43mstartTime\u001b[49m\u001b[38;5;241;43m=\u001b[39;49m\u001b[38;5;241;43m1\u001b[39;49m\u001b[43m,\u001b[49m\n\u001b[1;32m      5\u001b[0m \u001b[43m                                                                 \u001b[49m\u001b[43mstopTime\u001b[49m\u001b[38;5;241;43m=\u001b[39;49m\u001b[38;5;241;43m120\u001b[39;49m\u001b[43m,\u001b[49m\u001b[43m \u001b[49m\n\u001b[1;32m      6\u001b[0m \u001b[43m                                                                 \u001b[49m\u001b[43mthresholdManual\u001b[49m\u001b[38;5;241;43m=\u001b[39;49m\u001b[43mselectedThreshold\u001b[49m\u001b[43m,\u001b[49m\u001b[43m \u001b[49m\n\u001b[1;32m      7\u001b[0m \u001b[43m                                                                 \u001b[49m\u001b[43mbeta\u001b[49m\u001b[38;5;241;43m=\u001b[39;49m\u001b[38;5;241;43m2\u001b[39;49m\u001b[43m,\u001b[49m\u001b[43m \u001b[49m\n\u001b[1;32m      8\u001b[0m \u001b[43m                                                                 \u001b[49m\u001b[43mgamma\u001b[49m\u001b[38;5;241;43m=\u001b[39;49m\u001b[38;5;241;43m15\u001b[39;49m\u001b[43m,\u001b[49m\n\u001b[1;32m      9\u001b[0m \u001b[43m                                                                 \u001b[49m\u001b[43mnumberOfSpots\u001b[49m\u001b[38;5;241;43m=\u001b[39;49m\u001b[38;5;241;43m2\u001b[39;49m\u001b[43m,\u001b[49m\n\u001b[1;32m     10\u001b[0m \u001b[43m                                                                 \u001b[49m\u001b[43mradiusCluster\u001b[49m\u001b[38;5;241;43m=\u001b[39;49m\u001b[38;5;241;43m400\u001b[39;49m\u001b[43m,\u001b[49m\u001b[43m \u001b[49m\n\u001b[1;32m     11\u001b[0m \u001b[43m                                                                 \u001b[49m\u001b[43mvoxelSize\u001b[49m\u001b[38;5;241;43m=\u001b[39;49m\u001b[43mvoxelRadius\u001b[49m\u001b[43m,\u001b[49m\u001b[43m \u001b[49m\n\u001b[1;32m     12\u001b[0m \u001b[43m                                                                 \u001b[49m\u001b[43mobjectSize\u001b[49m\u001b[38;5;241;43m=\u001b[39;49m\u001b[43mobjectRadius\u001b[49m\u001b[43m,\u001b[49m\n\u001b[1;32m     13\u001b[0m \u001b[43m                                                                 \u001b[49m\u001b[43mextensionMov\u001b[49m\u001b[38;5;241;43m=\u001b[39;49m\u001b[38;5;124;43m'\u001b[39;49m\u001b[38;5;124;43m.tif\u001b[39;49m\u001b[38;5;124;43m'\u001b[39;49m\u001b[43m)\u001b[49m\n",
      "File \u001b[0;32m/media/raphael/data/works/notebooks/notebook_scripts_perso/full_pipeline_perso/detection/runBigfishDetection.py:298\u001b[0m, in \u001b[0;36mgetSpotAndClusters\u001b[0;34m(imageSequence, reference_spot, cellnumber, startTime, stopTime, thresholdManual, beta, gamma, numberOfSpots, radiusCluster, voxelSize, objectSize, reorder, extensionMov, showProgress)\u001b[0m\n\u001b[1;32m    296\u001b[0m     rna \u001b[38;5;241m=\u001b[39m reorderZstack(rna,\u001b[38;5;241m4\u001b[39m)\n\u001b[1;32m    297\u001b[0m \u001b[38;5;66;03m#rna = normalize(rna,6000)\u001b[39;00m\n\u001b[0;32m--> 298\u001b[0m rna_mip \u001b[38;5;241m=\u001b[39m \u001b[43mstack\u001b[49m\u001b[38;5;241;43m.\u001b[39;49m\u001b[43mmaximum_projection\u001b[49m\u001b[43m(\u001b[49m\u001b[43mrna\u001b[49m\u001b[43m)\u001b[49m\n\u001b[1;32m    300\u001b[0m \u001b[38;5;66;03m# spot radius\u001b[39;00m\n\u001b[1;32m    301\u001b[0m spot_radius_px \u001b[38;5;241m=\u001b[39m detection\u001b[38;5;241m.\u001b[39mget_object_radius_pixel(\n\u001b[1;32m    302\u001b[0m     voxel_size_nm\u001b[38;5;241m=\u001b[39mvoxelSize,\u001b[38;5;66;03m#(600, 80, 80), \u001b[39;00m\n\u001b[1;32m    303\u001b[0m     object_radius_nm\u001b[38;5;241m=\u001b[39mobjectSize, \n\u001b[1;32m    304\u001b[0m     ndim\u001b[38;5;241m=\u001b[39m\u001b[38;5;241m3\u001b[39m)\n",
      "File \u001b[0;32m~/miniconda3/envs/bigfishlive/lib/python3.9/site-packages/bigfish/stack/projection.py:32\u001b[0m, in \u001b[0;36mmaximum_projection\u001b[0;34m(image)\u001b[0m\n\u001b[1;32m     17\u001b[0m \u001b[38;5;250m\u001b[39m\u001b[38;5;124;03m\"\"\"Project the z-dimension of an image, keeping the maximum intensity of\u001b[39;00m\n\u001b[1;32m     18\u001b[0m \u001b[38;5;124;03meach yx pixel.\u001b[39;00m\n\u001b[1;32m     19\u001b[0m \n\u001b[0;32m   (...)\u001b[0m\n\u001b[1;32m     29\u001b[0m \n\u001b[1;32m     30\u001b[0m \u001b[38;5;124;03m\"\"\"\u001b[39;00m\n\u001b[1;32m     31\u001b[0m \u001b[38;5;66;03m# check parameters\u001b[39;00m\n\u001b[0;32m---> 32\u001b[0m \u001b[43mcheck_array\u001b[49m\u001b[43m(\u001b[49m\n\u001b[1;32m     33\u001b[0m \u001b[43m    \u001b[49m\u001b[43mimage\u001b[49m\u001b[43m,\u001b[49m\n\u001b[1;32m     34\u001b[0m \u001b[43m    \u001b[49m\u001b[43mndim\u001b[49m\u001b[38;5;241;43m=\u001b[39;49m\u001b[38;5;241;43m3\u001b[39;49m\u001b[43m,\u001b[49m\n\u001b[1;32m     35\u001b[0m \u001b[43m    \u001b[49m\u001b[43mdtype\u001b[49m\u001b[38;5;241;43m=\u001b[39;49m\u001b[43m[\u001b[49m\u001b[43mnp\u001b[49m\u001b[38;5;241;43m.\u001b[39;49m\u001b[43muint8\u001b[49m\u001b[43m,\u001b[49m\u001b[43m \u001b[49m\u001b[43mnp\u001b[49m\u001b[38;5;241;43m.\u001b[39;49m\u001b[43muint16\u001b[49m\u001b[43m,\u001b[49m\u001b[43m \u001b[49m\u001b[43mnp\u001b[49m\u001b[38;5;241;43m.\u001b[39;49m\u001b[43mint32\u001b[49m\u001b[43m,\u001b[49m\u001b[43m \u001b[49m\u001b[43mnp\u001b[49m\u001b[38;5;241;43m.\u001b[39;49m\u001b[43mint64\u001b[49m\u001b[43m,\u001b[49m\n\u001b[1;32m     36\u001b[0m \u001b[43m           \u001b[49m\u001b[43mnp\u001b[49m\u001b[38;5;241;43m.\u001b[39;49m\u001b[43mfloat32\u001b[49m\u001b[43m,\u001b[49m\u001b[43m \u001b[49m\u001b[43mnp\u001b[49m\u001b[38;5;241;43m.\u001b[39;49m\u001b[43mfloat64\u001b[49m\u001b[43m]\u001b[49m\u001b[43m)\u001b[49m\n\u001b[1;32m     38\u001b[0m \u001b[38;5;66;03m# project image along the z axis\u001b[39;00m\n\u001b[1;32m     39\u001b[0m projected_image \u001b[38;5;241m=\u001b[39m image\u001b[38;5;241m.\u001b[39mmax(axis\u001b[38;5;241m=\u001b[39m\u001b[38;5;241m0\u001b[39m)\n",
      "File \u001b[0;32m~/miniconda3/envs/bigfishlive/lib/python3.9/site-packages/bigfish/stack/utils.py:135\u001b[0m, in \u001b[0;36mcheck_array\u001b[0;34m(array, ndim, dtype, allow_nan)\u001b[0m\n\u001b[1;32m    133\u001b[0m \u001b[38;5;66;03m# check the dtype\u001b[39;00m\n\u001b[1;32m    134\u001b[0m \u001b[38;5;28;01mif\u001b[39;00m dtype \u001b[38;5;129;01mis\u001b[39;00m \u001b[38;5;129;01mnot\u001b[39;00m \u001b[38;5;28;01mNone\u001b[39;00m:\n\u001b[0;32m--> 135\u001b[0m     \u001b[43m_check_dtype_array\u001b[49m\u001b[43m(\u001b[49m\u001b[43marray\u001b[49m\u001b[43m,\u001b[49m\u001b[43m \u001b[49m\u001b[43mdtype\u001b[49m\u001b[43m)\u001b[49m\n\u001b[1;32m    137\u001b[0m \u001b[38;5;66;03m# check the number of dimension\u001b[39;00m\n\u001b[1;32m    138\u001b[0m \u001b[38;5;28;01mif\u001b[39;00m ndim \u001b[38;5;129;01mis\u001b[39;00m \u001b[38;5;129;01mnot\u001b[39;00m \u001b[38;5;28;01mNone\u001b[39;00m:\n",
      "File \u001b[0;32m~/miniconda3/envs/bigfishlive/lib/python3.9/site-packages/bigfish/stack/utils.py:171\u001b[0m, in \u001b[0;36m_check_dtype_array\u001b[0;34m(array, dtype)\u001b[0m\n\u001b[1;32m    168\u001b[0m         \u001b[38;5;28;01mbreak\u001b[39;00m\n\u001b[1;32m    170\u001b[0m \u001b[38;5;28;01mif\u001b[39;00m error:\n\u001b[0;32m--> 171\u001b[0m     \u001b[38;5;28;01mraise\u001b[39;00m \u001b[38;5;167;01mTypeError\u001b[39;00m(\u001b[38;5;124m\"\u001b[39m\u001b[38;5;132;01m{0}\u001b[39;00m\u001b[38;5;124m is not supported yet. Use one of those dtypes \u001b[39m\u001b[38;5;124m\"\u001b[39m\n\u001b[1;32m    172\u001b[0m                     \u001b[38;5;124m\"\u001b[39m\u001b[38;5;124minstead: \u001b[39m\u001b[38;5;132;01m{1}\u001b[39;00m\u001b[38;5;124m.\u001b[39m\u001b[38;5;124m\"\u001b[39m\u001b[38;5;241m.\u001b[39mformat(array\u001b[38;5;241m.\u001b[39mdtype, dtype))\n",
      "\u001b[0;31mTypeError\u001b[0m: <U1 is not supported yet. Use one of those dtypes instead: [<class 'numpy.uint8'>, <class 'numpy.uint16'>, <class 'numpy.int32'>, <class 'numpy.int64'>, <class 'numpy.float32'>, <class 'numpy.float64'>]."
     ]
    }
   ],
   "source": [
    "spotsFrame, clustersFrames, ThresholdFrames = getSpotAndClusters(cell_Crop_Folder, \n",
    "                                                                 reference_spot, \n",
    "                                                                 cellnumber=cellNumber, \n",
    "                                                                 startTime=1,\n",
    "                                                                 stopTime=120, \n",
    "                                                                 thresholdManual=selectedThreshold, \n",
    "                                                                 beta=2, \n",
    "                                                                 gamma=15,\n",
    "                                                                 numberOfSpots=2,\n",
    "                                                                 radiusCluster=400, \n",
    "                                                                 voxelSize=voxelRadius, \n",
    "                                                                 objectSize=objectRadius,\n",
    "                                                                 extensionMov='.tif')"
   ]
  },
  {
   "cell_type": "markdown",
   "id": "04d62622",
   "metadata": {},
   "source": [
    "## Save detection results to be used later"
   ]
  },
  {
   "cell_type": "code",
   "execution_count": null,
   "id": "3634b45e",
   "metadata": {},
   "outputs": [],
   "source": [
    "clustersFrames"
   ]
  },
  {
   "cell_type": "code",
   "execution_count": null,
   "id": "f11018f0",
   "metadata": {},
   "outputs": [],
   "source": [
    "saveSpotsNPZ(np.array(spotsFrame, dtype=object), \n",
    "             np.array(clustersFrames, dtype=object), \n",
    "             np.array(ThresholdFrames, dtype=object), \n",
    "             cellNumber, \n",
    "             cell_Crop_Folder, \n",
    "             reference_spot,\n",
    "             threshold = selectedThreshold\n",
    "             ) \n"
   ]
  },
  {
   "cell_type": "markdown",
   "id": "cf74116e",
   "metadata": {},
   "source": [
    "## Visualise detection results"
   ]
  },
  {
   "cell_type": "code",
   "execution_count": null,
   "id": "79671cd8",
   "metadata": {},
   "outputs": [],
   "source": [
    "def getDetectedPointsForFrame(pts_coordinates, frameNumer):\n",
    "    sd = np.shape(pts_coordinates[frameNumer][:])\n",
    "    pts_coords = np.empty([sd[0],sd[1]-1])\n",
    "    for ii in range(np.shape(pts_coordinates[frameNumer][:])[0]):\n",
    "        pts_coords[ii,:] = pts_coordinates[frameNumer][ii][1:]\n",
    "    return pts_coords\n",
    "\n",
    "def getDetectedClustersForFrame(pts_coordinates, frameNumer):\n",
    "    sd = np.shape(pts_coordinates[frameNumer][:])\n",
    "    pts_coords = np.empty([sd[0],sd[1]-3])\n",
    "    for ii in range(np.shape(pts_coordinates[frameNumer][:])[0]):\n",
    "        pts_coords[ii,:] = pts_coordinates[frameNumer][ii][1:3]\n",
    "    return pts_coords\n",
    "\n",
    "def set_pts_features(pts_layer, cls_layer, pts_coordinates, cluster_coordinate, step): #TxLayer\n",
    "    # step is a 4D coordinate with the current slider position for each dim\n",
    "    frameNumber = step[0]  # grab the leading (\"time\") coordinate\n",
    "    pts_layer.data = getDetectedPointsForFrame(pts_coordinates,frameNumber)\n",
    "    cls_layer.data = getDetectedClustersForFrame(cluster_coordinate,frameNumber)\n",
    "\n",
    "\n",
    "pts_coordinates = spotsFrame\n",
    "cluster_coordinate = clustersFrames\n",
    "\n",
    "viewer = napari.Viewer()\n",
    "image_layer = viewer.add_image(\n",
    "        mipSequenceCell, colormap='green' #maxImageCell\n",
    "        )\n",
    "if image_layer.data.ndim == 4:\n",
    "    bigfishSpots = spotsFrame\n",
    "elif image_layer.data.ndim == 3:\n",
    "    bigfishSpots = getDetectedPointsForFrame(pts_coordinates,int(np.shape(mipSequenceCell)[0]/2))\n",
    "    \n",
    "bigfish_Spots = viewer.add_points(\n",
    "        getDetectedPointsForFrame(pts_coordinates,int(np.shape(mipSequenceCell)[0]/2)-1),\n",
    "        face_color='#00000000',\n",
    "        size=4,\n",
    "        edge_width=0.3,\n",
    "        edge_width_is_relative=False,\n",
    "        edge_color='white',\n",
    "        name = 'bigFish Detected Spots'\n",
    "        )\n",
    "\n",
    "bigfish_clusters = viewer.add_points(\n",
    "        getDetectedClustersForFrame(cluster_coordinate,int(np.shape(mipSequenceCell)[0]/2)-1),\n",
    "        face_color='#00000000',\n",
    "        size=8,\n",
    "        edge_width=0.3,\n",
    "        edge_width_is_relative=False,\n",
    "        edge_color='red',\n",
    "        symbol='diamond',\n",
    "        name = 'bigFish Clusters'\n",
    "        )\n",
    "\n",
    "viewer.dims.events.current_step.connect(\n",
    "        lambda event: set_pts_features(bigfish_Spots, bigfish_clusters, pts_coordinates, cluster_coordinate, event.value)\n",
    "        )"
   ]
  },
  {
   "cell_type": "code",
   "execution_count": null,
   "id": "ecaa1b19-1c83-421c-9801-246fe088ee77",
   "metadata": {},
   "outputs": [],
   "source": [
    "import matplotlib\n",
    "print(matplotlib.pyplot.__file__)\n",
    "print(matplotlib.__version__)"
   ]
  },
  {
   "cell_type": "code",
   "execution_count": null,
   "id": "c915d693",
   "metadata": {},
   "outputs": [],
   "source": [
    "import session_info\n",
    "session_info.show()"
   ]
  },
  {
   "cell_type": "code",
   "execution_count": null,
   "id": "447af5ca",
   "metadata": {},
   "outputs": [],
   "source": []
  }
 ],
 "metadata": {
  "kernelspec": {
   "display_name": "Python 3 (ipykernel)",
   "language": "python",
   "name": "python3"
  },
  "language_info": {
   "codemirror_mode": {
    "name": "ipython",
    "version": 3
   },
   "file_extension": ".py",
   "mimetype": "text/x-python",
   "name": "python",
   "nbconvert_exporter": "python",
   "pygments_lexer": "ipython3",
   "version": "3.9.18"
  }
 },
 "nbformat": 4,
 "nbformat_minor": 5
}
